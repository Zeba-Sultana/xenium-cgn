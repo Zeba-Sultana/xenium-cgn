{
 "cells": [
  {
   "cell_type": "code",
   "execution_count": 1,
   "id": "bc54fddf-79df-4505-8e05-6cc99c6e219f",
   "metadata": {},
   "outputs": [],
   "source": [
    "import os\n",
    "import numpy as np\n",
    "import pandas as pd\n",
    "import scanpy as sc\n",
    "import scipy\n",
    "from skimage.color import gray2rgb\n",
    "from tqdm import tqdm\n",
    "import tifffile\n",
    "from PIL import Image\n",
    "import json\n",
    "import matplotlib.pyplot as plt"
   ]
  },
  {
   "cell_type": "code",
   "execution_count": 2,
   "id": "845b8067-4de0-461a-b4eb-1670e95a3388",
   "metadata": {},
   "outputs": [],
   "source": [
    "adata = sc.read(\"../../data/xenium_outs/merged_processed_integrated_v2.h5ad\")"
   ]
  },
  {
   "cell_type": "code",
   "execution_count": 3,
   "id": "57386749-ec5c-4ead-94fe-53286017234c",
   "metadata": {},
   "outputs": [],
   "source": [
    "adata.obs[\"biopsy_ID\"] = np.nan"
   ]
  },
  {
   "cell_type": "markdown",
   "id": "64e37ef1-d022-4fcf-8a54-e1cff229abec",
   "metadata": {},
   "source": [
    "## add biopsy IDs"
   ]
  },
  {
   "cell_type": "code",
   "execution_count": 4,
   "id": "5634ccb9-e3e9-4883-a09e-653f87389d6f",
   "metadata": {},
   "outputs": [
    {
     "name": "stderr",
     "output_type": "stream",
     "text": [
      "/tmp/ipykernel_44861/3237762282.py:20: FutureWarning: Setting an item of incompatible dtype is deprecated and will raise in a future error of pandas. Value '0018775 - X2' has dtype incompatible with float64, please explicitly cast to a compatible dtype first.\n",
      "  adata.obs.loc[idxs, \"biopsy_ID\"] = f\"{e} - X{name}\"\n"
     ]
    }
   ],
   "source": [
    "folder = \"../../data/cleaning_annots/biopsies/\"\n",
    "for e in os.listdir(folder):\n",
    "    if \".\" not in e:\n",
    "        sub = adata[adata.obs[\"Slide_ID\"]==e]\n",
    "        sub_folder = os.path.join(folder, e)\n",
    "        for f in os.listdir(sub_folder):\n",
    "            if \".csv\" in f:\n",
    "                name = f.split(\".csv\")[0]\n",
    "                coords = pd.read_csv(os.path.join(sub_folder, f), index_col=0)[[\"axis-1\", \"axis-0\"]]\n",
    "                for annot in coords.index.unique():\n",
    "                    tmp = coords.loc[annot]\n",
    "                    polygon = np.array(tmp)\n",
    "                    points = np.array(sub.obsm[\"spatial\"])\n",
    "                    tupVerts=[]\n",
    "                    for i in range(polygon.shape[0]):\n",
    "                        tupVerts.append(tuple(polygon[i,:]))\n",
    "                    poly = plt.Polygon(tupVerts, ec=\"k\")\n",
    "                    grid = poly.contains_points(points)\n",
    "                    idxs = sub.obs.index[grid]\n",
    "                    adata.obs.loc[idxs, \"biopsy_ID\"] = f\"{e} - X{name}\""
   ]
  },
  {
   "cell_type": "markdown",
   "id": "83826839-2612-4b51-ab81-fd12c1966aac",
   "metadata": {},
   "source": [
    "## folds"
   ]
  },
  {
   "cell_type": "code",
   "execution_count": 5,
   "id": "5b35d8ac-0b9d-4600-ab03-1329fad18ee3",
   "metadata": {},
   "outputs": [],
   "source": [
    "adata.obs[\"is_fold\"] = \"no\""
   ]
  },
  {
   "cell_type": "code",
   "execution_count": 6,
   "id": "5d6dc495-4655-4f90-ae7d-6932ed1ff334",
   "metadata": {},
   "outputs": [],
   "source": [
    "folder = \"cleaning_annots/fold_annots\"\n",
    "for e in os.listdir(folder):\n",
    "    if \".\" not in e:\n",
    "        sub = adata[adata.obs[\"Slide_ID\"]==e]\n",
    "        sub_folder = os.path.join(folder, e)\n",
    "        for f in os.listdir(sub_folder):\n",
    "            if \".csv\" in f:\n",
    "                name = f.split(\".csv\")[0]\n",
    "                coords = pd.read_csv(os.path.join(sub_folder, f), index_col=0)[[\"axis-1\", \"axis-0\"]]\n",
    "                for annot in coords.index.unique():\n",
    "                    tmp = coords.loc[annot]\n",
    "                    polygon = np.array(tmp)\n",
    "                    points = np.array(sub.obsm[\"spatial\"])\n",
    "                    tupVerts=[]\n",
    "                    for i in range(polygon.shape[0]):\n",
    "                        tupVerts.append(tuple(polygon[i,:]))\n",
    "                    poly = plt.Polygon(tupVerts, ec=\"k\")\n",
    "                    grid = poly.contains_points(points)\n",
    "                    idxs = sub.obs.index[grid]\n",
    "                    adata.obs.loc[idxs, \"is_fold\"] = \"yes\""
   ]
  },
  {
   "cell_type": "code",
   "execution_count": 7,
   "id": "929e01de-0008-4db8-a037-54a3a006edcc",
   "metadata": {},
   "outputs": [],
   "source": [
    "adata.obs[\"is_fold\"] = adata.obs[\"is_fold\"].astype(\"category\").cat.reorder_categories([\"no\", \"yes\"])\n",
    "adata.uns[\"is_fold_colors\"] = [\"Black\", \"white\"]"
   ]
  },
  {
   "cell_type": "markdown",
   "id": "3cc2bffe-9105-4b20-a920-9c9b9b007bd9",
   "metadata": {},
   "source": [
    "## blurs"
   ]
  },
  {
   "cell_type": "code",
   "execution_count": 8,
   "id": "49e4e4e8-7e52-4adb-a046-9dc258560068",
   "metadata": {},
   "outputs": [],
   "source": [
    "adata.obs[\"is_blur\"] = \"no\""
   ]
  },
  {
   "cell_type": "code",
   "execution_count": 9,
   "id": "ef44b1df-f389-4a65-b02a-cc5dfc5f45c7",
   "metadata": {},
   "outputs": [],
   "source": [
    "folder = \"cleaning_annots/blurs_annots\"\n",
    "for e in os.listdir(folder):\n",
    "    if \".\" not in e:\n",
    "        sub = adata[adata.obs[\"Slide_ID\"]==e]\n",
    "        sub_folder = os.path.join(folder, e)\n",
    "        for f in os.listdir(sub_folder):\n",
    "            if \".csv\" in f:\n",
    "                name = f.split(\".csv\")[0]\n",
    "                coords = pd.read_csv(os.path.join(sub_folder, f), index_col=0)[[\"axis-1\", \"axis-0\"]]\n",
    "                for annot in coords.index.unique():\n",
    "                    tmp = coords.loc[annot]\n",
    "                    polygon = np.array(tmp)\n",
    "                    points = np.array(sub.obsm[\"spatial\"])\n",
    "                    tupVerts=[]\n",
    "                    for i in range(polygon.shape[0]):\n",
    "                        tupVerts.append(tuple(polygon[i,:]))\n",
    "                    poly = plt.Polygon(tupVerts, ec=\"k\")\n",
    "                    grid = poly.contains_points(points)\n",
    "                    idxs = sub.obs.index[grid]\n",
    "                    adata.obs.loc[idxs, \"is_blur\"] = \"yes\""
   ]
  },
  {
   "cell_type": "code",
   "execution_count": 10,
   "id": "be0fb102-bc01-4b7b-96c0-bbdbe3a77d65",
   "metadata": {},
   "outputs": [],
   "source": [
    "adata.obs[\"is_blur\"] = adata.obs[\"is_blur\"].astype(\"category\").cat.reorder_categories([\"no\", \"yes\"])\n",
    "adata.uns[\"is_blur_colors\"] = [\"Black\", \"white\"]"
   ]
  },
  {
   "cell_type": "code",
   "execution_count": 11,
   "id": "447a108d-1a95-4eda-9272-8bdc0fdf449d",
   "metadata": {},
   "outputs": [
    {
     "name": "stdout",
     "output_type": "stream",
     "text": [
      "0011284\n",
      "0011287\n",
      "0011762\n"
     ]
    }
   ],
   "source": [
    "for key in sorted(adata.obs.Slide_ID.unique()):\n",
    "    \n",
    "    sub = adata[adata.obs.Slide_ID==key]\n",
    "    if \"yes\" in sub.obs[\"is_fold\"].unique():\n",
    "        print(key)"
   ]
  },
  {
   "cell_type": "code",
   "execution_count": 12,
   "id": "7d9e3d81-c4eb-43ba-877d-3c973ccf3899",
   "metadata": {},
   "outputs": [
    {
     "name": "stdout",
     "output_type": "stream",
     "text": [
      "0011284\n",
      "0011287\n",
      "0011546\n",
      "0011695\n",
      "0011707\n",
      "0011762\n",
      "0018775\n"
     ]
    }
   ],
   "source": [
    "for key in sorted(adata.obs.Slide_ID.unique()):\n",
    "    sub = adata[adata.obs.Slide_ID==key]\n",
    "    if \"yes\" in sub.obs[\"is_blur\"].unique():\n",
    "        print(key)"
   ]
  },
  {
   "cell_type": "markdown",
   "id": "c4543199-779d-44db-a8ff-aeec2d74583e",
   "metadata": {},
   "source": [
    "-----"
   ]
  },
  {
   "cell_type": "code",
   "execution_count": 26,
   "id": "4ef9dd5b-ac0f-4f9a-8587-1723df544c63",
   "metadata": {},
   "outputs": [],
   "source": [
    "figdir = \"../../figures/spatial_plots_biopsies\"\n",
    "if not os.path.exists(figdir):\n",
    "    os.mkdir(figdir)"
   ]
  },
  {
   "cell_type": "code",
   "execution_count": 27,
   "id": "ea437265-328f-4497-a51d-88153601f72c",
   "metadata": {},
   "outputs": [],
   "source": [
    "sc.set_figure_params(dpi_save=200)"
   ]
  },
  {
   "cell_type": "code",
   "execution_count": 28,
   "id": "46eb738e-1273-410c-b590-3c2f49eb81d5",
   "metadata": {},
   "outputs": [],
   "source": [
    "LEVEL = 1"
   ]
  },
  {
   "cell_type": "code",
   "execution_count": 29,
   "id": "0164d6d3-fd54-421e-a8d6-0e4475b3e411",
   "metadata": {},
   "outputs": [
    {
     "name": "stderr",
     "output_type": "stream",
     "text": [
      "  0%|          | 0/8 [00:00<?, ?it/s]/opt/conda/envs/xenium_cgn/lib/python3.11/site-packages/anndata/_core/anndata.py:1209: ImplicitModificationWarning: Trying to modify attribute `.obs` of view, initializing view as actual.\n",
      "  df[key] = c\n",
      "/opt/conda/envs/xenium_cgn/lib/python3.11/site-packages/anndata/_core/anndata.py:1209: ImplicitModificationWarning: Trying to modify attribute `.obs` of view, initializing view as actual.\n",
      "  df[key] = c\n",
      " 12%|█▎        | 1/8 [05:11<36:19, 311.41s/it]/opt/conda/envs/xenium_cgn/lib/python3.11/site-packages/anndata/_core/anndata.py:1209: ImplicitModificationWarning: Trying to modify attribute `.obs` of view, initializing view as actual.\n",
      "  df[key] = c\n",
      "/opt/conda/envs/xenium_cgn/lib/python3.11/site-packages/anndata/_core/anndata.py:1209: ImplicitModificationWarning: Trying to modify attribute `.obs` of view, initializing view as actual.\n",
      "  df[key] = c\n",
      " 25%|██▌       | 2/8 [09:03<26:29, 264.92s/it]/opt/conda/envs/xenium_cgn/lib/python3.11/site-packages/anndata/_core/anndata.py:1209: ImplicitModificationWarning: Trying to modify attribute `.obs` of view, initializing view as actual.\n",
      "  df[key] = c\n",
      "/opt/conda/envs/xenium_cgn/lib/python3.11/site-packages/anndata/_core/anndata.py:1209: ImplicitModificationWarning: Trying to modify attribute `.obs` of view, initializing view as actual.\n",
      "  df[key] = c\n",
      " 38%|███▊      | 3/8 [13:15<21:33, 258.78s/it]/opt/conda/envs/xenium_cgn/lib/python3.11/site-packages/anndata/_core/anndata.py:1209: ImplicitModificationWarning: Trying to modify attribute `.obs` of view, initializing view as actual.\n",
      "  df[key] = c\n",
      "/opt/conda/envs/xenium_cgn/lib/python3.11/site-packages/anndata/_core/anndata.py:1209: ImplicitModificationWarning: Trying to modify attribute `.obs` of view, initializing view as actual.\n",
      "  df[key] = c\n",
      " 50%|█████     | 4/8 [17:53<17:46, 266.61s/it]/opt/conda/envs/xenium_cgn/lib/python3.11/site-packages/anndata/_core/anndata.py:1209: ImplicitModificationWarning: Trying to modify attribute `.obs` of view, initializing view as actual.\n",
      "  df[key] = c\n",
      "/opt/conda/envs/xenium_cgn/lib/python3.11/site-packages/anndata/_core/anndata.py:1209: ImplicitModificationWarning: Trying to modify attribute `.obs` of view, initializing view as actual.\n",
      "  df[key] = c\n",
      " 62%|██████▎   | 5/8 [22:56<13:58, 279.55s/it]/opt/conda/envs/xenium_cgn/lib/python3.11/site-packages/anndata/_core/anndata.py:1209: ImplicitModificationWarning: Trying to modify attribute `.obs` of view, initializing view as actual.\n",
      "  df[key] = c\n",
      "/opt/conda/envs/xenium_cgn/lib/python3.11/site-packages/anndata/_core/anndata.py:1209: ImplicitModificationWarning: Trying to modify attribute `.obs` of view, initializing view as actual.\n",
      "  df[key] = c\n",
      " 75%|███████▌  | 6/8 [28:17<09:47, 293.81s/it]/opt/conda/envs/xenium_cgn/lib/python3.11/site-packages/anndata/_core/anndata.py:1209: ImplicitModificationWarning: Trying to modify attribute `.obs` of view, initializing view as actual.\n",
      "  df[key] = c\n",
      "/opt/conda/envs/xenium_cgn/lib/python3.11/site-packages/anndata/_core/anndata.py:1209: ImplicitModificationWarning: Trying to modify attribute `.obs` of view, initializing view as actual.\n",
      "  df[key] = c\n",
      " 88%|████████▊ | 7/8 [35:03<05:30, 330.36s/it]/opt/conda/envs/xenium_cgn/lib/python3.11/site-packages/anndata/_core/anndata.py:1209: ImplicitModificationWarning: Trying to modify attribute `.obs` of view, initializing view as actual.\n",
      "  df[key] = c\n",
      "/opt/conda/envs/xenium_cgn/lib/python3.11/site-packages/anndata/_core/anndata.py:1209: ImplicitModificationWarning: Trying to modify attribute `.obs` of view, initializing view as actual.\n",
      "  df[key] = c\n",
      "100%|██████████| 8/8 [42:35<00:00, 319.47s/it]\n"
     ]
    }
   ],
   "source": [
    "for key in tqdm(sorted(adata.obs.Slide_ID.unique())):\n",
    "    titles = [\"DAPI\", \"biopsy_ID\"]\n",
    "    colors = [None, \"biopsy_ID\"]\n",
    "    legend_locs = [None, \"right margin\"]\n",
    "    plt.figure(figsize=(10,10))\n",
    "    for i in range(1,3):\n",
    "        ax = plt.subplot(1,2,i)\n",
    "        sc.pl.spatial(adata[adata.obs.Slide_ID==key],\n",
    "                      img_key=f\"dapi_LEVEL{LEVEL}\",\n",
    "                      library_id=key,\n",
    "                      title=titles[i-1],\n",
    "                      color=colors[i-1], show=False, frameon=False, legend_loc=legend_locs[i-1], ax=ax)\n",
    "    plt.tight_layout()\n",
    "    plt.savefig(os.path.join(figdir, f\"{key}.pdf\"), bbox_inches=\"tight\")\n",
    "    plt.close()"
   ]
  },
  {
   "cell_type": "markdown",
   "id": "e2132e50-7998-445f-95c0-08da346dfaef",
   "metadata": {},
   "source": [
    "-----"
   ]
  },
  {
   "cell_type": "code",
   "execution_count": 21,
   "id": "b47d5627-040e-456f-991d-8940c397155a",
   "metadata": {},
   "outputs": [],
   "source": [
    "figdir = \"../../figures/spatial_plots_folds\"\n",
    "if not os.path.exists(figdir):\n",
    "    os.mkdir(figdir)"
   ]
  },
  {
   "cell_type": "code",
   "execution_count": 22,
   "id": "ebe03443-659e-4397-b8c2-2cf5249b635c",
   "metadata": {},
   "outputs": [],
   "source": [
    "sc.set_figure_params(dpi_save=200)"
   ]
  },
  {
   "cell_type": "code",
   "execution_count": 23,
   "id": "5751f533-3223-4f7e-8ca7-5b0fc3c46789",
   "metadata": {},
   "outputs": [],
   "source": [
    "LEVEL = 1"
   ]
  },
  {
   "cell_type": "code",
   "execution_count": 25,
   "id": "50f2210e-431b-4ec9-b743-cbc736fab03c",
   "metadata": {},
   "outputs": [
    {
     "name": "stderr",
     "output_type": "stream",
     "text": [
      "  0%|          | 0/8 [00:00<?, ?it/s]/opt/conda/envs/xenium_cgn/lib/python3.11/site-packages/anndata/_core/anndata.py:1209: ImplicitModificationWarning: Trying to modify attribute `.obs` of view, initializing view as actual.\n",
      "  df[key] = c\n",
      "/opt/conda/envs/xenium_cgn/lib/python3.11/site-packages/anndata/_core/anndata.py:1209: ImplicitModificationWarning: Trying to modify attribute `.obs` of view, initializing view as actual.\n",
      "  df[key] = c\n",
      " 12%|█▎        | 1/8 [05:22<37:40, 322.87s/it]/opt/conda/envs/xenium_cgn/lib/python3.11/site-packages/anndata/_core/anndata.py:1209: ImplicitModificationWarning: Trying to modify attribute `.obs` of view, initializing view as actual.\n",
      "  df[key] = c\n",
      "/opt/conda/envs/xenium_cgn/lib/python3.11/site-packages/anndata/_core/anndata.py:1209: ImplicitModificationWarning: Trying to modify attribute `.obs` of view, initializing view as actual.\n",
      "  df[key] = c\n",
      " 25%|██▌       | 2/8 [09:23<27:28, 274.67s/it]/opt/conda/envs/xenium_cgn/lib/python3.11/site-packages/anndata/_core/anndata.py:1209: ImplicitModificationWarning: Trying to modify attribute `.obs` of view, initializing view as actual.\n",
      "  df[key] = c\n",
      "/opt/conda/envs/xenium_cgn/lib/python3.11/site-packages/anndata/_core/anndata.py:1209: ImplicitModificationWarning: Trying to modify attribute `.obs` of view, initializing view as actual.\n",
      "  df[key] = c\n",
      " 38%|███▊      | 3/8 [14:04<23:06, 277.28s/it]/opt/conda/envs/xenium_cgn/lib/python3.11/site-packages/anndata/_core/anndata.py:1209: ImplicitModificationWarning: Trying to modify attribute `.obs` of view, initializing view as actual.\n",
      "  df[key] = c\n",
      "/opt/conda/envs/xenium_cgn/lib/python3.11/site-packages/anndata/_core/anndata.py:1209: ImplicitModificationWarning: Trying to modify attribute `.obs` of view, initializing view as actual.\n",
      "  df[key] = c\n",
      " 50%|█████     | 4/8 [18:57<18:54, 283.57s/it]/opt/conda/envs/xenium_cgn/lib/python3.11/site-packages/anndata/_core/anndata.py:1209: ImplicitModificationWarning: Trying to modify attribute `.obs` of view, initializing view as actual.\n",
      "  df[key] = c\n",
      "/opt/conda/envs/xenium_cgn/lib/python3.11/site-packages/anndata/_core/anndata.py:1209: ImplicitModificationWarning: Trying to modify attribute `.obs` of view, initializing view as actual.\n",
      "  df[key] = c\n",
      " 62%|██████▎   | 5/8 [25:05<15:42, 314.10s/it]/opt/conda/envs/xenium_cgn/lib/python3.11/site-packages/anndata/_core/anndata.py:1209: ImplicitModificationWarning: Trying to modify attribute `.obs` of view, initializing view as actual.\n",
      "  df[key] = c\n",
      "/opt/conda/envs/xenium_cgn/lib/python3.11/site-packages/anndata/_core/anndata.py:1209: ImplicitModificationWarning: Trying to modify attribute `.obs` of view, initializing view as actual.\n",
      "  df[key] = c\n",
      " 75%|███████▌  | 6/8 [32:13<11:45, 352.82s/it]/opt/conda/envs/xenium_cgn/lib/python3.11/site-packages/anndata/_core/anndata.py:1209: ImplicitModificationWarning: Trying to modify attribute `.obs` of view, initializing view as actual.\n",
      "  df[key] = c\n",
      "/opt/conda/envs/xenium_cgn/lib/python3.11/site-packages/anndata/_core/anndata.py:1209: ImplicitModificationWarning: Trying to modify attribute `.obs` of view, initializing view as actual.\n",
      "  df[key] = c\n",
      " 88%|████████▊ | 7/8 [40:15<06:34, 394.96s/it]/opt/conda/envs/xenium_cgn/lib/python3.11/site-packages/anndata/_core/anndata.py:1209: ImplicitModificationWarning: Trying to modify attribute `.obs` of view, initializing view as actual.\n",
      "  df[key] = c\n",
      "/opt/conda/envs/xenium_cgn/lib/python3.11/site-packages/anndata/_core/anndata.py:1209: ImplicitModificationWarning: Trying to modify attribute `.obs` of view, initializing view as actual.\n",
      "  df[key] = c\n",
      "100%|██████████| 8/8 [47:19<00:00, 354.97s/it]\n"
     ]
    }
   ],
   "source": [
    "for key in tqdm(sorted(adata.obs.Slide_ID.unique())):\n",
    "    titles = [\"DAPI\", \"is_fold\"]\n",
    "    colors = [None, \"is_fold\"]\n",
    "    legend_locs = [None, \"right margin\"]\n",
    "    plt.figure(figsize=(10,10))\n",
    "    for i in range(1,3):\n",
    "        ax = plt.subplot(1,2,i)\n",
    "        sc.pl.spatial(adata[adata.obs.Slide_ID==key],\n",
    "                      img_key=f\"dapi_LEVEL{LEVEL}\",\n",
    "                      library_id=key,\n",
    "                      title=titles[i-1],\n",
    "                      color=colors[i-1], show=False, frameon=False, legend_loc=legend_locs[i-1], ax=ax)\n",
    "    plt.tight_layout()\n",
    "    plt.savefig(os.path.join(figdir, f\"{key}.pdf\"), bbox_inches=\"tight\")\n",
    "    plt.close()"
   ]
  },
  {
   "cell_type": "markdown",
   "id": "28675e7c-0974-4076-9606-da8f265d45b7",
   "metadata": {},
   "source": [
    "-----"
   ]
  },
  {
   "cell_type": "code",
   "execution_count": 30,
   "id": "88fea433-d22f-4225-8080-4bbd30ed8335",
   "metadata": {},
   "outputs": [],
   "source": [
    "figdir = \"../../figures/spatial_plots_blurs\"\n",
    "if not os.path.exists(figdir):\n",
    "    os.mkdir(figdir)"
   ]
  },
  {
   "cell_type": "code",
   "execution_count": 31,
   "id": "596ecc1c-f20a-4b7e-b0ad-1a6efb209dbb",
   "metadata": {},
   "outputs": [],
   "source": [
    "sc.set_figure_params(dpi_save=200)"
   ]
  },
  {
   "cell_type": "code",
   "execution_count": 32,
   "id": "511d73e3-767a-4c4b-9560-ed44fd24c3e5",
   "metadata": {},
   "outputs": [],
   "source": [
    "LEVEL = 1"
   ]
  },
  {
   "cell_type": "code",
   "execution_count": 33,
   "id": "ba3b2430-228a-4087-bd54-6654f51f0127",
   "metadata": {},
   "outputs": [
    {
     "name": "stderr",
     "output_type": "stream",
     "text": [
      "  0%|          | 0/8 [00:00<?, ?it/s]/opt/conda/envs/xenium_cgn/lib/python3.11/site-packages/anndata/_core/anndata.py:1209: ImplicitModificationWarning: Trying to modify attribute `.obs` of view, initializing view as actual.\n",
      "  df[key] = c\n",
      "/opt/conda/envs/xenium_cgn/lib/python3.11/site-packages/anndata/_core/anndata.py:1209: ImplicitModificationWarning: Trying to modify attribute `.obs` of view, initializing view as actual.\n",
      "  df[key] = c\n",
      " 12%|█▎        | 1/8 [05:27<38:12, 327.53s/it]/opt/conda/envs/xenium_cgn/lib/python3.11/site-packages/anndata/_core/anndata.py:1209: ImplicitModificationWarning: Trying to modify attribute `.obs` of view, initializing view as actual.\n",
      "  df[key] = c\n",
      "/opt/conda/envs/xenium_cgn/lib/python3.11/site-packages/anndata/_core/anndata.py:1209: ImplicitModificationWarning: Trying to modify attribute `.obs` of view, initializing view as actual.\n",
      "  df[key] = c\n",
      " 25%|██▌       | 2/8 [09:01<26:03, 260.57s/it]/opt/conda/envs/xenium_cgn/lib/python3.11/site-packages/anndata/_core/anndata.py:1209: ImplicitModificationWarning: Trying to modify attribute `.obs` of view, initializing view as actual.\n",
      "  df[key] = c\n",
      "/opt/conda/envs/xenium_cgn/lib/python3.11/site-packages/anndata/_core/anndata.py:1209: ImplicitModificationWarning: Trying to modify attribute `.obs` of view, initializing view as actual.\n",
      "  df[key] = c\n",
      " 38%|███▊      | 3/8 [13:06<21:06, 253.37s/it]/opt/conda/envs/xenium_cgn/lib/python3.11/site-packages/anndata/_core/anndata.py:1209: ImplicitModificationWarning: Trying to modify attribute `.obs` of view, initializing view as actual.\n",
      "  df[key] = c\n",
      "/opt/conda/envs/xenium_cgn/lib/python3.11/site-packages/anndata/_core/anndata.py:1209: ImplicitModificationWarning: Trying to modify attribute `.obs` of view, initializing view as actual.\n",
      "  df[key] = c\n",
      " 50%|█████     | 4/8 [17:22<16:58, 254.65s/it]/opt/conda/envs/xenium_cgn/lib/python3.11/site-packages/anndata/_core/anndata.py:1209: ImplicitModificationWarning: Trying to modify attribute `.obs` of view, initializing view as actual.\n",
      "  df[key] = c\n",
      "/opt/conda/envs/xenium_cgn/lib/python3.11/site-packages/anndata/_core/anndata.py:1209: ImplicitModificationWarning: Trying to modify attribute `.obs` of view, initializing view as actual.\n",
      "  df[key] = c\n",
      "/opt/conda/envs/xenium_cgn/lib/python3.11/site-packages/anndata/_core/anndata.py:1209: ImplicitModificationWarning: Trying to modify attribute `.obs` of view, initializing view as actual.\n",
      "  df[key] = c\n",
      "/opt/conda/envs/xenium_cgn/lib/python3.11/site-packages/anndata/_core/anndata.py:1209: ImplicitModificationWarning: Trying to modify attribute `.obs` of view, initializing view as actual.\n",
      "  df[key] = c\n",
      " 75%|███████▌  | 6/8 [27:02<09:10, 275.39s/it]/opt/conda/envs/xenium_cgn/lib/python3.11/site-packages/anndata/_core/anndata.py:1209: ImplicitModificationWarning: Trying to modify attribute `.obs` of view, initializing view as actual.\n",
      "  df[key] = c\n",
      "/opt/conda/envs/xenium_cgn/lib/python3.11/site-packages/anndata/_core/anndata.py:1209: ImplicitModificationWarning: Trying to modify attribute `.obs` of view, initializing view as actual.\n",
      "  df[key] = c\n",
      " 88%|████████▊ | 7/8 [32:39<04:55, 295.63s/it]/opt/conda/envs/xenium_cgn/lib/python3.11/site-packages/anndata/_core/anndata.py:1209: ImplicitModificationWarning: Trying to modify attribute `.obs` of view, initializing view as actual.\n",
      "  df[key] = c\n",
      "/opt/conda/envs/xenium_cgn/lib/python3.11/site-packages/anndata/_core/anndata.py:1209: ImplicitModificationWarning: Trying to modify attribute `.obs` of view, initializing view as actual.\n",
      "  df[key] = c\n",
      "100%|██████████| 8/8 [40:57<00:00, 307.16s/it]\n"
     ]
    }
   ],
   "source": [
    "for key in tqdm(sorted(adata.obs.Slide_ID.unique())):\n",
    "    titles = [\"DAPI\", \"is_blur\"]\n",
    "    colors = [None, \"is_blur\"]\n",
    "    legend_locs = [None, \"right margin\"]\n",
    "    plt.figure(figsize=(10,10))\n",
    "    for i in range(1,3):\n",
    "        ax = plt.subplot(1,2,i)\n",
    "        sc.pl.spatial(adata[adata.obs.Slide_ID==key],\n",
    "                      img_key=f\"dapi_LEVEL{LEVEL}\",\n",
    "                      library_id=key,\n",
    "                      title=titles[i-1],\n",
    "                      color=colors[i-1], show=False, frameon=False, legend_loc=legend_locs[i-1], ax=ax)\n",
    "    plt.tight_layout()\n",
    "    plt.savefig(os.path.join(figdir, f\"{key}.pdf\"), bbox_inches=\"tight\")\n",
    "    plt.close()"
   ]
  },
  {
   "cell_type": "code",
   "execution_count": 34,
   "id": "7f0297c9-316e-4660-8665-a71354e3100d",
   "metadata": {},
   "outputs": [],
   "source": [
    "adata.write(\"xenium_outs/merged_processed_biopsy_ID_added.h5ad\")"
   ]
  },
  {
   "cell_type": "markdown",
   "id": "56d85083-8bca-47e2-a9c1-c6bb31fa2cb5",
   "metadata": {},
   "source": [
    "-----"
   ]
  },
  {
   "cell_type": "code",
   "execution_count": 13,
   "id": "4d4b956e-a4c0-4302-87d7-5496d169a905",
   "metadata": {},
   "outputs": [
    {
     "data": {
      "text/plain": [
       "AnnData object with n_obs × n_vars = 3230744 × 480\n",
       "    obs: 'x', 'y', 'z', 'cluster', 'n_transcripts', 'density', 'elongation', 'area', 'avg_confidence', 'avg_assignment_confidence', 'max_cluster_frac', 'lifespan', 'x_centroid', 'y_centroid', 'cell_area', 'Slide_ID', 'batch', 'Patient_Sample_ID', 'Disease', 'n_genes', 'celltype_l1', 'celltype_l1_codes', 'celltype_l1_prob'\n",
       "    var: 'gene_ids', 'feature_types'\n",
       "    uns: 'celltype_l1_colors', 'log1p', 'neighbors', 'pca', 'spatial', 'umap'\n",
       "    obsm: 'X_pca', 'X_pca_harmony', 'X_umap', 'spatial'\n",
       "    varm: 'PCs'\n",
       "    layers: 'counts'\n",
       "    obsp: 'connectivities', 'distances'"
      ]
     },
     "execution_count": 13,
     "metadata": {},
     "output_type": "execute_result"
    }
   ],
   "source": [
    "adata_orig = sc.read(\"xenium_outs/merged_processed.h5ad\")\n",
    "adata_orig"
   ]
  },
  {
   "cell_type": "code",
   "execution_count": 14,
   "id": "92ec9ac1-b8c1-446c-9e77-ce1667e28839",
   "metadata": {},
   "outputs": [
    {
     "name": "stdout",
     "output_type": "stream",
     "text": [
      "True\n"
     ]
    }
   ],
   "source": [
    "print((adata_orig.obs.index==adata.obs.index).all())"
   ]
  },
  {
   "cell_type": "code",
   "execution_count": 15,
   "id": "035d3183-655f-4837-91e0-dea4bb1efa23",
   "metadata": {},
   "outputs": [],
   "source": [
    "adata_orig.obs[\"Biopsy_ID\"] = adata.obs[\"biopsy_ID\"].tolist()\n",
    "adata_orig.obs[\"Biopsy_ID\"] = adata_orig.obs[\"Biopsy_ID\"].astype(\"category\")"
   ]
  },
  {
   "cell_type": "code",
   "execution_count": 16,
   "id": "f4619b4b-275e-467e-91c1-139af43d913e",
   "metadata": {},
   "outputs": [
    {
     "name": "stdout",
     "output_type": "stream",
     "text": [
      "3222037\n"
     ]
    }
   ],
   "source": [
    "keep_idxs = adata[(adata.obs[\"is_fold\"]==\"no\")&(adata.obs[\"is_blur\"]==\"no\")].obs.index\n",
    "print(len(keep_idxs))"
   ]
  },
  {
   "cell_type": "code",
   "execution_count": 17,
   "id": "8bc5f0aa-498a-4553-aa63-4587bdb68fbd",
   "metadata": {},
   "outputs": [
    {
     "name": "stdout",
     "output_type": "stream",
     "text": [
      "3222037 out of 3230744 cells kept.\n"
     ]
    }
   ],
   "source": [
    "print(f\"{len(keep_idxs)} out of {adata_orig.shape[0]} cells kept.\")"
   ]
  },
  {
   "cell_type": "code",
   "execution_count": 19,
   "id": "df19cabc-65b7-427a-9e55-8fd702141721",
   "metadata": {},
   "outputs": [],
   "source": [
    "adata_orig = adata_orig[keep_idxs]"
   ]
  },
  {
   "cell_type": "code",
   "execution_count": 20,
   "id": "cfd7258b-ce2c-44ec-a5be-36a81ebc5132",
   "metadata": {},
   "outputs": [],
   "source": [
    "adata_orig.write(\"../../data/xenium_outs/merged_processed_cleaned.h5ad\")"
   ]
  },
  {
   "cell_type": "code",
   "execution_count": null,
   "id": "0c27c858-0916-4d52-b4ce-811c4176909f",
   "metadata": {},
   "outputs": [],
   "source": []
  }
 ],
 "metadata": {
  "kernelspec": {
   "display_name": "xenium_cgn",
   "language": "python",
   "name": "xenium_cgn"
  },
  "language_info": {
   "codemirror_mode": {
    "name": "ipython",
    "version": 3
   },
   "file_extension": ".py",
   "mimetype": "text/x-python",
   "name": "python",
   "nbconvert_exporter": "python",
   "pygments_lexer": "ipython3",
   "version": "3.11.6"
  }
 },
 "nbformat": 4,
 "nbformat_minor": 5
}
