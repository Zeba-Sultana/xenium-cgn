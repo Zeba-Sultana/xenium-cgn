{
 "cells": [
  {
   "cell_type": "code",
   "execution_count": null,
   "id": "931a8510-4002-45b2-9e77-58ae94409a4e",
   "metadata": {},
   "outputs": [],
   "source": [
    "import os\n",
    "import numpy as np\n",
    "import pandas as pd\n",
    "import scanpy as sc\n",
    "import scipy\n",
    "from skimage.color import gray2rgb\n",
    "from tqdm import tqdm\n",
    "import tifffile\n",
    "from PIL import Image\n",
    "import json"
   ]
  },
  {
   "cell_type": "code",
   "execution_count": null,
   "id": "e87686c2-71e6-48e2-99d7-02c0e3793f4a",
   "metadata": {},
   "outputs": [],
   "source": [
    "adata = sc.read(\"../../data/xenium_outs/merged_processed_integrated.h5ad\")"
   ]
  },
  {
   "cell_type": "code",
   "execution_count": null,
   "id": "0629a3be-d771-4ea9-b922-3685048fb7fa",
   "metadata": {},
   "outputs": [],
   "source": [
    "raw_dir = \"../../data/raw\"\n",
    "sample_folders = [os.path.join(raw_dir, folder) for folder in os.listdir(raw_dir) if \"human_ANCA\" in folder]"
   ]
  },
  {
   "cell_type": "code",
   "execution_count": null,
   "id": "34cecd9e-1b69-4036-b907-6e6427457257",
   "metadata": {},
   "outputs": [],
   "source": [
    "xenium_folders_0 = []\n",
    "ids_folders = []\n",
    "for folder in tqdm(sample_folders):\n",
    "    tmp = os.listdir(folder)\n",
    "    for folder_tmp in tmp:\n",
    "        if \"output-XET\" in folder_tmp:\n",
    "            xenium_folders_0.append(os.path.join(folder, folder_tmp))\n",
    "            ids_folders.append(folder_tmp.split(\"_\")[2])"
   ]
  },
  {
   "cell_type": "code",
   "execution_count": null,
   "id": "2900c336-30ba-4151-a940-e5770d4adde6",
   "metadata": {},
   "outputs": [],
   "source": [
    "ids_folders = [e for e in ids_folders if e in adata.obs.Slide_ID.unique()]"
   ]
  },
  {
   "cell_type": "code",
   "execution_count": null,
   "id": "c936b5ef-078c-4326-b52f-bdad719ebb1c",
   "metadata": {},
   "outputs": [],
   "source": [
    "xenium_folders = []\n",
    "for i in ids_folders:\n",
    "    for f in xenium_folders_0:\n",
    "        if i in f:\n",
    "            xenium_folders.append(f)"
   ]
  },
  {
   "cell_type": "code",
   "execution_count": null,
   "id": "7d5c4632-45b1-4cf6-b35c-1733becf6017",
   "metadata": {},
   "outputs": [],
   "source": [
    "for i in range(len(ids_folders)):\n",
    "    print(ids_folders[i], xenium_folders[i])"
   ]
  },
  {
   "cell_type": "code",
   "execution_count": null,
   "id": "f7661604-cdfd-4c1b-9c96-57ec4c135c60",
   "metadata": {},
   "outputs": [],
   "source": [
    "print(len(ids_folders))"
   ]
  },
  {
   "cell_type": "code",
   "execution_count": null,
   "id": "aba56ee3-2923-4c7c-943a-f335d4a6a7f6",
   "metadata": {},
   "outputs": [],
   "source": [
    "LEVEL = 1\n",
    "px_size = 0.425"
   ]
  },
  {
   "cell_type": "code",
   "execution_count": null,
   "id": "c62dacc7-4c63-4662-8f0f-cfa0cec88689",
   "metadata": {},
   "outputs": [],
   "source": [
    "\"spatial\" in adata.uns.keys()"
   ]
  },
  {
   "cell_type": "code",
   "execution_count": null,
   "id": "110587b3-6209-455a-99ac-6ce4003b1fe2",
   "metadata": {},
   "outputs": [],
   "source": [
    "adata.uns[\"spatial\"] = {}"
   ]
  },
  {
   "cell_type": "code",
   "execution_count": null,
   "id": "fad77f17-eb73-479d-bb47-7a64305ab1c1",
   "metadata": {},
   "outputs": [],
   "source": [
    "for i, ID in tqdm(enumerate(ids_folders)):\n",
    "    print(ID)\n",
    "    mipurl = os.path.join(xenium_folders[i], \"morphology_mip.ome.tif\")\n",
    "    print(\"Processing DAPI\")\n",
    "    with tifffile.TiffFile(mipurl) as tif:\n",
    "        image = tif.series[0].levels[LEVEL].asarray()\n",
    "\n",
    "    resample = scipy.ndimage.zoom(image, px_size)\n",
    "    resample_invert = np.invert(resample)\n",
    "    resample_invert = (resample_invert-resample_invert.min())/(resample_invert.max()-resample_invert.min())\n",
    "    rgb = gray2rgb(resample_invert)\n",
    "        \n",
    "    print(\"Adding DAPI to anndata\")\n",
    "\n",
    "    adata.uns[\"spatial\"][f'{ID}'] = {}\n",
    "    adata.uns[\"spatial\"][f'{ID}'][\"images\"] = {}\n",
    "    adata.uns[\"spatial\"][f'{ID}'][\"scalefactors\"] = {}\n",
    "        \n",
    "    adata.uns[\"spatial\"][f'{ID}'][\"images\"][f\"dapi_LEVEL{LEVEL}\"] = rgb\n",
    "    adata.uns[\"spatial\"][f'{ID}'][\"scalefactors\"][f\"tissue_dapi_LEVEL{LEVEL}_scalef\"] = 1\n",
    "    adata.uns[\"spatial\"][f'{ID}'][\"scalefactors\"][\"fiducial_diameter_fullres\"] = 40\n",
    "    adata.uns[\"spatial\"][f'{ID}'][\"scalefactors\"][\"spot_diameter_fullres\"] = 40"
   ]
  },
  {
   "cell_type": "code",
   "execution_count": null,
   "id": "9cf5bb9e-64d6-4589-a195-406b60013d0a",
   "metadata": {},
   "outputs": [],
   "source": [
    "sc.pl.spatial(adata[adata.obs.Slide_ID==ids_folders[0]], library_id=ids_folders[0], color=\"CD3D\", img_key=f\"dapi_LEVEL{LEVEL}\")"
   ]
  },
  {
   "cell_type": "code",
   "execution_count": null,
   "id": "e352d20d-d742-48fc-892c-5b9c3f224a0c",
   "metadata": {},
   "outputs": [],
   "source": [
    "sc.pl.spatial(adata[adata.obs.Slide_ID==ids_folders[0]], library_id=ids_folders[0], img_key=f\"dapi_LEVEL{LEVEL}\")\n"
   ]
  },
  {
   "cell_type": "code",
   "execution_count": null,
   "id": "be3f70ba-b9b3-4a4f-ac98-5c41c70f3f34",
   "metadata": {},
   "outputs": [],
   "source": [
    "adata.write(\"../../data/xenium_outs/merged_processed_integrated_v2.h5ad\")"
   ]
  },
  {
   "cell_type": "code",
   "execution_count": null,
   "id": "578defa6-da6c-4186-9eda-78015f82ea56",
   "metadata": {},
   "outputs": [],
   "source": []
  }
 ],
 "metadata": {
  "kernelspec": {
   "display_name": "xenium_cgn",
   "language": "python",
   "name": "xenium_cgn"
  },
  "language_info": {
   "codemirror_mode": {
    "name": "ipython",
    "version": 3
   },
   "file_extension": ".py",
   "mimetype": "text/x-python",
   "name": "python",
   "nbconvert_exporter": "python",
   "pygments_lexer": "ipython3",
   "version": "3.11.6"
  }
 },
 "nbformat": 4,
 "nbformat_minor": 5
}
