{
 "cells": [
  {
   "cell_type": "code",
   "execution_count": 1,
   "id": "971000d5-efb0-41b0-9280-0d8cb98e94b2",
   "metadata": {},
   "outputs": [],
   "source": [
    "import numpy as np\n",
    "import pandas as pd\n",
    "from matplotlib import cm\n",
    "from tqdm import tqdm\n",
    "import json\n",
    "\n",
    "import matplotlib.pyplot as plt\n",
    "import seaborn as sns\n",
    "\n",
    "import scanpy as sc\n",
    "import squidpy as sq\n",
    "from scipy.spatial import KDTree\n",
    "import networkx as nx\n",
    "\n",
    "\n",
    "from model.slide_utilities import *\n",
    "\n",
    "import warnings\n",
    "warnings.filterwarnings('ignore')"
   ]
  },
  {
   "cell_type": "code",
   "execution_count": 2,
   "id": "cf116998-4b1c-4d19-8299-245947b07ec7",
   "metadata": {},
   "outputs": [],
   "source": [
    "threshol_set = {\n",
    "    'x20' : {threshold: [20, 300], remove_no: [0, 1, 2, 3, 4, 5, 6, 7, 8, 9, 10, 11, 14, 16, 17]},\n",
    "    'x13' : {threshold = [20, 700], remove_no = [0, 1, 2, 3, 4, 5, 6]},\n",
    "    'x7' :  {threshold = [60, 700], remove_no = [9]},\n",
    "}"
   ]
  },
  {
   "cell_type": "code",
   "execution_count": 2,
   "id": "53d36c76-4c98-45f2-81ec-3c9a74af9317",
   "metadata": {},
   "outputs": [],
   "source": [
    "# Read metadata\n",
    "slide2file = {\n",
    "    1 : '0011762',\n",
    "    2 : '0011186',\n",
    "    3 : '0011546',\n",
    "    4 : '0011216',\n",
    "    5 : '0011707',\n",
    "    6 : '0011695',\n",
    "    7 : '0011284',\n",
    "    8 : '0011287',\n",
    "}\n",
    "\n",
    "with open(\"annotations/slides_patients_annotation.json\", 'r') as file:\n",
    "    slide_info = json.load(file)\n",
    "sample_info = slide_info['sample_info']\n",
    "\n",
    "with open(\"annotations/resolutions_hand_curated_v1.json\", 'r') as file:\n",
    "    resolutions = json.load(file)"
   ]
  },
  {
   "cell_type": "code",
   "execution_count": 3,
   "id": "a503a795-ff48-4626-b3c7-3f4b98a73ffc",
   "metadata": {},
   "outputs": [],
   "source": [
    "# Read data: registered with harmony embedding\n",
    "adata = sc.read_h5ad(\"/data/projects/robin/xenium_cgn/h5ad_aligned/merged_with_Disease.h5ad\")"
   ]
  },
  {
   "cell_type": "code",
   "execution_count": 52,
   "id": "4f139110-b393-4ef5-ba0f-1bf4d0750f19",
   "metadata": {},
   "outputs": [],
   "source": [
    "# Chose the slide and sample\n",
    "slide = 1\n",
    "sample = 7\n",
    "\n",
    "# read DeepSPACE result\n",
    "adata_gnn_i = sc.read_h5ad(f\"adata/Result_slide_{slide}_sample_x{sample}.h5ad\")"
   ]
  },
  {
   "cell_type": "code",
   "execution_count": 53,
   "id": "eb6ad093-4b75-4cdd-ac78-74ee607bc371",
   "metadata": {},
   "outputs": [
    {
     "name": "stdout",
     "output_type": "stream",
     "text": [
      "\"resolution_best\" is leiden_0.16\n"
     ]
    }
   ],
   "source": [
    "# Get the best resolution based on stability analysis\n",
    "resolution_best = resolutions[f'x{sample}']\n",
    "if resolution_best == None:\n",
    "    print('No automated result has been found')\n",
    "    print('\"resolution_best\" is empty')\n",
    "else:\n",
    "    print(f'\"resolution_best\" is {resolution_best}')"
   ]
  },
  {
   "cell_type": "code",
   "execution_count": 54,
   "id": "251d7568-6c85-4925-8c83-1ecc30c94e82",
   "metadata": {},
   "outputs": [
    {
     "data": {
      "text/html": [
       "<div>\n",
       "<style scoped>\n",
       "    .dataframe tbody tr th:only-of-type {\n",
       "        vertical-align: middle;\n",
       "    }\n",
       "\n",
       "    .dataframe tbody tr th {\n",
       "        vertical-align: top;\n",
       "    }\n",
       "\n",
       "    .dataframe thead th {\n",
       "        text-align: right;\n",
       "    }\n",
       "</style>\n",
       "<table border=\"1\" class=\"dataframe\">\n",
       "  <thead>\n",
       "    <tr style=\"text-align: right;\">\n",
       "      <th></th>\n",
       "      <th>x</th>\n",
       "      <th>y</th>\n",
       "    </tr>\n",
       "  </thead>\n",
       "  <tbody>\n",
       "    <tr>\n",
       "      <th>cell_CRb53fa7cc5-3601</th>\n",
       "      <td>6938.232690</td>\n",
       "      <td>1806.894137</td>\n",
       "    </tr>\n",
       "    <tr>\n",
       "      <th>cell_CRb53fa7cc5-3625</th>\n",
       "      <td>6967.056253</td>\n",
       "      <td>1791.174384</td>\n",
       "    </tr>\n",
       "    <tr>\n",
       "      <th>cell_CRb53fa7cc5-3661</th>\n",
       "      <td>6951.927508</td>\n",
       "      <td>1815.749977</td>\n",
       "    </tr>\n",
       "    <tr>\n",
       "      <th>cell_CRb53fa7cc5-3667</th>\n",
       "      <td>6964.314996</td>\n",
       "      <td>1804.847987</td>\n",
       "    </tr>\n",
       "    <tr>\n",
       "      <th>cell_CRb53fa7cc5-3684</th>\n",
       "      <td>6959.312043</td>\n",
       "      <td>1807.044270</td>\n",
       "    </tr>\n",
       "  </tbody>\n",
       "</table>\n",
       "</div>"
      ],
      "text/plain": [
       "                                 x            y\n",
       "cell_CRb53fa7cc5-3601  6938.232690  1806.894137\n",
       "cell_CRb53fa7cc5-3625  6967.056253  1791.174384\n",
       "cell_CRb53fa7cc5-3661  6951.927508  1815.749977\n",
       "cell_CRb53fa7cc5-3667  6964.314996  1804.847987\n",
       "cell_CRb53fa7cc5-3684  6959.312043  1807.044270"
      ]
     },
     "execution_count": 54,
     "metadata": {},
     "output_type": "execute_result"
    }
   ],
   "source": [
    "# Get glom cells\n",
    "## Add cluster markers\n",
    "adata_gnn_i = add_markers(adata_gnn_i, \n",
    "                          markers = KidneyCellMarkers, \n",
    "                          groupby = resolution_best,\n",
    "                          colormap = colormap,\n",
    "                          marker_subset = marker_subset, \n",
    "                          keyadded = 'final_clusters',\n",
    "                          verbos = False\n",
    "                         )\n",
    "## Get glom locations\n",
    "df_glom_i = adata_gnn_i.obs.loc[adata_gnn_i.obs['final_clusters'] == 'Glom. Podocytes', ['x', 'y']]\n",
    "\n",
    "df_glom_i.head()"
   ]
  },
  {
   "cell_type": "code",
   "execution_count": 55,
   "id": "9ce3afa9-9afd-4434-8d1a-8f9f0287f164",
   "metadata": {},
   "outputs": [
    {
     "data": {
      "image/png": "[encoded data removed]",
      "text/plain": [
       "<Figure size 640x480 with 1 Axes>"
      ]
     },
     "metadata": {},
     "output_type": "display_data"
    },
    {
     "data": {
      "text/plain": [
       "Text(0.5, 1.0, 'Isolated samples')"
      ]
     },
     "execution_count": 55,
     "metadata": {},
     "output_type": "execute_result"
    },
    {
     "data": {
      "image/png": "[encoded data removed]",
      "text/plain": [
       "<Figure size 256x192 with 1 Axes>"
      ]
     },
     "metadata": {},
     "output_type": "display_data"
    }
   ],
   "source": [
    "# Cluster gloms\n",
    "## Make a distnace matrix via KDTree\n",
    "coords = np.array(df_glom_i)\n",
    "kdtree = KDTree(coords)\n",
    "dist_mat = kdtree.sparse_distance_matrix(kdtree, max_distance=50)\n",
    "\n",
    "## Convert into a \"networkx\" object\n",
    "edge_index = np.array(dist_mat.nonzero())\n",
    "G = nx.Graph()\n",
    "G.add_edges_from(edge_index.T)\n",
    "\n",
    "## Get connected components\n",
    "cc = list(nx.connected_components(G))\n",
    "\n",
    "## Plot hist for number of cells in gloms\n",
    "sizes = np.array([len(c) for c in cc])\n",
    "plt.hist(sizes, 50);\n",
    "plt.title(\"Hist of number of cells in gloms\")\n",
    "plt.show()\n",
    "\n",
    "# plot\n",
    "dpi = 40\n",
    "plt.figure(dpi=dpi)\n",
    "plt.scatter(coords[:, 0], coords[:, 1], s=1, cmap=\"jet\")\n",
    "plt.title(\"Isolated samples\")"
   ]
  },
  {
   "cell_type": "code",
   "execution_count": 74,
   "id": "aa6c827c-69f3-42ce-befd-cea5e8a9d136",
   "metadata": {},
   "outputs": [
    {
     "name": "stdout",
     "output_type": "stream",
     "text": [
      "Number of glomes remained = 5\n"
     ]
    }
   ],
   "source": [
    "# Set threshold\n",
    "threshold = [60, 700]\n",
    "remove_no = [9]\n",
    "\n",
    "cc_filtered = [c for i, c in enumerate(cc) if (len(c) > threshold[0]) and (len(c) < threshold[1]) and (i not in remove_no)]\n",
    "\n",
    "if len(cc_filtered) == 0:\n",
    "    print('No glom remained')\n",
    "else:\n",
    "    print(f'Number of glomes remained = {len(cc_filtered)}')\n",
    "    ## set glom numbers\n",
    "    filtered_nodes = np.hstack([list(c) for c in cc_filtered])\n",
    "    glom_number = []\n",
    "    for i in filtered_nodes:\n",
    "        for n, c in enumerate(cc_filtered):\n",
    "            i_in_c = list(c).count(i) > 0\n",
    "            if i_in_c:\n",
    "                glom_number.append(n)\n",
    "                break"
   ]
  },
  {
   "cell_type": "code",
   "execution_count": 75,
   "id": "aebe166f-8d46-4cb7-9234-92add70feee7",
   "metadata": {},
   "outputs": [],
   "source": [
    "# Make glom_adata \"adata_glom\" for sample i\n",
    "X_glom = adata_gnn_i.X[adata_gnn_i.obs['final_clusters'] == 'Glom. Podocytes', :].copy()\n",
    "adata_glom = sc.AnnData(X_glom)\n",
    "adata_glom.var = adata_gnn_i.var\n",
    "adata_glom.obs = adata_gnn_i.obs.loc[adata_gnn_i.obs['final_clusters'] == 'Glom. Podocytes', \n",
    "                              ['x', 'y', 'n_transcripts', 'final_clusters']]\n",
    "adata_glom.obs['slide'] = slide\n",
    "adata_glom.obs['sample'] = sample\n",
    "adata_glom.obs['label'] = sample_info[f'slide_{slide}']['label'][f'x{sample}']\n",
    "adata_glom = adata_glom[filtered_nodes,:]\n",
    "adata_glom.obs['gnn_ann'] = 'glom'\n",
    "adata_glom.obs['gnn_glom_no'] = glom_number"
   ]
  },
  {
   "cell_type": "code",
   "execution_count": 76,
   "id": "54b613e8-f6d3-4520-8b15-9c264bad52b1",
   "metadata": {},
   "outputs": [
    {
     "data": {
      "text/plain": [
       "((11001, 26), (11001, 28))"
      ]
     },
     "execution_count": 76,
     "metadata": {},
     "output_type": "execute_result"
    }
   ],
   "source": [
    "# Add to the adata\n",
    "## restrict adata to adata_i\n",
    "adata_i = adata[adata.obs['Sample_num'] == f'X{sample}'].copy()\n",
    "\n",
    "## Add slide id to the rownames of gnn table\n",
    "df_gnn_i = adata_glom.obs.copy()\n",
    "gnn_glom_index = df_gnn_i.index\n",
    "gnn_glom_index = gnn_glom_index + '_' + slide2file[slide]\n",
    "df_gnn_i.index = gnn_glom_index\n",
    "# df_gnn_i.head()\n",
    "\n",
    "## Merge df_gnn_i to adata_i.obs\n",
    "merged_df = adata_i.obs.merge(df_gnn_i[['gnn_ann', 'gnn_glom_no']], \n",
    "                              left_index=True, \n",
    "                              right_index=True,\n",
    "                              how='left', \n",
    "                              suffixes=('', '_gnn'))\n",
    "adata_i.obs.shape, merged_df.shape"
   ]
  },
  {
   "cell_type": "code",
   "execution_count": 77,
   "id": "01007f16-aba0-433a-9297-6ff8bb7005d4",
   "metadata": {},
   "outputs": [
    {
     "data": {
      "text/html": [
       "<div>\n",
       "<style scoped>\n",
       "    .dataframe tbody tr th:only-of-type {\n",
       "        vertical-align: middle;\n",
       "    }\n",
       "\n",
       "    .dataframe tbody tr th {\n",
       "        vertical-align: top;\n",
       "    }\n",
       "\n",
       "    .dataframe thead th {\n",
       "        text-align: right;\n",
       "    }\n",
       "</style>\n",
       "<table border=\"1\" class=\"dataframe\">\n",
       "  <thead>\n",
       "    <tr style=\"text-align: right;\">\n",
       "      <th></th>\n",
       "      <th>x</th>\n",
       "      <th>y</th>\n",
       "      <th>z</th>\n",
       "      <th>cluster</th>\n",
       "      <th>n_transcripts</th>\n",
       "      <th>density</th>\n",
       "      <th>elongation</th>\n",
       "      <th>area</th>\n",
       "      <th>avg_confidence</th>\n",
       "      <th>avg_assignment_confidence</th>\n",
       "      <th>...</th>\n",
       "      <th>Disease</th>\n",
       "      <th>Slide_num</th>\n",
       "      <th>Sample_num</th>\n",
       "      <th>Slide_ID</th>\n",
       "      <th>celltype_l1</th>\n",
       "      <th>celltype_l1_codes</th>\n",
       "      <th>celltype_l1_proba</th>\n",
       "      <th>batch</th>\n",
       "      <th>gnn_ann</th>\n",
       "      <th>gnn_glom_no</th>\n",
       "    </tr>\n",
       "  </thead>\n",
       "  <tbody>\n",
       "    <tr>\n",
       "      <th>cell_CRb53fa7cc5-17697_0011762</th>\n",
       "      <td>8277.831575</td>\n",
       "      <td>3103.807960</td>\n",
       "      <td>23.164366</td>\n",
       "      <td>2</td>\n",
       "      <td>20</td>\n",
       "      <td>1.6500</td>\n",
       "      <td>12.050</td>\n",
       "      <td>12.12</td>\n",
       "      <td>0.9965</td>\n",
       "      <td>0.9170</td>\n",
       "      <td>...</td>\n",
       "      <td>Sle</td>\n",
       "      <td>Slide1</td>\n",
       "      <td>X7</td>\n",
       "      <td>0011762</td>\n",
       "      <td>EC</td>\n",
       "      <td>24</td>\n",
       "      <td>0.739148</td>\n",
       "      <td>1</td>\n",
       "      <td>NaN</td>\n",
       "      <td>NaN</td>\n",
       "    </tr>\n",
       "    <tr>\n",
       "      <th>cell_CRb53fa7cc5-10254_0011762</th>\n",
       "      <td>7897.586725</td>\n",
       "      <td>2282.316022</td>\n",
       "      <td>26.751520</td>\n",
       "      <td>3</td>\n",
       "      <td>72</td>\n",
       "      <td>1.2800</td>\n",
       "      <td>2.060</td>\n",
       "      <td>56.26</td>\n",
       "      <td>0.9977</td>\n",
       "      <td>0.9361</td>\n",
       "      <td>...</td>\n",
       "      <td>Sle</td>\n",
       "      <td>Slide1</td>\n",
       "      <td>X7</td>\n",
       "      <td>0011762</td>\n",
       "      <td>podocyte</td>\n",
       "      <td>29</td>\n",
       "      <td>1.000000</td>\n",
       "      <td>1</td>\n",
       "      <td>glom</td>\n",
       "      <td>2.0</td>\n",
       "    </tr>\n",
       "    <tr>\n",
       "      <th>cell_CRb53fa7cc5-8237_0011762</th>\n",
       "      <td>7867.524279</td>\n",
       "      <td>1987.392538</td>\n",
       "      <td>28.381524</td>\n",
       "      <td>2</td>\n",
       "      <td>48</td>\n",
       "      <td>0.9748</td>\n",
       "      <td>3.643</td>\n",
       "      <td>49.24</td>\n",
       "      <td>0.9954</td>\n",
       "      <td>0.8979</td>\n",
       "      <td>...</td>\n",
       "      <td>Sle</td>\n",
       "      <td>Slide1</td>\n",
       "      <td>X7</td>\n",
       "      <td>0011762</td>\n",
       "      <td>CNT</td>\n",
       "      <td>2</td>\n",
       "      <td>0.589407</td>\n",
       "      <td>1</td>\n",
       "      <td>NaN</td>\n",
       "      <td>NaN</td>\n",
       "    </tr>\n",
       "    <tr>\n",
       "      <th>cell_CRb53fa7cc5-310051_0011762</th>\n",
       "      <td>8111.925757</td>\n",
       "      <td>2108.868927</td>\n",
       "      <td>26.985546</td>\n",
       "      <td>2</td>\n",
       "      <td>49</td>\n",
       "      <td>0.6456</td>\n",
       "      <td>1.384</td>\n",
       "      <td>75.90</td>\n",
       "      <td>0.9966</td>\n",
       "      <td>0.8257</td>\n",
       "      <td>...</td>\n",
       "      <td>Sle</td>\n",
       "      <td>Slide1</td>\n",
       "      <td>X7</td>\n",
       "      <td>0011762</td>\n",
       "      <td>PT</td>\n",
       "      <td>16</td>\n",
       "      <td>0.999617</td>\n",
       "      <td>1</td>\n",
       "      <td>NaN</td>\n",
       "      <td>NaN</td>\n",
       "    </tr>\n",
       "    <tr>\n",
       "      <th>cell_CRb53fa7cc5-3322_0011762</th>\n",
       "      <td>6902.500280</td>\n",
       "      <td>1740.039397</td>\n",
       "      <td>28.717231</td>\n",
       "      <td>2</td>\n",
       "      <td>30</td>\n",
       "      <td>0.5319</td>\n",
       "      <td>2.091</td>\n",
       "      <td>56.40</td>\n",
       "      <td>0.9954</td>\n",
       "      <td>0.8133</td>\n",
       "      <td>...</td>\n",
       "      <td>Sle</td>\n",
       "      <td>Slide1</td>\n",
       "      <td>X7</td>\n",
       "      <td>0011762</td>\n",
       "      <td>cycMNP</td>\n",
       "      <td>22</td>\n",
       "      <td>0.943821</td>\n",
       "      <td>1</td>\n",
       "      <td>NaN</td>\n",
       "      <td>NaN</td>\n",
       "    </tr>\n",
       "  </tbody>\n",
       "</table>\n",
       "<p>5 rows × 28 columns</p>\n",
       "</div>"
      ],
      "text/plain": [
       "                                           x            y          z  cluster  \\\n",
       "cell_CRb53fa7cc5-17697_0011762   8277.831575  3103.807960  23.164366        2   \n",
       "cell_CRb53fa7cc5-10254_0011762   7897.586725  2282.316022  26.751520        3   \n",
       "cell_CRb53fa7cc5-8237_0011762    7867.524279  1987.392538  28.381524        2   \n",
       "cell_CRb53fa7cc5-310051_0011762  8111.925757  2108.868927  26.985546        2   \n",
       "cell_CRb53fa7cc5-3322_0011762    6902.500280  1740.039397  28.717231        2   \n",
       "\n",
       "                                 n_transcripts  density  elongation   area  \\\n",
       "cell_CRb53fa7cc5-17697_0011762              20   1.6500      12.050  12.12   \n",
       "cell_CRb53fa7cc5-10254_0011762              72   1.2800       2.060  56.26   \n",
       "cell_CRb53fa7cc5-8237_0011762               48   0.9748       3.643  49.24   \n",
       "cell_CRb53fa7cc5-310051_0011762             49   0.6456       1.384  75.90   \n",
       "cell_CRb53fa7cc5-3322_0011762               30   0.5319       2.091  56.40   \n",
       "\n",
       "                                 avg_confidence  avg_assignment_confidence  \\\n",
       "cell_CRb53fa7cc5-17697_0011762           0.9965                     0.9170   \n",
       "cell_CRb53fa7cc5-10254_0011762           0.9977                     0.9361   \n",
       "cell_CRb53fa7cc5-8237_0011762            0.9954                     0.8979   \n",
       "cell_CRb53fa7cc5-310051_0011762          0.9966                     0.8257   \n",
       "cell_CRb53fa7cc5-3322_0011762            0.9954                     0.8133   \n",
       "\n",
       "                                 ...  Disease  Slide_num  Sample_num  \\\n",
       "cell_CRb53fa7cc5-17697_0011762   ...      Sle     Slide1          X7   \n",
       "cell_CRb53fa7cc5-10254_0011762   ...      Sle     Slide1          X7   \n",
       "cell_CRb53fa7cc5-8237_0011762    ...      Sle     Slide1          X7   \n",
       "cell_CRb53fa7cc5-310051_0011762  ...      Sle     Slide1          X7   \n",
       "cell_CRb53fa7cc5-3322_0011762    ...      Sle     Slide1          X7   \n",
       "\n",
       "                                 Slide_ID  celltype_l1 celltype_l1_codes  \\\n",
       "cell_CRb53fa7cc5-17697_0011762    0011762           EC                24   \n",
       "cell_CRb53fa7cc5-10254_0011762    0011762     podocyte                29   \n",
       "cell_CRb53fa7cc5-8237_0011762     0011762          CNT                 2   \n",
       "cell_CRb53fa7cc5-310051_0011762   0011762           PT                16   \n",
       "cell_CRb53fa7cc5-3322_0011762     0011762       cycMNP                22   \n",
       "\n",
       "                                 celltype_l1_proba batch gnn_ann gnn_glom_no  \n",
       "cell_CRb53fa7cc5-17697_0011762            0.739148     1     NaN         NaN  \n",
       "cell_CRb53fa7cc5-10254_0011762            1.000000     1    glom         2.0  \n",
       "cell_CRb53fa7cc5-8237_0011762             0.589407     1     NaN         NaN  \n",
       "cell_CRb53fa7cc5-310051_0011762           0.999617     1     NaN         NaN  \n",
       "cell_CRb53fa7cc5-3322_0011762             0.943821     1     NaN         NaN  \n",
       "\n",
       "[5 rows x 28 columns]"
      ]
     },
     "execution_count": 77,
     "metadata": {},
     "output_type": "execute_result"
    }
   ],
   "source": [
    "adata_i.obs = merged_df\n",
    "adata_i.obs.head()"
   ]
  },
  {
   "cell_type": "code",
   "execution_count": 79,
   "id": "eb11934a-5feb-4337-a3fe-657d2ed4b0fe",
   "metadata": {},
   "outputs": [],
   "source": [
    "# Plot\n",
    "plot_HE = True\n",
    "\n",
    "## add color\n",
    "colormap = {'glom': '#0000FF40'}\n",
    "adata_i.obs['gnn_ann'] = pd.Categorical(adata_i.obs['gnn_ann'], \n",
    "                                       categories=list(colormap.keys()), \n",
    "                                       ordered=True)\n",
    "adata_i.uns['gnn_ann_colors'] = list(colormap.values())\n",
    "\n",
    "fig, ax = plt.subplots(figsize=(10, 10))\n",
    "sc.pl.spatial(adata_i,\n",
    "              library_id=slide2file[slide],\n",
    "              img_key='he_downscaled_aligned' if plot_HE else None,\n",
    "              color='gnn_ann',\n",
    "              size=0.5,\n",
    "              ax=ax,\n",
    "              show=False\n",
    "             )\n",
    "# plt.show()\n",
    "# plt.savefig(f\"glom_figs_final/slide_{slide}_sample_{sample}_gnn2.pdf\", bbox_inches='tight')\n",
    "# plt.close(fig)"
   ]
  },
  {
   "cell_type": "code",
   "execution_count": 73,
   "id": "8efff6f5-e98c-4fae-9873-cdc2f94a3eff",
   "metadata": {},
   "outputs": [
    {
     "data": {
      "image/png": "[encoded data removed]",
      "text/plain": [
       "<Figure size 1280x960 with 1 Axes>"
      ]
     },
     "metadata": {},
     "output_type": "display_data"
    }
   ],
   "source": [
    "dpi = 200\n",
    "plt.figure(dpi=dpi)\n",
    "glom_mask = adata_i.obs['gnn_ann'] == 'glom'\n",
    "plt.scatter(adata_i.obs.loc[glom_mask, 'x'], adata_i.obs.loc[glom_mask, 'y'], s=1)\n",
    "\n",
    "for i in range(len(cc_filtered)):\n",
    "    centroid = adata_i.obs.loc[adata_i.obs['gnn_glom_no'] == i, ['x', 'y']].mean()\n",
    "    plt.text(centroid[0], centroid[1], f\"{i}\", fontsize=8)"
   ]
  },
  {
   "cell_type": "code",
   "execution_count": 26,
   "id": "9e673230-6a92-4746-a345-bcdb4a278ad8",
   "metadata": {},
   "outputs": [
    {
     "name": "stdout",
     "output_type": "stream",
     "text": [
      "(850.4392145454543, 4672.077694545455)\n",
      "(15601.586351785718, 11907.3826125)\n"
     ]
    }
   ],
   "source": [
    "print(ax.get_xlim())\n",
    "print(ax.get_ylim())"
   ]
  },
  {
   "cell_type": "code",
   "execution_count": 80,
   "id": "d103cecd-14b9-43fd-9ca4-9f9c335d7aa3",
   "metadata": {},
   "outputs": [],
   "source": [
    "# adata_i.write(f\"adata/Glom_GNN_Ann_slide_{slide}_sample_XX{sample}.h5ad\")"
   ]
  },
  {
   "cell_type": "code",
   "execution_count": 70,
   "id": "5abcd0ec-7136-4780-9c3f-b79763db56e3",
   "metadata": {},
   "outputs": [],
   "source": [
    "# # Final check plot\n",
    "# plot_HE = False\n",
    "\n",
    "# adata_i = adata[adata.obs['Sample_num'] == f'X{sample}'].copy()\n",
    "# ## add color\n",
    "# colormap = {'glom': '#0000FF40'}\n",
    "# adata_i.obs['gnn_ann'] = pd.Categorical(adata_i.obs['gnn_ann'], \n",
    "#                                        categories=list(colormap.keys()), \n",
    "#                                        ordered=True)\n",
    "# adata_i.uns['gnn_ann_colors'] = list(colormap.values())\n",
    "\n",
    "# fig, ax = plt.subplots(figsize=(10, 10))\n",
    "# sc.pl.spatial(adata_i,\n",
    "#               library_id=slide2file[slide],\n",
    "#               img_key='he_downscaled_aligned' if plot_HE else None,\n",
    "#               color='gnn_ann',\n",
    "#               size=0.5,\n",
    "#               ax=ax)\n",
    "# plt.show()"
   ]
  },
  {
   "cell_type": "code",
   "execution_count": 42,
   "id": "54ae75a6-3af4-4912-9cac-c4c84d578128",
   "metadata": {},
   "outputs": [],
   "source": [
    "# GNN-based annotation benefits\n",
    "# time\n",
    "# human eror\n",
    "# HE image registration missmatch\n",
    "# accurate boundries"
   ]
  },
  {
   "cell_type": "markdown",
   "id": "98f400d0-ac77-4f51-b4b5-1e560d2f7d4e",
   "metadata": {},
   "source": [
    "## All in a loop"
   ]
  },
  {
   "cell_type": "code",
   "execution_count": 4,
   "id": "efbc08ed-8e08-43e5-a8d7-d7e909cdb2c7",
   "metadata": {},
   "outputs": [],
   "source": [
    "# Read data: registered with harmony embedding\n",
    "adata = sc.read_h5ad(\"/data/projects/robin/xenium_cgn/h5ad_aligned/merged_with_Disease.h5ad\")"
   ]
  },
  {
   "cell_type": "code",
   "execution_count": 6,
   "id": "ee102c7c-8e62-46db-8f4a-f98fdd7df5d9",
   "metadata": {},
   "outputs": [
    {
     "name": "stderr",
     "output_type": "stream",
     "text": [
      "100%|██████████| 7/7 [1:42:05<00:00, 875.06s/it] \n"
     ]
    }
   ],
   "source": [
    "threshold = [20, 700]\n",
    "\n",
    "for slide in tqdm([1, 3, 4, 5, 6, 7, 8]):\n",
    "    for sample, label in sample_info[f'slide_{slide}']['label'].items():\n",
    "\n",
    "        sample = sample[1:3] # to remove the letter x at the beginning\n",
    "        resolution_best = resolutions[f'x{sample}']\n",
    "        if resolution_best == None:\n",
    "            continue\n",
    "\n",
    "        # read DeepSPACE result\n",
    "        adata_gnn_i = sc.read_h5ad(f\"adata/Result_slide_{slide}_sample_x{sample}.h5ad\")\n",
    "\n",
    "\n",
    "        # Get glom cells\n",
    "        ## Add cluster markers\n",
    "        adata_gnn_i = add_markers(adata_gnn_i, \n",
    "                                  markers = KidneyCellMarkers, \n",
    "                                  groupby = resolution_best,\n",
    "                                  colormap = colormap,\n",
    "                                  marker_subset = marker_subset, \n",
    "                                  keyadded = 'final_clusters',\n",
    "                                  verbos = False\n",
    "                                 )\n",
    "        ## Get glom locations\n",
    "        df_glom_i = adata_gnn_i.obs.loc[adata_gnn_i.obs['final_clusters'] == 'Glom. Podocytes', ['x', 'y']]\n",
    "\n",
    "        # Cluster gloms\n",
    "        ## Make a distnace matrix via KDTree\n",
    "        coords = np.array(df_glom_i)\n",
    "        kdtree = KDTree(coords)\n",
    "        dist_mat = kdtree.sparse_distance_matrix(kdtree, max_distance=50)\n",
    "        \n",
    "        ## Convert into a \"networkx\" object\n",
    "        edge_index = np.array(dist_mat.nonzero())\n",
    "        G = nx.Graph()\n",
    "        G.add_edges_from(edge_index.T)\n",
    "        \n",
    "        ## Get connected components\n",
    "        cc = list(nx.connected_components(G))\n",
    "\n",
    "        # Filter gloms\n",
    "        ## Set filter\n",
    "        remove_no = []\n",
    "        cc_filtered = [c for i, c in enumerate(cc) if (len(c) > threshold[0]) and (len(c) < threshold[1]) and (i not in remove_no)]\n",
    "\n",
    "        if len(cc_filtered) == 0:\n",
    "            print('No glom remained')\n",
    "            continue\n",
    "\n",
    "        # print(f'Number of glomes remained = {len(cc_filtered)}')\n",
    "        ## set glom numbers\n",
    "        filtered_nodes = np.hstack([list(c) for c in cc_filtered])\n",
    "        glom_number = []\n",
    "        for i in filtered_nodes:\n",
    "            for n, c in enumerate(cc_filtered):\n",
    "                i_in_c = list(c).count(i) > 0\n",
    "                if i_in_c:\n",
    "                    glom_number.append(n)\n",
    "                    break\n",
    "\n",
    "        # Make glom_adata \"adata_glom\" for sample i\n",
    "        X_glom = adata_gnn_i.X[adata_gnn_i.obs['final_clusters'] == 'Glom. Podocytes', :].copy()\n",
    "        adata_glom = sc.AnnData(X_glom)\n",
    "        adata_glom.var = adata_gnn_i.var\n",
    "        adata_glom.obs = adata_gnn_i.obs.loc[adata_gnn_i.obs['final_clusters'] == 'Glom. Podocytes', \n",
    "                                      ['x', 'y', 'n_transcripts', 'final_clusters']]\n",
    "        adata_glom.obs['slide'] = slide\n",
    "        adata_glom.obs['sample'] = sample\n",
    "        adata_glom.obs['label'] = sample_info[f'slide_{slide}']['label'][f'x{sample}']\n",
    "        adata_glom = adata_glom[filtered_nodes,:]\n",
    "        adata_glom.obs['gnn_ann'] = 'glom'\n",
    "        adata_glom.obs['gnn_glom_no'] = glom_number\n",
    "\n",
    "        # Add to the adata\n",
    "        ## restrict adata to adata_i\n",
    "        adata_i = adata[adata.obs['Sample_num'] == f'X{sample}'].copy()\n",
    "        \n",
    "        ## Add slide id to the rownames of gnn table\n",
    "        df_gnn_i = adata_glom.obs.copy()\n",
    "        gnn_glom_index = df_gnn_i.index\n",
    "        gnn_glom_index = gnn_glom_index + '_' + slide2file[slide]\n",
    "        df_gnn_i.index = gnn_glom_index\n",
    "        # df_gnn_i.head()\n",
    "        \n",
    "        ## Merge df_gnn_i to adata_i.obs\n",
    "        merged_df = adata_i.obs.merge(df_gnn_i[['gnn_ann', 'gnn_glom_no']], \n",
    "                                      left_index=True, \n",
    "                                      right_index=True,\n",
    "                                      how='left', \n",
    "                                      suffixes=('', '_gnn'))\n",
    "        # print(adata_i.obs.shape, merged_df.shape)\n",
    "        adata_i.obs = merged_df\n",
    "\n",
    "        # Save adata\n",
    "        adata_i.write(f\"adata/Glom_GNN_Ann_slide_{slide}_sample_X{sample}.h5ad\")\n",
    "\n",
    "        # Plot\n",
    "        plot_HE = True\n",
    "        \n",
    "        ## add color\n",
    "        colormap = {'glom': '#0000FF40'}\n",
    "        adata_i.obs['gnn_ann'] = pd.Categorical(adata_i.obs['gnn_ann'], \n",
    "                                               categories=list(colormap.keys()), \n",
    "                                               ordered=True)\n",
    "        adata_i.uns['gnn_ann_colors'] = list(colormap.values())\n",
    "        \n",
    "        fig, ax = plt.subplots(figsize=(10, 10))\n",
    "        sc.pl.spatial(adata_i,\n",
    "                      library_id=slide2file[slide],\n",
    "                      img_key='he_downscaled_aligned' if plot_HE else None,\n",
    "                      color='gnn_ann',\n",
    "                      size=0.5,\n",
    "                      ax=ax,\n",
    "                      show=False)\n",
    "        # plt.show()\n",
    "        plt.savefig(f\"glom_figs_final/slide_{slide}_sample_{sample}_gnn2.pdf\", bbox_inches='tight')\n",
    "        plt.close(fig)"
   ]
  },
  {
   "cell_type": "code",
   "execution_count": null,
   "id": "330f0843-9504-4c53-bf59-5f7946029740",
   "metadata": {},
   "outputs": [],
   "source": []
  },
  {
   "cell_type": "code",
   "execution_count": 89,
   "id": "daf9dce5-3f03-4d15-947e-4e880a20cfca",
   "metadata": {},
   "outputs": [],
   "source": [
    "## Merge all adata_i into adata\n",
    "\n",
    "# Read data: registered with harmony embedding\n",
    "adata = sc.read_h5ad(\"/data/projects/robin/xenium_cgn/h5ad_aligned/merged_with_Disease.h5ad\")\n",
    "\n",
    "# Add empty cols to adata\n",
    "adata.obs['gnn_ann'] = float('nan')\n",
    "adata.obs['gnn_glom_no'] = float('nan')\n"
   ]
  },
  {
   "cell_type": "code",
   "execution_count": 91,
   "id": "a2794599-e221-4c5e-893b-964e8dbb3272",
   "metadata": {},
   "outputs": [
    {
     "name": "stderr",
     "output_type": "stream",
     "text": [
      "  0%|          | 0/7 [00:00<?, ?it/s]"
     ]
    },
    {
     "name": "stdout",
     "output_type": "stream",
     "text": [
      "x1\n",
      "x2\n",
      "x3\n",
      "x4\n",
      "x5\n",
      "x6\n",
      "x7\n",
      "x8\n"
     ]
    },
    {
     "name": "stderr",
     "output_type": "stream",
     "text": [
      " 14%|█▍        | 1/7 [10:02<1:00:15, 602.62s/it]"
     ]
    },
    {
     "name": "stdout",
     "output_type": "stream",
     "text": [
      "x9\n",
      "x10\n",
      "x11\n",
      "x12\n",
      "x13\n",
      "x14\n",
      "x15\n",
      "x16\n"
     ]
    },
    {
     "name": "stderr",
     "output_type": "stream",
     "text": [
      " 29%|██▊       | 2/7 [26:22<1:08:43, 824.78s/it]"
     ]
    },
    {
     "name": "stdout",
     "output_type": "stream",
     "text": [
      "x17\n",
      "x18\n",
      "x19\n",
      "x20\n",
      "x21\n",
      "x22\n",
      "x23\n",
      "x24\n"
     ]
    },
    {
     "name": "stderr",
     "output_type": "stream",
     "text": [
      " 43%|████▎     | 3/7 [40:58<56:31, 847.93s/it]  "
     ]
    },
    {
     "name": "stdout",
     "output_type": "stream",
     "text": [
      "x25\n",
      "x26\n",
      "x27\n",
      "x28\n",
      "x29\n",
      "x30\n",
      "x31\n",
      "x32\n"
     ]
    },
    {
     "name": "stderr",
     "output_type": "stream",
     "text": [
      " 57%|█████▋    | 4/7 [59:30<47:36, 952.13s/it]"
     ]
    },
    {
     "name": "stdout",
     "output_type": "stream",
     "text": [
      "x33\n",
      "x34\n",
      "x35\n",
      "x36\n",
      "x37\n",
      "x38\n",
      "x39\n",
      "x40\n"
     ]
    },
    {
     "name": "stderr",
     "output_type": "stream",
     "text": [
      " 71%|███████▏  | 5/7 [1:15:53<32:06, 963.29s/it]"
     ]
    },
    {
     "name": "stdout",
     "output_type": "stream",
     "text": [
      "x41\n",
      "x42\n",
      "x43\n",
      "x44\n",
      "x45\n",
      "x46\n",
      "x47\n",
      "x48\n"
     ]
    },
    {
     "name": "stderr",
     "output_type": "stream",
     "text": [
      " 86%|████████▌ | 6/7 [1:25:51<13:59, 839.05s/it]"
     ]
    },
    {
     "name": "stdout",
     "output_type": "stream",
     "text": [
      "x49\n",
      "x50\n",
      "x51\n",
      "x52\n",
      "x53\n",
      "x54\n",
      "x55\n",
      "x56\n"
     ]
    },
    {
     "name": "stderr",
     "output_type": "stream",
     "text": [
      "100%|██████████| 7/7 [1:38:36<00:00, 845.18s/it]\n"
     ]
    }
   ],
   "source": [
    "for slide in tqdm([1, 3, 4, 5, 6, 7, 8]):\n",
    "    for sample, label in sample_info[f'slide_{slide}']['label'].items():\n",
    "\n",
    "        print(sample)\n",
    "        sample = sample[1:3] # to remove the letter x at the beginning\n",
    "        resolution_best = resolutions[f'x{sample}']\n",
    "        if resolution_best == None:\n",
    "            continue\n",
    "\n",
    "        # read DeepSPACE annotation result\n",
    "        adata_i = sc.read_h5ad(f\"adata/Glom_GNN_Ann_slide_{slide}_sample_X{sample}.h5ad\")\n",
    "\n",
    "        adata.obs.loc[adata_i.obs.index, 'gnn_ann'] = adata_i.obs['gnn_ann']\n",
    "        adata.obs.loc[adata_i.obs.index, 'gnn_glom_no'] = adata_i.obs['gnn_glom_no']"
   ]
  },
  {
   "cell_type": "code",
   "execution_count": 202,
   "id": "1484f9e8-2bf2-420f-9877-bbb2c29257c4",
   "metadata": {},
   "outputs": [
    {
     "data": {
      "image/png": "[encoded data removed]",
      "text/plain": [
       "<Figure size 500x500 with 1 Axes>"
      ]
     },
     "metadata": {},
     "output_type": "display_data"
    }
   ],
   "source": [
    "# Final check plot\n",
    "plot_HE = True\n",
    "\n",
    "sample = 9\n",
    "slide = 58\n",
    "adata_i = adata[adata.obs['Sample_num'] == f'X{sample}'].copy()\n",
    "\n",
    "## add color\n",
    "colormap = {'glom': '#0000FF40'}#, 'Other': '#1100040'}\n",
    "adata_i.obs['gnn_ann'] = pd.Categorical(adata_i.obs['gnn_ann'], \n",
    "                                       categories=list(colormap.keys()), \n",
    "                                       ordered=True)\n",
    "adata_i.uns['gnn_ann_colors'] = list(colormap.values())\n",
    "\n",
    "fig, ax = plt.subplots(figsize=(5, 5))\n",
    "sc.pl.spatial(adata_i,\n",
    "              library_id='0018775', #slide2file[slide],\n",
    "              img_key='he_downscaled_aligned' if plot_HE else None,\n",
    "              color='gnn_ann',\n",
    "              size=0.5,\n",
    "              ax=ax)\n",
    "plt.show()"
   ]
  },
  {
   "cell_type": "code",
   "execution_count": 190,
   "id": "6b8ae9be-c75a-4e14-8c14-70c9ac536a42",
   "metadata": {},
   "outputs": [
    {
     "data": {
      "text/plain": [
       "0"
      ]
     },
     "execution_count": 190,
     "metadata": {},
     "output_type": "execute_result"
    }
   ],
   "source": [
    "adata_i = adata[adata.obs['Sample_num'] == f'X{57}']\n",
    "(adata_i.obs['gnn_ann'] == 'glom').sum()"
   ]
  },
  {
   "cell_type": "code",
   "execution_count": 194,
   "id": "8edf7fab-6356-48d1-8bcf-799bb7af6d28",
   "metadata": {},
   "outputs": [
    {
     "data": {
      "text/html": [
       "<div>\n",
       "<style scoped>\n",
       "    .dataframe tbody tr th:only-of-type {\n",
       "        vertical-align: middle;\n",
       "    }\n",
       "\n",
       "    .dataframe tbody tr th {\n",
       "        vertical-align: top;\n",
       "    }\n",
       "\n",
       "    .dataframe thead th {\n",
       "        text-align: right;\n",
       "    }\n",
       "</style>\n",
       "<table border=\"1\" class=\"dataframe\">\n",
       "  <thead>\n",
       "    <tr style=\"text-align: right;\">\n",
       "      <th></th>\n",
       "      <th>x</th>\n",
       "      <th>y</th>\n",
       "      <th>z</th>\n",
       "      <th>cluster</th>\n",
       "      <th>n_transcripts</th>\n",
       "      <th>density</th>\n",
       "      <th>elongation</th>\n",
       "      <th>area</th>\n",
       "      <th>avg_confidence</th>\n",
       "      <th>avg_assignment_confidence</th>\n",
       "      <th>...</th>\n",
       "      <th>Disease</th>\n",
       "      <th>Slide_num</th>\n",
       "      <th>Sample_num</th>\n",
       "      <th>Slide_ID</th>\n",
       "      <th>celltype_l1</th>\n",
       "      <th>celltype_l1_codes</th>\n",
       "      <th>celltype_l1_proba</th>\n",
       "      <th>batch</th>\n",
       "      <th>gnn_ann</th>\n",
       "      <th>gnn_glom_no</th>\n",
       "    </tr>\n",
       "  </thead>\n",
       "  <tbody>\n",
       "    <tr>\n",
       "      <th>cell_CRe9244f5f0-274454_0018775</th>\n",
       "      <td>8973.079108</td>\n",
       "      <td>14275.671531</td>\n",
       "      <td>24.239919</td>\n",
       "      <td>2</td>\n",
       "      <td>162</td>\n",
       "      <td>1.3410</td>\n",
       "      <td>1.680</td>\n",
       "      <td>120.80</td>\n",
       "      <td>0.9969</td>\n",
       "      <td>0.9304</td>\n",
       "      <td>...</td>\n",
       "      <td>Anca</td>\n",
       "      <td>Slide9</td>\n",
       "      <td>X58</td>\n",
       "      <td>0018775</td>\n",
       "      <td>FIB</td>\n",
       "      <td>6</td>\n",
       "      <td>1.000000</td>\n",
       "      <td>0</td>\n",
       "      <td>NaN</td>\n",
       "      <td>Other</td>\n",
       "    </tr>\n",
       "    <tr>\n",
       "      <th>cell_CRe9244f5f0-241438_0018775</th>\n",
       "      <td>7611.762113</td>\n",
       "      <td>13482.074890</td>\n",
       "      <td>26.965581</td>\n",
       "      <td>1</td>\n",
       "      <td>86</td>\n",
       "      <td>1.3750</td>\n",
       "      <td>2.968</td>\n",
       "      <td>62.56</td>\n",
       "      <td>0.9971</td>\n",
       "      <td>0.9253</td>\n",
       "      <td>...</td>\n",
       "      <td>Anca</td>\n",
       "      <td>Slide9</td>\n",
       "      <td>X58</td>\n",
       "      <td>0018775</td>\n",
       "      <td>T</td>\n",
       "      <td>18</td>\n",
       "      <td>0.743161</td>\n",
       "      <td>0</td>\n",
       "      <td>NaN</td>\n",
       "      <td>Other</td>\n",
       "    </tr>\n",
       "    <tr>\n",
       "      <th>cell_CRe9244f5f0-229694_0018775</th>\n",
       "      <td>7905.179183</td>\n",
       "      <td>12544.214490</td>\n",
       "      <td>26.951706</td>\n",
       "      <td>2</td>\n",
       "      <td>52</td>\n",
       "      <td>1.3950</td>\n",
       "      <td>2.667</td>\n",
       "      <td>37.27</td>\n",
       "      <td>0.9949</td>\n",
       "      <td>0.8854</td>\n",
       "      <td>...</td>\n",
       "      <td>Anca</td>\n",
       "      <td>Slide9</td>\n",
       "      <td>X58</td>\n",
       "      <td>0018775</td>\n",
       "      <td>EC</td>\n",
       "      <td>5</td>\n",
       "      <td>0.999999</td>\n",
       "      <td>0</td>\n",
       "      <td>NaN</td>\n",
       "      <td>Other</td>\n",
       "    </tr>\n",
       "    <tr>\n",
       "      <th>cell_CRe9244f5f0-234433_0018775</th>\n",
       "      <td>8035.828453</td>\n",
       "      <td>12681.996247</td>\n",
       "      <td>26.722344</td>\n",
       "      <td>1</td>\n",
       "      <td>75</td>\n",
       "      <td>2.5130</td>\n",
       "      <td>2.896</td>\n",
       "      <td>29.85</td>\n",
       "      <td>0.9969</td>\n",
       "      <td>0.6803</td>\n",
       "      <td>...</td>\n",
       "      <td>Anca</td>\n",
       "      <td>Slide9</td>\n",
       "      <td>X58</td>\n",
       "      <td>0018775</td>\n",
       "      <td>MAC-M2</td>\n",
       "      <td>8</td>\n",
       "      <td>0.998505</td>\n",
       "      <td>0</td>\n",
       "      <td>NaN</td>\n",
       "      <td>Other</td>\n",
       "    </tr>\n",
       "    <tr>\n",
       "      <th>cell_CRe9244f5f0-211122_0018775</th>\n",
       "      <td>6807.297957</td>\n",
       "      <td>12159.132755</td>\n",
       "      <td>25.493740</td>\n",
       "      <td>2</td>\n",
       "      <td>49</td>\n",
       "      <td>0.8933</td>\n",
       "      <td>1.499</td>\n",
       "      <td>54.85</td>\n",
       "      <td>0.9959</td>\n",
       "      <td>0.9008</td>\n",
       "      <td>...</td>\n",
       "      <td>Anca</td>\n",
       "      <td>Slide9</td>\n",
       "      <td>X58</td>\n",
       "      <td>0018775</td>\n",
       "      <td>MAC-M2</td>\n",
       "      <td>8</td>\n",
       "      <td>0.999984</td>\n",
       "      <td>0</td>\n",
       "      <td>NaN</td>\n",
       "      <td>Other</td>\n",
       "    </tr>\n",
       "    <tr>\n",
       "      <th>...</th>\n",
       "      <td>...</td>\n",
       "      <td>...</td>\n",
       "      <td>...</td>\n",
       "      <td>...</td>\n",
       "      <td>...</td>\n",
       "      <td>...</td>\n",
       "      <td>...</td>\n",
       "      <td>...</td>\n",
       "      <td>...</td>\n",
       "      <td>...</td>\n",
       "      <td>...</td>\n",
       "      <td>...</td>\n",
       "      <td>...</td>\n",
       "      <td>...</td>\n",
       "      <td>...</td>\n",
       "      <td>...</td>\n",
       "      <td>...</td>\n",
       "      <td>...</td>\n",
       "      <td>...</td>\n",
       "      <td>...</td>\n",
       "      <td>...</td>\n",
       "    </tr>\n",
       "    <tr>\n",
       "      <th>cell_CRe9244f5f0-241176_0018775</th>\n",
       "      <td>8614.366388</td>\n",
       "      <td>12468.879786</td>\n",
       "      <td>26.505110</td>\n",
       "      <td>2</td>\n",
       "      <td>147</td>\n",
       "      <td>1.0120</td>\n",
       "      <td>1.902</td>\n",
       "      <td>145.30</td>\n",
       "      <td>0.9962</td>\n",
       "      <td>0.9137</td>\n",
       "      <td>...</td>\n",
       "      <td>Anca</td>\n",
       "      <td>Slide9</td>\n",
       "      <td>X58</td>\n",
       "      <td>0018775</td>\n",
       "      <td>FIB</td>\n",
       "      <td>6</td>\n",
       "      <td>0.999999</td>\n",
       "      <td>0</td>\n",
       "      <td>NaN</td>\n",
       "      <td>Other</td>\n",
       "    </tr>\n",
       "    <tr>\n",
       "      <th>cell_CRe9244f5f0-211983_0018775</th>\n",
       "      <td>7746.670739</td>\n",
       "      <td>11308.402129</td>\n",
       "      <td>29.180936</td>\n",
       "      <td>3</td>\n",
       "      <td>155</td>\n",
       "      <td>1.2480</td>\n",
       "      <td>2.600</td>\n",
       "      <td>124.20</td>\n",
       "      <td>0.9970</td>\n",
       "      <td>0.9399</td>\n",
       "      <td>...</td>\n",
       "      <td>Anca</td>\n",
       "      <td>Slide9</td>\n",
       "      <td>X58</td>\n",
       "      <td>0018775</td>\n",
       "      <td>PT</td>\n",
       "      <td>16</td>\n",
       "      <td>0.997326</td>\n",
       "      <td>0</td>\n",
       "      <td>NaN</td>\n",
       "      <td>Other</td>\n",
       "    </tr>\n",
       "    <tr>\n",
       "      <th>cell_CRe9244f5f0-208910_0018775</th>\n",
       "      <td>7719.086376</td>\n",
       "      <td>10971.730716</td>\n",
       "      <td>26.632896</td>\n",
       "      <td>1</td>\n",
       "      <td>37</td>\n",
       "      <td>1.4040</td>\n",
       "      <td>4.121</td>\n",
       "      <td>26.36</td>\n",
       "      <td>0.9969</td>\n",
       "      <td>0.8400</td>\n",
       "      <td>...</td>\n",
       "      <td>Anca</td>\n",
       "      <td>Slide9</td>\n",
       "      <td>X58</td>\n",
       "      <td>0018775</td>\n",
       "      <td>MAC-M2</td>\n",
       "      <td>8</td>\n",
       "      <td>0.635204</td>\n",
       "      <td>0</td>\n",
       "      <td>NaN</td>\n",
       "      <td>Other</td>\n",
       "    </tr>\n",
       "    <tr>\n",
       "      <th>cell_CRe9244f5f0-210747_0018775</th>\n",
       "      <td>7953.782475</td>\n",
       "      <td>10963.609975</td>\n",
       "      <td>28.017054</td>\n",
       "      <td>2</td>\n",
       "      <td>40</td>\n",
       "      <td>1.0870</td>\n",
       "      <td>3.229</td>\n",
       "      <td>36.79</td>\n",
       "      <td>0.9969</td>\n",
       "      <td>0.7770</td>\n",
       "      <td>...</td>\n",
       "      <td>Anca</td>\n",
       "      <td>Slide9</td>\n",
       "      <td>X58</td>\n",
       "      <td>0018775</td>\n",
       "      <td>FIB</td>\n",
       "      <td>6</td>\n",
       "      <td>0.998079</td>\n",
       "      <td>0</td>\n",
       "      <td>NaN</td>\n",
       "      <td>Other</td>\n",
       "    </tr>\n",
       "    <tr>\n",
       "      <th>cell_CRe9244f5f0-211927_0018775</th>\n",
       "      <td>8000.963982</td>\n",
       "      <td>11049.500799</td>\n",
       "      <td>28.187939</td>\n",
       "      <td>2</td>\n",
       "      <td>82</td>\n",
       "      <td>1.8560</td>\n",
       "      <td>2.651</td>\n",
       "      <td>44.17</td>\n",
       "      <td>0.9965</td>\n",
       "      <td>0.6359</td>\n",
       "      <td>...</td>\n",
       "      <td>Anca</td>\n",
       "      <td>Slide9</td>\n",
       "      <td>X58</td>\n",
       "      <td>0018775</td>\n",
       "      <td>podocyte</td>\n",
       "      <td>29</td>\n",
       "      <td>0.996641</td>\n",
       "      <td>0</td>\n",
       "      <td>NaN</td>\n",
       "      <td>Other</td>\n",
       "    </tr>\n",
       "  </tbody>\n",
       "</table>\n",
       "<p>38745 rows × 28 columns</p>\n",
       "</div>"
      ],
      "text/plain": [
       "                                           x             y          z  \\\n",
       "cell_CRe9244f5f0-274454_0018775  8973.079108  14275.671531  24.239919   \n",
       "cell_CRe9244f5f0-241438_0018775  7611.762113  13482.074890  26.965581   \n",
       "cell_CRe9244f5f0-229694_0018775  7905.179183  12544.214490  26.951706   \n",
       "cell_CRe9244f5f0-234433_0018775  8035.828453  12681.996247  26.722344   \n",
       "cell_CRe9244f5f0-211122_0018775  6807.297957  12159.132755  25.493740   \n",
       "...                                      ...           ...        ...   \n",
       "cell_CRe9244f5f0-241176_0018775  8614.366388  12468.879786  26.505110   \n",
       "cell_CRe9244f5f0-211983_0018775  7746.670739  11308.402129  29.180936   \n",
       "cell_CRe9244f5f0-208910_0018775  7719.086376  10971.730716  26.632896   \n",
       "cell_CRe9244f5f0-210747_0018775  7953.782475  10963.609975  28.017054   \n",
       "cell_CRe9244f5f0-211927_0018775  8000.963982  11049.500799  28.187939   \n",
       "\n",
       "                                 cluster  n_transcripts  density  elongation  \\\n",
       "cell_CRe9244f5f0-274454_0018775        2            162   1.3410       1.680   \n",
       "cell_CRe9244f5f0-241438_0018775        1             86   1.3750       2.968   \n",
       "cell_CRe9244f5f0-229694_0018775        2             52   1.3950       2.667   \n",
       "cell_CRe9244f5f0-234433_0018775        1             75   2.5130       2.896   \n",
       "cell_CRe9244f5f0-211122_0018775        2             49   0.8933       1.499   \n",
       "...                                  ...            ...      ...         ...   \n",
       "cell_CRe9244f5f0-241176_0018775        2            147   1.0120       1.902   \n",
       "cell_CRe9244f5f0-211983_0018775        3            155   1.2480       2.600   \n",
       "cell_CRe9244f5f0-208910_0018775        1             37   1.4040       4.121   \n",
       "cell_CRe9244f5f0-210747_0018775        2             40   1.0870       3.229   \n",
       "cell_CRe9244f5f0-211927_0018775        2             82   1.8560       2.651   \n",
       "\n",
       "                                   area  avg_confidence  \\\n",
       "cell_CRe9244f5f0-274454_0018775  120.80          0.9969   \n",
       "cell_CRe9244f5f0-241438_0018775   62.56          0.9971   \n",
       "cell_CRe9244f5f0-229694_0018775   37.27          0.9949   \n",
       "cell_CRe9244f5f0-234433_0018775   29.85          0.9969   \n",
       "cell_CRe9244f5f0-211122_0018775   54.85          0.9959   \n",
       "...                                 ...             ...   \n",
       "cell_CRe9244f5f0-241176_0018775  145.30          0.9962   \n",
       "cell_CRe9244f5f0-211983_0018775  124.20          0.9970   \n",
       "cell_CRe9244f5f0-208910_0018775   26.36          0.9969   \n",
       "cell_CRe9244f5f0-210747_0018775   36.79          0.9969   \n",
       "cell_CRe9244f5f0-211927_0018775   44.17          0.9965   \n",
       "\n",
       "                                 avg_assignment_confidence  ...  Disease  \\\n",
       "cell_CRe9244f5f0-274454_0018775                     0.9304  ...     Anca   \n",
       "cell_CRe9244f5f0-241438_0018775                     0.9253  ...     Anca   \n",
       "cell_CRe9244f5f0-229694_0018775                     0.8854  ...     Anca   \n",
       "cell_CRe9244f5f0-234433_0018775                     0.6803  ...     Anca   \n",
       "cell_CRe9244f5f0-211122_0018775                     0.9008  ...     Anca   \n",
       "...                                                    ...  ...      ...   \n",
       "cell_CRe9244f5f0-241176_0018775                     0.9137  ...     Anca   \n",
       "cell_CRe9244f5f0-211983_0018775                     0.9399  ...     Anca   \n",
       "cell_CRe9244f5f0-208910_0018775                     0.8400  ...     Anca   \n",
       "cell_CRe9244f5f0-210747_0018775                     0.7770  ...     Anca   \n",
       "cell_CRe9244f5f0-211927_0018775                     0.6359  ...     Anca   \n",
       "\n",
       "                                 Slide_num  Sample_num  Slide_ID  celltype_l1  \\\n",
       "cell_CRe9244f5f0-274454_0018775     Slide9         X58   0018775          FIB   \n",
       "cell_CRe9244f5f0-241438_0018775     Slide9         X58   0018775            T   \n",
       "cell_CRe9244f5f0-229694_0018775     Slide9         X58   0018775           EC   \n",
       "cell_CRe9244f5f0-234433_0018775     Slide9         X58   0018775       MAC-M2   \n",
       "cell_CRe9244f5f0-211122_0018775     Slide9         X58   0018775       MAC-M2   \n",
       "...                                    ...         ...       ...          ...   \n",
       "cell_CRe9244f5f0-241176_0018775     Slide9         X58   0018775          FIB   \n",
       "cell_CRe9244f5f0-211983_0018775     Slide9         X58   0018775           PT   \n",
       "cell_CRe9244f5f0-208910_0018775     Slide9         X58   0018775       MAC-M2   \n",
       "cell_CRe9244f5f0-210747_0018775     Slide9         X58   0018775          FIB   \n",
       "cell_CRe9244f5f0-211927_0018775     Slide9         X58   0018775     podocyte   \n",
       "\n",
       "                                celltype_l1_codes  celltype_l1_proba batch  \\\n",
       "cell_CRe9244f5f0-274454_0018775                 6           1.000000     0   \n",
       "cell_CRe9244f5f0-241438_0018775                18           0.743161     0   \n",
       "cell_CRe9244f5f0-229694_0018775                 5           0.999999     0   \n",
       "cell_CRe9244f5f0-234433_0018775                 8           0.998505     0   \n",
       "cell_CRe9244f5f0-211122_0018775                 8           0.999984     0   \n",
       "...                                           ...                ...   ...   \n",
       "cell_CRe9244f5f0-241176_0018775                 6           0.999999     0   \n",
       "cell_CRe9244f5f0-211983_0018775                16           0.997326     0   \n",
       "cell_CRe9244f5f0-208910_0018775                 8           0.635204     0   \n",
       "cell_CRe9244f5f0-210747_0018775                 6           0.998079     0   \n",
       "cell_CRe9244f5f0-211927_0018775                29           0.996641     0   \n",
       "\n",
       "                                gnn_ann gnn_glom_no  \n",
       "cell_CRe9244f5f0-274454_0018775     NaN       Other  \n",
       "cell_CRe9244f5f0-241438_0018775     NaN       Other  \n",
       "cell_CRe9244f5f0-229694_0018775     NaN       Other  \n",
       "cell_CRe9244f5f0-234433_0018775     NaN       Other  \n",
       "cell_CRe9244f5f0-211122_0018775     NaN       Other  \n",
       "...                                 ...         ...  \n",
       "cell_CRe9244f5f0-241176_0018775     NaN       Other  \n",
       "cell_CRe9244f5f0-211983_0018775     NaN       Other  \n",
       "cell_CRe9244f5f0-208910_0018775     NaN       Other  \n",
       "cell_CRe9244f5f0-210747_0018775     NaN       Other  \n",
       "cell_CRe9244f5f0-211927_0018775     NaN       Other  \n",
       "\n",
       "[38745 rows x 28 columns]"
      ]
     },
     "execution_count": 194,
     "metadata": {},
     "output_type": "execute_result"
    }
   ],
   "source": [
    "adata_i.obs"
   ]
  },
  {
   "cell_type": "code",
   "execution_count": 109,
   "id": "9dca838e-c870-4ab1-b8a5-2bd85128b1ce",
   "metadata": {},
   "outputs": [],
   "source": [
    "# adata.write(\"adata/Glom_GNN_Ann_all_2.h5ad\")"
   ]
  },
  {
   "cell_type": "code",
   "execution_count": 99,
   "id": "343f2a52-cb41-4e69-b696-83f51b13bde8",
   "metadata": {},
   "outputs": [
    {
     "data": {
      "text/plain": [
       "(2899179, 480)"
      ]
     },
     "execution_count": 99,
     "metadata": {},
     "output_type": "execute_result"
    }
   ],
   "source": [
    "adata.shape"
   ]
  },
  {
   "cell_type": "code",
   "execution_count": 151,
   "id": "e013321b-eed3-4f68-a8aa-d9322bf7170c",
   "metadata": {},
   "outputs": [],
   "source": [
    "adata = sc.read_h5ad(\"adata/Glom_GNN_Ann_all_2.h5ad\")"
   ]
  },
  {
   "cell_type": "code",
   "execution_count": 152,
   "id": "ad605ac3-36ab-44b4-a61b-41b87561111a",
   "metadata": {},
   "outputs": [
    {
     "data": {
      "text/plain": [
       "cell_CRc5a3721c5-120227_0011546    NaN\n",
       "cell_CR85333614e-227363_0011284    NaN\n",
       "cell_CRe9244f5f0-274454_0018775    NaN\n",
       "cell_CRd921aadf4-7960_0011216      NaN\n",
       "cell_CR85333614e-19040_0011284     NaN\n",
       "                                  ... \n",
       "cell_CRb53fa7cc5-166196_0011762    NaN\n",
       "cell_CRb53fa7cc5-152995_0011762    4.0\n",
       "cell_CRb53fa7cc5-208012_0011762    NaN\n",
       "cell_CRb53fa7cc5-211260_0011762    NaN\n",
       "cell_CRb53fa7cc5-22467_0011762     NaN\n",
       "Name: gnn_glom_no, Length: 2899179, dtype: float64"
      ]
     },
     "execution_count": 152,
     "metadata": {},
     "output_type": "execute_result"
    }
   ],
   "source": [
    "adata.obs['gnn_glom_no']"
   ]
  },
  {
   "cell_type": "code",
   "execution_count": 155,
   "id": "fef65a0f-7ef5-45ce-b757-ea1d0569c1e0",
   "metadata": {},
   "outputs": [
    {
     "data": {
      "text/plain": [
       "cell_CRc5a3721c5-120227_0011546    Other\n",
       "cell_CR85333614e-227363_0011284    Other\n",
       "cell_CRe9244f5f0-274454_0018775    Other\n",
       "cell_CRd921aadf4-7960_0011216      Other\n",
       "cell_CR85333614e-19040_0011284     Other\n",
       "                                   ...  \n",
       "cell_CRb53fa7cc5-166196_0011762    Other\n",
       "cell_CRb53fa7cc5-152995_0011762        4\n",
       "cell_CRb53fa7cc5-208012_0011762    Other\n",
       "cell_CRb53fa7cc5-211260_0011762    Other\n",
       "cell_CRb53fa7cc5-22467_0011762     Other\n",
       "Name: gnn_glom_no, Length: 2899179, dtype: category\n",
       "Categories (75, object): ['0', '1', '10', '11', ..., '73', '8', '9', 'Other']"
      ]
     },
     "execution_count": 155,
     "metadata": {},
     "output_type": "execute_result"
    }
   ],
   "source": [
    "# adata.obs['gnn_ann'] = adata.obs['gnn_ann'].cat.add_categories('Other')\n",
    "# adata.obs['gnn_ann'] = adata.obs['gnn_ann'].fillna('Other')\n",
    "\n",
    "adata.obs['gnn_glom_no'] = adata.obs['gnn_glom_no'].astype('category')\n",
    "adata.obs['gnn_glom_no'] = adata.obs['gnn_glom_no'].cat.add_categories('Other')\n",
    "adata.obs['gnn_glom_no'] = adata.obs['gnn_glom_no'].fillna('Other')\n",
    "adata.obs['gnn_glom_no'] = [int(i) if i!= 'Other' else 'Other' for i in adata.obs['gnn_glom_no']]\n",
    "adata.obs['gnn_glom_no'] = adata.obs['gnn_glom_no'].astype(str).astype('category')\n",
    "adata.obs['gnn_glom_no']"
   ]
  },
  {
   "cell_type": "code",
   "execution_count": 156,
   "id": "6371d06d-9cb3-430e-917f-463a9cb76f4e",
   "metadata": {},
   "outputs": [],
   "source": [
    "adata.write(\"adata/Glom_GNN_Ann_all_4.h5ad\")"
   ]
  },
  {
   "cell_type": "code",
   "execution_count": 116,
   "id": "903fbf7a-bf6a-4984-9d59-284bc92ecbd6",
   "metadata": {},
   "outputs": [],
   "source": [
    "adata2 = sc.read_h5ad(\"data_merged_with_gnn_glom.h5ad\")"
   ]
  },
  {
   "cell_type": "code",
   "execution_count": null,
   "id": "5aaff582-b8da-493a-82bf-1fea198a8de9",
   "metadata": {},
   "outputs": [],
   "source": []
  },
  {
   "cell_type": "code",
   "execution_count": 198,
   "id": "fe1e27b8-acae-4255-a4c1-cfb6f33f5b8f",
   "metadata": {},
   "outputs": [
    {
     "data": {
      "text/plain": [
       "AnnData object with n_obs × n_vars = 2899179 × 480\n",
       "    obs: 'x', 'y', 'z', 'cluster', 'n_transcripts', 'density', 'elongation', 'area', 'avg_confidence', 'avg_assignment_confidence', 'max_cluster_frac', 'lifespan', 'x_centroid', 'y_centroid', 'cell_area', 'annot', 'annot_n', 'ID', 'Disease', 'Slide_num', 'Sample_num', 'Slide_ID', 'celltype_l1', 'celltype_l1_codes', 'celltype_l1_proba', 'batch', 'gnn_ann', 'gnn_glom_no'\n",
       "    var: 'gene_ids', 'feature_types'\n",
       "    uns: 'annot_colors', 'celltype_l1_colors', 'dendrogram_subclass.l1', 'gnn_ann_colors', 'log1p', 'spatial', 'subclass.l1_colors', 'wilcoxon'\n",
       "    obsm: 'X_pca', 'X_pca_harmony', 'X_umap', 'spatial'\n",
       "    layers: 'counts'"
      ]
     },
     "execution_count": 198,
     "metadata": {},
     "output_type": "execute_result"
    }
   ],
   "source": [
    "adata"
   ]
  },
  {
   "cell_type": "code",
   "execution_count": 199,
   "id": "10ac28aa-de7f-4c3c-b853-7623887ce6f0",
   "metadata": {},
   "outputs": [
    {
     "data": {
      "text/plain": [
       "dict_keys(['0011216', '0011284', '0011287', '0011546', '0011695', '0011707', '0011762', '0018723', '0018775'])"
      ]
     },
     "execution_count": 199,
     "metadata": {},
     "output_type": "execute_result"
    }
   ],
   "source": [
    "adata.uns[\"spatial\"].keys()"
   ]
  },
  {
   "cell_type": "code",
   "execution_count": null,
   "id": "3cc6c3b8-4101-4d66-ac8b-69a3b49c4f8c",
   "metadata": {},
   "outputs": [],
   "source": []
  }
 ],
 "metadata": {
  "kernelspec": {
   "display_name": "ssc",
   "language": "python",
   "name": "ssc"
  },
  "language_info": {
   "codemirror_mode": {
    "name": "ipython",
    "version": 3
   },
   "file_extension": ".py",
   "mimetype": "text/x-python",
   "name": "python",
   "nbconvert_exporter": "python",
   "pygments_lexer": "ipython3",
   "version": "3.11.9"
  }
 },
 "nbformat": 4,
 "nbformat_minor": 5
}
