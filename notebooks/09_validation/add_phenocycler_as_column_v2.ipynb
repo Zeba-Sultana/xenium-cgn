{
 "cells": [
  {
   "cell_type": "code",
   "execution_count": 1,
   "id": "41f32fd4-3393-49ef-839a-100649382c42",
   "metadata": {},
   "outputs": [],
   "source": [
    "import numpy as np\n",
    "import pandas as pd\n",
    "\n",
    "import matplotlib.pyplot as plt\n",
    "import seaborn as sns\n",
    "\n",
    "import scanpy as sc\n",
    "from shapely.geometry import Point, Polygon\n",
    "from shapely.affinity import scale\n",
    "from shapely.strtree import STRtree\n",
    "\n",
    "import json\n",
    "from rtree import index\n",
    "\n",
    "import warnings\n",
    "from tqdm import tqdm\n",
    "warnings.filterwarnings('ignore')"
   ]
  },
  {
   "cell_type": "code",
   "execution_count": 2,
   "id": "b70c8c05-922d-46bb-af71-9d29b7398a7b",
   "metadata": {},
   "outputs": [],
   "source": [
    "adata_dir = \"data_level_1/adata_slide2/\"\n",
    "he_image_dir = \"data_level_1/he_registered_old/\"\n",
    "pc_dir = \"data_level_1/phenocycler_registered/\"\n",
    "polygon_dir  = \"/data/projects/robin/segmentation/output-new-seg/segmentation_polygons.json\"\n",
    "\n",
    "with open(polygon_dir, 'r') as file:\n",
    "    polygon_dict = json.load(file)"
   ]
  },
  {
   "cell_type": "code",
   "execution_count": 3,
   "id": "9c437920-8a4c-4240-b563-5c9cfea13922",
   "metadata": {},
   "outputs": [
    {
     "data": {
      "text/plain": [
       "('185983',\n",
       " [[3714.5618, 20479.88],\n",
       "  [3714.3374, 20482.264],\n",
       "  [3716.8914, 20483.77],\n",
       "  [3718.359, 20482.613],\n",
       "  [3718.314, 20482.37],\n",
       "  [3717.9287, 20478.893],\n",
       "  [3717.011, 20478.408],\n",
       "  [3715.521, 20479.059],\n",
       "  [3714.5618, 20479.88]])"
      ]
     },
     "execution_count": 3,
     "metadata": {},
     "output_type": "execute_result"
    }
   ],
   "source": [
    "cell_names = [str(polygon_dict['geometries'][i]['cell']) for i in range(len(polygon_dict['geometries']))]\n",
    "cell_coordinates = [polygon_dict['geometries'][i]['coordinates'][0] for i in range(len(polygon_dict['geometries']))]\n",
    "cell_names = np.array(cell_names)\n",
    "cell_names[0], cell_coordinates[0]"
   ]
  },
  {
   "cell_type": "code",
   "execution_count": 4,
   "id": "cf619637-9ced-4975-9d9e-788e1bf91409",
   "metadata": {},
   "outputs": [
    {
     "data": {
      "text/plain": [
       "(86811, 480)"
      ]
     },
     "execution_count": 4,
     "metadata": {},
     "output_type": "execute_result"
    }
   ],
   "source": [
    "sample = 'X1'\n",
    "adata = sc.read_h5ad(adata_dir + f'{sample}.h5ad')\n",
    "he_image = plt.imread(he_image_dir + f'{sample}.tiff')\n",
    "adata.shape"
   ]
  },
  {
   "cell_type": "code",
   "execution_count": 5,
   "id": "de054d59-620c-4b6b-8826-0e11f25380d4",
   "metadata": {},
   "outputs": [],
   "source": [
    "slide_id = adata.obs['Slide_ID'][0]\n",
    "adata.uns['spatial'][slide_id]['images']['he_downscaled_aligned'] = he_image  \n",
    "adata.uns['spatial'][slide_id]['scalefactors']['tissue_he_downscaled_aligned_scalef'] = 1\n",
    "adata.uns['spatial'][slide_id]['scalefactors']['tissue_dapi_LEVEL1_cropped_scalef'] = 1"
   ]
  },
  {
   "cell_type": "code",
   "execution_count": 6,
   "id": "ed8a9159-7650-4471-98ec-c83abf3f306d",
   "metadata": {},
   "outputs": [
    {
     "data": {
      "text/plain": [
       "(86811, 480)"
      ]
     },
     "execution_count": 6,
     "metadata": {},
     "output_type": "execute_result"
    }
   ],
   "source": [
    "cell_name = [i.split('-')[1] for i in adata.obs.index]\n",
    "adata.obs['cell_name'] = cell_name\n",
    "adata = adata[adata.obs['cell_name'].isin(cell_names)]\n",
    "adata.shape"
   ]
  },
  {
   "cell_type": "code",
   "execution_count": 167,
   "id": "5ad2c77b-dbe3-481d-9a6b-6a6d97ce5cbe",
   "metadata": {},
   "outputs": [],
   "source": [
    "ch = 0\n",
    "adata.obs[f'Phenocycler_Channel{ch+1}'] = 0\n",
    "\n",
    "pc_image = plt.imread(pc_dir + f\"Phenocycler_Channel{(ch+1):02}_{sample}_Level2_registered.tiff\")\n",
    "w, h = pc_image.shape"
   ]
  },
  {
   "cell_type": "code",
   "execution_count": 213,
   "id": "56673c67-c1a1-4a9d-9ed2-014fb038ba57",
   "metadata": {},
   "outputs": [
    {
     "data": {
      "text/plain": [
       "(4965.0, 15767.0)"
      ]
     },
     "execution_count": 213,
     "metadata": {},
     "output_type": "execute_result"
    }
   ],
   "source": [
    "x_shift = adata.obs['x'][0] - adata.obsm['spatial'][0, 0]\n",
    "y_shift = adata.obs['y'][0] - adata.obsm['spatial'][0, 1]\n",
    "x_shift, y_shift"
   ]
  },
  {
   "cell_type": "code",
   "execution_count": 230,
   "id": "ee60b022-2725-4420-971a-a797cabcd1db",
   "metadata": {},
   "outputs": [
    {
     "data": {
      "text/html": [
       "<div>\n",
       "<style scoped>\n",
       "    .dataframe tbody tr th:only-of-type {\n",
       "        vertical-align: middle;\n",
       "    }\n",
       "\n",
       "    .dataframe tbody tr th {\n",
       "        vertical-align: top;\n",
       "    }\n",
       "\n",
       "    .dataframe thead th {\n",
       "        text-align: right;\n",
       "    }\n",
       "</style>\n",
       "<table border=\"1\" class=\"dataframe\">\n",
       "  <thead>\n",
       "    <tr style=\"text-align: right;\">\n",
       "      <th></th>\n",
       "      <th>x</th>\n",
       "      <th>y</th>\n",
       "      <th>z</th>\n",
       "      <th>cluster</th>\n",
       "      <th>n_transcripts</th>\n",
       "      <th>density</th>\n",
       "      <th>elongation</th>\n",
       "      <th>area</th>\n",
       "      <th>avg_confidence</th>\n",
       "      <th>avg_assignment_confidence</th>\n",
       "      <th>...</th>\n",
       "      <th>celltype_l1_codes</th>\n",
       "      <th>celltype_l1_prob</th>\n",
       "      <th>Slide_ID</th>\n",
       "      <th>sample</th>\n",
       "      <th>label</th>\n",
       "      <th>cell_name</th>\n",
       "      <th>Phenocycler_Channel2</th>\n",
       "      <th>Phenocycler_Channel7</th>\n",
       "      <th>Phenocycler_Channel1</th>\n",
       "      <th>Phenocycler_Channel9</th>\n",
       "    </tr>\n",
       "  </thead>\n",
       "  <tbody>\n",
       "  </tbody>\n",
       "</table>\n",
       "<p>0 rows × 27 columns</p>\n",
       "</div>"
      ],
      "text/plain": [
       "Empty DataFrame\n",
       "Columns: [x, y, z, cluster, n_transcripts, density, elongation, area, avg_confidence, avg_assignment_confidence, max_cluster_frac, lifespan, x_centroid, y_centroid, cell_area, n_genes, celltype_l1, celltype_l1_codes, celltype_l1_prob, Slide_ID, sample, label, cell_name, Phenocycler_Channel2, Phenocycler_Channel7, Phenocycler_Channel1, Phenocycler_Channel9]\n",
       "Index: []\n",
       "\n",
       "[0 rows x 27 columns]"
      ]
     },
     "execution_count": 230,
     "metadata": {},
     "output_type": "execute_result"
    }
   ],
   "source": [
    "adata.obs.loc[adata.obs['cell_name'] == '178858']"
   ]
  },
  {
   "cell_type": "code",
   "execution_count": 220,
   "id": "2c74d1bd-579f-4572-b1f2-24a5b32ef50b",
   "metadata": {},
   "outputs": [
    {
     "data": {
      "text/plain": [
       "array([[ 569.546 , 2028.953 ],\n",
       "       [ 568.02  , 2029.416 ],\n",
       "       [ 567.5015, 2030.441 ],\n",
       "       [ 568.9956, 2030.271 ],\n",
       "       [ 571.8433, 2029.482 ],\n",
       "       [ 569.546 , 2028.953 ]])"
      ]
     },
     "execution_count": 220,
     "metadata": {},
     "output_type": "execute_result"
    }
   ],
   "source": [
    "i, j = 579, 2051\n",
    "pc_image[i, j]\n",
    "\n",
    "coords = cell_coordinates[np.where(cell_names == '183840')[0].item()]\n",
    "coords = np.array(coords)\n",
    "coords[:,0] = coords[:,0] - x_shift\n",
    "coords[:,1] = coords[:,1] - y_shift\n",
    "coords"
   ]
  },
  {
   "cell_type": "code",
   "execution_count": 221,
   "id": "a61e80a6-d48b-4e58-80ca-dd9ff278cb64",
   "metadata": {},
   "outputs": [
    {
     "data": {
      "image/svg+xml": [
       "<svg xmlns=\"http://www.w3.org/2000/svg\" xmlns:xlink=\"http://www.w3.org/1999/xlink\" width=\"100.0\" height=\"100.0\" viewBox=\"567.3278280000003 2028.7793280000014 4.689144000000169 1.8353439999973489\" preserveAspectRatio=\"xMinYMin meet\"><g transform=\"matrix(1,0,0,-1,0,4059.3940000000002)\"><path fill-rule=\"evenodd\" fill=\"#66cc99\" stroke=\"#555555\" stroke-width=\"0.09378288000000339\" opacity=\"0.6\" d=\"M 569.5460000000003,2028.9530000000013 L 568.0200000000004,2029.416000000001 L 567.5015000000003,2030.440999999999 L 568.9956000000002,2030.2710000000006 L 571.8433000000005,2029.482 L 569.5460000000003,2028.9530000000013 z\" /></g></svg>"
      ],
      "text/plain": [
       "<POLYGON ((569.546 2028.953, 568.02 2029.416, 567.502 2030.441, 568.996 2030...>"
      ]
     },
     "execution_count": 221,
     "metadata": {},
     "output_type": "execute_result"
    }
   ],
   "source": [
    "polygon_obj = Polygon(coords)\n",
    "polygon_obj"
   ]
  },
  {
   "cell_type": "code",
   "execution_count": 222,
   "id": "90f1aef4-6300-4164-ab15-a04bcb75312a",
   "metadata": {},
   "outputs": [
    {
     "data": {
      "text/plain": [
       "False"
      ]
     },
     "execution_count": 222,
     "metadata": {},
     "output_type": "execute_result"
    }
   ],
   "source": [
    "point = Point([i, j])\n",
    "polygon_obj = scale(polygon_obj, xfact=2, yfact=2, origin='centroid')\n",
    "polygon_obj.contains(point)"
   ]
  },
  {
   "cell_type": "code",
   "execution_count": 223,
   "id": "e56ee7da-5360-4933-8269-2948de5c8733",
   "metadata": {},
   "outputs": [
    {
     "data": {
      "text/plain": [
       "[178858]"
      ]
     },
     "execution_count": 223,
     "metadata": {},
     "output_type": "execute_result"
    }
   ],
   "source": [
    "list(spatial_index.intersection((i, j, i, j)))"
   ]
  },
  {
   "cell_type": "code",
   "execution_count": 151,
   "id": "03e015e1-1a65-4169-8cce-e40826e3c05a",
   "metadata": {},
   "outputs": [],
   "source": [
    "# polygons = []\n",
    "# for name, coords in tqdm(zip(cell_names, cell_coordinates)):\n",
    "#     if (adata.obs['cell_name'] == name).sum():\n",
    "#         if len(coords) > 2:\n",
    "#             polygon_obj = Polygon(coords)\n",
    "#             polygon_obj = scale(polygon_obj, xfact=2, yfact=2, origin='centroid')\n",
    "#             polygons.append((name, polygon_obj))"
   ]
  },
  {
   "cell_type": "code",
   "execution_count": 152,
   "id": "2aa66c2a-7a42-4095-8ae1-8242001e27f0",
   "metadata": {},
   "outputs": [
    {
     "name": "stderr",
     "output_type": "stream",
     "text": [
      "378695it [00:08, 44545.35it/s]\n"
     ]
    }
   ],
   "source": [
    "existing_cells = set(adata.obs['cell_name'])\n",
    "\n",
    "polygons = []\n",
    "for name, coords in tqdm(zip(cell_names, cell_coordinates)):\n",
    "    if name in existing_cells and len(coords) > 2:\n",
    "        coords = np.array(coords)\n",
    "        coords[:,0] = coords[:,0] - x_shift\n",
    "        coords[:,1] = coords[:,1] - y_shift\n",
    "        polygon_obj = Polygon(coords)\n",
    "        polygon_obj = scale(polygon_obj, xfact=2, yfact=2, origin='centroid')\n",
    "        polygons.append((name, polygon_obj))"
   ]
  },
  {
   "cell_type": "code",
   "execution_count": 69,
   "id": "4ec1053f-87bc-4911-9a4b-69d4b12c41bf",
   "metadata": {},
   "outputs": [
    {
     "data": {
      "text/plain": [
       "('221120',\n",
       " <POLYGON ((2156.587 3939.935, 2150.764 3935.975, 2143.382 3933.579, 2145.81 ...>)"
      ]
     },
     "execution_count": 69,
     "metadata": {},
     "output_type": "execute_result"
    }
   ],
   "source": [
    "names, polygon_objects = zip(*polygons)\n",
    "names[0], polygon_objects[0]"
   ]
  },
  {
   "cell_type": "code",
   "execution_count": 101,
   "id": "3ef57d17-d5b8-46e5-bb9d-34db0c43e917",
   "metadata": {},
   "outputs": [],
   "source": [
    "candidate_polygons = polygon_tree.query(point)"
   ]
  },
  {
   "cell_type": "code",
   "execution_count": 104,
   "id": "f2442a8a-3ce1-4bf9-9b13-aef13814c3f9",
   "metadata": {},
   "outputs": [],
   "source": [
    "# polygon_tree = STRtree(polygon_objects)\n",
    "# pic_val_sum = {name: 0 for name in names}\n",
    "# existing_cells = set(adata.obs['cell_name'])\n",
    "\n",
    "# for i in tqdm(range(w)):\n",
    "#     for j in range(h):\n",
    "#         pic_val = pc_image[i, j]\n",
    "#         if pic_val > 0:\n",
    "#             point = Point(i, j)\n",
    "            \n",
    "#             candidate_polygons = polygon_tree.query(point)\n",
    "            \n",
    "#             for polygon, name in zip(candidate_polygons, names):\n",
    "#                 if polygon.contains(point):\n",
    "#                     pic_val_sum[name] += pic_val\n",
    "#                     break"
   ]
  },
  {
   "cell_type": "code",
   "execution_count": null,
   "id": "4eccf7da-e977-4f8b-96a3-643ddcfda58d",
   "metadata": {},
   "outputs": [],
   "source": [
    "# pic_val_sum = {name: 0 for name in cell_names}\n",
    "\n",
    "# for i in tqdm(range(w)):\n",
    "#     for j in range(h):\n",
    "#         pic_val = pc_image[i, j]\n",
    "#         if pic_val > 0:\n",
    "#             point = Point(i, j)\n",
    "#             for name_n, polygon_n  in polygons:\n",
    "#                 is_inside = polygon_n.contains(point)\n",
    "#                 if is_inside:\n",
    "#                     pic_val_sum[name_n] += pic_val\n",
    "#                     print(\"Hi\")\n",
    "#                     break"
   ]
  },
  {
   "cell_type": "code",
   "execution_count": 193,
   "id": "c8190fad-aa73-4e42-8505-ba46f477a36c",
   "metadata": {},
   "outputs": [
    {
     "name": "stderr",
     "output_type": "stream",
     "text": [
      "378695it [01:10, 5367.47it/s]\n"
     ]
    }
   ],
   "source": [
    "spatial_index = index.Index()\n",
    "existing_cells = set(adata.obs['cell_name'])\n",
    "polygons = []\n",
    "\n",
    "for idx, (cell_name, coords) in tqdm(enumerate(zip(cell_names, cell_coordinates))):\n",
    "    if len(coords) > 2:\n",
    "        coords = np.array(coords)\n",
    "        coords[:,0] = coords[:,0] - x_shift\n",
    "        coords[:,1] = coords[:,1] - y_shift\n",
    "        polygon = Polygon(coords)\n",
    "        polygon = scale(polygon, xfact=1, yfact=1, origin='centroid')\n",
    "        polygons.append((cell_name, polygon))\n",
    "        spatial_index.insert(idx, polygon.bounds)"
   ]
  },
  {
   "cell_type": "code",
   "execution_count": 200,
   "id": "a32fee45-bf39-4a66-9bcd-bb91692abafb",
   "metadata": {},
   "outputs": [
    {
     "data": {
      "text/plain": [
       "[]"
      ]
     },
     "execution_count": 200,
     "metadata": {},
     "output_type": "execute_result"
    }
   ],
   "source": [
    "possible_matches"
   ]
  },
  {
   "cell_type": "code",
   "execution_count": 199,
   "id": "b91624d7-b1a1-4b26-a58f-6b2fd7b9ad16",
   "metadata": {},
   "outputs": [
    {
     "name": "stderr",
     "output_type": "stream",
     "text": [
      "  1%|          | 70/6631 [00:00<00:19, 343.16it/s]"
     ]
    },
    {
     "name": "stdout",
     "output_type": "stream",
     "text": [
      "0 2316\n",
      "1 2316\n",
      "2 2413\n",
      "3 2311\n",
      "4 2299\n",
      "5 2295\n",
      "6 2294\n",
      "7 2235\n",
      "8 2277\n",
      "9 2223\n",
      "10 2214\n",
      "11 768\n",
      "12 768\n",
      "13 769\n",
      "14 770\n",
      "15 1002\n",
      "16 2215\n",
      "17 2215\n",
      "18 2199\n",
      "19 2312\n",
      "20 2319\n",
      "21 2319\n",
      "22 2239\n",
      "23 2234\n",
      "24 2217\n",
      "25 2214\n",
      "26 2209\n",
      "27 2274\n",
      "28 2181\n",
      "29 2180\n",
      "30 2181\n",
      "31 2181\n",
      "32 2197\n",
      "33 2197\n",
      "34 2249\n",
      "35 2258\n",
      "36 2218\n",
      "37 2217\n",
      "38 2325\n",
      "39 2248\n",
      "40 2291\n",
      "41 2437\n",
      "42 2201\n",
      "43 2525\n",
      "44 2508\n",
      "45 2331\n",
      "46 2326\n",
      "47 643\n",
      "48 643\n",
      "49 645\n",
      "50 2228\n",
      "51 2219\n",
      "52 2218\n",
      "53 2211\n",
      "54 2212\n",
      "55 2203\n",
      "56 2286\n",
      "57 2286\n",
      "58 2521\n",
      "59 2445\n",
      "60 2523\n",
      "61 2396\n",
      "62 2396\n",
      "63 2237\n",
      "64 322\n",
      "65 2230\n",
      "66 2222\n",
      "67 2280\n",
      "68 2598\n",
      "69 2397\n",
      "70 2199\n",
      "71 2202\n",
      "72 2202\n",
      "73 2202\n",
      "74 2398\n",
      "75 2398\n",
      "76 2364\n",
      "77 2387\n",
      "78 2353\n",
      "79 2350\n",
      "80 2247\n",
      "81 2239\n",
      "82 2216\n",
      "83 1018\n",
      "84 210\n",
      "85 210\n"
     ]
    },
    {
     "name": "stderr",
     "output_type": "stream",
     "text": [
      "  2%|▏         | 145/6631 [00:00<00:18, 358.52it/s]"
     ]
    },
    {
     "name": "stdout",
     "output_type": "stream",
     "text": [
      "86 209\n",
      "87 2208\n",
      "88 2208\n",
      "89 2195\n",
      "90 2374\n",
      "91 428\n",
      "92 983\n",
      "93 2199\n",
      "94 2194\n",
      "95 2349\n",
      "96 2239\n",
      "97 2226\n",
      "98 2225\n",
      "99 2215\n",
      "100 2208\n",
      "101 2204\n",
      "102 2245\n",
      "103 2236\n",
      "104 2198\n",
      "105 2197\n",
      "106 2197\n",
      "107 2199\n",
      "108 2360\n",
      "109 2347\n",
      "110 2347\n",
      "111 2338\n",
      "112 2314\n",
      "113 2232\n",
      "114 2224\n",
      "115 2207\n",
      "116 2203\n",
      "117 2203\n",
      "118 2240\n",
      "119 2199\n",
      "120 2539\n",
      "121 2537\n",
      "122 2183\n",
      "123 2375\n",
      "124 2360\n",
      "125 2351\n",
      "126 2350\n",
      "127 2324\n",
      "128 2313\n",
      "129 2297\n",
      "130 2570\n",
      "131 2282\n",
      "132 2472\n",
      "133 2207\n",
      "134 2204\n",
      "135 1002\n",
      "136 998\n",
      "137 1000\n",
      "138 1000\n",
      "139 332\n",
      "140 2365\n",
      "141 2359\n",
      "142 2341\n",
      "143 788\n",
      "144 2306\n",
      "145 2411\n",
      "146 2288\n",
      "147 2289\n",
      "148 2284\n",
      "149 2273\n",
      "150 2260\n",
      "151 313\n",
      "152 311\n",
      "153 311\n",
      "154 310\n",
      "155 310\n",
      "156 311\n",
      "157 218\n",
      "158 312\n",
      "159 61\n",
      "160 311\n",
      "161 313\n",
      "162 2283\n",
      "163 2272\n",
      "164 227\n",
      "165 2257\n",
      "166 2246\n",
      "167 338\n",
      "168 339\n",
      "169 339\n",
      "170 237\n",
      "171 234\n",
      "172 232\n",
      "173 230\n",
      "174 229\n",
      "175 228\n",
      "176 227\n",
      "177 226\n",
      "178 226\n",
      "179 226\n",
      "180 226\n",
      "181 228\n",
      "182 231\n",
      "183 245\n",
      "184 245\n",
      "185 245\n",
      "186 244\n",
      "187 247\n",
      "188 247\n",
      "189 247\n",
      "190 248\n",
      "191 251\n",
      "192 251\n",
      "193 251\n",
      "194 2265\n",
      "195 2267\n",
      "196 2291\n",
      "197 2248\n",
      "198 2402\n",
      "199 2221\n",
      "200 2693\n",
      "201 2227\n",
      "202 2513\n",
      "203 2508\n",
      "204 2499\n",
      "205 2475\n",
      "206 2492\n",
      "207 2492\n",
      "208 2513\n",
      "209 2486\n"
     ]
    },
    {
     "name": "stderr",
     "output_type": "stream",
     "text": [
      "  5%|▌         | 342/6631 [00:00<00:16, 374.85it/s]"
     ]
    },
    {
     "name": "stdout",
     "output_type": "stream",
     "text": [
      "210 2477\n",
      "211 2466\n",
      "212 2450\n",
      "213 2249\n",
      "214 2323\n",
      "215 2319\n",
      "216 2318\n",
      "217 2262\n",
      "218 2262\n",
      "219 2456\n",
      "220 2323\n",
      "221 2489\n",
      "222 2489\n",
      "223 2237\n",
      "224 2218\n",
      "225 2301\n",
      "226 2357\n",
      "227 772\n",
      "228 2327\n",
      "229 2325\n",
      "230 2323\n",
      "231 435\n",
      "232 2287\n",
      "233 2405\n",
      "234 2275\n",
      "235 2429\n",
      "236 2247\n",
      "237 2248\n",
      "238 2233\n",
      "239 2205\n",
      "240 2271\n",
      "241 2278\n",
      "242 2335\n",
      "243 2335\n",
      "244 1466\n",
      "245 554\n",
      "246 554\n",
      "247 554\n",
      "248 554\n",
      "249 553\n",
      "250 552\n",
      "251 550\n",
      "252 551\n",
      "253 551\n",
      "254 552\n",
      "255 2226\n",
      "256 2226\n",
      "257 2226\n",
      "258 2225\n",
      "259 2225\n",
      "260 2228\n",
      "261 2228\n",
      "262 2290\n",
      "263 2288\n",
      "264 2283\n",
      "265 2267\n",
      "266 2269\n",
      "267 2261\n",
      "268 2250\n",
      "269 2190\n",
      "270 2190\n",
      "271 2190\n",
      "272 2206\n",
      "273 2444\n",
      "274 2381\n",
      "275 178\n",
      "276 2377\n",
      "277 2348\n",
      "278 2342\n",
      "279 2334\n",
      "280 2334\n",
      "281 2323\n",
      "282 2323\n",
      "283 2267\n",
      "284 2246\n",
      "285 2250\n",
      "286 2250\n",
      "287 2236\n",
      "288 2224\n",
      "289 2205\n",
      "290 2215\n",
      "291 500\n",
      "292 2237\n",
      "293 2237\n",
      "294 2361\n",
      "295 2361\n",
      "296 2342\n",
      "297 2340\n",
      "298 2340\n",
      "299 2332\n",
      "300 2329\n",
      "301 2327\n",
      "302 2308\n",
      "303 2246\n",
      "304 2229\n",
      "305 2198\n",
      "306 2197\n",
      "307 2197\n",
      "308 2196\n",
      "309 2199\n",
      "310 2199\n",
      "311 2246\n",
      "312 2250\n",
      "313 2326\n",
      "314 2273\n",
      "315 2273\n",
      "316 2282\n",
      "317 2281\n",
      "318 2203\n",
      "319 2195\n",
      "320 2195\n",
      "321 2200\n",
      "322 2200\n",
      "323 2236\n",
      "324 2236\n",
      "325 2236\n",
      "326 2236\n",
      "327 2237\n",
      "328 2237\n",
      "329 2330\n",
      "330 2258\n",
      "331 2252\n",
      "332 2253\n",
      "333 2277\n",
      "334 2277\n",
      "335 2347\n",
      "336 2337\n",
      "337 2215\n",
      "338 2213\n",
      "339 2198\n",
      "340 2198\n",
      "341 2235\n"
     ]
    },
    {
     "name": "stderr",
     "output_type": "stream",
     "text": [
      "  7%|▋         | 454/6631 [00:01<00:18, 342.27it/s]"
     ]
    },
    {
     "name": "stdout",
     "output_type": "stream",
     "text": [
      "342 2235\n",
      "343 2250\n",
      "344 2252\n",
      "345 2208\n",
      "346 2228\n",
      "347 2230\n",
      "348 2255\n",
      "349 2255\n",
      "350 2257\n",
      "351 2352\n",
      "352 2352\n",
      "353 2350\n",
      "354 2340\n",
      "355 2338\n",
      "356 2337\n",
      "357 2326\n",
      "358 2235\n",
      "359 2215\n",
      "360 2217\n",
      "361 2211\n",
      "362 2211\n",
      "363 2211\n",
      "364 2256\n",
      "365 2239\n",
      "366 2239\n",
      "367 2236\n",
      "368 2261\n",
      "369 2274\n",
      "370 2361\n",
      "371 2361\n",
      "372 2361\n",
      "373 2360\n",
      "374 2353\n",
      "375 2349\n",
      "376 2349\n",
      "377 2342\n",
      "378 2337\n",
      "379 2338\n",
      "380 2226\n",
      "381 2212\n",
      "382 2208\n",
      "383 2214\n",
      "384 2244\n",
      "385 2273\n",
      "386 2223\n",
      "387 2222\n",
      "388 2223\n",
      "389 2260\n",
      "390 2262\n",
      "391 2283\n",
      "392 2358\n",
      "393 2354\n",
      "394 2354\n",
      "395 2349\n",
      "396 2205\n",
      "397 2205\n",
      "398 2205\n",
      "399 2205\n",
      "400 2226\n",
      "401 2215\n",
      "402 2215\n",
      "403 2216\n",
      "404 2227\n",
      "405 2227\n",
      "406 2241\n",
      "407 2389\n",
      "408 2384\n",
      "409 2381\n",
      "410 2379\n",
      "411 2355\n",
      "412 2335\n",
      "413 2334\n",
      "414 2330\n",
      "415 2207\n",
      "416 2206\n",
      "417 2213\n",
      "418 2224\n",
      "419 2228\n",
      "420 2229\n",
      "421 2229\n",
      "422 2439\n",
      "423 2401\n",
      "424 2401\n",
      "425 2401\n",
      "426 2339\n",
      "427 2321\n",
      "428 2327\n",
      "429 2318\n",
      "430 2370\n",
      "431 2217\n",
      "432 2219\n",
      "433 2227\n",
      "434 2227\n",
      "435 2208\n",
      "436 2208\n",
      "437 2259\n",
      "438 2301\n",
      "439 2418\n",
      "440 2418\n",
      "441 2411\n",
      "442 2339\n",
      "443 2319\n",
      "444 2304\n",
      "445 2277\n",
      "446 2266\n",
      "447 2224\n",
      "448 2215\n",
      "449 2213\n",
      "450 2212\n",
      "451 2212\n",
      "452 2212\n",
      "453 2222\n"
     ]
    },
    {
     "name": "stderr",
     "output_type": "stream",
     "text": [
      "  8%|▊         | 557/6631 [00:01<00:18, 331.62it/s]"
     ]
    },
    {
     "name": "stdout",
     "output_type": "stream",
     "text": [
      "454 2209\n",
      "455 2364\n",
      "456 2421\n",
      "457 2294\n",
      "458 2292\n",
      "459 2299\n",
      "460 2299\n",
      "461 2271\n",
      "462 2254\n",
      "463 2212\n",
      "464 2210\n",
      "465 2210\n",
      "466 2212\n",
      "467 2244\n",
      "468 2244\n",
      "469 2244\n",
      "470 2244\n",
      "471 2243\n",
      "472 2247\n",
      "473 2247\n",
      "474 2369\n",
      "475 2415\n",
      "476 2290\n",
      "477 2289\n",
      "478 2286\n",
      "479 2302\n",
      "480 2325\n",
      "481 2270\n",
      "482 2270\n",
      "483 2267\n",
      "484 2268\n",
      "485 2210\n",
      "486 2210\n",
      "487 2211\n",
      "488 2211\n",
      "489 2217\n",
      "490 2217\n",
      "491 2242\n",
      "492 2242\n",
      "493 2242\n",
      "494 2304\n",
      "495 2288\n",
      "496 2288\n",
      "497 2283\n",
      "498 2281\n",
      "499 2368\n",
      "500 2340\n",
      "501 2328\n",
      "502 2275\n",
      "503 2233\n",
      "504 2218\n",
      "505 2231\n",
      "506 2232\n",
      "507 2232\n",
      "508 2233\n",
      "509 2233\n",
      "510 2234\n",
      "511 2251\n",
      "512 2249\n",
      "513 2251\n",
      "514 2251\n",
      "515 2251\n",
      "516 2251\n",
      "517 2251\n",
      "518 2251\n",
      "519 2233\n",
      "520 2220\n",
      "521 2231\n",
      "522 2231\n",
      "523 2233\n",
      "524 2237\n",
      "525 2304\n",
      "526 2304\n",
      "527 2330\n",
      "528 2296\n",
      "529 2287\n",
      "530 2287\n",
      "531 2280\n",
      "532 2229\n",
      "533 2229\n",
      "534 2216\n",
      "535 2231\n",
      "536 2335\n",
      "537 2257\n",
      "538 2328\n",
      "539 2313\n",
      "540 2311\n",
      "541 2310\n",
      "542 2309\n",
      "543 2301\n",
      "544 2536\n",
      "545 2289\n",
      "546 2239\n",
      "547 2231\n",
      "548 2228\n",
      "549 2230\n",
      "550 2271\n",
      "551 2271\n",
      "552 2449\n",
      "553 2449\n",
      "554 2489\n",
      "555 2467\n",
      "556 2435\n"
     ]
    },
    {
     "name": "stderr",
     "output_type": "stream",
     "text": [
      " 10%|█         | 669/6631 [00:01<00:16, 357.59it/s]"
     ]
    },
    {
     "name": "stdout",
     "output_type": "stream",
     "text": [
      "557 2427\n",
      "558 2427\n",
      "559 2248\n",
      "560 2248\n",
      "561 2391\n",
      "562 2389\n",
      "563 2373\n",
      "564 2373\n",
      "565 2364\n",
      "566 2459\n",
      "567 2357\n",
      "568 2349\n",
      "569 2349\n",
      "570 2349\n",
      "571 2379\n",
      "572 2258\n",
      "573 2261\n",
      "574 2429\n",
      "575 2433\n",
      "576 2317\n",
      "577 2269\n",
      "578 2271\n",
      "579 2390\n",
      "580 2252\n",
      "581 2375\n",
      "582 2335\n",
      "583 2102\n",
      "584 2103\n",
      "585 2103\n",
      "586 2236\n",
      "587 2236\n",
      "588 2233\n",
      "589 2233\n",
      "590 2233\n",
      "591 2285\n",
      "592 1906\n",
      "593 1904\n",
      "594 2291\n",
      "595 2292\n",
      "596 1929\n",
      "597 1928\n",
      "598 2327\n",
      "599 1926\n",
      "600 1940\n",
      "601 1935\n",
      "602 1922\n",
      "603 1918\n",
      "604 1918\n",
      "605 1918\n",
      "606 1917\n",
      "607 1916\n",
      "608 1916\n",
      "609 1821\n",
      "610 1915\n",
      "611 1915\n",
      "612 1915\n",
      "613 1934\n",
      "614 1913\n",
      "615 1912\n",
      "616 1911\n",
      "617 1929\n",
      "618 1929\n",
      "619 1929\n",
      "620 1929\n",
      "621 1928\n",
      "622 1927\n",
      "623 1911\n",
      "624 1911\n",
      "625 1910\n",
      "626 1910\n",
      "627 1928\n",
      "628 1929\n",
      "629 1928\n",
      "630 1904\n",
      "631 1902\n",
      "632 1929\n",
      "633 1929\n",
      "634 1929\n",
      "635 1914\n",
      "636 1913\n",
      "637 1911\n",
      "638 1910\n",
      "639 1904\n",
      "640 1721\n",
      "641 1900\n",
      "642 1790\n",
      "643 1898\n",
      "644 1901\n",
      "645 1901\n",
      "646 1901\n",
      "647 1902\n",
      "648 1902\n",
      "649 1902\n",
      "650 1902\n",
      "651 1842\n",
      "652 1843\n",
      "653 1843\n",
      "654 1931\n",
      "655 1931\n",
      "656 1860\n",
      "657 1850\n",
      "658 1839\n",
      "659 1839\n",
      "660 1840\n",
      "661 1845\n",
      "662 1845\n",
      "663 1845\n",
      "664 1845\n",
      "665 1844\n",
      "666 1844\n",
      "667 1840\n",
      "668 1841\n"
     ]
    },
    {
     "name": "stderr",
     "output_type": "stream",
     "text": [
      " 12%|█▏        | 785/6631 [00:02<00:16, 364.34it/s]"
     ]
    },
    {
     "name": "stdout",
     "output_type": "stream",
     "text": [
      "669 1841\n",
      "670 1839\n",
      "671 1839\n",
      "672 1837\n",
      "673 1837\n",
      "674 1834\n",
      "675 1832\n",
      "676 1835\n",
      "677 1908\n",
      "678 1906\n",
      "679 1905\n",
      "680 1831\n",
      "681 1832\n",
      "682 1832\n",
      "683 1911\n",
      "684 1909\n",
      "685 1907\n",
      "686 1907\n",
      "687 1906\n",
      "688 1906\n",
      "689 1831\n",
      "690 1828\n",
      "691 1878\n",
      "692 1865\n",
      "693 1864\n",
      "694 1874\n",
      "695 1874\n",
      "696 1829\n",
      "697 1828\n",
      "698 1848\n",
      "699 1848\n",
      "700 1891\n",
      "701 1888\n",
      "702 1859\n",
      "703 1838\n",
      "704 1852\n",
      "705 1852\n",
      "706 1852\n",
      "707 1849\n",
      "708 1817\n",
      "709 1817\n",
      "710 1852\n",
      "711 1762\n",
      "712 1765\n",
      "713 1851\n",
      "714 1831\n",
      "715 1852\n",
      "716 1812\n",
      "717 1854\n",
      "718 1856\n",
      "719 1989\n",
      "720 2396\n",
      "721 2354\n",
      "722 2342\n",
      "723 1865\n",
      "724 1867\n",
      "725 2317\n",
      "726 1894\n",
      "727 2254\n",
      "728 2237\n",
      "729 1823\n",
      "730 1825\n",
      "731 2230\n",
      "732 2230\n",
      "733 2230\n",
      "734 2230\n",
      "735 2208\n",
      "736 2210\n",
      "737 2227\n",
      "738 2227\n",
      "739 2336\n",
      "740 2332\n",
      "741 2181\n",
      "742 1997\n",
      "743 2169\n",
      "744 1968\n",
      "745 1968\n",
      "746 2229\n",
      "747 2227\n",
      "748 2075\n",
      "749 2000\n",
      "750 1999\n",
      "751 2020\n",
      "752 2018\n",
      "753 2018\n",
      "754 2060\n",
      "755 1789\n",
      "756 1789\n",
      "757 2063\n",
      "758 2063\n",
      "759 2063\n",
      "760 2063\n",
      "761 2063\n",
      "762 2063\n",
      "763 1811\n",
      "764 1995\n",
      "765 1995\n",
      "766 1793\n",
      "767 2017\n",
      "768 2293\n",
      "769 2094\n",
      "770 1774\n",
      "771 1772\n",
      "772 1772\n",
      "773 1922\n",
      "774 2184\n",
      "775 1863\n",
      "776 1854\n",
      "777 1854\n",
      "778 1814\n",
      "779 1832\n",
      "780 1833\n",
      "781 1834\n",
      "782 2246\n",
      "783 1978\n",
      "784 2289\n"
     ]
    },
    {
     "name": "stderr",
     "output_type": "stream",
     "text": [
      " 14%|█▎        | 899/6631 [00:02<00:15, 362.66it/s]"
     ]
    },
    {
     "name": "stdout",
     "output_type": "stream",
     "text": [
      "785 1786\n",
      "786 1900\n",
      "787 2228\n",
      "788 2228\n",
      "789 2231\n",
      "790 1758\n",
      "791 1756\n",
      "792 1746\n",
      "793 1727\n",
      "794 2268\n",
      "795 2263\n",
      "796 2253\n",
      "797 2248\n",
      "798 2240\n",
      "799 2238\n",
      "800 2243\n",
      "801 2227\n",
      "802 2226\n",
      "803 1769\n",
      "804 1768\n",
      "805 1769\n",
      "806 1763\n",
      "807 1769\n",
      "808 1749\n",
      "809 1747\n",
      "810 2118\n",
      "811 2107\n",
      "812 2149\n",
      "813 2149\n",
      "814 2221\n",
      "815 2221\n",
      "816 2008\n",
      "817 2005\n",
      "818 2206\n",
      "819 1934\n",
      "820 2191\n",
      "821 1772\n",
      "822 1770\n",
      "823 1769\n",
      "824 1769\n",
      "825 1769\n",
      "826 1768\n",
      "827 2067\n",
      "828 2054\n",
      "829 2047\n",
      "830 2045\n",
      "831 2109\n",
      "832 2109\n",
      "833 2109\n",
      "834 1987\n",
      "835 1953\n",
      "836 1953\n",
      "837 1935\n",
      "838 1935\n",
      "839 1769\n",
      "840 1769\n",
      "841 1769\n",
      "842 1748\n",
      "843 1747\n",
      "844 2071\n",
      "845 2110\n",
      "846 1831\n",
      "847 1825\n",
      "848 1825\n",
      "849 1825\n",
      "850 1825\n",
      "851 1825\n",
      "852 1781\n",
      "853 1789\n",
      "854 2307\n",
      "855 1770\n",
      "856 1770\n",
      "857 1769\n",
      "858 2283\n",
      "859 2274\n",
      "860 2232\n",
      "861 2007\n",
      "862 2005\n",
      "863 2233\n",
      "864 2243\n",
      "865 2243\n",
      "866 2243\n",
      "867 1785\n",
      "868 2103\n",
      "869 2252\n",
      "870 2251\n",
      "871 1764\n",
      "872 2301\n",
      "873 2293\n",
      "874 1824\n",
      "875 2290\n",
      "876 2210\n",
      "877 2207\n",
      "878 2207\n",
      "879 2074\n",
      "880 2177\n",
      "881 2003\n",
      "882 2126\n",
      "883 1969\n",
      "884 1766\n",
      "885 2273\n",
      "886 2273\n",
      "887 2252\n",
      "888 2252\n",
      "889 2270\n",
      "890 2270\n",
      "891 1845\n",
      "892 2303\n",
      "893 2303\n",
      "894 2056\n",
      "895 2052\n",
      "896 2194\n",
      "897 2194\n",
      "898 1981\n"
     ]
    },
    {
     "name": "stderr",
     "output_type": "stream",
     "text": [
      " 15%|█▌        | 1009/6631 [00:02<00:15, 355.19it/s]"
     ]
    },
    {
     "name": "stdout",
     "output_type": "stream",
     "text": [
      "899 1981\n",
      "900 2020\n",
      "901 2103\n",
      "902 2230\n",
      "903 1925\n",
      "904 1926\n",
      "905 2274\n",
      "906 2358\n",
      "907 2351\n",
      "908 2336\n",
      "909 2251\n",
      "910 1870\n",
      "911 2086\n",
      "912 1834\n",
      "913 2287\n",
      "914 2280\n",
      "915 2278\n",
      "916 2269\n",
      "917 2260\n",
      "918 2260\n",
      "919 1958\n",
      "920 2232\n",
      "921 1707\n",
      "922 1707\n",
      "923 2156\n",
      "924 2165\n",
      "925 2263\n",
      "926 2233\n",
      "927 2231\n",
      "928 2239\n",
      "929 2089\n",
      "930 2277\n",
      "931 2276\n",
      "932 2272\n",
      "933 2270\n",
      "934 2258\n",
      "935 2258\n",
      "936 2250\n",
      "937 2022\n",
      "938 2233\n",
      "939 1967\n",
      "940 2193\n",
      "941 2173\n",
      "942 2208\n",
      "943 2208\n",
      "944 2140\n",
      "945 2208\n",
      "946 2241\n",
      "947 2283\n",
      "948 2072\n",
      "949 2069\n",
      "950 2065\n",
      "951 2049\n",
      "952 2041\n",
      "953 1993\n",
      "954 2019\n",
      "955 2020\n",
      "956 2013\n",
      "957 2007\n",
      "958 2007\n",
      "959 1965\n",
      "960 1965\n",
      "961 1929\n",
      "962 2117\n",
      "963 1949\n",
      "964 2243\n",
      "965 2247\n",
      "966 2282\n",
      "967 2091\n",
      "968 2204\n",
      "969 2207\n",
      "970 2160\n",
      "971 2154\n",
      "972 2007\n",
      "973 2007\n",
      "974 1986\n",
      "975 1835\n",
      "976 1838\n",
      "977 1946\n",
      "978 2212\n",
      "979 2089\n",
      "980 2141\n",
      "981 2139\n",
      "982 2069\n",
      "983 2174\n",
      "984 2160\n",
      "985 2052\n",
      "986 2242\n",
      "987 2037\n",
      "988 2025\n",
      "989 2070\n",
      "990 1975\n",
      "991 1998\n",
      "992 1998\n",
      "993 2012\n",
      "994 1809\n",
      "995 2291\n",
      "996 2289\n",
      "997 1811\n",
      "998 1807\n",
      "999 1807\n",
      "1000 1807\n",
      "1001 1807\n",
      "1002 1809\n",
      "1003 1809\n",
      "1004 1809\n",
      "1005 1809\n",
      "1006 1806\n",
      "1007 2241\n",
      "1008 2209\n"
     ]
    },
    {
     "name": "stderr",
     "output_type": "stream",
     "text": [
      " 17%|█▋        | 1119/6631 [00:03<00:15, 360.81it/s]"
     ]
    },
    {
     "name": "stdout",
     "output_type": "stream",
     "text": [
      "1009 2298\n",
      "1010 2298\n",
      "1011 1971\n",
      "1012 1971\n",
      "1013 1915\n",
      "1014 2161\n",
      "1015 1912\n",
      "1016 1818\n",
      "1017 1818\n",
      "1018 1819\n",
      "1019 2142\n",
      "1020 2133\n",
      "1021 2122\n",
      "1022 2274\n",
      "1023 1767\n",
      "1024 2185\n",
      "1025 2182\n",
      "1026 2289\n",
      "1027 2175\n",
      "1028 2169\n",
      "1029 2244\n",
      "1030 1733\n",
      "1031 2153\n",
      "1032 2153\n",
      "1033 2136\n",
      "1034 2201\n",
      "1035 2091\n",
      "1036 1923\n",
      "1037 2151\n",
      "1038 2188\n",
      "1039 1758\n",
      "1040 2071\n",
      "1041 2109\n",
      "1042 2270\n",
      "1043 1900\n",
      "1044 2265\n",
      "1045 2144\n",
      "1046 2032\n",
      "1047 2032\n",
      "1048 1956\n",
      "1049 1935\n",
      "1050 1934\n",
      "1051 2066\n",
      "1052 1927\n",
      "1053 2065\n",
      "1054 2064\n",
      "1055 2063\n",
      "1056 2085\n",
      "1057 1906\n",
      "1058 1905\n",
      "1059 1903\n",
      "1060 1901\n",
      "1061 1892\n",
      "1062 1910\n",
      "1063 1910\n",
      "1064 1988\n",
      "1065 1931\n",
      "1066 1931\n",
      "1067 1759\n",
      "1068 1760\n",
      "1069 1977\n",
      "1070 2140\n",
      "1071 1913\n",
      "1072 2055\n",
      "1073 2061\n",
      "1074 2061\n",
      "1075 2061\n",
      "1076 2285\n",
      "1077 2284\n",
      "1078 2277\n",
      "1079 1870\n",
      "1080 1826\n",
      "1081 1931\n",
      "1082 2198\n",
      "1083 2142\n",
      "1084 1975\n",
      "1085 2040\n",
      "1086 2272\n",
      "1087 2274\n",
      "1088 2090\n",
      "1089 2293\n",
      "1090 2185\n",
      "1091 2277\n",
      "1092 2045\n",
      "1093 2045\n",
      "1094 2047\n",
      "1095 2047\n",
      "1096 1949\n",
      "1097 2248\n",
      "1098 2137\n",
      "1099 2200\n",
      "1100 2248\n",
      "1101 1752\n",
      "1102 2096\n",
      "1103 2183\n",
      "1104 2029\n",
      "1105 2069\n",
      "1106 2187\n",
      "1107 2161\n",
      "1108 1811\n",
      "1109 2211\n",
      "1110 2170\n",
      "1111 2031\n",
      "1112 2036\n",
      "1113 2014\n",
      "1114 2012\n",
      "1115 1995\n",
      "1116 1993\n",
      "1117 1996\n",
      "1118 1995\n"
     ]
    },
    {
     "name": "stderr",
     "output_type": "stream",
     "text": [
      "\n"
     ]
    },
    {
     "ename": "KeyboardInterrupt",
     "evalue": "",
     "output_type": "error",
     "traceback": [
      "\u001b[0;31m---------------------------------------------------------------------------\u001b[0m",
      "\u001b[0;31mKeyboardInterrupt\u001b[0m                         Traceback (most recent call last)",
      "Cell \u001b[0;32mIn[199], line 6\u001b[0m\n\u001b[1;32m      4\u001b[0m \u001b[38;5;28;01mfor\u001b[39;00m j \u001b[38;5;129;01min\u001b[39;00m \u001b[38;5;28mrange\u001b[39m(h):\n\u001b[1;32m      5\u001b[0m     pic_val \u001b[38;5;241m=\u001b[39m pc_image[i, j]\n\u001b[0;32m----> 6\u001b[0m     \u001b[38;5;28;01mif\u001b[39;00m pic_val \u001b[38;5;241m>\u001b[39m \u001b[38;5;241m0\u001b[39m:\n\u001b[1;32m      7\u001b[0m         point \u001b[38;5;241m=\u001b[39m Point(i, j)\n\u001b[1;32m      9\u001b[0m         possible_matches \u001b[38;5;241m=\u001b[39m \u001b[38;5;28mlist\u001b[39m(spatial_index\u001b[38;5;241m.\u001b[39mintersection((i, j, i, j)))\n",
      "\u001b[0;31mKeyboardInterrupt\u001b[0m: "
     ]
    }
   ],
   "source": [
    "pic_val_sum = {name: 0 for name in cell_names}\n",
    "\n",
    "for i in tqdm(range(w)):\n",
    "    for j in range(h):\n",
    "        pic_val = pc_image[i, j]\n",
    "        if pic_val > 0:\n",
    "            point = Point(i, j)\n",
    "\n",
    "            possible_matches = list(spatial_index.intersection((i, j, i, j)))\n",
    "            \n",
    "            for n in possible_matches:\n",
    "                print(possible_matches)\n",
    "                if n < len(polygons):\n",
    "                    cell_name_n, polygon_obj = polygons[n]\n",
    "                    if polygon_obj.contains(point):\n",
    "                        pic_val_sum[cell_name_n] += pic_val\n",
    "                        print(len(possible_matches))\n",
    "                        # break"
   ]
  },
  {
   "cell_type": "code",
   "execution_count": null,
   "id": "55285fb0-c61f-4c9a-a2bb-4cb9ecc17c1c",
   "metadata": {},
   "outputs": [],
   "source": [
    "for cell_name, value in tqdm(pic_val_sum.items()):\n",
    "    if value > 0:\n",
    "        adata.obs.loc[adata.obs['cell_name'] == cell_name, f'Phenocycler_Channel{ch+1}'] += value"
   ]
  },
  {
   "cell_type": "code",
   "execution_count": 175,
   "id": "4b79fde3-0fe1-4f9c-a455-2a94768569dd",
   "metadata": {},
   "outputs": [
    {
     "data": {
      "text/plain": [
       "253586"
      ]
     },
     "execution_count": 175,
     "metadata": {},
     "output_type": "execute_result"
    }
   ],
   "source": [
    "(adata.obs[f'Phenocycler_Channel{ch+1}']).sum()"
   ]
  },
  {
   "cell_type": "code",
   "execution_count": 176,
   "id": "be104aa3-a511-4045-9532-e661a58c07d6",
   "metadata": {},
   "outputs": [
    {
     "data": {
      "text/plain": [
       "0.0006335602631002983"
      ]
     },
     "execution_count": 176,
     "metadata": {},
     "output_type": "execute_result"
    }
   ],
   "source": [
    "(adata.obs[f'Phenocycler_Channel{ch+1}'] > 0).sum() / len(adata.obs[f'Phenocycler_Channel{ch+1}'])"
   ]
  },
  {
   "cell_type": "code",
   "execution_count": 178,
   "id": "c1d6edcb-3c92-44cd-adea-88d6d3bdb184",
   "metadata": {},
   "outputs": [
    {
     "data": {
      "image/png": "[encoded data removed]",
      "text/plain": [
       "<Figure size 800x800 with 2 Axes>"
      ]
     },
     "metadata": {},
     "output_type": "display_data"
    }
   ],
   "source": [
    "fig, ax = plt.subplots(figsize=(8, 8))\n",
    "slide_id = adata.obs['Slide_ID'][0]\n",
    "sc.pl.spatial(adata,\n",
    "              library_id = slide_id,\n",
    "              img_key = 'dapi_LEVEL1_cropped',\n",
    "              color = f'Phenocycler_Channel{ch+1}',\n",
    "              size = 5,\n",
    "              ax = ax,\n",
    "              show = True)"
   ]
  },
  {
   "cell_type": "code",
   "execution_count": 884,
   "id": "b321caa7-ab45-4d53-b1e4-8a63d96a9433",
   "metadata": {},
   "outputs": [
    {
     "name": "stdout",
     "output_type": "stream",
     "text": [
      "X1\n",
      "(86811, 480)\n",
      "X2\n",
      "(116087, 480)\n",
      "X3\n",
      "(168976, 480)\n",
      "X4\n",
      "(199596, 480)\n",
      "X5\n",
      "(231888, 480)\n",
      "X6\n",
      "(277212, 480)\n",
      "X7\n",
      "(289602, 480)\n"
     ]
    }
   ],
   "source": [
    "adata_dir = \"data_level_1/adata_slide2/\"\n",
    "he_image_dir = \"data_level_1/he_registered_old/\"\n",
    "pc_dir = \"data_level_1/phenocycler_registered/\"\n",
    "\n",
    "for sample in ['X1', 'X2', 'X3', 'X4', 'X5', 'X6', 'X7']:\n",
    "    print(sample)\n",
    "    adata = sc.read_h5ad(adata_dir + f'{sample}.h5ad')\n",
    "    he_image = plt.imread(he_image_dir + f'{sample}.tiff')\n",
    "    \n",
    "    slide_id = adata.obs['Slide_ID'][0]\n",
    "    adata.uns['spatial'][slide_id]['images']['he_downscaled_aligned'] = he_image  \n",
    "    adata.uns['spatial'][slide_id]['scalefactors']['tissue_he_downscaled_aligned_scalef'] = 1\n",
    "    adata.uns['spatial'][slide_id]['scalefactors']['tissue_dapi_LEVEL1_cropped_scalef'] = 1\n",
    "    \n",
    "    for i in range(13):\n",
    "        pc_image = plt.imread(pc_dir + f\"Phenocycler_Channel{(i+1):02}_{sample}_Level2_registered.tiff\")\n",
    "        adata.obs[f'Phenocycler_Channel{i+1}'] = [pc_image[int(np.round(j)), int(np.round(i))] for i, j in adata.obsm[\"spatial\"]]\n",
    "        # print(pc_image.shape, he_image.shape)\n",
    "    adata.obs['sample'] = sample\n",
    "    \n",
    "    if sample == 'X1':\n",
    "        adata_all = adata\n",
    "    else:\n",
    "        adata_all = adata_all.concatenate(adata) \n",
    "    print(adata_all.shape)"
   ]
  },
  {
   "cell_type": "code",
   "execution_count": 900,
   "id": "8891886f-6efc-4e2b-99c2-a00bea03754d",
   "metadata": {},
   "outputs": [],
   "source": [
    "adata_all.write_h5ad(\"data_level_1/adata_slide2_with_proteins_noX8_v2.h5ad\")"
   ]
  },
  {
   "cell_type": "code",
   "execution_count": 901,
   "id": "238fbd8c-e775-4233-b715-5e6bb9dc3ea5",
   "metadata": {},
   "outputs": [],
   "source": [
    "# show dapi\n",
    "# LEVEL = 1\n",
    "# ID = adata.obs.Slide_ID.unique()[0]\n",
    "# scale_factor = adata.uns[\"spatial\"][ID][\"scalefactors\"][f\"tissue_dapi_LEVEL{LEVEL}_scalef\"]\n",
    "# dapi = adata.uns[\"spatial\"][ID][\"images\"][f\"dapi_LEVEL{LEVEL}\"+\"_cropped\"]\n",
    "# dapi.shape\n",
    "# adata.obs['dapi'] = [dapi[int(j), int(i)] for i, j in adata.obsm[\"spatial\"]]\n",
    "# adata.obsm[\"spatial\"].min(axis=0), adata.obsm[\"spatial\"].max(axis=0) + 350"
   ]
  },
  {
   "cell_type": "code",
   "execution_count": 903,
   "id": "25c097be-d7c3-4124-8bc7-abb58b15bf9a",
   "metadata": {},
   "outputs": [],
   "source": [
    "# adata.uns['spatial'][slide_id]['images'].keys()"
   ]
  },
  {
   "cell_type": "code",
   "execution_count": 904,
   "id": "2d5ebfe0-d05b-4066-9ba3-3b6412fe85e5",
   "metadata": {},
   "outputs": [
    {
     "data": {
      "text/plain": [
       "cell_CR9fbacb852-172697-0-0-0-0-0-0    X1\n",
       "cell_CR9fbacb852-183840-0-0-0-0-0-0    X1\n",
       "cell_CR9fbacb852-183965-0-0-0-0-0-0    X1\n",
       "cell_CR9fbacb852-184398-0-0-0-0-0-0    X1\n",
       "cell_CR9fbacb852-185040-0-0-0-0-0-0    X1\n",
       "                                       ..\n",
       "cell_CR9fbacb852-344135-1              X7\n",
       "cell_CR9fbacb852-344237-1              X7\n",
       "cell_CR9fbacb852-344280-1              X7\n",
       "cell_CR9fbacb852-344416-1              X7\n",
       "cell_CR9fbacb852-344461-1              X7\n",
       "Name: sample, Length: 289602, dtype: category\n",
       "Categories (7, object): ['X1', 'X2', 'X3', 'X4', 'X5', 'X6', 'X7']"
      ]
     },
     "execution_count": 904,
     "metadata": {},
     "output_type": "execute_result"
    }
   ],
   "source": [
    "adata_all.obs['sample']"
   ]
  },
  {
   "cell_type": "code",
   "execution_count": 936,
   "id": "e7064e23-145b-4122-b14c-b20781781512",
   "metadata": {},
   "outputs": [],
   "source": [
    "adata_all = sc.read_h5ad(\"data_level_1/adata_slide2_with_proteins_noX8_v2.h5ad\")"
   ]
  },
  {
   "cell_type": "code",
   "execution_count": 944,
   "id": "14b7e2d6-bf49-4a71-9d3b-7ded4c8276fc",
   "metadata": {},
   "outputs": [
    {
     "data": {
      "text/plain": [
       "4261"
      ]
     },
     "execution_count": 944,
     "metadata": {},
     "output_type": "execute_result"
    }
   ],
   "source": [
    "(adata_all.obs['celltype_l1'] == 'PEC').sum()"
   ]
  },
  {
   "cell_type": "code",
   "execution_count": 949,
   "id": "47c2fa06-e1c3-4aa8-80b8-a7f6a8123412",
   "metadata": {},
   "outputs": [
    {
     "data": {
      "text/plain": [
       "327"
      ]
     },
     "execution_count": 949,
     "metadata": {},
     "output_type": "execute_result"
    }
   ],
   "source": [
    "((adata_all.obs['celltype_l1'] == 'PEC') & (adata_all.obs['label'] == disease_set[3])).sum()"
   ]
  },
  {
   "cell_type": "code",
   "execution_count": 939,
   "id": "bf107f19-fe33-4d50-adb9-07c80aa98279",
   "metadata": {},
   "outputs": [
    {
     "data": {
      "text/plain": [
       "Index(['x', 'y', 'z', 'cluster', 'n_transcripts', 'density', 'elongation',\n",
       "       'area', 'avg_confidence', 'avg_assignment_confidence',\n",
       "       'max_cluster_frac', 'lifespan', 'x_centroid', 'y_centroid', 'cell_area',\n",
       "       'n_genes', 'celltype_l1', 'celltype_l1_codes', 'celltype_l1_prob',\n",
       "       'Slide_ID', 'sample', 'label', 'Phenocycler_Channel1',\n",
       "       'Phenocycler_Channel2', 'Phenocycler_Channel3', 'Phenocycler_Channel4',\n",
       "       'Phenocycler_Channel5', 'Phenocycler_Channel6', 'Phenocycler_Channel7',\n",
       "       'Phenocycler_Channel8', 'Phenocycler_Channel9', 'Phenocycler_Channel10',\n",
       "       'Phenocycler_Channel11', 'Phenocycler_Channel12',\n",
       "       'Phenocycler_Channel13', 'batch'],\n",
       "      dtype='object')"
      ]
     },
     "execution_count": 939,
     "metadata": {},
     "output_type": "execute_result"
    }
   ],
   "source": [
    "adata_all.obs.columns"
   ]
  },
  {
   "cell_type": "code",
   "execution_count": 907,
   "id": "33887731-ff0d-4e87-9d33-dae0f0120bc1",
   "metadata": {},
   "outputs": [],
   "source": [
    "from scipy.stats import pearsonr\n",
    "import scipy.sparse\n",
    "\n",
    "adata = adata_all[adata_all.obs['celltype_l1'] == 'PEC']"
   ]
  },
  {
   "cell_type": "code",
   "execution_count": 908,
   "id": "4d1b338c-ad46-4034-b227-262261a5809c",
   "metadata": {},
   "outputs": [
    {
     "data": {
      "text/plain": [
       "[-0.009115278943274909, 0.0140056026244439, -0.01256902179039483]"
      ]
     },
     "execution_count": 908,
     "metadata": {},
     "output_type": "execute_result"
    }
   ],
   "source": [
    "gene_list = ['PDGFA', 'PDGFB', 'PDGFRB']\n",
    "\n",
    "cor = []\n",
    "for i in gene_list:\n",
    "    a = np.array(adata[:, i].X.todense()).ravel()\n",
    "    b = np.array(adata.obs['Phenocycler_Channel9'])\n",
    "    c,p = pearsonr(a,b)\n",
    "    cor.append(c)\n",
    "cor"
   ]
  },
  {
   "cell_type": "code",
   "execution_count": 941,
   "id": "80222bdb-7c02-4960-a8a1-36b7bc50dbfc",
   "metadata": {},
   "outputs": [
    {
     "data": {
      "text/plain": [
       "['ctrl', 'anca', 'gbm', 'sle']\n",
       "Categories (4, object): ['anca', 'ctrl', 'gbm', 'sle']"
      ]
     },
     "execution_count": 941,
     "metadata": {},
     "output_type": "execute_result"
    }
   ],
   "source": [
    "disease_set = adata_all.obs['label'].unique()\n",
    "disease_set"
   ]
  },
  {
   "cell_type": "code",
   "execution_count": 910,
   "id": "ea87942e-8dd8-4636-b2af-dbd024022e7f",
   "metadata": {},
   "outputs": [],
   "source": [
    "import pandas as pd\n",
    "import seaborn as sns\n",
    "import matplotlib.pyplot as plt"
   ]
  },
  {
   "cell_type": "code",
   "execution_count": 911,
   "id": "e3cdd9f3-501a-4113-ba3c-06d3e8b99c82",
   "metadata": {},
   "outputs": [],
   "source": [
    "disease_order = ['ctrl', 'sle', 'anca', 'gbm']\n",
    "df = adata.obs\n",
    "df['label'] = pd.Categorical(df['label'], categories=disease_order, ordered=True)"
   ]
  },
  {
   "cell_type": "code",
   "execution_count": 912,
   "id": "9370d7e1-1b58-43bc-b016-41df934f3866",
   "metadata": {},
   "outputs": [
    {
     "data": {
      "image/png": "[encoded data removed]",
      "text/plain": [
       "<Figure size 1200x500 with 2 Axes>"
      ]
     },
     "metadata": {},
     "output_type": "display_data"
    }
   ],
   "source": [
    "fig, axes = plt.subplots(1, 2, figsize=(12, 5))\n",
    "\n",
    "ch = 'Phenocycler_Channel9'\n",
    "sns.barplot(x='label', y=ch, data=df, ax=axes[0], errorbar='se', order=disease_order)\n",
    "axes[0].set_title('Barplot of Ki67 with respect to disease', fontsize=16)\n",
    "axes[0].set_xlabel('Disease', fontsize=14)\n",
    "# axes[0].set_ylabel('x', fontsize=14)\n",
    "axes[0].tick_params(axis='x', labelsize=14)\n",
    "axes[0].tick_params(axis='y', labelsize=12)\n",
    "\n",
    "sns.boxplot(x='label', y=ch, data=df, ax=axes[1], order=disease_order)\n",
    "axes[1].set_title('Barplot of Ki67 with respect to disease', fontsize=16)\n",
    "axes[1].set_xlabel('Disease', fontsize=14)\n",
    "# axes[1].set_ylabel('x', fontsize=14)\n",
    "axes[1].tick_params(axis='x', labelsize=14)\n",
    "axes[1].tick_params(axis='y', labelsize=12)\n",
    "\n",
    "\n",
    "plt.tight_layout()\n",
    "plt.show()"
   ]
  },
  {
   "cell_type": "code",
   "execution_count": 913,
   "id": "0d0326e9-9fa3-4788-b618-1316b162e770",
   "metadata": {},
   "outputs": [
    {
     "data": {
      "image/png": "[encoded data removed]",
      "text/plain": [
       "<Figure size 640x480 with 1 Axes>"
      ]
     },
     "metadata": {},
     "output_type": "display_data"
    }
   ],
   "source": [
    "plt.hist(df[ch], 100);\n",
    "# plt.ylim([0, 10])"
   ]
  },
  {
   "cell_type": "code",
   "execution_count": 914,
   "id": "4ec010da-27df-402d-8dc5-921eb8ba1ed4",
   "metadata": {},
   "outputs": [
    {
     "data": {
      "text/plain": [
       "(0.0, 10.0)"
      ]
     },
     "execution_count": 914,
     "metadata": {},
     "output_type": "execute_result"
    },
    {
     "data": {
      "image/png": "[encoded data removed]",
      "text/plain": [
       "<Figure size 640x480 with 1 Axes>"
      ]
     },
     "metadata": {},
     "output_type": "display_data"
    }
   ],
   "source": [
    "plt.hist(df[ch], 20)\n",
    "plt.ylim([0, 10])"
   ]
  },
  {
   "cell_type": "code",
   "execution_count": 921,
   "id": "d37e464d-5295-493a-991d-9edc611398b4",
   "metadata": {},
   "outputs": [
    {
     "data": {
      "image/png": "[encoded data removed]",
      "text/plain": [
       "<Figure size 1200x500 with 2 Axes>"
      ]
     },
     "metadata": {},
     "output_type": "display_data"
    }
   ],
   "source": [
    "df_new = df.loc[df[ch] > 2]\n",
    "\n",
    "fig, axes = plt.subplots(1, 2, figsize=(12, 5))\n",
    "\n",
    "ch = 'Phenocycler_Channel9'\n",
    "sns.barplot(x='label', y=ch, data=df_new, ax=axes[0], errorbar='se', order=disease_order)\n",
    "axes[0].set_title('Barplot of Ki67 with respect to disease', fontsize=16)\n",
    "axes[0].set_xlabel('Disease', fontsize=14)\n",
    "# axes[0].set_ylabel('x', fontsize=14)\n",
    "axes[0].tick_params(axis='x', labelsize=14)\n",
    "axes[0].tick_params(axis='y', labelsize=12)\n",
    "\n",
    "sns.boxplot(x='label', y=ch, data=df_new, ax=axes[1], order=disease_order)\n",
    "axes[1].set_title('Barplot of Ki67 with respect to disease', fontsize=16)\n",
    "axes[1].set_xlabel('Disease', fontsize=14)\n",
    "# axes[1].set_ylabel('x', fontsize=14)\n",
    "axes[1].tick_params(axis='x', labelsize=14)\n",
    "axes[1].tick_params(axis='y', labelsize=12)\n",
    "\n",
    "\n",
    "plt.tight_layout()\n",
    "plt.show()"
   ]
  },
  {
   "cell_type": "code",
   "execution_count": 934,
   "id": "9c829d47-8881-46ad-b0ea-21700b34e3d3",
   "metadata": {},
   "outputs": [
    {
     "data": {
      "text/plain": [
       "15.0"
      ]
     },
     "execution_count": 934,
     "metadata": {},
     "output_type": "execute_result"
    }
   ],
   "source": [
    "df = df.reset_index(drop=True)\n",
    "# df.insert(1, 'Ki67_prc', 0)\n",
    "th = 5\n",
    "df.loc[:, 'Ki67_prc'] = [1.0 if i>th else 0.0 for i in df['Phenocycler_Channel9']]\n",
    "df['Ki67_prc'].sum()"
   ]
  },
  {
   "cell_type": "code",
   "execution_count": 935,
   "id": "66ba7c19-7eb2-4e6f-ba3f-c449cd23f06f",
   "metadata": {},
   "outputs": [
    {
     "data": {
      "image/png": "[encoded data removed]",
      "text/plain": [
       "<Figure size 800x600 with 1 Axes>"
      ]
     },
     "metadata": {},
     "output_type": "display_data"
    }
   ],
   "source": [
    "# fig, axes = plt.subplots(1, 2, figsize=(12, 5))\n",
    "\n",
    "ch = 'Ki67_prc'\n",
    "percent = df.groupby('label')[ch].mean() * 100\n",
    "percent = percent.reindex(disease_order)\n",
    "percent.plot(kind='bar', figsize=(8, 6))\n",
    "\n",
    "plt.title(f'Percentage of Ki67 > {th}')\n",
    "plt.xlabel('Disease')\n",
    "plt.ylabel('Percentage')\n",
    "plt.show()"
   ]
  },
  {
   "cell_type": "code",
   "execution_count": 467,
   "id": "f896232d-fac2-4ef8-86ed-d718f0e99f12",
   "metadata": {},
   "outputs": [
    {
     "data": {
      "image/png": "[encoded data removed]",
      "text/plain": [
       "<Figure size 1200x500 with 2 Axes>"
      ]
     },
     "metadata": {},
     "output_type": "display_data"
    }
   ],
   "source": [
    "fig, axes = plt.subplots(1, 2, figsize=(12, 5))\n",
    "\n",
    "ch = 'Phenocycler_Channel7'\n",
    "sns.barplot(x='label', y=ch, data=df, ax=axes[0], order=disease_order)\n",
    "axes[0].set_title('Barplot of CD69 with respect to disease', fontsize=16)\n",
    "axes[0].set_xlabel('Disease', fontsize=14)\n",
    "# axes[0].set_ylabel('x', fontsize=14)\n",
    "axes[0].tick_params(axis='x', labelsize=14)\n",
    "axes[0].tick_params(axis='y', labelsize=12)\n",
    "\n",
    "sns.boxplot(x='label', y=ch, data=df, ax=axes[1], order=disease_order)\n",
    "axes[1].set_title('Barplot of CD69 with respect to disease', fontsize=16)\n",
    "axes[1].set_xlabel('Disease', fontsize=14)\n",
    "# axes[1].set_ylabel('x', fontsize=14)\n",
    "axes[1].tick_params(axis='x', labelsize=14)\n",
    "axes[1].tick_params(axis='y', labelsize=12)\n",
    "\n",
    "\n",
    "plt.tight_layout()\n",
    "plt.show()"
   ]
  },
  {
   "cell_type": "code",
   "execution_count": 214,
   "id": "a5f8f64b-1cda-4651-bb78-ddf4d6193a7b",
   "metadata": {},
   "outputs": [
    {
     "data": {
      "image/png": "[encoded data removed]",
      "text/plain": [
       "<Figure size 1200x500 with 2 Axes>"
      ]
     },
     "metadata": {},
     "output_type": "display_data"
    }
   ],
   "source": [
    "fig, axes = plt.subplots(1, 2, figsize=(12, 5))\n",
    "\n",
    "ch = 'Phenocycler_Channel2'\n",
    "sns.barplot(x='label', y=ch, data=df, ax=axes[0], order=disease_order)\n",
    "axes[0].set_title('Barplot of CD20 with respect to disease', fontsize=16)\n",
    "axes[0].set_xlabel('Disease', fontsize=14)\n",
    "# axes[0].set_ylabel('x', fontsize=14)\n",
    "axes[0].tick_params(axis='x', labelsize=14)\n",
    "axes[0].tick_params(axis='y', labelsize=12)\n",
    "\n",
    "sns.boxplot(x='label', y=ch, data=df, ax=axes[1], order=disease_order)\n",
    "axes[1].set_title('Barplot of CD20 with respect to disease', fontsize=16)\n",
    "axes[1].set_xlabel('Disease', fontsize=14)\n",
    "# axes[1].set_ylabel('x', fontsize=14)\n",
    "axes[1].tick_params(axis='x', labelsize=14)\n",
    "axes[1].tick_params(axis='y', labelsize=12)\n",
    "\n",
    "\n",
    "plt.tight_layout()\n",
    "plt.show()"
   ]
  },
  {
   "cell_type": "code",
   "execution_count": null,
   "id": "2979dd49-2a38-4475-9dcd-4f3f8603c148",
   "metadata": {},
   "outputs": [],
   "source": []
  },
  {
   "cell_type": "code",
   "execution_count": 721,
   "id": "ff050977-61e5-4ede-8f36-fd5fb02182e9",
   "metadata": {},
   "outputs": [],
   "source": [
    "adata_robin = sc.read_h5ad(\"/data/projects/robin/robin_xenium_cgn_from_epyc/seperate_dapi_samples/with_protein.h5ad\")"
   ]
  },
  {
   "cell_type": "code",
   "execution_count": 722,
   "id": "973bab00-fdfe-4ee2-8eac-016b8c6d88e6",
   "metadata": {},
   "outputs": [],
   "source": [
    "# adata_robin = adata_robin[adata_robin.obs['Sample_num'] != 'X7']\n",
    "adata_robin = adata_robin[adata_robin.obs['celltype_l1'] == 'PEC']"
   ]
  },
  {
   "cell_type": "code",
   "execution_count": 723,
   "id": "e5b95614-573f-4962-ab4a-0bcf232c5147",
   "metadata": {},
   "outputs": [],
   "source": [
    "disease_order = ['Cntrl', 'Sle', 'Anca', 'Gbm']\n",
    "df = adata_robin.obs\n",
    "df['label'] = pd.Categorical(df['Disease'], categories=disease_order, ordered=True)"
   ]
  },
  {
   "cell_type": "code",
   "execution_count": 724,
   "id": "07b767cb-ea64-4c51-b449-38e9ced3a6b3",
   "metadata": {},
   "outputs": [],
   "source": [
    "df['label'] = pd.Categorical(df['Disease'], categories=disease_order, ordered=True)"
   ]
  },
  {
   "cell_type": "code",
   "execution_count": 725,
   "id": "6d1625c8-0c69-4db8-9979-63edc7f5f6f5",
   "metadata": {},
   "outputs": [
    {
     "data": {
      "text/plain": [
       "(0.0, 10.0)"
      ]
     },
     "execution_count": 725,
     "metadata": {},
     "output_type": "execute_result"
    },
    {
     "data": {
      "image/png": "[encoded data removed]",
      "text/plain": [
       "<Figure size 640x480 with 1 Axes>"
      ]
     },
     "metadata": {},
     "output_type": "display_data"
    }
   ],
   "source": [
    "ch = 'Ki67_p'\n",
    "plt.hist(df[ch], 20)\n",
    "plt.ylim([0, 10])"
   ]
  },
  {
   "cell_type": "code",
   "execution_count": 726,
   "id": "642e0502-65f6-41da-b92f-3fcb96e90786",
   "metadata": {},
   "outputs": [
    {
     "data": {
      "image/png": "[encoded data removed]",
      "text/plain": [
       "<Figure size 1200x500 with 2 Axes>"
      ]
     },
     "metadata": {},
     "output_type": "display_data"
    }
   ],
   "source": [
    "fig, axes = plt.subplots(1, 2, figsize=(12, 5))\n",
    "\n",
    "ch = 'Ki67_p'\n",
    "sns.barplot(x='Disease', y=ch, data=df, ax=axes[0], order=disease_order)\n",
    "axes[0].set_title('Barplot of Ki67 with respect to disease', fontsize=16)\n",
    "axes[0].set_xlabel('Disease', fontsize=14)\n",
    "# axes[0].set_ylabel('x', fontsize=14)\n",
    "axes[0].tick_params(axis='x', labelsize=14)\n",
    "axes[0].tick_params(axis='y', labelsize=12)\n",
    "\n",
    "sns.boxplot(x='Disease', y=ch, data=df, ax=axes[1], order=disease_order)\n",
    "axes[1].set_title('Barplot of Ki67 with respect to disease', fontsize=16)\n",
    "axes[1].set_xlabel('Disease', fontsize=14)\n",
    "# axes[1].set_ylabel('x', fontsize=14)\n",
    "axes[1].tick_params(axis='x', labelsize=14)\n",
    "axes[1].tick_params(axis='y', labelsize=12)\n",
    "\n",
    "\n",
    "plt.tight_layout()\n",
    "plt.show()"
   ]
  },
  {
   "cell_type": "code",
   "execution_count": 727,
   "id": "c96004ea-dbc2-45f8-929a-47de2ae45b60",
   "metadata": {},
   "outputs": [
    {
     "data": {
      "image/png": "[encoded data removed]",
      "text/plain": [
       "<Figure size 1200x500 with 2 Axes>"
      ]
     },
     "metadata": {},
     "output_type": "display_data"
    }
   ],
   "source": [
    "df_new = df.loc[df['Ki67_p'] >= 0]\n",
    "\n",
    "fig, axes = plt.subplots(1, 2, figsize=(12, 5))\n",
    "\n",
    "ch = 'Ki67_p'\n",
    "sns.barplot(x='Disease', y=ch, data=df_new, ax=axes[0], order=disease_order)\n",
    "axes[0].set_title('Barplot of Ki67 with respect to disease', fontsize=16)\n",
    "axes[0].set_xlabel('Disease', fontsize=14)\n",
    "# axes[0].set_ylabel('x', fontsize=14)\n",
    "axes[0].tick_params(axis='x', labelsize=14)\n",
    "axes[0].tick_params(axis='y', labelsize=12)\n",
    "\n",
    "sns.boxplot(x='Disease', y=ch, data=df_new, ax=axes[1], order=disease_order)\n",
    "axes[1].set_title('Barplot of Ki67 with respect to disease', fontsize=16)\n",
    "axes[1].set_xlabel('Disease', fontsize=14)\n",
    "# axes[1].set_ylabel('x', fontsize=14)\n",
    "axes[1].tick_params(axis='x', labelsize=14)\n",
    "axes[1].tick_params(axis='y', labelsize=12)\n",
    "\n",
    "\n",
    "plt.tight_layout()\n",
    "plt.show()"
   ]
  },
  {
   "cell_type": "code",
   "execution_count": 730,
   "id": "c05a0abd-ca0f-4efb-a0dc-219275782a66",
   "metadata": {},
   "outputs": [
    {
     "data": {
      "text/plain": [
       "13.0"
      ]
     },
     "execution_count": 730,
     "metadata": {},
     "output_type": "execute_result"
    }
   ],
   "source": [
    "df = df.reset_index(drop=True)\n",
    "df.loc[:, 'Ki67_prc'] = [1.0 if i>6 else 0.0 for i in df['Ki67_p']]\n",
    "df['Ki67_prc'].sum()"
   ]
  },
  {
   "cell_type": "code",
   "execution_count": 732,
   "id": "6b1c58e2-453a-42b1-ac8a-3d079858d69a",
   "metadata": {},
   "outputs": [
    {
     "data": {
      "image/png": "[encoded data removed]",
      "text/plain": [
       "<Figure size 800x600 with 1 Axes>"
      ]
     },
     "metadata": {},
     "output_type": "display_data"
    }
   ],
   "source": [
    "ch = 'Ki67_prc'\n",
    "percent = df.groupby('Disease')[ch].mean() * 100\n",
    "percent = percent.reindex(disease_order)\n",
    "percent.plot(kind='bar', figsize=(8, 6))\n",
    "\n",
    "plt.title('Percentage of Ki67 > 2')\n",
    "plt.xlabel('Disease')\n",
    "plt.ylabel('Percentage')\n",
    "plt.show()"
   ]
  },
  {
   "cell_type": "code",
   "execution_count": 548,
   "id": "30946362-bee5-4410-8946-cf8370090608",
   "metadata": {},
   "outputs": [
    {
     "data": {
      "text/plain": [
       "cell_CR9fbacb852-12121-1-0    X7\n",
       "cell_CR9fbacb852-13226-1-0    X7\n",
       "cell_CR9fbacb852-13244-1-0    X7\n",
       "cell_CR9fbacb852-13263-1-0    X7\n",
       "cell_CR9fbacb852-13268-1-0    X7\n",
       "                              ..\n",
       "cell_CR9fbacb852-344264-1     X8\n",
       "cell_CR9fbacb852-344326-1     X8\n",
       "cell_CR9fbacb852-344371-1     X8\n",
       "cell_CR9fbacb852-344671-1     X8\n",
       "cell_CR9fbacb852-344894-1     X8\n",
       "Name: sample, Length: 26634, dtype: category\n",
       "Categories (8, object): ['X1', 'X2', 'X3', 'X4', 'X5', 'X6', 'X7', 'X8']"
      ]
     },
     "execution_count": 548,
     "metadata": {},
     "output_type": "execute_result"
    }
   ],
   "source": [
    "adata_all.obs.loc[adata_all.obs['label'] == 'sle', 'sample']"
   ]
  },
  {
   "cell_type": "code",
   "execution_count": null,
   "id": "fd9a6d67-5992-448f-b4cd-1d18b4ae759c",
   "metadata": {},
   "outputs": [],
   "source": []
  },
  {
   "cell_type": "code",
   "execution_count": null,
   "id": "d9cbe1be-e2a3-4b14-8ae8-9d8703a76dd1",
   "metadata": {},
   "outputs": [],
   "source": []
  },
  {
   "cell_type": "code",
   "execution_count": 858,
   "id": "451e6498-309c-448d-961e-439813371777",
   "metadata": {},
   "outputs": [
    {
     "data": {
      "text/plain": [
       "(array([3521.6711, 3522.5667, 3519.4448, 3518.621 , 3518.3726, 3519.4453,\n",
       "        3519.8542, 3521.6711]),\n",
       " array([1183.9215, 1183.3866, 1181.8112, 1180.7463, 1182.4324, 1183.1168,\n",
       "        1183.2418, 1183.9215]))"
      ]
     },
     "execution_count": 858,
     "metadata": {},
     "output_type": "execute_result"
    }
   ],
   "source": [
    "i = np.where(cell_names == '344894')[0].item()\n",
    "poly_i = np.array(cell_coordinates[i])\n",
    "poly_i[:,0], poly_i[:,1]"
   ]
  },
  {
   "cell_type": "code",
   "execution_count": 841,
   "id": "cc0a34b9-5338-4dce-8415-926364a7005e",
   "metadata": {},
   "outputs": [
    {
     "data": {
      "text/html": [
       "<div>\n",
       "<style scoped>\n",
       "    .dataframe tbody tr th:only-of-type {\n",
       "        vertical-align: middle;\n",
       "    }\n",
       "\n",
       "    .dataframe tbody tr th {\n",
       "        vertical-align: top;\n",
       "    }\n",
       "\n",
       "    .dataframe thead th {\n",
       "        text-align: right;\n",
       "    }\n",
       "</style>\n",
       "<table border=\"1\" class=\"dataframe\">\n",
       "  <thead>\n",
       "    <tr style=\"text-align: right;\">\n",
       "      <th></th>\n",
       "      <th>x</th>\n",
       "      <th>y</th>\n",
       "      <th>z</th>\n",
       "      <th>cluster</th>\n",
       "      <th>n_transcripts</th>\n",
       "      <th>density</th>\n",
       "      <th>elongation</th>\n",
       "      <th>area</th>\n",
       "      <th>avg_confidence</th>\n",
       "      <th>avg_assignment_confidence</th>\n",
       "      <th>...</th>\n",
       "      <th>Phenocycler_Channel6</th>\n",
       "      <th>Phenocycler_Channel7</th>\n",
       "      <th>Phenocycler_Channel8</th>\n",
       "      <th>Phenocycler_Channel9</th>\n",
       "      <th>Phenocycler_Channel10</th>\n",
       "      <th>Phenocycler_Channel11</th>\n",
       "      <th>Phenocycler_Channel12</th>\n",
       "      <th>Phenocycler_Channel13</th>\n",
       "      <th>batch</th>\n",
       "      <th>cell_name</th>\n",
       "    </tr>\n",
       "  </thead>\n",
       "  <tbody>\n",
       "    <tr>\n",
       "      <th>cell_CR9fbacb852-172697-0-0-0-0-0-0-0</th>\n",
       "      <td>5686.630300</td>\n",
       "      <td>16243.587750</td>\n",
       "      <td>32.710325</td>\n",
       "      <td>4</td>\n",
       "      <td>8</td>\n",
       "      <td>0.3695</td>\n",
       "      <td>3.021</td>\n",
       "      <td>21.650</td>\n",
       "      <td>0.9724</td>\n",
       "      <td>0.9025</td>\n",
       "      <td>...</td>\n",
       "      <td>0</td>\n",
       "      <td>0</td>\n",
       "      <td>0</td>\n",
       "      <td>0</td>\n",
       "      <td>0</td>\n",
       "      <td>0</td>\n",
       "      <td>0</td>\n",
       "      <td>0</td>\n",
       "      <td>0</td>\n",
       "      <td>172697</td>\n",
       "    </tr>\n",
       "    <tr>\n",
       "      <th>cell_CR9fbacb852-183840-0-0-0-0-0-0-0</th>\n",
       "      <td>5533.867400</td>\n",
       "      <td>17797.181667</td>\n",
       "      <td>28.890549</td>\n",
       "      <td>3</td>\n",
       "      <td>6</td>\n",
       "      <td>0.8171</td>\n",
       "      <td>4.300</td>\n",
       "      <td>7.343</td>\n",
       "      <td>0.9859</td>\n",
       "      <td>0.9700</td>\n",
       "      <td>...</td>\n",
       "      <td>0</td>\n",
       "      <td>0</td>\n",
       "      <td>0</td>\n",
       "      <td>0</td>\n",
       "      <td>0</td>\n",
       "      <td>0</td>\n",
       "      <td>0</td>\n",
       "      <td>0</td>\n",
       "      <td>0</td>\n",
       "      <td>183840</td>\n",
       "    </tr>\n",
       "    <tr>\n",
       "      <th>cell_CR9fbacb852-183965-0-0-0-0-0-0-0</th>\n",
       "      <td>5544.457950</td>\n",
       "      <td>17818.821750</td>\n",
       "      <td>27.178570</td>\n",
       "      <td>3</td>\n",
       "      <td>8</td>\n",
       "      <td>2.2230</td>\n",
       "      <td>2.835</td>\n",
       "      <td>3.599</td>\n",
       "      <td>0.9743</td>\n",
       "      <td>0.9775</td>\n",
       "      <td>...</td>\n",
       "      <td>0</td>\n",
       "      <td>0</td>\n",
       "      <td>0</td>\n",
       "      <td>0</td>\n",
       "      <td>0</td>\n",
       "      <td>0</td>\n",
       "      <td>0</td>\n",
       "      <td>0</td>\n",
       "      <td>0</td>\n",
       "      <td>183965</td>\n",
       "    </tr>\n",
       "    <tr>\n",
       "      <th>cell_CR9fbacb852-184398-0-0-0-0-0-0-0</th>\n",
       "      <td>7113.689200</td>\n",
       "      <td>16393.493100</td>\n",
       "      <td>23.298814</td>\n",
       "      <td>4</td>\n",
       "      <td>10</td>\n",
       "      <td>1.3270</td>\n",
       "      <td>1.694</td>\n",
       "      <td>7.536</td>\n",
       "      <td>0.9939</td>\n",
       "      <td>0.9780</td>\n",
       "      <td>...</td>\n",
       "      <td>0</td>\n",
       "      <td>1</td>\n",
       "      <td>0</td>\n",
       "      <td>0</td>\n",
       "      <td>0</td>\n",
       "      <td>0</td>\n",
       "      <td>1</td>\n",
       "      <td>0</td>\n",
       "      <td>0</td>\n",
       "      <td>184398</td>\n",
       "    </tr>\n",
       "    <tr>\n",
       "      <th>cell_CR9fbacb852-185040-0-0-0-0-0-0-0</th>\n",
       "      <td>7705.488675</td>\n",
       "      <td>16117.277875</td>\n",
       "      <td>23.637515</td>\n",
       "      <td>4</td>\n",
       "      <td>12</td>\n",
       "      <td>1.7790</td>\n",
       "      <td>1.445</td>\n",
       "      <td>6.745</td>\n",
       "      <td>0.9983</td>\n",
       "      <td>0.9950</td>\n",
       "      <td>...</td>\n",
       "      <td>0</td>\n",
       "      <td>1</td>\n",
       "      <td>0</td>\n",
       "      <td>0</td>\n",
       "      <td>0</td>\n",
       "      <td>0</td>\n",
       "      <td>2</td>\n",
       "      <td>0</td>\n",
       "      <td>0</td>\n",
       "      <td>185040</td>\n",
       "    </tr>\n",
       "    <tr>\n",
       "      <th>...</th>\n",
       "      <td>...</td>\n",
       "      <td>...</td>\n",
       "      <td>...</td>\n",
       "      <td>...</td>\n",
       "      <td>...</td>\n",
       "      <td>...</td>\n",
       "      <td>...</td>\n",
       "      <td>...</td>\n",
       "      <td>...</td>\n",
       "      <td>...</td>\n",
       "      <td>...</td>\n",
       "      <td>...</td>\n",
       "      <td>...</td>\n",
       "      <td>...</td>\n",
       "      <td>...</td>\n",
       "      <td>...</td>\n",
       "      <td>...</td>\n",
       "      <td>...</td>\n",
       "      <td>...</td>\n",
       "      <td>...</td>\n",
       "      <td>...</td>\n",
       "    </tr>\n",
       "    <tr>\n",
       "      <th>cell_CR9fbacb852-344264-1</th>\n",
       "      <td>2479.081464</td>\n",
       "      <td>3356.340695</td>\n",
       "      <td>39.132713</td>\n",
       "      <td>4</td>\n",
       "      <td>22</td>\n",
       "      <td>1.1450</td>\n",
       "      <td>5.912</td>\n",
       "      <td>19.220</td>\n",
       "      <td>0.9983</td>\n",
       "      <td>0.7436</td>\n",
       "      <td>...</td>\n",
       "      <td>0</td>\n",
       "      <td>4</td>\n",
       "      <td>4</td>\n",
       "      <td>0</td>\n",
       "      <td>0</td>\n",
       "      <td>49</td>\n",
       "      <td>0</td>\n",
       "      <td>0</td>\n",
       "      <td>1</td>\n",
       "      <td>344264</td>\n",
       "    </tr>\n",
       "    <tr>\n",
       "      <th>cell_CR9fbacb852-344326-1</th>\n",
       "      <td>3378.595655</td>\n",
       "      <td>985.457752</td>\n",
       "      <td>42.317890</td>\n",
       "      <td>1</td>\n",
       "      <td>29</td>\n",
       "      <td>0.4470</td>\n",
       "      <td>1.583</td>\n",
       "      <td>64.880</td>\n",
       "      <td>0.9891</td>\n",
       "      <td>0.7048</td>\n",
       "      <td>...</td>\n",
       "      <td>0</td>\n",
       "      <td>0</td>\n",
       "      <td>0</td>\n",
       "      <td>0</td>\n",
       "      <td>0</td>\n",
       "      <td>4</td>\n",
       "      <td>0</td>\n",
       "      <td>0</td>\n",
       "      <td>1</td>\n",
       "      <td>344326</td>\n",
       "    </tr>\n",
       "    <tr>\n",
       "      <th>cell_CR9fbacb852-344371-1</th>\n",
       "      <td>3434.533961</td>\n",
       "      <td>874.129657</td>\n",
       "      <td>40.304167</td>\n",
       "      <td>4</td>\n",
       "      <td>28</td>\n",
       "      <td>0.5554</td>\n",
       "      <td>2.315</td>\n",
       "      <td>50.410</td>\n",
       "      <td>0.9917</td>\n",
       "      <td>0.7014</td>\n",
       "      <td>...</td>\n",
       "      <td>0</td>\n",
       "      <td>0</td>\n",
       "      <td>0</td>\n",
       "      <td>0</td>\n",
       "      <td>0</td>\n",
       "      <td>6</td>\n",
       "      <td>0</td>\n",
       "      <td>0</td>\n",
       "      <td>1</td>\n",
       "      <td>344371</td>\n",
       "    </tr>\n",
       "    <tr>\n",
       "      <th>cell_CR9fbacb852-344671-1</th>\n",
       "      <td>2246.205632</td>\n",
       "      <td>1924.905336</td>\n",
       "      <td>39.431705</td>\n",
       "      <td>1</td>\n",
       "      <td>22</td>\n",
       "      <td>0.7353</td>\n",
       "      <td>3.803</td>\n",
       "      <td>29.920</td>\n",
       "      <td>0.9965</td>\n",
       "      <td>0.6064</td>\n",
       "      <td>...</td>\n",
       "      <td>0</td>\n",
       "      <td>1</td>\n",
       "      <td>1</td>\n",
       "      <td>0</td>\n",
       "      <td>0</td>\n",
       "      <td>0</td>\n",
       "      <td>1</td>\n",
       "      <td>0</td>\n",
       "      <td>1</td>\n",
       "      <td>344671</td>\n",
       "    </tr>\n",
       "    <tr>\n",
       "      <th>cell_CR9fbacb852-344894-1</th>\n",
       "      <td>3519.826055</td>\n",
       "      <td>1182.414645</td>\n",
       "      <td>39.830939</td>\n",
       "      <td>1</td>\n",
       "      <td>11</td>\n",
       "      <td>1.9880</td>\n",
       "      <td>9.182</td>\n",
       "      <td>5.533</td>\n",
       "      <td>0.9860</td>\n",
       "      <td>0.8255</td>\n",
       "      <td>...</td>\n",
       "      <td>0</td>\n",
       "      <td>33</td>\n",
       "      <td>33</td>\n",
       "      <td>0</td>\n",
       "      <td>4</td>\n",
       "      <td>23</td>\n",
       "      <td>0</td>\n",
       "      <td>0</td>\n",
       "      <td>1</td>\n",
       "      <td>344894</td>\n",
       "    </tr>\n",
       "  </tbody>\n",
       "</table>\n",
       "<p>303846 rows × 37 columns</p>\n",
       "</div>"
      ],
      "text/plain": [
       "                                                 x             y          z  \\\n",
       "cell_CR9fbacb852-172697-0-0-0-0-0-0-0  5686.630300  16243.587750  32.710325   \n",
       "cell_CR9fbacb852-183840-0-0-0-0-0-0-0  5533.867400  17797.181667  28.890549   \n",
       "cell_CR9fbacb852-183965-0-0-0-0-0-0-0  5544.457950  17818.821750  27.178570   \n",
       "cell_CR9fbacb852-184398-0-0-0-0-0-0-0  7113.689200  16393.493100  23.298814   \n",
       "cell_CR9fbacb852-185040-0-0-0-0-0-0-0  7705.488675  16117.277875  23.637515   \n",
       "...                                            ...           ...        ...   \n",
       "cell_CR9fbacb852-344264-1              2479.081464   3356.340695  39.132713   \n",
       "cell_CR9fbacb852-344326-1              3378.595655    985.457752  42.317890   \n",
       "cell_CR9fbacb852-344371-1              3434.533961    874.129657  40.304167   \n",
       "cell_CR9fbacb852-344671-1              2246.205632   1924.905336  39.431705   \n",
       "cell_CR9fbacb852-344894-1              3519.826055   1182.414645  39.830939   \n",
       "\n",
       "                                       cluster  n_transcripts  density  \\\n",
       "cell_CR9fbacb852-172697-0-0-0-0-0-0-0        4              8   0.3695   \n",
       "cell_CR9fbacb852-183840-0-0-0-0-0-0-0        3              6   0.8171   \n",
       "cell_CR9fbacb852-183965-0-0-0-0-0-0-0        3              8   2.2230   \n",
       "cell_CR9fbacb852-184398-0-0-0-0-0-0-0        4             10   1.3270   \n",
       "cell_CR9fbacb852-185040-0-0-0-0-0-0-0        4             12   1.7790   \n",
       "...                                        ...            ...      ...   \n",
       "cell_CR9fbacb852-344264-1                    4             22   1.1450   \n",
       "cell_CR9fbacb852-344326-1                    1             29   0.4470   \n",
       "cell_CR9fbacb852-344371-1                    4             28   0.5554   \n",
       "cell_CR9fbacb852-344671-1                    1             22   0.7353   \n",
       "cell_CR9fbacb852-344894-1                    1             11   1.9880   \n",
       "\n",
       "                                       elongation    area  avg_confidence  \\\n",
       "cell_CR9fbacb852-172697-0-0-0-0-0-0-0       3.021  21.650          0.9724   \n",
       "cell_CR9fbacb852-183840-0-0-0-0-0-0-0       4.300   7.343          0.9859   \n",
       "cell_CR9fbacb852-183965-0-0-0-0-0-0-0       2.835   3.599          0.9743   \n",
       "cell_CR9fbacb852-184398-0-0-0-0-0-0-0       1.694   7.536          0.9939   \n",
       "cell_CR9fbacb852-185040-0-0-0-0-0-0-0       1.445   6.745          0.9983   \n",
       "...                                           ...     ...             ...   \n",
       "cell_CR9fbacb852-344264-1                   5.912  19.220          0.9983   \n",
       "cell_CR9fbacb852-344326-1                   1.583  64.880          0.9891   \n",
       "cell_CR9fbacb852-344371-1                   2.315  50.410          0.9917   \n",
       "cell_CR9fbacb852-344671-1                   3.803  29.920          0.9965   \n",
       "cell_CR9fbacb852-344894-1                   9.182   5.533          0.9860   \n",
       "\n",
       "                                       avg_assignment_confidence  ...  \\\n",
       "cell_CR9fbacb852-172697-0-0-0-0-0-0-0                     0.9025  ...   \n",
       "cell_CR9fbacb852-183840-0-0-0-0-0-0-0                     0.9700  ...   \n",
       "cell_CR9fbacb852-183965-0-0-0-0-0-0-0                     0.9775  ...   \n",
       "cell_CR9fbacb852-184398-0-0-0-0-0-0-0                     0.9780  ...   \n",
       "cell_CR9fbacb852-185040-0-0-0-0-0-0-0                     0.9950  ...   \n",
       "...                                                          ...  ...   \n",
       "cell_CR9fbacb852-344264-1                                 0.7436  ...   \n",
       "cell_CR9fbacb852-344326-1                                 0.7048  ...   \n",
       "cell_CR9fbacb852-344371-1                                 0.7014  ...   \n",
       "cell_CR9fbacb852-344671-1                                 0.6064  ...   \n",
       "cell_CR9fbacb852-344894-1                                 0.8255  ...   \n",
       "\n",
       "                                       Phenocycler_Channel6  \\\n",
       "cell_CR9fbacb852-172697-0-0-0-0-0-0-0                     0   \n",
       "cell_CR9fbacb852-183840-0-0-0-0-0-0-0                     0   \n",
       "cell_CR9fbacb852-183965-0-0-0-0-0-0-0                     0   \n",
       "cell_CR9fbacb852-184398-0-0-0-0-0-0-0                     0   \n",
       "cell_CR9fbacb852-185040-0-0-0-0-0-0-0                     0   \n",
       "...                                                     ...   \n",
       "cell_CR9fbacb852-344264-1                                 0   \n",
       "cell_CR9fbacb852-344326-1                                 0   \n",
       "cell_CR9fbacb852-344371-1                                 0   \n",
       "cell_CR9fbacb852-344671-1                                 0   \n",
       "cell_CR9fbacb852-344894-1                                 0   \n",
       "\n",
       "                                       Phenocycler_Channel7  \\\n",
       "cell_CR9fbacb852-172697-0-0-0-0-0-0-0                     0   \n",
       "cell_CR9fbacb852-183840-0-0-0-0-0-0-0                     0   \n",
       "cell_CR9fbacb852-183965-0-0-0-0-0-0-0                     0   \n",
       "cell_CR9fbacb852-184398-0-0-0-0-0-0-0                     1   \n",
       "cell_CR9fbacb852-185040-0-0-0-0-0-0-0                     1   \n",
       "...                                                     ...   \n",
       "cell_CR9fbacb852-344264-1                                 4   \n",
       "cell_CR9fbacb852-344326-1                                 0   \n",
       "cell_CR9fbacb852-344371-1                                 0   \n",
       "cell_CR9fbacb852-344671-1                                 1   \n",
       "cell_CR9fbacb852-344894-1                                33   \n",
       "\n",
       "                                       Phenocycler_Channel8  \\\n",
       "cell_CR9fbacb852-172697-0-0-0-0-0-0-0                     0   \n",
       "cell_CR9fbacb852-183840-0-0-0-0-0-0-0                     0   \n",
       "cell_CR9fbacb852-183965-0-0-0-0-0-0-0                     0   \n",
       "cell_CR9fbacb852-184398-0-0-0-0-0-0-0                     0   \n",
       "cell_CR9fbacb852-185040-0-0-0-0-0-0-0                     0   \n",
       "...                                                     ...   \n",
       "cell_CR9fbacb852-344264-1                                 4   \n",
       "cell_CR9fbacb852-344326-1                                 0   \n",
       "cell_CR9fbacb852-344371-1                                 0   \n",
       "cell_CR9fbacb852-344671-1                                 1   \n",
       "cell_CR9fbacb852-344894-1                                33   \n",
       "\n",
       "                                       Phenocycler_Channel9  \\\n",
       "cell_CR9fbacb852-172697-0-0-0-0-0-0-0                     0   \n",
       "cell_CR9fbacb852-183840-0-0-0-0-0-0-0                     0   \n",
       "cell_CR9fbacb852-183965-0-0-0-0-0-0-0                     0   \n",
       "cell_CR9fbacb852-184398-0-0-0-0-0-0-0                     0   \n",
       "cell_CR9fbacb852-185040-0-0-0-0-0-0-0                     0   \n",
       "...                                                     ...   \n",
       "cell_CR9fbacb852-344264-1                                 0   \n",
       "cell_CR9fbacb852-344326-1                                 0   \n",
       "cell_CR9fbacb852-344371-1                                 0   \n",
       "cell_CR9fbacb852-344671-1                                 0   \n",
       "cell_CR9fbacb852-344894-1                                 0   \n",
       "\n",
       "                                       Phenocycler_Channel10  \\\n",
       "cell_CR9fbacb852-172697-0-0-0-0-0-0-0                      0   \n",
       "cell_CR9fbacb852-183840-0-0-0-0-0-0-0                      0   \n",
       "cell_CR9fbacb852-183965-0-0-0-0-0-0-0                      0   \n",
       "cell_CR9fbacb852-184398-0-0-0-0-0-0-0                      0   \n",
       "cell_CR9fbacb852-185040-0-0-0-0-0-0-0                      0   \n",
       "...                                                      ...   \n",
       "cell_CR9fbacb852-344264-1                                  0   \n",
       "cell_CR9fbacb852-344326-1                                  0   \n",
       "cell_CR9fbacb852-344371-1                                  0   \n",
       "cell_CR9fbacb852-344671-1                                  0   \n",
       "cell_CR9fbacb852-344894-1                                  4   \n",
       "\n",
       "                                       Phenocycler_Channel11  \\\n",
       "cell_CR9fbacb852-172697-0-0-0-0-0-0-0                      0   \n",
       "cell_CR9fbacb852-183840-0-0-0-0-0-0-0                      0   \n",
       "cell_CR9fbacb852-183965-0-0-0-0-0-0-0                      0   \n",
       "cell_CR9fbacb852-184398-0-0-0-0-0-0-0                      0   \n",
       "cell_CR9fbacb852-185040-0-0-0-0-0-0-0                      0   \n",
       "...                                                      ...   \n",
       "cell_CR9fbacb852-344264-1                                 49   \n",
       "cell_CR9fbacb852-344326-1                                  4   \n",
       "cell_CR9fbacb852-344371-1                                  6   \n",
       "cell_CR9fbacb852-344671-1                                  0   \n",
       "cell_CR9fbacb852-344894-1                                 23   \n",
       "\n",
       "                                      Phenocycler_Channel12  \\\n",
       "cell_CR9fbacb852-172697-0-0-0-0-0-0-0                     0   \n",
       "cell_CR9fbacb852-183840-0-0-0-0-0-0-0                     0   \n",
       "cell_CR9fbacb852-183965-0-0-0-0-0-0-0                     0   \n",
       "cell_CR9fbacb852-184398-0-0-0-0-0-0-0                     1   \n",
       "cell_CR9fbacb852-185040-0-0-0-0-0-0-0                     2   \n",
       "...                                                     ...   \n",
       "cell_CR9fbacb852-344264-1                                 0   \n",
       "cell_CR9fbacb852-344326-1                                 0   \n",
       "cell_CR9fbacb852-344371-1                                 0   \n",
       "cell_CR9fbacb852-344671-1                                 1   \n",
       "cell_CR9fbacb852-344894-1                                 0   \n",
       "\n",
       "                                       Phenocycler_Channel13  batch cell_name  \n",
       "cell_CR9fbacb852-172697-0-0-0-0-0-0-0                      0      0    172697  \n",
       "cell_CR9fbacb852-183840-0-0-0-0-0-0-0                      0      0    183840  \n",
       "cell_CR9fbacb852-183965-0-0-0-0-0-0-0                      0      0    183965  \n",
       "cell_CR9fbacb852-184398-0-0-0-0-0-0-0                      0      0    184398  \n",
       "cell_CR9fbacb852-185040-0-0-0-0-0-0-0                      0      0    185040  \n",
       "...                                                      ...    ...       ...  \n",
       "cell_CR9fbacb852-344264-1                                  0      1    344264  \n",
       "cell_CR9fbacb852-344326-1                                  0      1    344326  \n",
       "cell_CR9fbacb852-344371-1                                  0      1    344371  \n",
       "cell_CR9fbacb852-344671-1                                  0      1    344671  \n",
       "cell_CR9fbacb852-344894-1                                  0      1    344894  \n",
       "\n",
       "[303846 rows x 37 columns]"
      ]
     },
     "execution_count": 841,
     "metadata": {},
     "output_type": "execute_result"
    }
   ],
   "source": [
    "adata_all.obs"
   ]
  },
  {
   "cell_type": "code",
   "execution_count": 860,
   "id": "f75e6f05-6819-4689-9907-29bf4f7d9afa",
   "metadata": {},
   "outputs": [],
   "source": [
    "i, j = adata_all.obsm[\"spatial\"][0]"
   ]
  },
  {
   "cell_type": "code",
   "execution_count": 846,
   "id": "efae61ea-ab12-4642-a000-4b720950a0e7",
   "metadata": {},
   "outputs": [
    {
     "data": {
      "text/plain": [
       "0"
      ]
     },
     "execution_count": 846,
     "metadata": {},
     "output_type": "execute_result"
    }
   ],
   "source": [
    "pc_image[int(j), int(i)]"
   ]
  },
  {
   "cell_type": "code",
   "execution_count": 863,
   "id": "139f02cd-a520-44ea-ad87-aa08c25f984b",
   "metadata": {},
   "outputs": [
    {
     "data": {
      "text/plain": [
       "722"
      ]
     },
     "execution_count": 863,
     "metadata": {},
     "output_type": "execute_result"
    }
   ],
   "source": [
    "int(np.round(i))"
   ]
  },
  {
   "cell_type": "code",
   "execution_count": null,
   "id": "da74df88-0506-4074-9d33-88f2003efbd1",
   "metadata": {},
   "outputs": [],
   "source": []
  }
 ],
 "metadata": {
  "kernelspec": {
   "display_name": "xenium_cgn",
   "language": "python",
   "name": "xenium_cgn"
  },
  "language_info": {
   "codemirror_mode": {
    "name": "ipython",
    "version": 3
   },
   "file_extension": ".py",
   "mimetype": "text/x-python",
   "name": "python",
   "nbconvert_exporter": "python",
   "pygments_lexer": "ipython3",
   "version": "3.11.6"
  }
 },
 "nbformat": 4,
 "nbformat_minor": 5
}
