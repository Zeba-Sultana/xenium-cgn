{
 "cells": [
  {
   "cell_type": "code",
   "execution_count": null,
   "id": "0c16a45b-46b9-495c-b5b1-d7b3a6cf73f6",
   "metadata": {},
   "outputs": [],
   "source": [
    "import os\n",
    "import numpy as np\n",
    "import pandas as pd\n",
    "\n",
    "import matplotlib.pyplot as plt\n",
    "import seaborn as sns\n",
    "\n",
    "import scanpy as sc\n",
    "#import squidpy as sq\n",
    "\n",
    "import anndata as ad\n"
   ]
  },
  {
   "cell_type": "code",
   "execution_count": null,
   "id": "c02fd82d-c392-43c4-8253-2b628b2e0929",
   "metadata": {},
   "outputs": [],
   "source": [
    "!pwd"
   ]
  },
  {
   "cell_type": "code",
   "execution_count": null,
   "id": "d2f1056c-8ad0-49e5-a3be-44ccde5bebef",
   "metadata": {},
   "outputs": [],
   "source": [
    "PeriGlom_Slides = [\n",
    "    './output_dataobjects/Slide1_0011762_PeriglomDefined.h5ad',\n",
    "    './output_dataobjects/Slide3_0011546_PeriglomDefined.h5ad',\n",
    "    './output_dataobjects/Slide4_0011216_PeriglomDefined.h5ad',\n",
    "    './output_dataobjects/Slide5_0011707_PeriglomDefined.h5ad',\n",
    "    './output_dataobjects/Slide6_0011695_PeriglomDefined.h5ad',\n",
    "    './output_dataobjects/Slide7_0011284_PeriglomDefined.h5ad',\n",
    "    './output_dataobjects/Slide8_0011287_PeriglomDefined.h5ad',\n",
    "    './output_dataobjects/Slide9_0018775_PeriglomDefined.h5ad'\n",
    "]"
   ]
  },
  {
   "cell_type": "code",
   "execution_count": null,
   "id": "e9be2df4-2dcc-4456-86e7-7f90d686faf1",
   "metadata": {},
   "outputs": [],
   "source": [
    "PeriGlom_Slides_list = []\n",
    "\n",
    "for data_file in PeriGlom_Slides:\n",
    "    slide = sc.read_h5ad(filename=data_file)\n",
    "    PeriGlom_Slides_list.append(slide)\n",
    "\n",
    "# Concatenate the list of AnnData objects into one\n",
    "#adata = PeriGlom_Slides_list[0].concat(PeriGlom_Slides_list[1:],\n",
    "#                                       index_unique = None,\n",
    "#                                       merge='same',\n",
    "#                                       uns_merge='same' )\n",
    "\n",
    "adata_withuns = ad.concat(PeriGlom_Slides_list,index_unique = None,\n",
    "                                       merge='unique',\n",
    "                                       uns_merge='unique')\n"
   ]
  },
  {
   "cell_type": "code",
   "execution_count": null,
   "id": "7362ef53-e90c-4608-b324-308159095159",
   "metadata": {},
   "outputs": [],
   "source": [
    "Slide_IDs = [\n",
    "    adata_withuns.obs['Slide_ID'] == \"0011762\",  #Slide1\n",
    "    adata_withuns.obs['Slide_ID'] == \"0011546\",  #Slide3\n",
    "    adata_withuns.obs['Slide_ID'] == \"0011216\",  #Slide4\n",
    "    adata_withuns.obs['Slide_ID'] == \"0011707\",  #Slide5\n",
    "    adata_withuns.obs['Slide_ID'] == \"0011695\",  #Slide6\n",
    "    adata_withuns.obs['Slide_ID'] == \"0011284\",  #Slide7\n",
    "    adata_withuns.obs['Slide_ID'] == \"0011287\",  #Slide8\n",
    "    adata_withuns.obs['Slide_ID'] == \"0018775\"   #Slide9\n",
    "]\n",
    "\n",
    "# Corresponding slide numbers\n",
    "Slide_nums = [\"Slide1\", \"Slide3\", \"Slide4\",\"Slide5\", \"Slide6\", \"Slide7\", \"Slide8\", \"Slide9\"]\n",
    "\n",
    "# Default value if none of the Slide_IDs match\n",
    "default_value = \"Other\"\n",
    "\n",
    "# Assign Slide_num based on Slide_IDs. # this ias based on the order in which conditions are written\n",
    "adata_withuns.obs['Slide_num'] = np.select(Slide_IDs, Slide_nums, default=default_value)"
   ]
  },
  {
   "cell_type": "code",
   "execution_count": null,
   "id": "ec3bf53f-8e35-4d8c-8a99-45126ee4b21a",
   "metadata": {},
   "outputs": [],
   "source": [
    "# Update the Disease labels as were used previously\n",
    "conditions = [\n",
    "  adata_withuns.obs['Disease'] == 'SLE',  \n",
    "  adata_withuns.obs['Disease'] == 'ANCA',  \n",
    "  adata_withuns.obs['Disease'] == 'GBM'    \n",
    "]\n",
    "\n",
    "# Corresponding new values for each condition\n",
    "new_values = [\n",
    "  'Sle',   # Update 'SLE' to 'Sle'\n",
    "  'Anca',  # Update 'ANCA' to 'Anca'\n",
    "  'Gbm'    # Update 'GBM' to 'Gbm'\n",
    "]\n",
    "\n",
    "# Use numpy.select to apply conditions\n",
    "adata_withuns.obs['Disease'] = np.select(conditions, new_values, default=adata_withuns.obs['Disease'])"
   ]
  },
  {
   "cell_type": "code",
   "execution_count": null,
   "id": "45d5afa6-b141-4d67-bcb3-45289cbb9111",
   "metadata": {},
   "outputs": [],
   "source": [
    "adata_withuns.write('./output_dataobjects/Slides_ALL_PeriglomDefined_withuns.h5ad')"
   ]
  },
  {
   "cell_type": "code",
   "execution_count": null,
   "id": "6750e17a-2902-4152-8b82-bd25149db1d1",
   "metadata": {},
   "outputs": [],
   "source": []
  }
 ],
 "metadata": {
  "kernelspec": {
   "display_name": "Python 3 (ipykernel)",
   "language": "python",
   "name": "python3"
  },
  "language_info": {
   "codemirror_mode": {
    "name": "ipython",
    "version": 3
   },
   "file_extension": ".py",
   "mimetype": "text/x-python",
   "name": "python",
   "nbconvert_exporter": "python",
   "pygments_lexer": "ipython3",
   "version": "3.9.7"
  }
 },
 "nbformat": 4,
 "nbformat_minor": 5
}
