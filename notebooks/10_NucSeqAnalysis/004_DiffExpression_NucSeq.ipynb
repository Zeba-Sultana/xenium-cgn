{
 "cells": [
  {
   "cell_type": "code",
   "execution_count": 1,
   "id": "0ad1ee70-5839-4595-b1a4-304f1ec566f8",
   "metadata": {},
   "outputs": [],
   "source": [
    "import scanpy as sc\n",
    "import pandas as pd\n",
    "import numpy as np\n",
    "import random\n",
    "import os\n"
   ]
  },
  {
   "cell_type": "code",
   "execution_count": 2,
   "id": "f6bce311-75a8-4c53-a4c2-b598738e536d",
   "metadata": {},
   "outputs": [],
   "source": [
    "random.seed(42)\n",
    "np.random.seed(42)"
   ]
  },
  {
   "cell_type": "code",
   "execution_count": 3,
   "id": "4ff428d1-d91f-476b-b2c8-4797376b8057",
   "metadata": {},
   "outputs": [],
   "source": [
    "out_dir = 'output'\n",
    "os.makedirs(out_dir, exist_ok=True)"
   ]
  },
  {
   "cell_type": "code",
   "execution_count": 4,
   "id": "48b543b2-1e3a-44c7-a674-cf727f6ea826",
   "metadata": {},
   "outputs": [],
   "source": [
    "#adata= sc.read_h5ad(\"/data/projects/robin/segmentation/classify_nuc/sn_annotated_210325.h5ad\")\n",
    "adata= sc.read_h5ad(\"./output/NucSeq_integrated_v1_annotated_oldTransfer.h5ad\")"
   ]
  },
  {
   "cell_type": "code",
   "execution_count": 5,
   "id": "30d8f00c-5e0e-45d3-956f-870fc5fee142",
   "metadata": {},
   "outputs": [
    {
     "data": {
      "text/html": [
       "<div>\n",
       "<style scoped>\n",
       "    .dataframe tbody tr th:only-of-type {\n",
       "        vertical-align: middle;\n",
       "    }\n",
       "\n",
       "    .dataframe tbody tr th {\n",
       "        vertical-align: top;\n",
       "    }\n",
       "\n",
       "    .dataframe thead th {\n",
       "        text-align: right;\n",
       "    }\n",
       "</style>\n",
       "<table border=\"1\" class=\"dataframe\">\n",
       "  <thead>\n",
       "    <tr style=\"text-align: right;\">\n",
       "      <th></th>\n",
       "      <th>sample</th>\n",
       "      <th>n_genes_by_counts</th>\n",
       "      <th>log1p_n_genes_by_counts</th>\n",
       "      <th>total_counts</th>\n",
       "      <th>log1p_total_counts</th>\n",
       "      <th>pct_counts_in_top_50_genes</th>\n",
       "      <th>pct_counts_in_top_100_genes</th>\n",
       "      <th>pct_counts_in_top_200_genes</th>\n",
       "      <th>pct_counts_in_top_500_genes</th>\n",
       "      <th>total_counts_mt</th>\n",
       "      <th>...</th>\n",
       "      <th>pct_counts_ribo</th>\n",
       "      <th>total_counts_hb</th>\n",
       "      <th>log1p_total_counts_hb</th>\n",
       "      <th>pct_counts_hb</th>\n",
       "      <th>n_genes</th>\n",
       "      <th>leiden</th>\n",
       "      <th>Disease</th>\n",
       "      <th>celltype_l1_codes</th>\n",
       "      <th>celltype_l1_prob</th>\n",
       "      <th>celltype_l1</th>\n",
       "    </tr>\n",
       "  </thead>\n",
       "  <tbody>\n",
       "    <tr>\n",
       "      <th>AAACGCTCACGCGCTA-1</th>\n",
       "      <td>nCN017K</td>\n",
       "      <td>3905</td>\n",
       "      <td>8.270269</td>\n",
       "      <td>11472.0</td>\n",
       "      <td>9.347752</td>\n",
       "      <td>20.231869</td>\n",
       "      <td>26.847978</td>\n",
       "      <td>35.887378</td>\n",
       "      <td>51.664923</td>\n",
       "      <td>526.0</td>\n",
       "      <td>...</td>\n",
       "      <td>0.252789</td>\n",
       "      <td>3.0</td>\n",
       "      <td>1.386294</td>\n",
       "      <td>0.026151</td>\n",
       "      <td>3905</td>\n",
       "      <td>7</td>\n",
       "      <td>Cntrl</td>\n",
       "      <td>1.000000</td>\n",
       "      <td>1.000000</td>\n",
       "      <td>IC</td>\n",
       "    </tr>\n",
       "    <tr>\n",
       "      <th>AAAGAACAGCACTCTA-1</th>\n",
       "      <td>nCN017K</td>\n",
       "      <td>2105</td>\n",
       "      <td>7.652546</td>\n",
       "      <td>4236.0</td>\n",
       "      <td>8.351611</td>\n",
       "      <td>21.813031</td>\n",
       "      <td>28.918791</td>\n",
       "      <td>38.456091</td>\n",
       "      <td>56.043437</td>\n",
       "      <td>335.0</td>\n",
       "      <td>...</td>\n",
       "      <td>0.306893</td>\n",
       "      <td>0.0</td>\n",
       "      <td>0.000000</td>\n",
       "      <td>0.000000</td>\n",
       "      <td>2105</td>\n",
       "      <td>2</td>\n",
       "      <td>Cntrl</td>\n",
       "      <td>0.994376</td>\n",
       "      <td>0.994376</td>\n",
       "      <td>DTL</td>\n",
       "    </tr>\n",
       "    <tr>\n",
       "      <th>AAAGGATAGCATTGTC-1</th>\n",
       "      <td>nCN017K</td>\n",
       "      <td>1729</td>\n",
       "      <td>7.455877</td>\n",
       "      <td>4007.0</td>\n",
       "      <td>8.296047</td>\n",
       "      <td>35.687547</td>\n",
       "      <td>42.924881</td>\n",
       "      <td>52.083853</td>\n",
       "      <td>68.380334</td>\n",
       "      <td>310.0</td>\n",
       "      <td>...</td>\n",
       "      <td>0.299476</td>\n",
       "      <td>1.0</td>\n",
       "      <td>0.693147</td>\n",
       "      <td>0.024956</td>\n",
       "      <td>1729</td>\n",
       "      <td>10</td>\n",
       "      <td>Cntrl</td>\n",
       "      <td>1.000000</td>\n",
       "      <td>1.000000</td>\n",
       "      <td>podocyte</td>\n",
       "    </tr>\n",
       "    <tr>\n",
       "      <th>AAAGGGCAGAATCGAT-1</th>\n",
       "      <td>nCN017K</td>\n",
       "      <td>2692</td>\n",
       "      <td>7.898411</td>\n",
       "      <td>7303.0</td>\n",
       "      <td>8.896177</td>\n",
       "      <td>23.798439</td>\n",
       "      <td>31.671916</td>\n",
       "      <td>41.859510</td>\n",
       "      <td>59.304395</td>\n",
       "      <td>149.0</td>\n",
       "      <td>...</td>\n",
       "      <td>0.205395</td>\n",
       "      <td>0.0</td>\n",
       "      <td>0.000000</td>\n",
       "      <td>0.000000</td>\n",
       "      <td>2692</td>\n",
       "      <td>7</td>\n",
       "      <td>Cntrl</td>\n",
       "      <td>1.000000</td>\n",
       "      <td>1.000000</td>\n",
       "      <td>IC</td>\n",
       "    </tr>\n",
       "    <tr>\n",
       "      <th>AAAGGGCCACCTCAGG-1</th>\n",
       "      <td>nCN017K</td>\n",
       "      <td>1097</td>\n",
       "      <td>7.001246</td>\n",
       "      <td>1653.0</td>\n",
       "      <td>7.410952</td>\n",
       "      <td>26.134301</td>\n",
       "      <td>32.788869</td>\n",
       "      <td>44.888082</td>\n",
       "      <td>63.883848</td>\n",
       "      <td>119.0</td>\n",
       "      <td>...</td>\n",
       "      <td>0.362976</td>\n",
       "      <td>1.0</td>\n",
       "      <td>0.693147</td>\n",
       "      <td>0.060496</td>\n",
       "      <td>1097</td>\n",
       "      <td>3</td>\n",
       "      <td>Cntrl</td>\n",
       "      <td>0.995571</td>\n",
       "      <td>0.995571</td>\n",
       "      <td>CNT</td>\n",
       "    </tr>\n",
       "  </tbody>\n",
       "</table>\n",
       "<p>5 rows × 24 columns</p>\n",
       "</div>"
      ],
      "text/plain": [
       "                     sample  n_genes_by_counts  log1p_n_genes_by_counts  \\\n",
       "AAACGCTCACGCGCTA-1  nCN017K               3905                 8.270269   \n",
       "AAAGAACAGCACTCTA-1  nCN017K               2105                 7.652546   \n",
       "AAAGGATAGCATTGTC-1  nCN017K               1729                 7.455877   \n",
       "AAAGGGCAGAATCGAT-1  nCN017K               2692                 7.898411   \n",
       "AAAGGGCCACCTCAGG-1  nCN017K               1097                 7.001246   \n",
       "\n",
       "                    total_counts  log1p_total_counts  \\\n",
       "AAACGCTCACGCGCTA-1       11472.0            9.347752   \n",
       "AAAGAACAGCACTCTA-1        4236.0            8.351611   \n",
       "AAAGGATAGCATTGTC-1        4007.0            8.296047   \n",
       "AAAGGGCAGAATCGAT-1        7303.0            8.896177   \n",
       "AAAGGGCCACCTCAGG-1        1653.0            7.410952   \n",
       "\n",
       "                    pct_counts_in_top_50_genes  pct_counts_in_top_100_genes  \\\n",
       "AAACGCTCACGCGCTA-1                   20.231869                    26.847978   \n",
       "AAAGAACAGCACTCTA-1                   21.813031                    28.918791   \n",
       "AAAGGATAGCATTGTC-1                   35.687547                    42.924881   \n",
       "AAAGGGCAGAATCGAT-1                   23.798439                    31.671916   \n",
       "AAAGGGCCACCTCAGG-1                   26.134301                    32.788869   \n",
       "\n",
       "                    pct_counts_in_top_200_genes  pct_counts_in_top_500_genes  \\\n",
       "AAACGCTCACGCGCTA-1                    35.887378                    51.664923   \n",
       "AAAGAACAGCACTCTA-1                    38.456091                    56.043437   \n",
       "AAAGGATAGCATTGTC-1                    52.083853                    68.380334   \n",
       "AAAGGGCAGAATCGAT-1                    41.859510                    59.304395   \n",
       "AAAGGGCCACCTCAGG-1                    44.888082                    63.883848   \n",
       "\n",
       "                    total_counts_mt  ...  pct_counts_ribo  total_counts_hb  \\\n",
       "AAACGCTCACGCGCTA-1            526.0  ...         0.252789              3.0   \n",
       "AAAGAACAGCACTCTA-1            335.0  ...         0.306893              0.0   \n",
       "AAAGGATAGCATTGTC-1            310.0  ...         0.299476              1.0   \n",
       "AAAGGGCAGAATCGAT-1            149.0  ...         0.205395              0.0   \n",
       "AAAGGGCCACCTCAGG-1            119.0  ...         0.362976              1.0   \n",
       "\n",
       "                    log1p_total_counts_hb  pct_counts_hb  n_genes  leiden  \\\n",
       "AAACGCTCACGCGCTA-1               1.386294       0.026151     3905       7   \n",
       "AAAGAACAGCACTCTA-1               0.000000       0.000000     2105       2   \n",
       "AAAGGATAGCATTGTC-1               0.693147       0.024956     1729      10   \n",
       "AAAGGGCAGAATCGAT-1               0.000000       0.000000     2692       7   \n",
       "AAAGGGCCACCTCAGG-1               0.693147       0.060496     1097       3   \n",
       "\n",
       "                    Disease  celltype_l1_codes  celltype_l1_prob celltype_l1  \n",
       "AAACGCTCACGCGCTA-1    Cntrl           1.000000          1.000000          IC  \n",
       "AAAGAACAGCACTCTA-1    Cntrl           0.994376          0.994376         DTL  \n",
       "AAAGGATAGCATTGTC-1    Cntrl           1.000000          1.000000    podocyte  \n",
       "AAAGGGCAGAATCGAT-1    Cntrl           1.000000          1.000000          IC  \n",
       "AAAGGGCCACCTCAGG-1    Cntrl           0.995571          0.995571         CNT  \n",
       "\n",
       "[5 rows x 24 columns]"
      ]
     },
     "execution_count": 5,
     "metadata": {},
     "output_type": "execute_result"
    }
   ],
   "source": [
    "adata.obs.head()"
   ]
  },
  {
   "cell_type": "code",
   "execution_count": 6,
   "id": "b40f9d9d-a940-49c3-adc5-a0d6eb715303",
   "metadata": {},
   "outputs": [],
   "source": [
    "adata.obs['Category']= np.where(adata.obs['sample'].str.contains('CN'), 'Ctrl', 'ANCA_Patient')"
   ]
  },
  {
   "cell_type": "code",
   "execution_count": 7,
   "id": "76f3ef95-7ef4-49ee-a3d2-0f2c8eb50bdf",
   "metadata": {},
   "outputs": [
    {
     "data": {
      "text/plain": [
       "Category\n",
       "Ctrl            84805\n",
       "ANCA_Patient    51571\n",
       "Name: count, dtype: int64"
      ]
     },
     "execution_count": 7,
     "metadata": {},
     "output_type": "execute_result"
    }
   ],
   "source": [
    "adata.obs['Category'].value_counts()"
   ]
  },
  {
   "cell_type": "markdown",
   "id": "af5d70af-3db2-44b8-bc58-2732c143db24",
   "metadata": {},
   "source": [
    "## Cntrl Vs ANCA : Overall"
   ]
  },
  {
   "cell_type": "code",
   "execution_count": 8,
   "id": "410b9b94-d690-48f8-aa3f-28910960f8f7",
   "metadata": {},
   "outputs": [
    {
     "name": "stderr",
     "output_type": "stream",
     "text": [
      "/home/zsultana/.local/lib/python3.9/site-packages/numpy/core/fromnumeric.py:84: FutureWarning: The behavior of DataFrame.sum with axis=None is deprecated, in a future version this will reduce over both axes and return a scalar. To retain the old behavior, pass axis=0 (or do not pass axis)\n",
      "  return reduction(axis=axis, out=out, **passkwargs)\n"
     ]
    },
    {
     "data": {
      "image/png": "[encoded data removed]",
      "text/plain": [
       "<Figure size 460.8x345.6 with 1 Axes>"
      ]
     },
     "metadata": {
      "needs_background": "light"
     },
     "output_type": "display_data"
    }
   ],
   "source": [
    "sc.tl.rank_genes_groups(adata, 'Category', groups=['ANCA_Patient'], reference='Ctrl', method='wilcoxon',use_raw=True, pts=True)\n",
    "sc.pl.rank_genes_groups(adata, groups=['ANCA_Patient'], n_genes=25)"
   ]
  },
  {
   "cell_type": "code",
   "execution_count": 9,
   "id": "29ea9837-3b4e-4694-b082-bd4a5344e990",
   "metadata": {},
   "outputs": [
    {
     "name": "stderr",
     "output_type": "stream",
     "text": [
      "/home/zsultana/.local/lib/python3.9/site-packages/scanpy/get/get.py:69: FutureWarning: The previous implementation of stack is deprecated and will be removed in a future version of pandas. See the What's New notes for pandas 2.1.0 for details. Specify future_stack=True to adopt the new implementation and silence this warning.\n",
      "  d = d.stack(level=1).reset_index()\n"
     ]
    }
   ],
   "source": [
    "Diff_Genes_ANCA = sc.get.rank_genes_groups_df(adata, group=\"ANCA_Patient\")\n",
    "#Diff_Genes_ANCA.to_csv(\"Diff_Genes_ANCA.csv\")\n",
    "Diff_Genes_ANCA.to_csv(os.path.join(out_dir,\"Diff_Genes_ANCA.csv\"),index=False)"
   ]
  },
  {
   "cell_type": "markdown",
   "id": "9d96c2c3-3362-4b6a-bdd4-c117add8aae7",
   "metadata": {},
   "source": [
    "## Cntrl Vs ANCA : PECs"
   ]
  },
  {
   "cell_type": "code",
   "execution_count": 10,
   "id": "10c83643-1796-4493-a192-72e89359c292",
   "metadata": {},
   "outputs": [],
   "source": [
    "adata.obs[\"celltype_l1_Category\"]= adata.obs['celltype_l1'].astype(str) + \"_\" + adata.obs['Category'].astype(str)"
   ]
  },
  {
   "cell_type": "code",
   "execution_count": 11,
   "id": "8f8261b8-08d0-4a93-8817-991892f53c13",
   "metadata": {},
   "outputs": [
    {
     "data": {
      "text/plain": [
       "array(['IC_Ctrl', 'DTL_Ctrl', 'podocyte_Ctrl', 'CNT_Ctrl', 'PT_Ctrl',\n",
       "       'PC_Ctrl', 'PEC_Ctrl', 'T_Ctrl', 'TAL_Ctrl', 'DCT_Ctrl', 'EC_Ctrl',\n",
       "       'Mono_Ctrl', 'EC_ANCA_Patient', 'PT_ANCA_Patient',\n",
       "       'IC_ANCA_Patient', 'DTL_ANCA_Patient', 'podocyte_ANCA_Patient',\n",
       "       'PC_ANCA_Patient', 'B_ANCA_Patient', 'mesangial cell_ANCA_Patient',\n",
       "       'PEC_ANCA_Patient', 'TAL_ANCA_Patient', 'DCT_ANCA_Patient',\n",
       "       'PL_ANCA_Patient', 'Mono_ANCA_Patient', 'ATL_ANCA_Patient',\n",
       "       'NEU_ANCA_Patient', 'FIB_ANCA_Patient', 'cycNKC/T_ANCA_Patient',\n",
       "       'MDC_ANCA_Patient', 'CNT_ANCA_Patient', 'cDC_ANCA_Patient',\n",
       "       'NKC/T_ANCA_Patient', 'FIB_Ctrl', 'PL_Ctrl', 'MDC_Ctrl',\n",
       "       'ATL_Ctrl', 'VSM/P_Ctrl', 'MAST_Ctrl', 'NKC/T_Ctrl', 'MAC_Ctrl',\n",
       "       'mesangial cell_Ctrl', 'N_Ctrl', 'B_Ctrl', 'MAC_ANCA_Patient',\n",
       "       'VSM/P_ANCA_Patient', 'pDC_ANCA_Patient', 'T_ANCA_Patient',\n",
       "       'cycMNP_ANCA_Patient', 'MAST_ANCA_Patient', 'N_ANCA_Patient'],\n",
       "      dtype=object)"
      ]
     },
     "execution_count": 11,
     "metadata": {},
     "output_type": "execute_result"
    }
   ],
   "source": [
    "adata.obs[\"celltype_l1_Category\"].unique()"
   ]
  },
  {
   "cell_type": "code",
   "execution_count": 12,
   "id": "a1ad37bf-0c70-4f7b-8cf0-4f1a83147bf0",
   "metadata": {},
   "outputs": [
    {
     "name": "stderr",
     "output_type": "stream",
     "text": [
      "/home/zsultana/.local/lib/python3.9/site-packages/numpy/core/fromnumeric.py:84: FutureWarning: The behavior of DataFrame.sum with axis=None is deprecated, in a future version this will reduce over both axes and return a scalar. To retain the old behavior, pass axis=0 (or do not pass axis)\n",
      "  return reduction(axis=axis, out=out, **passkwargs)\n"
     ]
    },
    {
     "data": {
      "image/png": "[encoded data removed]",
      "text/plain": [
       "<Figure size 432x288 with 1 Axes>"
      ]
     },
     "metadata": {
      "needs_background": "light"
     },
     "output_type": "display_data"
    }
   ],
   "source": [
    "sc.tl.rank_genes_groups(adata, 'celltype_l1_Category', groups=['PEC_ANCA_Patient'], reference='PEC_Ctrl', method='wilcoxon',use_raw=True, \n",
    "                       pts=True,logfc=True)\n",
    "sc.pl.rank_genes_groups(adata, groups=['PEC_ANCA_Patient'], n_genes=25)"
   ]
  },
  {
   "cell_type": "code",
   "execution_count": 13,
   "id": "e80d3380-bb81-43a0-b48e-0f15d08782b9",
   "metadata": {},
   "outputs": [
    {
     "name": "stderr",
     "output_type": "stream",
     "text": [
      "/home/zsultana/.local/lib/python3.9/site-packages/scanpy/get/get.py:69: FutureWarning: The previous implementation of stack is deprecated and will be removed in a future version of pandas. See the What's New notes for pandas 2.1.0 for details. Specify future_stack=True to adopt the new implementation and silence this warning.\n",
      "  d = d.stack(level=1).reset_index()\n"
     ]
    }
   ],
   "source": [
    "Diff_Genes_PEC_ANCA = sc.get.rank_genes_groups_df(adata, group=\"PEC_ANCA_Patient\")\n",
    "#Diff_Genes_PEC_ANCA.to_csv(\"Diff_Genes_PEC_ANCA.csv\")\n",
    "Diff_Genes_PEC_ANCA.to_csv(os.path.join(out_dir,\"Diff_Genes_PEC_ANCA.csv\"),index=False)"
   ]
  },
  {
   "cell_type": "markdown",
   "id": "5dc5c2d0-cc48-4c29-ace4-10f257f5a028",
   "metadata": {},
   "source": [
    "## Other Method by subsetting PECs first"
   ]
  },
  {
   "cell_type": "code",
   "execution_count": 14,
   "id": "4f54848a-0a51-47fa-ad1c-54da56da098c",
   "metadata": {},
   "outputs": [],
   "source": [
    "adata_PEC = adata[adata.obs['celltype_l1'] == 'PEC',:]"
   ]
  },
  {
   "cell_type": "code",
   "execution_count": 15,
   "id": "fa5e2ac6-a5e2-4f4d-bef4-04fe31121dcc",
   "metadata": {},
   "outputs": [
    {
     "data": {
      "text/plain": [
       "Category\n",
       "ANCA_Patient    2336\n",
       "Ctrl             252\n",
       "Name: count, dtype: int64"
      ]
     },
     "execution_count": 15,
     "metadata": {},
     "output_type": "execute_result"
    }
   ],
   "source": [
    "adata_PEC.obs['Category'].value_counts()"
   ]
  },
  {
   "cell_type": "code",
   "execution_count": 16,
   "id": "baf5da44-fdc8-4511-b74e-20046065743a",
   "metadata": {},
   "outputs": [
    {
     "name": "stderr",
     "output_type": "stream",
     "text": [
      "/home/zsultana/.local/lib/python3.9/site-packages/scanpy/tools/_rank_genes_groups.py:582: ImplicitModificationWarning: Trying to modify attribute `._uns` of view, initializing view as actual.\n",
      "  adata.uns[key_added] = {}\n",
      "/home/zsultana/.local/lib/python3.9/site-packages/numpy/core/fromnumeric.py:84: FutureWarning: The behavior of DataFrame.sum with axis=None is deprecated, in a future version this will reduce over both axes and return a scalar. To retain the old behavior, pass axis=0 (or do not pass axis)\n",
      "  return reduction(axis=axis, out=out, **passkwargs)\n"
     ]
    },
    {
     "data": {
      "image/png": "[encoded data removed]",
      "text/plain": [
       "<Figure size 432x288 with 1 Axes>"
      ]
     },
     "metadata": {
      "needs_background": "light"
     },
     "output_type": "display_data"
    }
   ],
   "source": [
    "sc.tl.rank_genes_groups(adata_PEC, 'Category', groups=['ANCA_Patient'], reference='Ctrl', method='wilcoxon', use_raw=True, key_added = \"wilcoxon\")\n",
    "sc.pl.rank_genes_groups(adata_PEC, n_genes=25, sharey=False, key=\"wilcoxon\")"
   ]
  },
  {
   "cell_type": "code",
   "execution_count": 17,
   "id": "e8a0ae37-1a7a-4e8c-9591-74ee8ba7153d",
   "metadata": {},
   "outputs": [
    {
     "name": "stderr",
     "output_type": "stream",
     "text": [
      "/home/zsultana/.local/lib/python3.9/site-packages/numpy/core/fromnumeric.py:84: FutureWarning: The behavior of DataFrame.sum with axis=None is deprecated, in a future version this will reduce over both axes and return a scalar. To retain the old behavior, pass axis=0 (or do not pass axis)\n",
      "  return reduction(axis=axis, out=out, **passkwargs)\n"
     ]
    },
    {
     "data": {
      "image/png": "[encoded data removed]",
      "text/plain": [
       "<Figure size 432x288 with 1 Axes>"
      ]
     },
     "metadata": {
      "needs_background": "light"
     },
     "output_type": "display_data"
    }
   ],
   "source": [
    "sc.tl.rank_genes_groups(adata_PEC, 'Category', groups=['ANCA_Patient'], reference='Ctrl', method='wilcoxon',use_raw=True, pts=True)\n",
    "sc.pl.rank_genes_groups(adata_PEC, groups=['ANCA_Patient'], n_genes=25)"
   ]
  },
  {
   "cell_type": "code",
   "execution_count": 18,
   "id": "e5c604b4-5a24-42b5-bbf6-a7093cb347d2",
   "metadata": {},
   "outputs": [
    {
     "name": "stderr",
     "output_type": "stream",
     "text": [
      "/home/zsultana/.local/lib/python3.9/site-packages/scanpy/plotting/_anndata.py:839: FutureWarning: \n",
      "\n",
      "Passing `palette` without assigning `hue` is deprecated and will be removed in v0.14.0. Assign the `x` variable to `hue` and set `legend=False` for the same effect.\n",
      "\n",
      "  ax = sns.violinplot(\n",
      "/home/zsultana/.local/lib/python3.9/site-packages/scanpy/plotting/_anndata.py:839: FutureWarning: \n",
      "\n",
      "The `scale` parameter has been renamed and will be removed in v0.15.0. Pass `density_norm='width'` for the same effect.\n",
      "  ax = sns.violinplot(\n",
      "/home/zsultana/.local/lib/python3.9/site-packages/scanpy/plotting/_anndata.py:839: FutureWarning: \n",
      "\n",
      "Passing `palette` without assigning `hue` is deprecated and will be removed in v0.14.0. Assign the `x` variable to `hue` and set `legend=False` for the same effect.\n",
      "\n",
      "  ax = sns.violinplot(\n",
      "/home/zsultana/.local/lib/python3.9/site-packages/scanpy/plotting/_anndata.py:839: FutureWarning: \n",
      "\n",
      "The `scale` parameter has been renamed and will be removed in v0.15.0. Pass `density_norm='width'` for the same effect.\n",
      "  ax = sns.violinplot(\n",
      "/home/zsultana/.local/lib/python3.9/site-packages/scanpy/plotting/_anndata.py:839: FutureWarning: \n",
      "\n",
      "Passing `palette` without assigning `hue` is deprecated and will be removed in v0.14.0. Assign the `x` variable to `hue` and set `legend=False` for the same effect.\n",
      "\n",
      "  ax = sns.violinplot(\n",
      "/home/zsultana/.local/lib/python3.9/site-packages/scanpy/plotting/_anndata.py:839: FutureWarning: \n",
      "\n",
      "The `scale` parameter has been renamed and will be removed in v0.15.0. Pass `density_norm='width'` for the same effect.\n",
      "  ax = sns.violinplot(\n",
      "/home/zsultana/.local/lib/python3.9/site-packages/scanpy/plotting/_anndata.py:839: FutureWarning: \n",
      "\n",
      "Passing `palette` without assigning `hue` is deprecated and will be removed in v0.14.0. Assign the `x` variable to `hue` and set `legend=False` for the same effect.\n",
      "\n",
      "  ax = sns.violinplot(\n",
      "/home/zsultana/.local/lib/python3.9/site-packages/scanpy/plotting/_anndata.py:839: FutureWarning: \n",
      "\n",
      "The `scale` parameter has been renamed and will be removed in v0.15.0. Pass `density_norm='width'` for the same effect.\n",
      "  ax = sns.violinplot(\n",
      "/home/zsultana/.local/lib/python3.9/site-packages/scanpy/plotting/_anndata.py:839: FutureWarning: \n",
      "\n",
      "Passing `palette` without assigning `hue` is deprecated and will be removed in v0.14.0. Assign the `x` variable to `hue` and set `legend=False` for the same effect.\n",
      "\n",
      "  ax = sns.violinplot(\n",
      "/home/zsultana/.local/lib/python3.9/site-packages/scanpy/plotting/_anndata.py:839: FutureWarning: \n",
      "\n",
      "The `scale` parameter has been renamed and will be removed in v0.15.0. Pass `density_norm='width'` for the same effect.\n",
      "  ax = sns.violinplot(\n"
     ]
    },
    {
     "data": {
      "image/png": "[encoded data removed]",
      "text/plain": [
       "<Figure size 2690.64x288 with 5 Axes>"
      ]
     },
     "metadata": {
      "needs_background": "light"
     },
     "output_type": "display_data"
    }
   ],
   "source": [
    "sc.pl.violin(adata_PEC, keys=['PDGFC', 'STAT1', 'PRKCA', 'NRG1', 'ADAMTS1'], groupby=\"Category\", stripplot=True)"
   ]
  },
  {
   "cell_type": "code",
   "execution_count": 19,
   "id": "9a03da32-f026-4d41-928f-f99abd38b672",
   "metadata": {},
   "outputs": [
    {
     "name": "stderr",
     "output_type": "stream",
     "text": [
      "/home/zsultana/.local/lib/python3.9/site-packages/scanpy/get/get.py:69: FutureWarning: The previous implementation of stack is deprecated and will be removed in a future version of pandas. See the What's New notes for pandas 2.1.0 for details. Specify future_stack=True to adopt the new implementation and silence this warning.\n",
      "  d = d.stack(level=1).reset_index()\n"
     ]
    }
   ],
   "source": [
    "Diff_Genes_PEC_ANCA_v2 = sc.get.rank_genes_groups_df(adata_PEC, group=\"ANCA_Patient\")\n",
    "#Diff_Genes_PEC_ANCA_v2.to_csv(\"Diff_Genes_PEC_ANCA_v2.csv\")\n",
    "Diff_Genes_PEC_ANCA_v2.to_csv(os.path.join(out_dir,\"Diff_Genes_PEC_ANCA.csv\"),index=False)"
   ]
  },
  {
   "cell_type": "code",
   "execution_count": 20,
   "id": "3acfe1f9-247c-4660-ab4c-6238f543b59d",
   "metadata": {},
   "outputs": [
    {
     "data": {
      "text/html": [
       "<div>\n",
       "<style scoped>\n",
       "    .dataframe tbody tr th:only-of-type {\n",
       "        vertical-align: middle;\n",
       "    }\n",
       "\n",
       "    .dataframe tbody tr th {\n",
       "        vertical-align: top;\n",
       "    }\n",
       "\n",
       "    .dataframe thead th {\n",
       "        text-align: right;\n",
       "    }\n",
       "</style>\n",
       "<table border=\"1\" class=\"dataframe\">\n",
       "  <thead>\n",
       "    <tr style=\"text-align: right;\">\n",
       "      <th></th>\n",
       "      <th>names</th>\n",
       "      <th>scores</th>\n",
       "      <th>logfoldchanges</th>\n",
       "      <th>pvals</th>\n",
       "      <th>pvals_adj</th>\n",
       "      <th>pct_nz_group</th>\n",
       "    </tr>\n",
       "  </thead>\n",
       "  <tbody>\n",
       "    <tr>\n",
       "      <th>0</th>\n",
       "      <td>CDH6</td>\n",
       "      <td>18.819456</td>\n",
       "      <td>4.971034</td>\n",
       "      <td>5.231850e-79</td>\n",
       "      <td>1.737183e-74</td>\n",
       "      <td>0.779110</td>\n",
       "    </tr>\n",
       "    <tr>\n",
       "      <th>1</th>\n",
       "      <td>IGFBP7</td>\n",
       "      <td>15.547451</td>\n",
       "      <td>2.875345</td>\n",
       "      <td>1.655658e-54</td>\n",
       "      <td>1.832483e-50</td>\n",
       "      <td>0.810788</td>\n",
       "    </tr>\n",
       "    <tr>\n",
       "      <th>2</th>\n",
       "      <td>NRG3</td>\n",
       "      <td>15.456943</td>\n",
       "      <td>3.054313</td>\n",
       "      <td>6.773825e-54</td>\n",
       "      <td>5.622952e-50</td>\n",
       "      <td>0.809075</td>\n",
       "    </tr>\n",
       "    <tr>\n",
       "      <th>3</th>\n",
       "      <td>MT-ATP6</td>\n",
       "      <td>12.504777</td>\n",
       "      <td>2.439852</td>\n",
       "      <td>7.029680e-36</td>\n",
       "      <td>2.593483e-32</td>\n",
       "      <td>0.920377</td>\n",
       "    </tr>\n",
       "    <tr>\n",
       "      <th>4</th>\n",
       "      <td>MT-CO2</td>\n",
       "      <td>12.378598</td>\n",
       "      <td>2.420685</td>\n",
       "      <td>3.412524e-35</td>\n",
       "      <td>1.133094e-31</td>\n",
       "      <td>0.933647</td>\n",
       "    </tr>\n",
       "    <tr>\n",
       "      <th>...</th>\n",
       "      <td>...</td>\n",
       "      <td>...</td>\n",
       "      <td>...</td>\n",
       "      <td>...</td>\n",
       "      <td>...</td>\n",
       "      <td>...</td>\n",
       "    </tr>\n",
       "    <tr>\n",
       "      <th>33199</th>\n",
       "      <td>ACSM2A</td>\n",
       "      <td>-12.776124</td>\n",
       "      <td>-2.667674</td>\n",
       "      <td>2.229034e-37</td>\n",
       "      <td>9.251607e-34</td>\n",
       "      <td>0.386986</td>\n",
       "    </tr>\n",
       "    <tr>\n",
       "      <th>33200</th>\n",
       "      <td>SYNE2</td>\n",
       "      <td>-13.159010</td>\n",
       "      <td>-1.280044</td>\n",
       "      <td>1.510530e-39</td>\n",
       "      <td>7.165090e-36</td>\n",
       "      <td>0.885274</td>\n",
       "    </tr>\n",
       "    <tr>\n",
       "      <th>33201</th>\n",
       "      <td>FKBP5</td>\n",
       "      <td>-13.674552</td>\n",
       "      <td>-2.445658</td>\n",
       "      <td>1.440929e-42</td>\n",
       "      <td>7.974101e-39</td>\n",
       "      <td>0.420805</td>\n",
       "    </tr>\n",
       "    <tr>\n",
       "      <th>33202</th>\n",
       "      <td>PTH2R</td>\n",
       "      <td>-14.702441</td>\n",
       "      <td>-2.049240</td>\n",
       "      <td>6.217722e-49</td>\n",
       "      <td>4.129065e-45</td>\n",
       "      <td>0.749572</td>\n",
       "    </tr>\n",
       "    <tr>\n",
       "      <th>33203</th>\n",
       "      <td>CYP3A5</td>\n",
       "      <td>-17.930302</td>\n",
       "      <td>-3.846540</td>\n",
       "      <td>6.840731e-72</td>\n",
       "      <td>1.135698e-67</td>\n",
       "      <td>0.355308</td>\n",
       "    </tr>\n",
       "  </tbody>\n",
       "</table>\n",
       "<p>33204 rows × 6 columns</p>\n",
       "</div>"
      ],
      "text/plain": [
       "         names     scores  logfoldchanges         pvals     pvals_adj  \\\n",
       "0         CDH6  18.819456        4.971034  5.231850e-79  1.737183e-74   \n",
       "1       IGFBP7  15.547451        2.875345  1.655658e-54  1.832483e-50   \n",
       "2         NRG3  15.456943        3.054313  6.773825e-54  5.622952e-50   \n",
       "3      MT-ATP6  12.504777        2.439852  7.029680e-36  2.593483e-32   \n",
       "4       MT-CO2  12.378598        2.420685  3.412524e-35  1.133094e-31   \n",
       "...        ...        ...             ...           ...           ...   \n",
       "33199   ACSM2A -12.776124       -2.667674  2.229034e-37  9.251607e-34   \n",
       "33200    SYNE2 -13.159010       -1.280044  1.510530e-39  7.165090e-36   \n",
       "33201    FKBP5 -13.674552       -2.445658  1.440929e-42  7.974101e-39   \n",
       "33202    PTH2R -14.702441       -2.049240  6.217722e-49  4.129065e-45   \n",
       "33203   CYP3A5 -17.930302       -3.846540  6.840731e-72  1.135698e-67   \n",
       "\n",
       "       pct_nz_group  \n",
       "0          0.779110  \n",
       "1          0.810788  \n",
       "2          0.809075  \n",
       "3          0.920377  \n",
       "4          0.933647  \n",
       "...             ...  \n",
       "33199      0.386986  \n",
       "33200      0.885274  \n",
       "33201      0.420805  \n",
       "33202      0.749572  \n",
       "33203      0.355308  \n",
       "\n",
       "[33204 rows x 6 columns]"
      ]
     },
     "execution_count": 20,
     "metadata": {},
     "output_type": "execute_result"
    }
   ],
   "source": [
    "Diff_Genes_PEC_ANCA_v2"
   ]
  },
  {
   "cell_type": "markdown",
   "id": "4a81b39d-b857-4be5-a017-f44ff1ba8a77",
   "metadata": {},
   "source": [
    "## DEG:TGFb and PDGF pathways"
   ]
  },
  {
   "cell_type": "code",
   "execution_count": 22,
   "id": "68138288-d2de-4cb8-b665-e220f7e70b44",
   "metadata": {},
   "outputs": [
    {
     "data": {
      "text/html": [
       "<div>\n",
       "<style scoped>\n",
       "    .dataframe tbody tr th:only-of-type {\n",
       "        vertical-align: middle;\n",
       "    }\n",
       "\n",
       "    .dataframe tbody tr th {\n",
       "        vertical-align: top;\n",
       "    }\n",
       "\n",
       "    .dataframe thead th {\n",
       "        text-align: right;\n",
       "    }\n",
       "</style>\n",
       "<table border=\"1\" class=\"dataframe\">\n",
       "  <thead>\n",
       "    <tr style=\"text-align: right;\">\n",
       "      <th></th>\n",
       "      <th>names</th>\n",
       "      <th>scores</th>\n",
       "      <th>logfoldchanges</th>\n",
       "      <th>pvals</th>\n",
       "      <th>pvals_adj</th>\n",
       "      <th>pct_nz_group</th>\n",
       "    </tr>\n",
       "  </thead>\n",
       "  <tbody>\n",
       "    <tr>\n",
       "      <th>82</th>\n",
       "      <td>PDGFC</td>\n",
       "      <td>7.810683</td>\n",
       "      <td>1.822554</td>\n",
       "      <td>5.687894e-15</td>\n",
       "      <td>1.781706e-12</td>\n",
       "      <td>0.491010</td>\n",
       "    </tr>\n",
       "    <tr>\n",
       "      <th>108</th>\n",
       "      <td>NRG1</td>\n",
       "      <td>7.262088</td>\n",
       "      <td>2.114858</td>\n",
       "      <td>3.811609e-13</td>\n",
       "      <td>8.728323e-11</td>\n",
       "      <td>0.399829</td>\n",
       "    </tr>\n",
       "    <tr>\n",
       "      <th>109</th>\n",
       "      <td>ADAMTS1</td>\n",
       "      <td>7.244740</td>\n",
       "      <td>2.933600</td>\n",
       "      <td>4.332687e-13</td>\n",
       "      <td>9.853598e-11</td>\n",
       "      <td>0.328767</td>\n",
       "    </tr>\n",
       "    <tr>\n",
       "      <th>119</th>\n",
       "      <td>STAT1</td>\n",
       "      <td>7.081914</td>\n",
       "      <td>1.935406</td>\n",
       "      <td>1.421767e-12</td>\n",
       "      <td>2.976694e-10</td>\n",
       "      <td>0.402825</td>\n",
       "    </tr>\n",
       "    <tr>\n",
       "      <th>457</th>\n",
       "      <td>PRKCA</td>\n",
       "      <td>4.495819</td>\n",
       "      <td>0.820778</td>\n",
       "      <td>6.930269e-06</td>\n",
       "      <td>4.116505e-04</td>\n",
       "      <td>0.565497</td>\n",
       "    </tr>\n",
       "  </tbody>\n",
       "</table>\n",
       "</div>"
      ],
      "text/plain": [
       "       names    scores  logfoldchanges         pvals     pvals_adj  \\\n",
       "82     PDGFC  7.810683        1.822554  5.687894e-15  1.781706e-12   \n",
       "108     NRG1  7.262088        2.114858  3.811609e-13  8.728323e-11   \n",
       "109  ADAMTS1  7.244740        2.933600  4.332687e-13  9.853598e-11   \n",
       "119    STAT1  7.081914        1.935406  1.421767e-12  2.976694e-10   \n",
       "457    PRKCA  4.495819        0.820778  6.930269e-06  4.116505e-04   \n",
       "\n",
       "     pct_nz_group  \n",
       "82       0.491010  \n",
       "108      0.399829  \n",
       "109      0.328767  \n",
       "119      0.402825  \n",
       "457      0.565497  "
      ]
     },
     "execution_count": 22,
     "metadata": {},
     "output_type": "execute_result"
    }
   ],
   "source": [
    "df = pd.read_csv(os.path.join(out_dir,\"Diff_Genes_PEC_ANCA.csv\"))\n",
    "\n",
    "## PDGF pathway\n",
    "goi = ['PDGFC', 'STAT1', 'PRKCA', 'NRG1', 'ADAMTS1']\n",
    "PDGF_pathwaygenes = df[df['names'].isin(goi)]\n",
    "PDGF_pathwaygenes"
   ]
  },
  {
   "cell_type": "code",
   "execution_count": 23,
   "id": "3fc8e532-d604-44bd-9cbd-1f9c513dc68c",
   "metadata": {},
   "outputs": [
    {
     "data": {
      "text/html": [
       "<div>\n",
       "<style scoped>\n",
       "    .dataframe tbody tr th:only-of-type {\n",
       "        vertical-align: middle;\n",
       "    }\n",
       "\n",
       "    .dataframe tbody tr th {\n",
       "        vertical-align: top;\n",
       "    }\n",
       "\n",
       "    .dataframe thead th {\n",
       "        text-align: right;\n",
       "    }\n",
       "</style>\n",
       "<table border=\"1\" class=\"dataframe\">\n",
       "  <thead>\n",
       "    <tr style=\"text-align: right;\">\n",
       "      <th></th>\n",
       "      <th>names</th>\n",
       "      <th>scores</th>\n",
       "      <th>logfoldchanges</th>\n",
       "      <th>pvals</th>\n",
       "      <th>pvals_adj</th>\n",
       "      <th>pct_nz_group</th>\n",
       "    </tr>\n",
       "  </thead>\n",
       "  <tbody>\n",
       "    <tr>\n",
       "      <th>37</th>\n",
       "      <td>NOX4</td>\n",
       "      <td>9.062137</td>\n",
       "      <td>2.223059</td>\n",
       "      <td>1.279197e-19</td>\n",
       "      <td>7.865643e-17</td>\n",
       "      <td>0.517551</td>\n",
       "    </tr>\n",
       "    <tr>\n",
       "      <th>100</th>\n",
       "      <td>BMPR2</td>\n",
       "      <td>7.454019</td>\n",
       "      <td>1.487759</td>\n",
       "      <td>9.053938e-14</td>\n",
       "      <td>2.312515e-11</td>\n",
       "      <td>0.560788</td>\n",
       "    </tr>\n",
       "    <tr>\n",
       "      <th>143</th>\n",
       "      <td>COL4A1</td>\n",
       "      <td>6.619745</td>\n",
       "      <td>1.377514</td>\n",
       "      <td>3.598179e-11</td>\n",
       "      <td>6.354997e-09</td>\n",
       "      <td>0.508562</td>\n",
       "    </tr>\n",
       "    <tr>\n",
       "      <th>151</th>\n",
       "      <td>NCOR2</td>\n",
       "      <td>6.492635</td>\n",
       "      <td>1.501552</td>\n",
       "      <td>8.434809e-11</td>\n",
       "      <td>1.414492e-08</td>\n",
       "      <td>0.426370</td>\n",
       "    </tr>\n",
       "    <tr>\n",
       "      <th>245</th>\n",
       "      <td>BMPR1A</td>\n",
       "      <td>5.579744</td>\n",
       "      <td>1.272326</td>\n",
       "      <td>2.408732e-08</td>\n",
       "      <td>2.632919e-06</td>\n",
       "      <td>0.407106</td>\n",
       "    </tr>\n",
       "    <tr>\n",
       "      <th>276</th>\n",
       "      <td>UBE2D3</td>\n",
       "      <td>5.332222</td>\n",
       "      <td>1.327432</td>\n",
       "      <td>9.701850e-08</td>\n",
       "      <td>9.502662e-06</td>\n",
       "      <td>0.369007</td>\n",
       "    </tr>\n",
       "  </tbody>\n",
       "</table>\n",
       "</div>"
      ],
      "text/plain": [
       "      names    scores  logfoldchanges         pvals     pvals_adj  \\\n",
       "37     NOX4  9.062137        2.223059  1.279197e-19  7.865643e-17   \n",
       "100   BMPR2  7.454019        1.487759  9.053938e-14  2.312515e-11   \n",
       "143  COL4A1  6.619745        1.377514  3.598179e-11  6.354997e-09   \n",
       "151   NCOR2  6.492635        1.501552  8.434809e-11  1.414492e-08   \n",
       "245  BMPR1A  5.579744        1.272326  2.408732e-08  2.632919e-06   \n",
       "276  UBE2D3  5.332222        1.327432  9.701850e-08  9.502662e-06   \n",
       "\n",
       "     pct_nz_group  \n",
       "37       0.517551  \n",
       "100      0.560788  \n",
       "143      0.508562  \n",
       "151      0.426370  \n",
       "245      0.407106  \n",
       "276      0.369007  "
      ]
     },
     "execution_count": 23,
     "metadata": {},
     "output_type": "execute_result"
    }
   ],
   "source": [
    "df = pd.read_csv(os.path.join(out_dir,\"Diff_Genes_PEC_ANCA.csv\"))\n",
    "\n",
    "## TGFB pathway\n",
    "goi = ['BMPR1A', 'BMPR2', 'NCOR2', 'UBE2D3', 'NOX4', 'COL4A1']\n",
    "TGFB_pathwaygenes = df[df['names'].isin(goi)]\n",
    "TGFB_pathwaygenes"
   ]
  },
  {
   "cell_type": "code",
   "execution_count": 24,
   "id": "1ca27ec1-c6fc-4e2b-be92-fb419628ce90",
   "metadata": {},
   "outputs": [
    {
     "data": {
      "text/html": [
       "<div>\n",
       "<style scoped>\n",
       "    .dataframe tbody tr th:only-of-type {\n",
       "        vertical-align: middle;\n",
       "    }\n",
       "\n",
       "    .dataframe tbody tr th {\n",
       "        vertical-align: top;\n",
       "    }\n",
       "\n",
       "    .dataframe thead th {\n",
       "        text-align: right;\n",
       "    }\n",
       "</style>\n",
       "<table border=\"1\" class=\"dataframe\">\n",
       "  <thead>\n",
       "    <tr style=\"text-align: right;\">\n",
       "      <th></th>\n",
       "      <th>names</th>\n",
       "      <th>scores</th>\n",
       "      <th>logfoldchanges</th>\n",
       "      <th>pvals</th>\n",
       "      <th>pvals_adj</th>\n",
       "      <th>pct_nz_group</th>\n",
       "    </tr>\n",
       "  </thead>\n",
       "  <tbody>\n",
       "    <tr>\n",
       "      <th>183</th>\n",
       "      <td>PDGFC</td>\n",
       "      <td>59.921150</td>\n",
       "      <td>1.200719</td>\n",
       "      <td>0.000000e+00</td>\n",
       "      <td>0.000000e+00</td>\n",
       "      <td>0.376588</td>\n",
       "    </tr>\n",
       "    <tr>\n",
       "      <th>4984</th>\n",
       "      <td>TGFB1</td>\n",
       "      <td>14.529234</td>\n",
       "      <td>1.182989</td>\n",
       "      <td>7.910056e-48</td>\n",
       "      <td>4.893711e-47</td>\n",
       "      <td>0.070117</td>\n",
       "    </tr>\n",
       "  </tbody>\n",
       "</table>\n",
       "</div>"
      ],
      "text/plain": [
       "      names     scores  logfoldchanges         pvals     pvals_adj  \\\n",
       "183   PDGFC  59.921150        1.200719  0.000000e+00  0.000000e+00   \n",
       "4984  TGFB1  14.529234        1.182989  7.910056e-48  4.893711e-47   \n",
       "\n",
       "      pct_nz_group  \n",
       "183       0.376588  \n",
       "4984      0.070117  "
      ]
     },
     "execution_count": 24,
     "metadata": {},
     "output_type": "execute_result"
    }
   ],
   "source": [
    "df = pd.read_csv(os.path.join(out_dir,\"Diff_Genes_ANCA.csv\"))\n",
    "\n",
    "## Ligands\n",
    "goi = ['TGFB1', 'PDGFC']\n",
    "ligands = df[df['names'].isin(goi)]\n",
    "ligands"
   ]
  },
  {
   "cell_type": "code",
   "execution_count": null,
   "id": "b152f671-dc4f-4f0e-a980-93c18b4b4af2",
   "metadata": {},
   "outputs": [],
   "source": []
  }
 ],
 "metadata": {
  "kernelspec": {
   "display_name": "Python 3 (ipykernel)",
   "language": "python",
   "name": "python3"
  },
  "language_info": {
   "codemirror_mode": {
    "name": "ipython",
    "version": 3
   },
   "file_extension": ".py",
   "mimetype": "text/x-python",
   "name": "python",
   "nbconvert_exporter": "python",
   "pygments_lexer": "ipython3",
   "version": "3.9.7"
  }
 },
 "nbformat": 4,
 "nbformat_minor": 5
}
