{
 "cells": [
  {
   "cell_type": "code",
   "execution_count": 57,
   "id": "2c13f671-dc80-4878-96df-0a82aa703e3d",
   "metadata": {},
   "outputs": [],
   "source": [
    "import os\n",
    "import numpy as np\n",
    "import pandas as pd\n",
    "from matplotlib import cm\n",
    "from tqdm import tqdm\n",
    "import json\n",
    "import anndata as ad\n",
    "\n",
    "import matplotlib.pyplot as plt\n",
    "import seaborn as sns\n",
    "\n",
    "import scanpy as sc\n",
    "import squidpy as sq\n",
    "\n",
    "from scipy.stats import pearsonr\n",
    "import scipy.sparse\n",
    "\n",
    "import pandas as pd\n",
    "import seaborn as sns\n",
    "import matplotlib.pyplot as plt\n",
    "\n",
    "import warnings\n",
    "warnings.filterwarnings('ignore')"
   ]
  },
  {
   "cell_type": "code",
   "execution_count": 58,
   "id": "237613d2-1d2f-4c05-aee9-9c2f61e47572",
   "metadata": {},
   "outputs": [],
   "source": [
    "adata = sc.read_h5ad(\"/data/projects/robin/segmentation/new-slide-glom-periglom-ps/pseudotime.h5ad\")"
   ]
  },
  {
   "cell_type": "code",
   "execution_count": 59,
   "id": "8eaf4703-8dc4-48de-a0fd-cc938039648b",
   "metadata": {},
   "outputs": [
    {
     "data": {
      "text/html": [
       "<div>\n",
       "<style scoped>\n",
       "    .dataframe tbody tr th:only-of-type {\n",
       "        vertical-align: middle;\n",
       "    }\n",
       "\n",
       "    .dataframe tbody tr th {\n",
       "        vertical-align: top;\n",
       "    }\n",
       "\n",
       "    .dataframe thead th {\n",
       "        text-align: right;\n",
       "    }\n",
       "</style>\n",
       "<table border=\"1\" class=\"dataframe\">\n",
       "  <thead>\n",
       "    <tr style=\"text-align: right;\">\n",
       "      <th></th>\n",
       "      <th>Disease</th>\n",
       "      <th>dpt_pseudotime</th>\n",
       "      <th>Pseudotime</th>\n",
       "      <th>Slide_ID</th>\n",
       "      <th>Ki67_prot</th>\n",
       "      <th>CD44_prot</th>\n",
       "      <th>TGFB</th>\n",
       "      <th>PDGF</th>\n",
       "    </tr>\n",
       "    <tr>\n",
       "      <th>polygon_flags</th>\n",
       "      <th></th>\n",
       "      <th></th>\n",
       "      <th></th>\n",
       "      <th></th>\n",
       "      <th></th>\n",
       "      <th></th>\n",
       "      <th></th>\n",
       "      <th></th>\n",
       "    </tr>\n",
       "  </thead>\n",
       "  <tbody>\n",
       "    <tr>\n",
       "      <th>0_0011186_ANCA_X3_slide2</th>\n",
       "      <td>ANCA</td>\n",
       "      <td>0.557568</td>\n",
       "      <td>0.557568</td>\n",
       "      <td>0011186</td>\n",
       "      <td>3.169925</td>\n",
       "      <td>13.225659</td>\n",
       "      <td>0.039008</td>\n",
       "      <td>0.009414</td>\n",
       "    </tr>\n",
       "    <tr>\n",
       "      <th>0_0011186_ANCA_X4_slide2</th>\n",
       "      <td>ANCA</td>\n",
       "      <td>0.416435</td>\n",
       "      <td>0.416435</td>\n",
       "      <td>0011186</td>\n",
       "      <td>0.000000</td>\n",
       "      <td>1.000000</td>\n",
       "      <td>0.020137</td>\n",
       "      <td>0.072077</td>\n",
       "    </tr>\n",
       "    <tr>\n",
       "      <th>0_0011186_ANCA_X6_slide2</th>\n",
       "      <td>ANCA</td>\n",
       "      <td>0.417834</td>\n",
       "      <td>0.417834</td>\n",
       "      <td>0011186</td>\n",
       "      <td>12.573411</td>\n",
       "      <td>14.814282</td>\n",
       "      <td>0.004359</td>\n",
       "      <td>0.047995</td>\n",
       "    </tr>\n",
       "    <tr>\n",
       "      <th>0_0011186_Cntrl_X1_slide2</th>\n",
       "      <td>Control</td>\n",
       "      <td>0.000000</td>\n",
       "      <td>0.000000</td>\n",
       "      <td>0011186</td>\n",
       "      <td>0.000000</td>\n",
       "      <td>0.000000</td>\n",
       "      <td>0.001060</td>\n",
       "      <td>0.038192</td>\n",
       "    </tr>\n",
       "    <tr>\n",
       "      <th>0_0011186_Cntrl_X2_slide2</th>\n",
       "      <td>Control</td>\n",
       "      <td>0.106783</td>\n",
       "      <td>0.106783</td>\n",
       "      <td>0011186</td>\n",
       "      <td>0.000000</td>\n",
       "      <td>1.000000</td>\n",
       "      <td>0.033462</td>\n",
       "      <td>0.053815</td>\n",
       "    </tr>\n",
       "    <tr>\n",
       "      <th>...</th>\n",
       "      <td>...</td>\n",
       "      <td>...</td>\n",
       "      <td>...</td>\n",
       "      <td>...</td>\n",
       "      <td>...</td>\n",
       "      <td>...</td>\n",
       "      <td>...</td>\n",
       "      <td>...</td>\n",
       "    </tr>\n",
       "    <tr>\n",
       "      <th>7_0011186_Cntrl_X2_slide2</th>\n",
       "      <td>Control</td>\n",
       "      <td>0.239479</td>\n",
       "      <td>0.239479</td>\n",
       "      <td>0011186</td>\n",
       "      <td>3.000000</td>\n",
       "      <td>0.000000</td>\n",
       "      <td>0.005284</td>\n",
       "      <td>0.021387</td>\n",
       "    </tr>\n",
       "    <tr>\n",
       "      <th>8_0011186_Cntrl_X1_slide2</th>\n",
       "      <td>Control</td>\n",
       "      <td>0.075411</td>\n",
       "      <td>0.075411</td>\n",
       "      <td>0011186</td>\n",
       "      <td>10.202124</td>\n",
       "      <td>13.682007</td>\n",
       "      <td>0.006020</td>\n",
       "      <td>0.054870</td>\n",
       "    </tr>\n",
       "    <tr>\n",
       "      <th>8_0011186_Cntrl_X2_slide2</th>\n",
       "      <td>Control</td>\n",
       "      <td>0.283191</td>\n",
       "      <td>0.283191</td>\n",
       "      <td>0011186</td>\n",
       "      <td>0.000000</td>\n",
       "      <td>0.000000</td>\n",
       "      <td>0.005646</td>\n",
       "      <td>0.011361</td>\n",
       "    </tr>\n",
       "    <tr>\n",
       "      <th>9_0011186_Cntrl_X1_slide2</th>\n",
       "      <td>Control</td>\n",
       "      <td>0.093601</td>\n",
       "      <td>0.093601</td>\n",
       "      <td>0011186</td>\n",
       "      <td>8.857981</td>\n",
       "      <td>9.529431</td>\n",
       "      <td>0.001920</td>\n",
       "      <td>0.037695</td>\n",
       "    </tr>\n",
       "    <tr>\n",
       "      <th>9_0011186_Cntrl_X2_slide2</th>\n",
       "      <td>Control</td>\n",
       "      <td>0.268351</td>\n",
       "      <td>0.268351</td>\n",
       "      <td>0011186</td>\n",
       "      <td>0.000000</td>\n",
       "      <td>0.000000</td>\n",
       "      <td>0.015066</td>\n",
       "      <td>0.014400</td>\n",
       "    </tr>\n",
       "  </tbody>\n",
       "</table>\n",
       "<p>90 rows × 8 columns</p>\n",
       "</div>"
      ],
      "text/plain": [
       "                           Disease  dpt_pseudotime  Pseudotime Slide_ID  \\\n",
       "polygon_flags                                                             \n",
       "0_0011186_ANCA_X3_slide2      ANCA        0.557568    0.557568  0011186   \n",
       "0_0011186_ANCA_X4_slide2      ANCA        0.416435    0.416435  0011186   \n",
       "0_0011186_ANCA_X6_slide2      ANCA        0.417834    0.417834  0011186   \n",
       "0_0011186_Cntrl_X1_slide2  Control        0.000000    0.000000  0011186   \n",
       "0_0011186_Cntrl_X2_slide2  Control        0.106783    0.106783  0011186   \n",
       "...                            ...             ...         ...      ...   \n",
       "7_0011186_Cntrl_X2_slide2  Control        0.239479    0.239479  0011186   \n",
       "8_0011186_Cntrl_X1_slide2  Control        0.075411    0.075411  0011186   \n",
       "8_0011186_Cntrl_X2_slide2  Control        0.283191    0.283191  0011186   \n",
       "9_0011186_Cntrl_X1_slide2  Control        0.093601    0.093601  0011186   \n",
       "9_0011186_Cntrl_X2_slide2  Control        0.268351    0.268351  0011186   \n",
       "\n",
       "                           Ki67_prot  CD44_prot      TGFB      PDGF  \n",
       "polygon_flags                                                        \n",
       "0_0011186_ANCA_X3_slide2    3.169925  13.225659  0.039008  0.009414  \n",
       "0_0011186_ANCA_X4_slide2    0.000000   1.000000  0.020137  0.072077  \n",
       "0_0011186_ANCA_X6_slide2   12.573411  14.814282  0.004359  0.047995  \n",
       "0_0011186_Cntrl_X1_slide2   0.000000   0.000000  0.001060  0.038192  \n",
       "0_0011186_Cntrl_X2_slide2   0.000000   1.000000  0.033462  0.053815  \n",
       "...                              ...        ...       ...       ...  \n",
       "7_0011186_Cntrl_X2_slide2   3.000000   0.000000  0.005284  0.021387  \n",
       "8_0011186_Cntrl_X1_slide2  10.202124  13.682007  0.006020  0.054870  \n",
       "8_0011186_Cntrl_X2_slide2   0.000000   0.000000  0.005646  0.011361  \n",
       "9_0011186_Cntrl_X1_slide2   8.857981   9.529431  0.001920  0.037695  \n",
       "9_0011186_Cntrl_X2_slide2   0.000000   0.000000  0.015066  0.014400  \n",
       "\n",
       "[90 rows x 8 columns]"
      ]
     },
     "execution_count": 59,
     "metadata": {},
     "output_type": "execute_result"
    }
   ],
   "source": [
    "adata.obs"
   ]
  },
  {
   "cell_type": "code",
   "execution_count": 60,
   "id": "5f47127e-8de1-4a77-b467-5a8a6f6c6238",
   "metadata": {},
   "outputs": [
    {
     "data": {
      "text/plain": [
       "['ANCA', 'Control', 'aGBM', 'SLE']\n",
       "Categories (4, object): ['Control', 'SLE', 'ANCA', 'aGBM']"
      ]
     },
     "execution_count": 60,
     "metadata": {},
     "output_type": "execute_result"
    }
   ],
   "source": [
    "disease_set = adata.obs['Disease'].unique()\n",
    "disease_set"
   ]
  },
  {
   "cell_type": "code",
   "execution_count": 61,
   "id": "dbdd35bc-9257-4c74-94c6-6dca7c0154f7",
   "metadata": {},
   "outputs": [],
   "source": [
    "disease_order = ['Control', 'SLE', 'ANCA', 'aGBM']\n",
    "df = adata.obs\n",
    "df['label'] = pd.Categorical(df['Disease'], categories=disease_order, ordered=True)"
   ]
  },
  {
   "cell_type": "code",
   "execution_count": 62,
   "id": "c55dc740-2460-44d2-8ade-e0a83ac1db5f",
   "metadata": {},
   "outputs": [
    {
     "data": {
      "image/png": "[encoded data removed]",
      "text/plain": [
       "<Figure size 1200x500 with 2 Axes>"
      ]
     },
     "metadata": {},
     "output_type": "display_data"
    }
   ],
   "source": [
    "fig, axes = plt.subplots(1, 2, figsize=(12, 5))\n",
    "\n",
    "ch = 'Ki67_prot'\n",
    "sns.barplot(x='label', y=ch, data=df, ax=axes[0], errorbar='se', order=disease_order)\n",
    "axes[0].set_title('Barplot of Ki67 with respect to disease', fontsize=16)\n",
    "axes[0].set_xlabel('Disease', fontsize=14)\n",
    "# axes[0].set_ylabel('x', fontsize=14)\n",
    "axes[0].tick_params(axis='x', labelsize=14)\n",
    "axes[0].tick_params(axis='y', labelsize=12)\n",
    "\n",
    "sns.boxplot(x='label', y=ch, data=df, ax=axes[1], order=disease_order)\n",
    "axes[1].set_title('Barplot of Ki67 with respect to disease', fontsize=16)\n",
    "axes[1].set_xlabel('Disease', fontsize=14)\n",
    "# axes[1].set_ylabel('x', fontsize=14)\n",
    "axes[1].tick_params(axis='x', labelsize=14)\n",
    "axes[1].tick_params(axis='y', labelsize=12)\n",
    "\n",
    "\n",
    "plt.tight_layout()\n",
    "plt.show()"
   ]
  },
  {
   "cell_type": "code",
   "execution_count": 63,
   "id": "5b9c8254-1c14-4bf6-8c06-a8608d52e597",
   "metadata": {},
   "outputs": [
    {
     "data": {
      "image/png": "[encoded data removed]",
      "text/plain": [
       "<Figure size 640x480 with 1 Axes>"
      ]
     },
     "metadata": {},
     "output_type": "display_data"
    }
   ],
   "source": [
    "plt.hist(df[ch], 100);\n"
   ]
  },
  {
   "cell_type": "code",
   "execution_count": 66,
   "id": "1b86e221-973d-440d-9cc0-c84d5c6b02b6",
   "metadata": {},
   "outputs": [
    {
     "data": {
      "text/plain": [
       "<Axes: xlabel='Ki67_prot', ylabel='Count'>"
      ]
     },
     "execution_count": 66,
     "metadata": {},
     "output_type": "execute_result"
    },
    {
     "data": {
      "image/png": "[encoded data removed]",
      "text/plain": [
       "<Figure size 640x480 with 1 Axes>"
      ]
     },
     "metadata": {},
     "output_type": "display_data"
    }
   ],
   "source": [
    "sns.histplot(df.loc[df['Disease'] == disease_order[0], ch], bins= 100,kde = True)"
   ]
  },
  {
   "cell_type": "code",
   "execution_count": 67,
   "id": "3f5953d9-10b5-4db8-b311-35c774fa6eeb",
   "metadata": {},
   "outputs": [
    {
     "data": {
      "text/plain": [
       "<Axes: xlabel='Ki67_prot', ylabel='Count'>"
      ]
     },
     "execution_count": 67,
     "metadata": {},
     "output_type": "execute_result"
    },
    {
     "data": {
      "image/png": "[encoded data removed]",
      "text/plain": [
       "<Figure size 640x480 with 1 Axes>"
      ]
     },
     "metadata": {},
     "output_type": "display_data"
    }
   ],
   "source": [
    "sns.histplot(df.loc[df['Disease'] == disease_order[1], ch], bins= 100,kde = True)"
   ]
  },
  {
   "cell_type": "code",
   "execution_count": 68,
   "id": "f45b95d8-c479-4ad3-a2e0-115742bed6ef",
   "metadata": {},
   "outputs": [
    {
     "data": {
      "text/plain": [
       "<Axes: xlabel='Ki67_prot', ylabel='Count'>"
      ]
     },
     "execution_count": 68,
     "metadata": {},
     "output_type": "execute_result"
    },
    {
     "data": {
      "image/png": "[encoded data removed]",
      "text/plain": [
       "<Figure size 640x480 with 1 Axes>"
      ]
     },
     "metadata": {},
     "output_type": "display_data"
    }
   ],
   "source": [
    "sns.histplot(df.loc[df['Disease'] == disease_order[2], ch], bins= 100,kde = True)"
   ]
  },
  {
   "cell_type": "code",
   "execution_count": 69,
   "id": "1f3a5f94-7e2d-40ef-9d33-d9d41429501b",
   "metadata": {},
   "outputs": [
    {
     "data": {
      "text/plain": [
       "<Axes: xlabel='Ki67_prot', ylabel='Count'>"
      ]
     },
     "execution_count": 69,
     "metadata": {},
     "output_type": "execute_result"
    },
    {
     "data": {
      "image/png": "[encoded data removed]",
      "text/plain": [
       "<Figure size 640x480 with 1 Axes>"
      ]
     },
     "metadata": {},
     "output_type": "display_data"
    }
   ],
   "source": [
    "sns.histplot(df.loc[df['Disease'] == disease_order[3], ch], bins= 100,kde = True)"
   ]
  },
  {
   "cell_type": "code",
   "execution_count": null,
   "id": "8715e4da-f73d-45db-9689-ccd7e39e9181",
   "metadata": {},
   "outputs": [],
   "source": []
  },
  {
   "cell_type": "code",
   "execution_count": 34,
   "id": "a4c9b354-02b4-4702-9a19-8164648da99b",
   "metadata": {},
   "outputs": [
    {
     "data": {
      "text/html": [
       "<div>\n",
       "<style scoped>\n",
       "    .dataframe tbody tr th:only-of-type {\n",
       "        vertical-align: middle;\n",
       "    }\n",
       "\n",
       "    .dataframe tbody tr th {\n",
       "        vertical-align: top;\n",
       "    }\n",
       "\n",
       "    .dataframe thead th {\n",
       "        text-align: right;\n",
       "    }\n",
       "</style>\n",
       "<table border=\"1\" class=\"dataframe\">\n",
       "  <thead>\n",
       "    <tr style=\"text-align: right;\">\n",
       "      <th></th>\n",
       "      <th>Disease</th>\n",
       "      <th>Ki67_prc</th>\n",
       "      <th>dpt_pseudotime</th>\n",
       "      <th>Pseudotime</th>\n",
       "      <th>Slide_ID</th>\n",
       "      <th>Ki67_prot</th>\n",
       "      <th>CD44_prot</th>\n",
       "      <th>TGFB</th>\n",
       "      <th>PDGF</th>\n",
       "      <th>label</th>\n",
       "    </tr>\n",
       "  </thead>\n",
       "  <tbody>\n",
       "    <tr>\n",
       "      <th>0</th>\n",
       "      <td>ANCA</td>\n",
       "      <td>0</td>\n",
       "      <td>0.557568</td>\n",
       "      <td>0.557568</td>\n",
       "      <td>0011186</td>\n",
       "      <td>3.169925</td>\n",
       "      <td>13.225659</td>\n",
       "      <td>0.039008</td>\n",
       "      <td>0.009414</td>\n",
       "      <td>ANCA</td>\n",
       "    </tr>\n",
       "    <tr>\n",
       "      <th>1</th>\n",
       "      <td>ANCA</td>\n",
       "      <td>0</td>\n",
       "      <td>0.416435</td>\n",
       "      <td>0.416435</td>\n",
       "      <td>0011186</td>\n",
       "      <td>0.000000</td>\n",
       "      <td>1.000000</td>\n",
       "      <td>0.020137</td>\n",
       "      <td>0.072077</td>\n",
       "      <td>ANCA</td>\n",
       "    </tr>\n",
       "    <tr>\n",
       "      <th>2</th>\n",
       "      <td>ANCA</td>\n",
       "      <td>0</td>\n",
       "      <td>0.417834</td>\n",
       "      <td>0.417834</td>\n",
       "      <td>0011186</td>\n",
       "      <td>12.573411</td>\n",
       "      <td>14.814282</td>\n",
       "      <td>0.004359</td>\n",
       "      <td>0.047995</td>\n",
       "      <td>ANCA</td>\n",
       "    </tr>\n",
       "    <tr>\n",
       "      <th>3</th>\n",
       "      <td>Control</td>\n",
       "      <td>0</td>\n",
       "      <td>0.000000</td>\n",
       "      <td>0.000000</td>\n",
       "      <td>0011186</td>\n",
       "      <td>0.000000</td>\n",
       "      <td>0.000000</td>\n",
       "      <td>0.001060</td>\n",
       "      <td>0.038192</td>\n",
       "      <td>Control</td>\n",
       "    </tr>\n",
       "    <tr>\n",
       "      <th>4</th>\n",
       "      <td>Control</td>\n",
       "      <td>0</td>\n",
       "      <td>0.106783</td>\n",
       "      <td>0.106783</td>\n",
       "      <td>0011186</td>\n",
       "      <td>0.000000</td>\n",
       "      <td>1.000000</td>\n",
       "      <td>0.033462</td>\n",
       "      <td>0.053815</td>\n",
       "      <td>Control</td>\n",
       "    </tr>\n",
       "    <tr>\n",
       "      <th>...</th>\n",
       "      <td>...</td>\n",
       "      <td>...</td>\n",
       "      <td>...</td>\n",
       "      <td>...</td>\n",
       "      <td>...</td>\n",
       "      <td>...</td>\n",
       "      <td>...</td>\n",
       "      <td>...</td>\n",
       "      <td>...</td>\n",
       "      <td>...</td>\n",
       "    </tr>\n",
       "    <tr>\n",
       "      <th>85</th>\n",
       "      <td>Control</td>\n",
       "      <td>0</td>\n",
       "      <td>0.239479</td>\n",
       "      <td>0.239479</td>\n",
       "      <td>0011186</td>\n",
       "      <td>3.000000</td>\n",
       "      <td>0.000000</td>\n",
       "      <td>0.005284</td>\n",
       "      <td>0.021387</td>\n",
       "      <td>Control</td>\n",
       "    </tr>\n",
       "    <tr>\n",
       "      <th>86</th>\n",
       "      <td>Control</td>\n",
       "      <td>0</td>\n",
       "      <td>0.075411</td>\n",
       "      <td>0.075411</td>\n",
       "      <td>0011186</td>\n",
       "      <td>10.202124</td>\n",
       "      <td>13.682007</td>\n",
       "      <td>0.006020</td>\n",
       "      <td>0.054870</td>\n",
       "      <td>Control</td>\n",
       "    </tr>\n",
       "    <tr>\n",
       "      <th>87</th>\n",
       "      <td>Control</td>\n",
       "      <td>0</td>\n",
       "      <td>0.283191</td>\n",
       "      <td>0.283191</td>\n",
       "      <td>0011186</td>\n",
       "      <td>0.000000</td>\n",
       "      <td>0.000000</td>\n",
       "      <td>0.005646</td>\n",
       "      <td>0.011361</td>\n",
       "      <td>Control</td>\n",
       "    </tr>\n",
       "    <tr>\n",
       "      <th>88</th>\n",
       "      <td>Control</td>\n",
       "      <td>0</td>\n",
       "      <td>0.093601</td>\n",
       "      <td>0.093601</td>\n",
       "      <td>0011186</td>\n",
       "      <td>8.857981</td>\n",
       "      <td>9.529431</td>\n",
       "      <td>0.001920</td>\n",
       "      <td>0.037695</td>\n",
       "      <td>Control</td>\n",
       "    </tr>\n",
       "    <tr>\n",
       "      <th>89</th>\n",
       "      <td>Control</td>\n",
       "      <td>0</td>\n",
       "      <td>0.268351</td>\n",
       "      <td>0.268351</td>\n",
       "      <td>0011186</td>\n",
       "      <td>0.000000</td>\n",
       "      <td>0.000000</td>\n",
       "      <td>0.015066</td>\n",
       "      <td>0.014400</td>\n",
       "      <td>Control</td>\n",
       "    </tr>\n",
       "  </tbody>\n",
       "</table>\n",
       "<p>90 rows × 10 columns</p>\n",
       "</div>"
      ],
      "text/plain": [
       "    Disease  Ki67_prc  dpt_pseudotime  Pseudotime Slide_ID  Ki67_prot  \\\n",
       "0      ANCA         0        0.557568    0.557568  0011186   3.169925   \n",
       "1      ANCA         0        0.416435    0.416435  0011186   0.000000   \n",
       "2      ANCA         0        0.417834    0.417834  0011186  12.573411   \n",
       "3   Control         0        0.000000    0.000000  0011186   0.000000   \n",
       "4   Control         0        0.106783    0.106783  0011186   0.000000   \n",
       "..      ...       ...             ...         ...      ...        ...   \n",
       "85  Control         0        0.239479    0.239479  0011186   3.000000   \n",
       "86  Control         0        0.075411    0.075411  0011186  10.202124   \n",
       "87  Control         0        0.283191    0.283191  0011186   0.000000   \n",
       "88  Control         0        0.093601    0.093601  0011186   8.857981   \n",
       "89  Control         0        0.268351    0.268351  0011186   0.000000   \n",
       "\n",
       "    CD44_prot      TGFB      PDGF    label  \n",
       "0   13.225659  0.039008  0.009414     ANCA  \n",
       "1    1.000000  0.020137  0.072077     ANCA  \n",
       "2   14.814282  0.004359  0.047995     ANCA  \n",
       "3    0.000000  0.001060  0.038192  Control  \n",
       "4    1.000000  0.033462  0.053815  Control  \n",
       "..        ...       ...       ...      ...  \n",
       "85   0.000000  0.005284  0.021387  Control  \n",
       "86  13.682007  0.006020  0.054870  Control  \n",
       "87   0.000000  0.005646  0.011361  Control  \n",
       "88   9.529431  0.001920  0.037695  Control  \n",
       "89   0.000000  0.015066  0.014400  Control  \n",
       "\n",
       "[90 rows x 10 columns]"
      ]
     },
     "execution_count": 34,
     "metadata": {},
     "output_type": "execute_result"
    }
   ],
   "source": [
    "df = df.reset_index(drop=True)\n",
    "df"
   ]
  },
  {
   "cell_type": "code",
   "execution_count": 42,
   "id": "0e60160f-1b8d-4a30-927a-e9991d0e01e0",
   "metadata": {},
   "outputs": [
    {
     "data": {
      "text/plain": [
       "51.0"
      ]
     },
     "execution_count": 42,
     "metadata": {},
     "output_type": "execute_result"
    }
   ],
   "source": [
    "df = df.reset_index(drop=True)\n",
    "# df.insert(1, 'Ki67_prc', 0)\n",
    "th = 1\n",
    "df.loc[:, 'Ki67_prc'] = [1.0 if i>th else 0.0 for i in df['Ki67_prot']]\n",
    "df['Ki67_prc'].sum()"
   ]
  },
  {
   "cell_type": "code",
   "execution_count": 43,
   "id": "52aaee57-c97f-4696-ae65-23ce4f0a7eab",
   "metadata": {},
   "outputs": [
    {
     "data": {
      "image/png": "[encoded data removed]",
      "text/plain": [
       "<Figure size 800x600 with 1 Axes>"
      ]
     },
     "metadata": {},
     "output_type": "display_data"
    }
   ],
   "source": [
    "# fig, axes = plt.subplots(1, 2, figsize=(12, 5))\n",
    "\n",
    "ch = 'Ki67_prc'\n",
    "percent = df.groupby('label')[ch].mean() * 100\n",
    "percent = percent.reindex(disease_order)\n",
    "percent.plot(kind='bar', figsize=(8, 6))\n",
    "\n",
    "plt.title(f'Percentage of Ki67 > {th}')\n",
    "plt.xlabel('Disease')\n",
    "plt.ylabel('Percentage')\n",
    "plt.show()"
   ]
  },
  {
   "cell_type": "code",
   "execution_count": null,
   "id": "5f98a0ab-e2dc-488d-81b6-2479d4110e1a",
   "metadata": {},
   "outputs": [],
   "source": []
  }
 ],
 "metadata": {
  "kernelspec": {
   "display_name": "ssc",
   "language": "python",
   "name": "ssc"
  },
  "language_info": {
   "codemirror_mode": {
    "name": "ipython",
    "version": 3
   },
   "file_extension": ".py",
   "mimetype": "text/x-python",
   "name": "python",
   "nbconvert_exporter": "python",
   "pygments_lexer": "ipython3",
   "version": "3.11.9"
  }
 },
 "nbformat": 4,
 "nbformat_minor": 5
}
