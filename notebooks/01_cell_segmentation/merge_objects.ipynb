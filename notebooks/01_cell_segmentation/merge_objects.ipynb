{
 "cells": [
  {
   "cell_type": "code",
   "execution_count": 1,
   "id": "4d85fc66-613f-46c8-ae41-5bb979708dbc",
   "metadata": {},
   "outputs": [],
   "source": [
    "import os\n",
    "import numpy as np\n",
    "import pandas as pd\n",
    "import matplotlib.pyplot as plt\n",
    "import scanpy as sc\n",
    "import seaborn as sns"
   ]
  },
  {
   "cell_type": "code",
   "execution_count": 3,
   "id": "923061d8-01fd-4203-87e1-76252113dc60",
   "metadata": {},
   "outputs": [],
   "source": [
    "files = [os.path.join(\"../../data/xenium_outs\", folder) for folder in os.listdir(\"../../data/xenium_outs\") if \".h5ad\" in folder]"
   ]
  },
  {
   "cell_type": "code",
   "execution_count": 4,
   "id": "7760a4a8-d477-4fa0-97ec-5f3a166e8a7d",
   "metadata": {},
   "outputs": [
    {
     "data": {
      "text/plain": [
       "['xenium_outs/0011695.h5ad',\n",
       " 'xenium_outs/0018775.h5ad',\n",
       " 'xenium_outs/0011707.h5ad',\n",
       " 'xenium_outs/0011287.h5ad',\n",
       " 'xenium_outs/0011762.h5ad',\n",
       " 'xenium_outs/0011284.h5ad',\n",
       " 'xenium_outs/0011546.h5ad',\n",
       " 'xenium_outs/0011216.h5ad']"
      ]
     },
     "execution_count": 4,
     "metadata": {},
     "output_type": "execute_result"
    }
   ],
   "source": [
    "files"
   ]
  },
  {
   "cell_type": "code",
   "execution_count": 6,
   "id": "c95c424e-4d24-463e-ab75-9a715e50b2df",
   "metadata": {},
   "outputs": [],
   "source": [
    "from tqdm import tqdm"
   ]
  },
  {
   "cell_type": "code",
   "execution_count": 7,
   "id": "2a1a406a-e8a1-48d7-8cf0-a1ee5d763e52",
   "metadata": {},
   "outputs": [
    {
     "name": "stderr",
     "output_type": "stream",
     "text": [
      " 12%|█▎        | 1/8 [00:00<00:04,  1.74it/s]/tmp/ipykernel_75677/3462466473.py:8: FutureWarning: Use anndata.concat instead of AnnData.concatenate, AnnData.concatenate is deprecated and will be removed in the future. See the tutorial for concat at: https://anndata.readthedocs.io/en/latest/concatenation.html\n",
      "  data = data.concatenate(tmp, uns_merge=\"unique\", index_unique=None)\n",
      " 25%|██▌       | 2/8 [00:02<00:06,  1.13s/it]/tmp/ipykernel_75677/3462466473.py:8: FutureWarning: Use anndata.concat instead of AnnData.concatenate, AnnData.concatenate is deprecated and will be removed in the future. See the tutorial for concat at: https://anndata.readthedocs.io/en/latest/concatenation.html\n",
      "  data = data.concatenate(tmp, uns_merge=\"unique\", index_unique=None)\n",
      " 38%|███▊      | 3/8 [00:04<00:07,  1.59s/it]/tmp/ipykernel_75677/3462466473.py:8: FutureWarning: Use anndata.concat instead of AnnData.concatenate, AnnData.concatenate is deprecated and will be removed in the future. See the tutorial for concat at: https://anndata.readthedocs.io/en/latest/concatenation.html\n",
      "  data = data.concatenate(tmp, uns_merge=\"unique\", index_unique=None)\n",
      " 50%|█████     | 4/8 [00:07<00:09,  2.39s/it]/tmp/ipykernel_75677/3462466473.py:8: FutureWarning: Use anndata.concat instead of AnnData.concatenate, AnnData.concatenate is deprecated and will be removed in the future. See the tutorial for concat at: https://anndata.readthedocs.io/en/latest/concatenation.html\n",
      "  data = data.concatenate(tmp, uns_merge=\"unique\", index_unique=None)\n",
      " 62%|██████▎   | 5/8 [00:11<00:09,  3.00s/it]/tmp/ipykernel_75677/3462466473.py:8: FutureWarning: Use anndata.concat instead of AnnData.concatenate, AnnData.concatenate is deprecated and will be removed in the future. See the tutorial for concat at: https://anndata.readthedocs.io/en/latest/concatenation.html\n",
      "  data = data.concatenate(tmp, uns_merge=\"unique\", index_unique=None)\n",
      " 75%|███████▌  | 6/8 [00:16<00:07,  3.63s/it]/tmp/ipykernel_75677/3462466473.py:8: FutureWarning: Use anndata.concat instead of AnnData.concatenate, AnnData.concatenate is deprecated and will be removed in the future. See the tutorial for concat at: https://anndata.readthedocs.io/en/latest/concatenation.html\n",
      "  data = data.concatenate(tmp, uns_merge=\"unique\", index_unique=None)\n",
      " 88%|████████▊ | 7/8 [00:23<00:04,  4.70s/it]/tmp/ipykernel_75677/3462466473.py:8: FutureWarning: Use anndata.concat instead of AnnData.concatenate, AnnData.concatenate is deprecated and will be removed in the future. See the tutorial for concat at: https://anndata.readthedocs.io/en/latest/concatenation.html\n",
      "  data = data.concatenate(tmp, uns_merge=\"unique\", index_unique=None)\n",
      "100%|██████████| 8/8 [00:32<00:00,  4.03s/it]\n"
     ]
    }
   ],
   "source": [
    "for file in tqdm(files):\n",
    "    tmp = sc.read(file)\n",
    "    slide_ID = file.split(\"/\")[-1].split(\".\")[0]\n",
    "    tmp.obs[\"Slide_ID\"] = slide_ID\n",
    "    if file==files[0]:\n",
    "        data = tmp.copy()\n",
    "    else:\n",
    "        data = data.concatenate(tmp, uns_merge=\"unique\", index_unique=None)"
   ]
  },
  {
   "cell_type": "code",
   "execution_count": 8,
   "id": "32461fa7-3c01-4f57-8bf7-9e88a94dbeaa",
   "metadata": {},
   "outputs": [],
   "source": [
    "data.write(\"xenium_outs/merged_raw.h5ad\")"
   ]
  },
  {
   "cell_type": "code",
   "execution_count": null,
   "id": "90e35b36-4390-49ac-98b9-128e5198703d",
   "metadata": {},
   "outputs": [],
   "source": []
  }
 ],
 "metadata": {
  "kernelspec": {
   "display_name": "Python 3 (ipykernel)",
   "language": "python",
   "name": "python3"
  },
  "language_info": {
   "codemirror_mode": {
    "name": "ipython",
    "version": 3
   },
   "file_extension": ".py",
   "mimetype": "text/x-python",
   "name": "python",
   "nbconvert_exporter": "python",
   "pygments_lexer": "ipython3",
   "version": "3.11.6"
  }
 },
 "nbformat": 4,
 "nbformat_minor": 5
}
