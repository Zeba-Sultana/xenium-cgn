{
 "cells": [
  {
   "cell_type": "code",
   "execution_count": 1,
   "id": "1723f22a-978e-41ef-81cf-1e6c3b74f2a7",
   "metadata": {},
   "outputs": [],
   "source": [
    "import os"
   ]
  },
  {
   "cell_type": "code",
   "execution_count": 2,
   "id": "9220aba1-d38a-4170-af8f-502c29312f62",
   "metadata": {},
   "outputs": [],
   "source": [
    "folders = [os.path.join(\"../../data/outputs\", folder) for folder in os.listdir(\"../../data/outputs\") \\\n",
    "           if \"output-\" in folder and \"baysor_mtx\" not in os.listdir(os.path.join(\"../../data/outputs\", folder))]"
   ]
  },
  {
   "cell_type": "code",
   "execution_count": 4,
   "id": "151e34af-d224-4da2-8777-f1e6c86a1ab6",
   "metadata": {},
   "outputs": [
    {
     "name": "stderr",
     "output_type": "stream",
     "text": [
      "/opt/conda/lib/python3.9/site-packages/pandas/core/computation/expressions.py:21: UserWarning: Pandas requires version '2.8.4' or newer of 'numexpr' (version '2.7.3' currently installed).\n",
      "  from pandas.core.computation.check import NUMEXPR_INSTALLED\n"
     ]
    }
   ],
   "source": [
    "from save_mtx import *"
   ]
  },
  {
   "cell_type": "code",
   "execution_count": 5,
   "id": "af716c96-5a3d-4786-98c7-fe2befe793d4",
   "metadata": {},
   "outputs": [],
   "source": [
    "rep_int = 2000000\n",
    "conf_cutoff = 0.9"
   ]
  },
  {
   "cell_type": "code",
   "execution_count": 6,
   "id": "febe6736-5091-4f62-a139-1f361fb53956",
   "metadata": {
    "tags": []
   },
   "outputs": [
    {
     "name": "stdout",
     "output_type": "stream",
     "text": [
      "2000000 transcripts processed.\n",
      "4000000 transcripts processed.\n",
      "6000000 transcripts processed.\n",
      "8000000 transcripts processed.\n",
      "10000000 transcripts processed.\n",
      "12000000 transcripts processed.\n",
      "14000000 transcripts processed.\n",
      "16000000 transcripts processed.\n",
      "18000000 transcripts processed.\n",
      "20000000 transcripts processed.\n",
      "22000000 transcripts processed.\n",
      "24000000 transcripts processed.\n",
      "26000000 transcripts processed.\n",
      "28000000 transcripts processed.\n",
      "30000000 transcripts processed.\n",
      "32000000 transcripts processed.\n",
      "34000000 transcripts processed.\n",
      "36000000 transcripts processed.\n",
      "38000000 transcripts processed.\n",
      "40000000 transcripts processed.\n",
      "2000000 transcripts processed.\n",
      "4000000 transcripts processed.\n",
      "6000000 transcripts processed.\n",
      "8000000 transcripts processed.\n",
      "10000000 transcripts processed.\n",
      "12000000 transcripts processed.\n",
      "14000000 transcripts processed.\n",
      "16000000 transcripts processed.\n",
      "18000000 transcripts processed.\n",
      "22000000 transcripts processed.\n",
      "24000000 transcripts processed.\n",
      "26000000 transcripts processed.\n",
      "30000000 transcripts processed.\n",
      "32000000 transcripts processed.\n",
      "34000000 transcripts processed.\n",
      "36000000 transcripts processed.\n",
      "38000000 transcripts processed.\n",
      "40000000 transcripts processed.\n",
      "42000000 transcripts processed.\n",
      "0 transcripts processed.\n",
      "2000000 transcripts processed.\n",
      "4000000 transcripts processed.\n",
      "6000000 transcripts processed.\n",
      "8000000 transcripts processed.\n",
      "10000000 transcripts processed.\n",
      "12000000 transcripts processed.\n",
      "14000000 transcripts processed.\n",
      "16000000 transcripts processed.\n",
      "18000000 transcripts processed.\n",
      "20000000 transcripts processed.\n",
      "22000000 transcripts processed.\n",
      "24000000 transcripts processed.\n",
      "2000000 transcripts processed.\n",
      "4000000 transcripts processed.\n",
      "6000000 transcripts processed.\n",
      "8000000 transcripts processed.\n",
      "10000000 transcripts processed.\n",
      "12000000 transcripts processed.\n",
      "16000000 transcripts processed.\n",
      "18000000 transcripts processed.\n",
      "20000000 transcripts processed.\n",
      "22000000 transcripts processed.\n",
      "24000000 transcripts processed.\n",
      "26000000 transcripts processed.\n",
      "28000000 transcripts processed.\n",
      "2000000 transcripts processed.\n",
      "4000000 transcripts processed.\n",
      "6000000 transcripts processed.\n",
      "8000000 transcripts processed.\n",
      "10000000 transcripts processed.\n",
      "12000000 transcripts processed.\n",
      "14000000 transcripts processed.\n",
      "16000000 transcripts processed.\n",
      "20000000 transcripts processed.\n",
      "22000000 transcripts processed.\n",
      "24000000 transcripts processed.\n",
      "26000000 transcripts processed.\n",
      "28000000 transcripts processed.\n",
      "30000000 transcripts processed.\n",
      "32000000 transcripts processed.\n",
      "0 transcripts processed.\n",
      "2000000 transcripts processed.\n",
      "4000000 transcripts processed.\n",
      "6000000 transcripts processed.\n",
      "8000000 transcripts processed.\n",
      "10000000 transcripts processed.\n",
      "12000000 transcripts processed.\n",
      "14000000 transcripts processed.\n",
      "16000000 transcripts processed.\n",
      "18000000 transcripts processed.\n",
      "20000000 transcripts processed.\n",
      "22000000 transcripts processed.\n",
      "24000000 transcripts processed.\n",
      "26000000 transcripts processed.\n",
      "28000000 transcripts processed.\n",
      "30000000 transcripts processed.\n",
      "0 transcripts processed.\n",
      "2000000 transcripts processed.\n",
      "4000000 transcripts processed.\n",
      "6000000 transcripts processed.\n",
      "8000000 transcripts processed.\n",
      "10000000 transcripts processed.\n",
      "12000000 transcripts processed.\n",
      "14000000 transcripts processed.\n",
      "16000000 transcripts processed.\n",
      "18000000 transcripts processed.\n",
      "20000000 transcripts processed.\n",
      "22000000 transcripts processed.\n",
      "24000000 transcripts processed.\n",
      "26000000 transcripts processed.\n",
      "28000000 transcripts processed.\n",
      "30000000 transcripts processed.\n",
      "32000000 transcripts processed.\n",
      "34000000 transcripts processed.\n",
      "36000000 transcripts processed.\n",
      "38000000 transcripts processed.\n",
      "40000000 transcripts processed.\n",
      "0 transcripts processed.\n",
      "2000000 transcripts processed.\n",
      "4000000 transcripts processed.\n",
      "6000000 transcripts processed.\n",
      "8000000 transcripts processed.\n",
      "10000000 transcripts processed.\n",
      "12000000 transcripts processed.\n",
      "14000000 transcripts processed.\n",
      "16000000 transcripts processed.\n",
      "18000000 transcripts processed.\n",
      "20000000 transcripts processed.\n"
     ]
    }
   ],
   "source": [
    "for folder in folders:\n",
    "    if \"segmentation.csv\" in os.listdir(folder):\n",
    "        baysor_outs = os.path.join(folder, \"segmentation.csv\")\n",
    "        outfolder = os.path.join(folder, \"baysor_mtx\")\n",
    "        transcripts_df = pd.read_csv(baysor_outs, usecols=[\"gene\",\n",
    "                                                  \"cell\",\n",
    "                                                  \"assignment_confidence\"])\n",
    "        transcripts_df = transcripts_df[transcripts_df.cell.notna()]\n",
    "\n",
    "        features = np.unique(transcripts_df[\"gene\"])\n",
    "\n",
    "        feature_to_index = dict()\n",
    "        for index, val in enumerate(features):\n",
    "            feature_to_index[str(val)] = index\n",
    "\n",
    "        cells = np.unique(transcripts_df[\"cell\"])\n",
    "\n",
    "        matrix = pd.DataFrame(0, index=range(len(features)), columns=cells, dtype=np.int32)\n",
    "\n",
    "        for index, row in transcripts_df.iterrows():\n",
    "            if index % rep_int == 0:\n",
    "                print(index, \"transcripts processed.\")\n",
    "\n",
    "            feature = str(row['gene'])\n",
    "            cell = row['cell']\n",
    "            conf = row['assignment_confidence']\n",
    "\n",
    "            if conf < conf_cutoff:\n",
    "                continue\n",
    "\n",
    "            if cell != 0:\n",
    "                matrix.at[feature_to_index[feature], cell] += 1\n",
    "\n",
    "        write_sparse_mtx(outfolder, matrix, cells, features)"
   ]
  },
  {
   "cell_type": "code",
   "execution_count": 12,
   "id": "16e7d12a-5e82-4900-976c-1e1a87781f94",
   "metadata": {},
   "outputs": [
    {
     "name": "stdout",
     "output_type": "stream",
     "text": [
      "outputs/output-XETG00088__0011287__Region_1__20240206__171802\n",
      "outputs/output-XETG00088__0011695__Region_1__20240202__104242\n",
      "outputs/output-XETG00088__0018775__Region_1__20240216__134551\n",
      "outputs/output-XETG00088__0011284__Region_1__20240206__171802\n",
      "outputs/output-XETG00088__0011546__Region_1__20240130__161548\n",
      "outputs/output-XETG00088__0011707__Region_1__20240202__104242\n",
      "outputs/output-XETG00088__0011216__Region_1__20240130__161548\n",
      "outputs/output-XETG00088__0011762__Region_1__20240124__111313\n"
     ]
    }
   ],
   "source": [
    "for folder in folders:\n",
    "    if \"baysor_mtx\" in os.listdir(folder):\n",
    "        if len(os.listdir(os.path.join(folder, \"baysor_mtx\")))==3:\n",
    "            print(folder)"
   ]
  }
 ],
 "metadata": {
  "kernelspec": {
   "display_name": "Python 3 (ipykernel)",
   "language": "python",
   "name": "python3"
  },
  "language_info": {
   "codemirror_mode": {
    "name": "ipython",
    "version": 3
   },
   "file_extension": ".py",
   "mimetype": "text/x-python",
   "name": "python",
   "nbconvert_exporter": "python",
   "pygments_lexer": "ipython3",
   "version": "3.11.6"
  }
 },
 "nbformat": 4,
 "nbformat_minor": 5
}
