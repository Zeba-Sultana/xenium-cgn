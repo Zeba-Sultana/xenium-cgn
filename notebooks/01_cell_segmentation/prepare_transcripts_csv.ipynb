{
 "cells": [
  {
   "cell_type": "code",
   "execution_count": null,
   "id": "f4f4e175-579d-4f47-8983-212b27f837d8",
   "metadata": {},
   "outputs": [],
   "source": [
    "import os\n",
    "import pandas as pd\n",
    "from pathlib import Path\n",
    "\n",
    "def prepare(infile, outfile):\n",
    "    df = pd.read_csv(infile, index_col=0)\n",
    "    df = df[df.cell_id != \"UNASSIGNED\"]\n",
    "    df.to_csv(outfile)\n",
    "\n",
    "def process_xenium_data(xenraw_dir, slide_ids):\n",
    "    output_dir = Path('transcript_codes')\n",
    "    output_dir.mkdir(exist_ok=True)\n",
    "    \n",
    "    xenraw_dir = Path(xenraw_dir)\n",
    "    processed_files = []\n",
    "    \n",
    "    for root, dirs, files in os.walk(xenraw_dir):\n",
    "        if any(slide_id in root for slide_id in slide_ids):\n",
    "            if 'transcripts.csv.gz' in files:\n",
    "                subfolder_name = Path(root).name\n",
    "                \n",
    "                infile = Path(root) / 'transcripts.csv.gz'\n",
    "                outfile = output_dir / f\"{subfolder_name}.csv\"\n",
    "                \n",
    "                print(f\"Processing {infile}\")\n",
    "                try:\n",
    "                    prepare(infile, outfile)\n",
    "                    \n",
    "                    print(f\"prepared {infile}\")\n",
    "                except Exception as e:\n",
    "                    print(f\"Error processing {infile}: {e}\")"
   ]
  },
  {
   "cell_type": "code",
   "execution_count": null,
   "id": "8c9b2c4e-9819-4112-a3c8-8607f4c2430f",
   "metadata": {},
   "outputs": [],
   "source": [
    "xenraw_dir = \"/data/projects/zeba/MY_PROJECTS/240130_Xenium_ANCA_SLE_GBM/raw_data\"\n",
    "slide_ids = ['0011216', '0011284', '0011287', '0011546', '0011695', '0011707', '0011762', '0018775']\n",
    "    \n",
    "process_xenium_data(xenraw_dir, slide_ids)"
   ]
  },
  {
   "cell_type": "code",
   "execution_count": null,
   "id": "f1414c73-59f7-4aca-b1c9-390e423acc59",
   "metadata": {},
   "outputs": [],
   "source": []
  }
 ],
 "metadata": {
  "kernelspec": {
   "display_name": "xenium_cgn",
   "language": "python",
   "name": "xenium_cgn"
  },
  "language_info": {
   "codemirror_mode": {
    "name": "ipython",
    "version": 3
   },
   "file_extension": ".py",
   "mimetype": "text/x-python",
   "name": "python",
   "nbconvert_exporter": "python",
   "pygments_lexer": "ipython3",
   "version": "3.11.6"
  }
 },
 "nbformat": 4,
 "nbformat_minor": 5
}
