{
 "cells": [
  {
   "cell_type": "code",
   "execution_count": 1,
   "id": "33335489-31d4-466f-aa79-28960115a964",
   "metadata": {},
   "outputs": [],
   "source": [
    "import os\n",
    "import numpy as np\n",
    "import pandas as pd\n",
    "import matplotlib.pyplot as plt\n",
    "import scanpy as sc\n",
    "import seaborn as sns"
   ]
  },
  {
   "cell_type": "code",
   "execution_count": 2,
   "id": "16afb26f-8a0d-476a-9d71-8d1ef56774bc",
   "metadata": {},
   "outputs": [],
   "source": [
    "sc.set_figure_params(dpi=100)"
   ]
  },
  {
   "cell_type": "code",
   "execution_count": 3,
   "id": "252e75f0-b828-4e76-adb7-f104946285be",
   "metadata": {},
   "outputs": [
    {
     "data": {
      "text/plain": [
       "['outputs/output-XETG00088__0011287__Region_1__20240206__171802',\n",
       " 'outputs/output-XETG00088__0011695__Region_1__20240202__104242',\n",
       " 'outputs/output-XETG00088__0018775__Region_1__20240216__134551',\n",
       " 'outputs/output-XETG00088__0011284__Region_1__20240206__171802',\n",
       " 'outputs/output-XETG00088__0011546__Region_1__20240130__161548',\n",
       " 'outputs/output-XETG00088__0011707__Region_1__20240202__104242',\n",
       " 'outputs/output-XETG00088__0011216__Region_1__20240130__161548',\n",
       " 'outputs/output-XETG00088__0011762__Region_1__20240124__111313']"
      ]
     },
     "execution_count": 3,
     "metadata": {},
     "output_type": "execute_result"
    }
   ],
   "source": [
    "folders = [os.path.join(\"outputs\", folder) for folder in os.listdir(\"outputs\") if \"output\" in folder and \"segmentation_cell_stats.csv\" in os.listdir(os.path.join(\"outputs\", folder))]\n",
    "folders"
   ]
  },
  {
   "cell_type": "code",
   "execution_count": 4,
   "id": "aff2c4dc-c454-4cfe-b42b-c79b75522682",
   "metadata": {},
   "outputs": [],
   "source": [
    "from tqdm import tqdm"
   ]
  },
  {
   "cell_type": "code",
   "execution_count": 5,
   "id": "7365af98-55c3-4e93-bf21-286a61cf2f1a",
   "metadata": {},
   "outputs": [],
   "source": [
    "if not os.path.exists(\"xenium_outs\"):\n",
    "    os.mkdir(\"xenium_outs\")"
   ]
  },
  {
   "cell_type": "code",
   "execution_count": 6,
   "id": "5ec22894-64fa-408c-859f-1a55f413a539",
   "metadata": {},
   "outputs": [
    {
     "name": "stderr",
     "output_type": "stream",
     "text": [
      "  0%|          | 0/8 [00:00<?, ?it/s]"
     ]
    },
    {
     "name": "stdout",
     "output_type": "stream",
     "text": [
      "(573764, 14)\n",
      "40139664 69.95849164464832\n",
      "True\n"
     ]
    },
    {
     "name": "stderr",
     "output_type": "stream",
     "text": [
      " 12%|█▎        | 1/8 [00:32<03:46, 32.30s/it]"
     ]
    },
    {
     "name": "stdout",
     "output_type": "stream",
     "text": [
      "(557057, 14)\n",
      "40637275 72.94994049082949\n",
      "True\n"
     ]
    },
    {
     "name": "stderr",
     "output_type": "stream",
     "text": [
      " 25%|██▌       | 2/8 [01:01<03:02, 30.37s/it]"
     ]
    },
    {
     "name": "stdout",
     "output_type": "stream",
     "text": [
      "(499957, 14)\n",
      "23652823 47.30971463545865\n",
      "True\n"
     ]
    },
    {
     "name": "stderr",
     "output_type": "stream",
     "text": [
      " 38%|███▊      | 3/8 [01:21<02:08, 25.75s/it]"
     ]
    },
    {
     "name": "stdout",
     "output_type": "stream",
     "text": [
      "(464117, 14)\n",
      "26601234 57.315793215934775\n",
      "True\n"
     ]
    },
    {
     "name": "stderr",
     "output_type": "stream",
     "text": [
      " 50%|█████     | 4/8 [01:43<01:36, 24.20s/it]"
     ]
    },
    {
     "name": "stdout",
     "output_type": "stream",
     "text": [
      "(526449, 14)\n",
      "30307052 57.5688281296004\n",
      "True\n"
     ]
    },
    {
     "name": "stderr",
     "output_type": "stream",
     "text": [
      " 62%|██████▎   | 5/8 [02:05<01:10, 23.54s/it]"
     ]
    },
    {
     "name": "stdout",
     "output_type": "stream",
     "text": [
      "(518469, 14)\n",
      "29910217 57.68949927575226\n",
      "True\n"
     ]
    },
    {
     "name": "stderr",
     "output_type": "stream",
     "text": [
      " 75%|███████▌  | 6/8 [02:30<00:47, 23.87s/it]"
     ]
    },
    {
     "name": "stdout",
     "output_type": "stream",
     "text": [
      "(676855, 14)\n",
      "39813966 58.82200175813136\n",
      "True\n"
     ]
    },
    {
     "name": "stderr",
     "output_type": "stream",
     "text": [
      " 88%|████████▊ | 7/8 [03:00<00:25, 25.85s/it]"
     ]
    },
    {
     "name": "stdout",
     "output_type": "stream",
     "text": [
      "(378441, 14)\n",
      "19310550 51.026580100993286\n",
      "True\n"
     ]
    },
    {
     "name": "stderr",
     "output_type": "stream",
     "text": [
      "100%|██████████| 8/8 [03:17<00:00, 24.65s/it]\n"
     ]
    }
   ],
   "source": [
    "for folder in tqdm(folders):\n",
    "    baysor_cells = pd.read_csv(os.path.join(folder, \"segmentation_cell_stats.csv\"), index_col=0)\n",
    "    baysor_cells = baysor_cells[baysor_cells.area.notna()]\n",
    "    baysor_cells[\"x_centroid\"] = baysor_cells[\"x\"].tolist()\n",
    "    baysor_cells[\"y_centroid\"] = baysor_cells[\"y\"].tolist()\n",
    "    print(baysor_cells.shape)\n",
    "    print(baysor_cells.n_transcripts.sum(), baysor_cells.n_transcripts.sum()/baysor_cells.shape[0])\n",
    "    adata = sc.read_10x_mtx(os.path.join(folder, \"baysor_mtx\"))\n",
    "    baysor_cells.index = [f\"cell_{idx}\" for idx in baysor_cells.index]    \n",
    "    common = list(set(baysor_cells.index)&set(adata.obs.index))\n",
    "    print(len(common)==baysor_cells.shape[0])\n",
    "    adata = adata[baysor_cells.index]    \n",
    "    adata.obs = baysor_cells.copy()\n",
    "    adata.obsm[\"spatial\"] = adata.obs[[\"x_centroid\", \"y_centroid\"]].copy().to_numpy()\n",
    "    adata.obs[\"cell_area\"] = adata.obs[\"area\"].tolist()    \n",
    "    filename = folder.split('/')[-1]\n",
    "    filename = filename.split(\"__\")[1]\n",
    "    adata.write(f\"xenium_outs/{filename}.h5ad\")    "
   ]
  },
  {
   "cell_type": "code",
   "execution_count": null,
   "id": "d4519ef1",
   "metadata": {},
   "outputs": [],
   "source": []
  }
 ],
 "metadata": {
  "kernelspec": {
   "display_name": "Python 3 (ipykernel)",
   "language": "python",
   "name": "python3"
  },
  "language_info": {
   "codemirror_mode": {
    "name": "ipython",
    "version": 3
   },
   "file_extension": ".py",
   "mimetype": "text/x-python",
   "name": "python",
   "nbconvert_exporter": "python",
   "pygments_lexer": "ipython3",
   "version": "3.11.6"
  }
 },
 "nbformat": 4,
 "nbformat_minor": 5
}
