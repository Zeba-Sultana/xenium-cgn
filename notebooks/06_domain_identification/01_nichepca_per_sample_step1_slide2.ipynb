{
 "cells": [
  {
   "cell_type": "code",
   "execution_count": 1,
   "id": "79e90b30-b5d3-456e-addc-db4f03fa77f7",
   "metadata": {},
   "outputs": [],
   "source": [
    "%load_ext autoreload\n",
    "%autoreload 2\n",
    "\n",
    "import numpy as np\n",
    "import pandas as pd\n",
    "import scanpy as sc\n",
    "import squidpy as sq\n",
    "\n",
    "from tqdm import tqdm\n",
    "import json\n",
    "\n",
    "import matplotlib.pyplot as plt\n",
    "import seaborn as sns\n",
    "\n",
    "from torch_geometric.nn import MessagePassing\n",
    "import scipy\n",
    "import torch_geometric as pyg\n",
    "import torch\n",
    "from torch_geometric.data import Data, Batch\n",
    "\n",
    "from src.utils_nichepca import *\n",
    "from src.utilities import *\n",
    "from scipy.signal import find_peaks\n",
    "\n",
    "import warnings\n",
    "warnings.filterwarnings('ignore')"
   ]
  },
  {
   "cell_type": "code",
   "execution_count": 2,
   "id": "768d4663-b5e5-419f-aab2-19f1f50daa99",
   "metadata": {},
   "outputs": [],
   "source": [
    "save_path = \"data/\"\n",
    "data_path = \"../03_image_registration/data_level_1/adata_slide2_with_Ki67_noX8_v1.h5ad\""
   ]
  },
  {
   "cell_type": "code",
   "execution_count": 3,
   "id": "6c4c6694-ddf3-4469-859b-7883dc54b435",
   "metadata": {},
   "outputs": [],
   "source": [
    "# Read data\n",
    "adata = sc.read_h5ad(data_path)\n",
    "del adata.layers['counts']"
   ]
  },
  {
   "cell_type": "code",
   "execution_count": 4,
   "id": "eb099470-1c45-4172-be93-8bf8c8c721c1",
   "metadata": {},
   "outputs": [
    {
     "data": {
      "text/plain": [
       "['x1', 'x2', 'x3', 'x4', 'x5', 'x6', 'x7']\n",
       "Categories (7, object): ['x1', 'x2', 'x3', 'x4', 'x5', 'x6', 'x7']"
      ]
     },
     "execution_count": 4,
     "metadata": {},
     "output_type": "execute_result"
    }
   ],
   "source": [
    "# adata.obs['sample'] = [i.split('_')[0] for i in adata.obs['Patient_Sample_ID']]\n",
    "sample_set = adata.obs['sample'].unique()\n",
    "sample_set"
   ]
  },
  {
   "cell_type": "code",
   "execution_count": 5,
   "id": "906cb586-8516-4df0-b943-f0bcca0e9768",
   "metadata": {
    "scrolled": true
   },
   "outputs": [
    {
     "name": "stderr",
     "output_type": "stream",
     "text": [
      "  0%|          | 0/7 [00:00<?, ?it/s]"
     ]
    },
    {
     "name": "stdout",
     "output_type": "stream",
     "text": [
      "x1\n",
      "----------- Graph Stats -----------\n",
      "Number of nodes: 86811\n",
      "Number of edges: 727091\n",
      "Average in-degree: 8.37556266784668\n",
      "Average out-degree: 8.37556266784668\n",
      "Contains self-loops: True\n"
     ]
    },
    {
     "name": "stderr",
     "output_type": "stream",
     "text": [
      "/data/projects/Behnam/xenium-cgn/notebooks/06_domain_identification/src/utilities.py:42: FutureWarning: In the future, the default backend for leiden will be igraph instead of leidenalg.\n",
      "\n",
      " To achieve the future defaults please pass: flavor=\"igraph\" and n_iterations=2.  directed must also be False to work with igraph's implementation.\n",
      "  sc.tl.leiden(adata, resolution = r, key_added = key_added + \"_res_\" + str(r), random_state = random_state)\n",
      "/data/projects/Behnam/xenium-cgn/notebooks/06_domain_identification/src/utilities.py:42: FutureWarning: In the future, the default backend for leiden will be igraph instead of leidenalg.\n",
      "\n",
      " To achieve the future defaults please pass: flavor=\"igraph\" and n_iterations=2.  directed must also be False to work with igraph's implementation.\n",
      "  sc.tl.leiden(adata, resolution = r, key_added = key_added + \"_res_\" + str(r), random_state = random_state)\n",
      "/data/projects/Behnam/xenium-cgn/notebooks/06_domain_identification/src/utilities.py:42: FutureWarning: In the future, the default backend for leiden will be igraph instead of leidenalg.\n",
      "\n",
      " To achieve the future defaults please pass: flavor=\"igraph\" and n_iterations=2.  directed must also be False to work with igraph's implementation.\n",
      "  sc.tl.leiden(adata, resolution = r, key_added = key_added + \"_res_\" + str(r), random_state = random_state)\n",
      "/data/projects/Behnam/xenium-cgn/notebooks/06_domain_identification/src/utilities.py:42: FutureWarning: In the future, the default backend for leiden will be igraph instead of leidenalg.\n",
      "\n",
      " To achieve the future defaults please pass: flavor=\"igraph\" and n_iterations=2.  directed must also be False to work with igraph's implementation.\n",
      "  sc.tl.leiden(adata, resolution = r, key_added = key_added + \"_res_\" + str(r), random_state = random_state)\n",
      "/data/projects/Behnam/xenium-cgn/notebooks/06_domain_identification/src/utilities.py:42: FutureWarning: In the future, the default backend for leiden will be igraph instead of leidenalg.\n",
      "\n",
      " To achieve the future defaults please pass: flavor=\"igraph\" and n_iterations=2.  directed must also be False to work with igraph's implementation.\n",
      "  sc.tl.leiden(adata, resolution = r, key_added = key_added + \"_res_\" + str(r), random_state = random_state)\n",
      "/data/projects/Behnam/xenium-cgn/notebooks/06_domain_identification/src/utilities.py:42: FutureWarning: In the future, the default backend for leiden will be igraph instead of leidenalg.\n",
      "\n",
      " To achieve the future defaults please pass: flavor=\"igraph\" and n_iterations=2.  directed must also be False to work with igraph's implementation.\n",
      "  sc.tl.leiden(adata, resolution = r, key_added = key_added + \"_res_\" + str(r), random_state = random_state)\n",
      "/data/projects/Behnam/xenium-cgn/notebooks/06_domain_identification/src/utilities.py:42: FutureWarning: In the future, the default backend for leiden will be igraph instead of leidenalg.\n",
      "\n",
      " To achieve the future defaults please pass: flavor=\"igraph\" and n_iterations=2.  directed must also be False to work with igraph's implementation.\n",
      "  sc.tl.leiden(adata, resolution = r, key_added = key_added + \"_res_\" + str(r), random_state = random_state)\n",
      "/data/projects/Behnam/xenium-cgn/notebooks/06_domain_identification/src/utilities.py:42: FutureWarning: In the future, the default backend for leiden will be igraph instead of leidenalg.\n",
      "\n",
      " To achieve the future defaults please pass: flavor=\"igraph\" and n_iterations=2.  directed must also be False to work with igraph's implementation.\n",
      "  sc.tl.leiden(adata, resolution = r, key_added = key_added + \"_res_\" + str(r), random_state = random_state)\n",
      "/data/projects/Behnam/xenium-cgn/notebooks/06_domain_identification/src/utilities.py:42: FutureWarning: In the future, the default backend for leiden will be igraph instead of leidenalg.\n",
      "\n",
      " To achieve the future defaults please pass: flavor=\"igraph\" and n_iterations=2.  directed must also be False to work with igraph's implementation.\n",
      "  sc.tl.leiden(adata, resolution = r, key_added = key_added + \"_res_\" + str(r), random_state = random_state)\n",
      "/data/projects/Behnam/xenium-cgn/notebooks/06_domain_identification/src/utilities.py:42: FutureWarning: In the future, the default backend for leiden will be igraph instead of leidenalg.\n",
      "\n",
      " To achieve the future defaults please pass: flavor=\"igraph\" and n_iterations=2.  directed must also be False to work with igraph's implementation.\n",
      "  sc.tl.leiden(adata, resolution = r, key_added = key_added + \"_res_\" + str(r), random_state = random_state)\n",
      "/data/projects/Behnam/xenium-cgn/notebooks/06_domain_identification/src/utilities.py:42: FutureWarning: In the future, the default backend for leiden will be igraph instead of leidenalg.\n",
      "\n",
      " To achieve the future defaults please pass: flavor=\"igraph\" and n_iterations=2.  directed must also be False to work with igraph's implementation.\n",
      "  sc.tl.leiden(adata, resolution = r, key_added = key_added + \"_res_\" + str(r), random_state = random_state)\n",
      "/data/projects/Behnam/xenium-cgn/notebooks/06_domain_identification/src/utilities.py:42: FutureWarning: In the future, the default backend for leiden will be igraph instead of leidenalg.\n",
      "\n",
      " To achieve the future defaults please pass: flavor=\"igraph\" and n_iterations=2.  directed must also be False to work with igraph's implementation.\n",
      "  sc.tl.leiden(adata, resolution = r, key_added = key_added + \"_res_\" + str(r), random_state = random_state)\n",
      "/data/projects/Behnam/xenium-cgn/notebooks/06_domain_identification/src/utilities.py:42: FutureWarning: In the future, the default backend for leiden will be igraph instead of leidenalg.\n",
      "\n",
      " To achieve the future defaults please pass: flavor=\"igraph\" and n_iterations=2.  directed must also be False to work with igraph's implementation.\n",
      "  sc.tl.leiden(adata, resolution = r, key_added = key_added + \"_res_\" + str(r), random_state = random_state)\n",
      "/data/projects/Behnam/xenium-cgn/notebooks/06_domain_identification/src/utilities.py:42: FutureWarning: In the future, the default backend for leiden will be igraph instead of leidenalg.\n",
      "\n",
      " To achieve the future defaults please pass: flavor=\"igraph\" and n_iterations=2.  directed must also be False to work with igraph's implementation.\n",
      "  sc.tl.leiden(adata, resolution = r, key_added = key_added + \"_res_\" + str(r), random_state = random_state)\n",
      "/data/projects/Behnam/xenium-cgn/notebooks/06_domain_identification/src/utilities.py:42: FutureWarning: In the future, the default backend for leiden will be igraph instead of leidenalg.\n",
      "\n",
      " To achieve the future defaults please pass: flavor=\"igraph\" and n_iterations=2.  directed must also be False to work with igraph's implementation.\n",
      "  sc.tl.leiden(adata, resolution = r, key_added = key_added + \"_res_\" + str(r), random_state = random_state)\n",
      "/data/projects/Behnam/xenium-cgn/notebooks/06_domain_identification/src/utilities.py:42: FutureWarning: In the future, the default backend for leiden will be igraph instead of leidenalg.\n",
      "\n",
      " To achieve the future defaults please pass: flavor=\"igraph\" and n_iterations=2.  directed must also be False to work with igraph's implementation.\n",
      "  sc.tl.leiden(adata, resolution = r, key_added = key_added + \"_res_\" + str(r), random_state = random_state)\n",
      "/data/projects/Behnam/xenium-cgn/notebooks/06_domain_identification/src/utilities.py:42: FutureWarning: In the future, the default backend for leiden will be igraph instead of leidenalg.\n",
      "\n",
      " To achieve the future defaults please pass: flavor=\"igraph\" and n_iterations=2.  directed must also be False to work with igraph's implementation.\n",
      "  sc.tl.leiden(adata, resolution = r, key_added = key_added + \"_res_\" + str(r), random_state = random_state)\n",
      "/data/projects/Behnam/xenium-cgn/notebooks/06_domain_identification/src/utilities.py:42: FutureWarning: In the future, the default backend for leiden will be igraph instead of leidenalg.\n",
      "\n",
      " To achieve the future defaults please pass: flavor=\"igraph\" and n_iterations=2.  directed must also be False to work with igraph's implementation.\n",
      "  sc.tl.leiden(adata, resolution = r, key_added = key_added + \"_res_\" + str(r), random_state = random_state)\n",
      "/data/projects/Behnam/xenium-cgn/notebooks/06_domain_identification/src/utilities.py:42: FutureWarning: In the future, the default backend for leiden will be igraph instead of leidenalg.\n",
      "\n",
      " To achieve the future defaults please pass: flavor=\"igraph\" and n_iterations=2.  directed must also be False to work with igraph's implementation.\n",
      "  sc.tl.leiden(adata, resolution = r, key_added = key_added + \"_res_\" + str(r), random_state = random_state)\n",
      " 14%|█▍        | 1/7 [01:57<11:42, 117.08s/it]"
     ]
    },
    {
     "name": "stdout",
     "output_type": "stream",
     "text": [
      "x2\n",
      "----------- Graph Stats -----------\n",
      "Number of nodes: 29276\n",
      "Number of edges: 224760\n",
      "Average in-degree: 7.677278518676758\n",
      "Average out-degree: 7.677278518676758\n",
      "Contains self-loops: True\n"
     ]
    },
    {
     "name": "stderr",
     "output_type": "stream",
     "text": [
      "/data/projects/Behnam/xenium-cgn/notebooks/06_domain_identification/src/utilities.py:42: FutureWarning: In the future, the default backend for leiden will be igraph instead of leidenalg.\n",
      "\n",
      " To achieve the future defaults please pass: flavor=\"igraph\" and n_iterations=2.  directed must also be False to work with igraph's implementation.\n",
      "  sc.tl.leiden(adata, resolution = r, key_added = key_added + \"_res_\" + str(r), random_state = random_state)\n",
      " 29%|██▊       | 2/7 [02:12<04:46, 57.34s/it] "
     ]
    },
    {
     "name": "stdout",
     "output_type": "stream",
     "text": [
      "x3\n",
      "----------- Graph Stats -----------\n",
      "Number of nodes: 52889\n",
      "Number of edges: 653997\n",
      "Average in-degree: 12.365463256835938\n",
      "Average out-degree: 12.365463256835938\n",
      "Contains self-loops: True\n"
     ]
    },
    {
     "name": "stderr",
     "output_type": "stream",
     "text": [
      " 43%|████▎     | 3/7 [02:37<02:49, 42.34s/it]"
     ]
    },
    {
     "name": "stdout",
     "output_type": "stream",
     "text": [
      "x4\n",
      "----------- Graph Stats -----------\n",
      "Number of nodes: 30620\n",
      "Number of edges: 347616\n",
      "Average in-degree: 11.352580070495605\n",
      "Average out-degree: 11.352580070495605\n",
      "Contains self-loops: True\n"
     ]
    },
    {
     "name": "stderr",
     "output_type": "stream",
     "text": [
      " 57%|█████▋    | 4/7 [02:48<01:30, 30.16s/it]"
     ]
    },
    {
     "name": "stdout",
     "output_type": "stream",
     "text": [
      "x5\n",
      "----------- Graph Stats -----------\n",
      "Number of nodes: 32292\n",
      "Number of edges: 462426\n",
      "Average in-degree: 14.320140838623047\n",
      "Average out-degree: 14.320140838623047\n",
      "Contains self-loops: True\n"
     ]
    },
    {
     "name": "stderr",
     "output_type": "stream",
     "text": [
      " 71%|███████▏  | 5/7 [03:08<00:53, 26.64s/it]"
     ]
    },
    {
     "name": "stdout",
     "output_type": "stream",
     "text": [
      "x6\n",
      "----------- Graph Stats -----------\n",
      "Number of nodes: 45324\n",
      "Number of edges: 440332\n",
      "Average in-degree: 9.715206146240234\n",
      "Average out-degree: 9.715206146240234\n",
      "Contains self-loops: True\n"
     ]
    },
    {
     "name": "stderr",
     "output_type": "stream",
     "text": [
      " 86%|████████▌ | 6/7 [03:27<00:23, 23.82s/it]"
     ]
    },
    {
     "name": "stdout",
     "output_type": "stream",
     "text": [
      "x7\n",
      "----------- Graph Stats -----------\n",
      "Number of nodes: 12390\n",
      "Number of edges: 145786\n",
      "Average in-degree: 11.766424179077148\n",
      "Average out-degree: 11.766424179077148\n",
      "Contains self-loops: True\n"
     ]
    },
    {
     "name": "stderr",
     "output_type": "stream",
     "text": [
      "100%|██████████| 7/7 [03:33<00:00, 30.49s/it]\n"
     ]
    }
   ],
   "source": [
    "# run domain pca\n",
    "for sample in tqdm(sample_set):\n",
    "    \n",
    "    print(sample)\n",
    "    \n",
    "    adata_sample = adata[adata.obs['sample'] == sample].copy()\n",
    "    run_domain_pca(adata_sample, knn=None, radius=20, n_comps=30, preprocess=False)\n",
    "\n",
    "    resolutions = np.arange(0.03, 0.4, 0.02)\n",
    "    resolutions = resolutions.round(4).tolist()\n",
    "    sc.pp.neighbors(adata_sample, use_rep=\"X_pca\")\n",
    "    adata_sample, _ = multiple_lediden(adata_sample, resolutions, key_added='leiden', n_jobs=20, verbos=False)\n",
    "\n",
    "    # adata_sample.write_h5ad(f\"data/adata_nichepca_sample_{sample}_clustered.h5ad\")\n",
    "    adata_sample.write_h5ad(f\"/projectbig/jupyternotebook/xenium_cgn/domain_identification_from_epyc/per_sample_knn/adata_nichepca_sample_{sample}_clustered_slide2_with_Ki67.h5ad\")"
   ]
  },
  {
   "cell_type": "code",
   "execution_count": 6,
   "id": "97212228-66e3-4b7a-901d-d43f5e6aec16",
   "metadata": {},
   "outputs": [
    {
     "name": "stdout",
     "output_type": "stream",
     "text": [
      "end\n"
     ]
    }
   ],
   "source": [
    "print('end')"
   ]
  },
  {
   "cell_type": "code",
   "execution_count": null,
   "id": "5a19bddd-edd7-4cac-9c98-d7a5f682075e",
   "metadata": {},
   "outputs": [],
   "source": []
  },
  {
   "cell_type": "code",
   "execution_count": null,
   "id": "104265a2-a0fb-4521-8c2f-7b42846b98b8",
   "metadata": {},
   "outputs": [],
   "source": []
  }
 ],
 "metadata": {
  "kernelspec": {
   "display_name": "nichepca",
   "language": "python",
   "name": "nichepca"
  },
  "language_info": {
   "codemirror_mode": {
    "name": "ipython",
    "version": 3
   },
   "file_extension": ".py",
   "mimetype": "text/x-python",
   "name": "python",
   "nbconvert_exporter": "python",
   "pygments_lexer": "ipython3",
   "version": "3.10.14"
  }
 },
 "nbformat": 4,
 "nbformat_minor": 5
}
