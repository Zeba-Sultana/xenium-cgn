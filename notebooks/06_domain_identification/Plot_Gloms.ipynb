{
 "cells": [
  {
   "cell_type": "code",
   "execution_count": 1,
   "id": "41f32fd4-3393-49ef-839a-100649382c42",
   "metadata": {},
   "outputs": [],
   "source": [
    "%load_ext autoreload\n",
    "%autoreload 2\n",
    "\n",
    "import numpy as np\n",
    "import pandas as pd\n",
    "from matplotlib import cm\n",
    "from tqdm import tqdm\n",
    "import json\n",
    "\n",
    "import matplotlib.pyplot as plt\n",
    "import seaborn as sns\n",
    "\n",
    "import scanpy as sc\n",
    "import squidpy as sq\n",
    "from scipy.spatial import KDTree\n",
    "import networkx as nx\n",
    "\n",
    "\n",
    "from src.slide_utilities import *\n",
    "\n",
    "import warnings\n",
    "warnings.filterwarnings('ignore')"
   ]
  },
  {
   "cell_type": "code",
   "execution_count": 2,
   "id": "50307552-5b2b-4868-8050-77d35241aebc",
   "metadata": {},
   "outputs": [],
   "source": [
    "# Read metadata: resolution_dict\n",
    "with open(\"res_indices.json\", 'r') as file:\n",
    "    resolution_dict = json.load(file)\n",
    "sample_set = resolution_dict.keys()"
   ]
  },
  {
   "cell_type": "code",
   "execution_count": 3,
   "id": "cea01e41-63df-4de9-aa44-1c799e1a3ea8",
   "metadata": {},
   "outputs": [],
   "source": [
    "adata = sc.read_h5ad(\"/data/projects/Behnam/xenium-cgn/data/Glom_NichePCA_Ann_all_with_clusters_6.h5ad\")"
   ]
  },
  {
   "cell_type": "markdown",
   "id": "8c4ef4d2-69cc-4951-a5e3-97b55465b5a7",
   "metadata": {},
   "source": [
    "## Plot numbers for gloms"
   ]
  },
  {
   "cell_type": "code",
   "execution_count": 62,
   "id": "2b349215-485d-43eb-ba54-e2927b8cc528",
   "metadata": {},
   "outputs": [],
   "source": [
    "# sample_set = [1]\n",
    "\n",
    "for sample in sample_set:\n",
    "\n",
    "    del adata_i\n",
    "    adata_i = adata[adata.obs['Sample_num'] == f'X{sample}']\n",
    "    \n",
    "    dpi = 100\n",
    "    plt.figure(dpi=dpi)\n",
    "    \n",
    "    color = [1 if i == 'glom' else 0 for i in adata_i.obs['nichepca_ann']]\n",
    "    \n",
    "    plt.scatter(adata_i.obs['x'], adata_i.obs['y'], s=.01, c=color, cmap='viridis') # other colormaps: viridis, plasma, inferno, magma, cividis\n",
    "    plt.gca().set_aspect('equal', adjustable='box')\n",
    "    plt.gca().invert_yaxis() \n",
    "    plt.gca().set_xticks([])\n",
    "    plt.gca().set_yticks([]) \n",
    "\n",
    "    glom_no = adata_i.obs['nichepca_glom_no'].unique()\n",
    "    for i in glom_no:\n",
    "        if i != 'Other':\n",
    "            centroid = adata_i.obs.loc[adata_i.obs['nichepca_glom_no'] == i, ['x', 'y']].mean()\n",
    "            plt.text(centroid[0], centroid[1], f\"{i}\", fontsize=8, ha='center', va='center', c='red')\n",
    "    \n",
    "    plt.savefig(f\"glom_num/sample_X{sample}.pdf\", format='pdf', bbox_inches='tight')\n",
    "    # plt.show()\n",
    "    plt.close() "
   ]
  },
  {
   "cell_type": "markdown",
   "id": "88e337ed-1ea2-4dc1-bbf9-10aa33ae4c1e",
   "metadata": {},
   "source": [
    "## Plot only gloms in jpg format"
   ]
  },
  {
   "cell_type": "code",
   "execution_count": 6,
   "id": "03596d8d-988a-4116-99d0-f09928bb146a",
   "metadata": {},
   "outputs": [
    {
     "name": "stderr",
     "output_type": "stream",
     "text": [
      "100%|██████████| 60/60 [08:09<00:00,  8.16s/it]\n"
     ]
    }
   ],
   "source": [
    "window = 200\n",
    "dpi = 600\n",
    "\n",
    "for sample in tqdm(sample_set):\n",
    "\n",
    "    if int(sample) < 44:\n",
    "        continue\n",
    "        \n",
    "    adata_i = adata[adata.obs['Sample_num'] == f'X{sample}']\n",
    "    \n",
    "    glom_no = adata_i.obs['nichepca_glom_no'].unique()\n",
    "    for i in glom_no:\n",
    "        if i != 'Other':\n",
    "            x, y = adata_i.obs.loc[adata_i.obs['nichepca_glom_no'] == i, ['x', 'y']].mean()\n",
    "\n",
    "            x_min = x - window\n",
    "            x_max = x + window\n",
    "            y_min = y - window\n",
    "            y_max = y + window\n",
    "\n",
    "            fig, ax = plt.subplots(figsize=(5, 5))\n",
    "            sc.pl.spatial(adata_i[(adata_i.obs['x'] > x_min) & (adata_i.obs['x'] < x_max) & (adata_i.obs['y'] > y_min) & (adata_i.obs['y'] < y_max)],\n",
    "                          library_id=adata_i.obs['Slide_ID'][0],\n",
    "                          img_key='he_downscaled_aligned',\n",
    "                          ax=ax,\n",
    "                          show=False)\n",
    "            \n",
    "            # Set aspext ratio, remove the box and text\n",
    "            plt.gca().set_aspect('equal', adjustable='box')\n",
    "            plt.xlabel('')\n",
    "            plt.ylabel('')\n",
    "            for spine in plt.gca().spines.values():\n",
    "                spine.set_visible(False)\n",
    "            \n",
    "            plt.savefig(f\"glom_single_dpi600/sample_X{sample}_glom_{i}.jpg\", format='jpg', bbox_inches='tight', dpi=dpi)\n",
    "            # plt.show\n",
    "            plt.close(fig)\n",
    "            \n",
    "    del adata_i\n",
    "    "
   ]
  },
  {
   "cell_type": "code",
   "execution_count": null,
   "id": "b6b088f1-9153-48f6-a90c-14fba39f04dd",
   "metadata": {},
   "outputs": [],
   "source": []
  }
 ],
 "metadata": {
  "kernelspec": {
   "display_name": "ssc",
   "language": "python",
   "name": "ssc"
  },
  "language_info": {
   "codemirror_mode": {
    "name": "ipython",
    "version": 3
   },
   "file_extension": ".py",
   "mimetype": "text/x-python",
   "name": "python",
   "nbconvert_exporter": "python",
   "pygments_lexer": "ipython3",
   "version": "3.11.9"
  }
 },
 "nbformat": 4,
 "nbformat_minor": 5
}
