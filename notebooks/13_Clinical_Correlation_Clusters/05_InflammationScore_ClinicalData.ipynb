{
 "cells": [
  {
   "cell_type": "code",
   "execution_count": null,
   "id": "b667482d-957c-4202-9a9d-44f9ba2ef4b8",
   "metadata": {},
   "outputs": [],
   "source": [
    "import scanpy as sc\n",
    "import pandas as pd\n",
    "import seaborn as sns\n",
    "import matplotlib.pyplot as plt"
   ]
  },
  {
   "cell_type": "code",
   "execution_count": null,
   "id": "4680ef66-2016-42a3-8c8d-868549f78793",
   "metadata": {},
   "outputs": [],
   "source": [
    "import my_functions as mf # to fetch my helper functions\n",
    "## After I make changes to the functions in mf it sometimes needs reloading of the current version\n",
    "import importlib\n",
    "importlib.reload(mf)"
   ]
  },
  {
   "cell_type": "code",
   "execution_count": null,
   "id": "b0618549-4612-4897-b65c-eac52d0d0c16",
   "metadata": {},
   "outputs": [],
   "source": [
    "import os\n",
    "out_dir = \"output\"\n",
    "os.makedirs(out_dir, exist_ok=True)"
   ]
  },
  {
   "cell_type": "code",
   "execution_count": null,
   "id": "7d094e0a-eca7-4265-b6b1-6e4e3b9d78f3",
   "metadata": {},
   "outputs": [],
   "source": [
    "adata = sc.read_h5ad('/data/projects/robin/segmentation/annotate_infl/annotation_infl_compartments.h5ad')"
   ]
  },
  {
   "cell_type": "code",
   "execution_count": null,
   "id": "003ad35b-e02e-4362-820c-621991f24b18",
   "metadata": {},
   "outputs": [],
   "source": [
    "adata"
   ]
  },
  {
   "cell_type": "code",
   "execution_count": null,
   "id": "5364acbb-cc2d-43d1-8038-5b35bf4527d9",
   "metadata": {},
   "outputs": [],
   "source": [
    "adata.obs.inflammation_score.describe()"
   ]
  },
  {
   "cell_type": "code",
   "execution_count": null,
   "id": "792788c8-84dc-4574-8f08-4dbffa18fefd",
   "metadata": {},
   "outputs": [],
   "source": [
    "inf_sc = adata.obs.copy()"
   ]
  },
  {
   "cell_type": "code",
   "execution_count": null,
   "id": "cf0daf3f-b128-4fbe-b9a1-eef516db5497",
   "metadata": {},
   "outputs": [],
   "source": [
    "inf_sc.Patient_Sample_ID.unique()"
   ]
  },
  {
   "cell_type": "code",
   "execution_count": null,
   "id": "4961cd79-d1e3-48d8-b9dc-fede8d405ada",
   "metadata": {},
   "outputs": [],
   "source": [
    "cols_2_drop = ['x', 'y', 'z', 'cluster', 'n_transcripts', 'density', 'elongation',\n",
    "       'area', 'avg_confidence', 'avg_assignment_confidence',\n",
    "       'max_cluster_frac', 'lifespan', 'x_centroid', 'y_centroid', 'cell_area']"
   ]
  },
  {
   "cell_type": "code",
   "execution_count": null,
   "id": "be5a49fd-6855-47ff-86cb-5f2b8bdc2e72",
   "metadata": {},
   "outputs": [],
   "source": [
    "inf_sc.drop(columns =cols_2_drop, inplace=True )"
   ]
  },
  {
   "cell_type": "code",
   "execution_count": null,
   "id": "a1d7bbb9-8cc9-42ea-a4b4-2cfc7ae0675f",
   "metadata": {},
   "outputs": [],
   "source": [
    "inf_sc.head()"
   ]
  },
  {
   "cell_type": "code",
   "execution_count": null,
   "id": "42e812c1-60b1-48e3-867c-2736e86c0fa5",
   "metadata": {},
   "outputs": [],
   "source": [
    "inf_sc.compartment.unique()"
   ]
  },
  {
   "cell_type": "code",
   "execution_count": null,
   "id": "8bce99c0-f12a-48b3-ac77-ab1c808e7dcc",
   "metadata": {},
   "outputs": [],
   "source": [
    "inf_sc_tub = inf_sc[inf_sc.compartment.str.contains(\"tubulo\")]"
   ]
  },
  {
   "cell_type": "code",
   "execution_count": null,
   "id": "c47e502f-31f1-4c5d-96d4-46367b40aa9f",
   "metadata": {},
   "outputs": [],
   "source": [
    "inf_sc_tub.compartment.unique()"
   ]
  },
  {
   "cell_type": "code",
   "execution_count": null,
   "id": "b58afdf3-b253-4b20-91c6-3fabf5ef4c3a",
   "metadata": {},
   "outputs": [],
   "source": [
    "inf_sc_tub_mean = inf_sc_tub.groupby(\"Patient_Sample_ID\", as_index=False)[\"inflammation_score\"].mean()"
   ]
  },
  {
   "cell_type": "code",
   "execution_count": null,
   "id": "353748bb-119e-44ae-b4e8-dd109a3cfdb1",
   "metadata": {},
   "outputs": [],
   "source": [
    "inf_sc_tub_mean"
   ]
  },
  {
   "cell_type": "code",
   "execution_count": null,
   "id": "a3d2d7c3-59cc-4a58-8939-cf2d3335e878",
   "metadata": {},
   "outputs": [],
   "source": [
    "inf_sc_tub_mean[[\"Biopsy_ID\", \"Disease\"]]=inf_sc_tub_mean.Patient_Sample_ID.str.split(\"_\", expand = True)\n",
    "inf_sc_tub_mean = inf_sc_tub_mean.drop(columns=[\"Patient_Sample_ID\"])\n"
   ]
  },
  {
   "cell_type": "code",
   "execution_count": null,
   "id": "5d287b68-eab5-4ddb-b38a-20b38ff6487b",
   "metadata": {},
   "outputs": [],
   "source": [
    "inf_sc_tub_mean"
   ]
  },
  {
   "cell_type": "markdown",
   "id": "62d83af0-3f51-4e56-a134-1e86a8f6b6ca",
   "metadata": {},
   "source": [
    "## Clinical Data "
   ]
  },
  {
   "cell_type": "code",
   "execution_count": null,
   "id": "b7f33f57-d78e-41df-82fb-dea5010d9420",
   "metadata": {
    "scrolled": true,
    "tags": []
   },
   "outputs": [],
   "source": [
    "df_clinical_values = pd.read_csv('./output/ClinicalData_medianPC1.csv')\n",
    "df_clinical_values"
   ]
  },
  {
   "cell_type": "code",
   "execution_count": null,
   "id": "80c664a9-e579-4d52-be3b-cb3d9cfb0130",
   "metadata": {
    "scrolled": true,
    "tags": []
   },
   "outputs": [],
   "source": [
    "#inf_sc_tub_mean.drop(columns = 'Disease', inplace= True)\n",
    "merged_df = pd.merge(df_clinical_values, inf_sc_tub_mean, left_on='Biopsy_ID', right_on='Biopsy_ID', how='inner')\n",
    "merged_df"
   ]
  },
  {
   "cell_type": "code",
   "execution_count": null,
   "id": "77b86235-7719-4000-97e2-b1e3fbdde923",
   "metadata": {
    "scrolled": true,
    "tags": []
   },
   "outputs": [],
   "source": [
    "merged_df.Disease.unique()"
   ]
  },
  {
   "cell_type": "code",
   "execution_count": null,
   "id": "af7c2237-95cb-45ee-ae8b-f19b611d3636",
   "metadata": {},
   "outputs": [],
   "source": [
    "mf.plot_correlation_scatter(\n",
    "    merged_df, \n",
    "    'inflammation_score', \n",
    "    'eGFR', \n",
    "    label_pos=[0.65, 0.95],\n",
    "    method='pearson'\n",
    ")"
   ]
  },
  {
   "cell_type": "code",
   "execution_count": null,
   "id": "42abe930-a8fa-4fc3-9ea2-6154edd1fabc",
   "metadata": {},
   "outputs": [],
   "source": [
    "mf.plot_correlation_scatter(\n",
    "    merged_df, \n",
    "    'inflammation_score', \n",
    "    'eGFR',\n",
    "    label_pos=[0.65, 0.95],\n",
    "    method='spearman'\n",
    ")"
   ]
  },
  {
   "cell_type": "code",
   "execution_count": null,
   "id": "6dcea7ec-7572-4a36-8ff1-f842b0c0366b",
   "metadata": {},
   "outputs": [],
   "source": [
    "mf.plot_correlation_scatter(\n",
    "    merged_df, \n",
    "    'inflammation_score', \n",
    "    'albuminuria_gg', \n",
    "    label_pos=[0.05, 0.95],\n",
    "    method='pearson'\n",
    ")"
   ]
  },
  {
   "cell_type": "code",
   "execution_count": null,
   "id": "ac132f38-a35d-4548-9583-490ba4f60057",
   "metadata": {},
   "outputs": [],
   "source": [
    "merged_df.head()"
   ]
  },
  {
   "cell_type": "code",
   "execution_count": null,
   "id": "8adf2d1f-7d61-4642-a310-5069a7d028c6",
   "metadata": {},
   "outputs": [],
   "source": [
    "mf.plot_correlation_scatter(\n",
    "    merged_df, \n",
    "    'inflammation_score', \n",
    "    'serum_creatinine', \n",
    "     label_pos=[0.05, 0.95],\n",
    "    method='pearson'\n",
    ")"
   ]
  },
  {
   "cell_type": "markdown",
   "id": "0e8fc830-2d75-4a27-b8dc-f669e3a63f2f",
   "metadata": {},
   "source": [
    "## For only ANCA patients : correlation with ARR score"
   ]
  },
  {
   "cell_type": "code",
   "execution_count": null,
   "id": "e441ac6f-1f64-4f5a-bc6d-c491387acd9c",
   "metadata": {},
   "outputs": [],
   "source": [
    "ANCA_patients=merged_df[merged_df[\"disease\"] == 'ANCA']"
   ]
  },
  {
   "cell_type": "code",
   "execution_count": null,
   "id": "62b91cb9-b80f-4851-9eef-296d3c6075a6",
   "metadata": {},
   "outputs": [],
   "source": [
    "ANCA_patients = ANCA_patients.copy()\n",
    "\n",
    "ANCA_patients['ARRscore'] = ANCA_patients['ARRscore_SLEclass'].str.extract(r'\\((\\d+)/')\n",
    "ANCA_patients[\"inflammation_score\"]=ANCA_patients[\"inflammation_score\"].round(2)"
   ]
  },
  {
   "cell_type": "code",
   "execution_count": null,
   "id": "70fcbb98-bd2c-4064-964a-c04a17385528",
   "metadata": {},
   "outputs": [],
   "source": [
    "mf.plot_correlation_scatter(\n",
    "    ANCA_patients, \n",
    "    'inflammation_score', \n",
    "    'ARRscore', \n",
    "    label_pos=[0.05, 0.9],\n",
    "    method='spearman'\n",
    ")"
   ]
  },
  {
   "cell_type": "code",
   "execution_count": null,
   "id": "29f8081c-1281-4f23-abdf-5b2103ce37f7",
   "metadata": {},
   "outputs": [],
   "source": []
  }
 ],
 "metadata": {
  "kernelspec": {
   "display_name": "R",
   "language": "R",
   "name": "ir"
  },
  "language_info": {
   "codemirror_mode": "r",
   "file_extension": ".r",
   "mimetype": "text/x-r-source",
   "name": "R",
   "pygments_lexer": "r",
   "version": "4.3.2"
  }
 },
 "nbformat": 4,
 "nbformat_minor": 5
}
