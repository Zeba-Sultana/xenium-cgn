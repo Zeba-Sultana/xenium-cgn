{
 "cells": [
  {
   "cell_type": "code",
   "execution_count": 2,
   "id": "b483af81-60da-4d89-a22c-ff1e2fe1f866",
   "metadata": {},
   "outputs": [],
   "source": [
    "import os\n",
    "import numpy as np\n",
    "import scanpy as sc\n",
    "import matplotlib.pyplot as plt\n",
    "from tifffile import imwrite\n",
    "from PIL import Image\n",
    "from tqdm import tqdm\n",
    "from copy import deepcopy\n",
    "import json\n",
    "from skimage.color import gray2rgb\n"
   ]
  },
  {
   "cell_type": "code",
   "execution_count": 24,
   "id": "c3f4ca6d-1dec-4632-b861-121483013e8d",
   "metadata": {},
   "outputs": [],
   "source": [
    "LEVEL = 1"
   ]
  },
  {
   "cell_type": "code",
   "execution_count": 3,
   "id": "b28802a2-c322-417a-b629-12e81d3314fb",
   "metadata": {},
   "outputs": [],
   "source": [
    "adata = sc.read_h5ad(\"/data/projects/robin/segmentation/xenium_outs/merged_processed.h5ad\")"
   ]
  },
  {
   "cell_type": "code",
   "execution_count": 5,
   "id": "f9433cc1-7b00-4d98-a5f4-2ae2e8b9e487",
   "metadata": {},
   "outputs": [
    {
     "data": {
      "text/plain": [
       "Slide_ID\n",
       "0011216    502183\n",
       "0011287    447138\n",
       "0011695    428990\n",
       "0011546    407882\n",
       "0011707    396753\n",
       "0018775    380044\n",
       "0011284    360671\n",
       "0011762    307083\n",
       "Name: count, dtype: int64"
      ]
     },
     "execution_count": 5,
     "metadata": {},
     "output_type": "execute_result"
    }
   ],
   "source": [
    "adata.obs[\"Slide_ID\"].value_counts()"
   ]
  },
  {
   "cell_type": "code",
   "execution_count": 6,
   "id": "d16eb9c9-3fbd-4c41-8e8f-ee612ef7de98",
   "metadata": {},
   "outputs": [],
   "source": [
    "savedir = \"data_level_1/\""
   ]
  },
  {
   "cell_type": "code",
   "execution_count": 7,
   "id": "142473ef-0b00-40fd-b55d-0c85c54b6b9a",
   "metadata": {},
   "outputs": [
    {
     "data": {
      "text/plain": [
       "('data_level_1/adata', 'data_level_1/dapi')"
      ]
     },
     "execution_count": 7,
     "metadata": {},
     "output_type": "execute_result"
    }
   ],
   "source": [
    "savedir_adata = os.path.join(savedir, \"adata\")\n",
    "savedir_imgs = os.path.join(savedir, \"dapi\")\n",
    "savedir_adata, savedir_imgs"
   ]
  },
  {
   "cell_type": "code",
   "execution_count": 21,
   "id": "dc645951-6ce7-46ec-a2ed-0575764e1a04",
   "metadata": {},
   "outputs": [
    {
     "data": {
      "text/plain": [
       "array(['X40', 'X39', 'X38', 'X37', 'X36', 'X35', 'X34', 'X33', 'X63',\n",
       "       'X61', 'X62', 'X60', 'X59', 'X58', 'X57', 'X32', 'X31', 'X30',\n",
       "       'X29', 'X28', 'X27', 'X26', 'X25', 'X56', 'X55', 'X54', 'X53',\n",
       "       'X52', 'X50', 'X51', 'X49', 'X8', 'X7', 'X6', 'X4', 'X5', 'X2',\n",
       "       'X3', 'X1', 'X48', 'X47', 'X46', 'X45', 'X44', 'X43', 'X42', 'X41',\n",
       "       'X16', 'X15', 'X14', 'X12', 'X13', 'X11', 'X10', 'X9', 'X24',\n",
       "       'X23', 'X22', 'X21', 'X20', 'X19', 'X18', 'X17'], dtype=object)"
      ]
     },
     "execution_count": 21,
     "metadata": {},
     "output_type": "execute_result"
    }
   ],
   "source": [
    "sample = [s.split(\"_\")[0] for s in adata.obs['Patient_Sample_ID']]\n",
    "adata.obs[\"sample\"] = sample\n",
    "sample_set = adata.obs[\"sample\"].unique()\n",
    "sample_set"
   ]
  },
  {
   "cell_type": "code",
   "execution_count": 25,
   "id": "ff923a23-d329-4d26-9586-88319daf8fb6",
   "metadata": {},
   "outputs": [],
   "source": [
    "def cap(val, index = 0):\n",
    "    if val < 0:\n",
    "        val = 0\n",
    "    # elif val > img.shape[index]:\n",
    "    #     val = img.shape[index]\n",
    "    return val"
   ]
  },
  {
   "cell_type": "code",
   "execution_count": null,
   "id": "d27338d7-dc85-4f3f-8937-d4bd3408143a",
   "metadata": {},
   "outputs": [
    {
     "name": "stderr",
     "output_type": "stream",
     "text": [
      "  0%|          | 0/63 [00:00<?, ?it/s]/tmp/ipykernel_81886/3530784240.py:25: ImplicitModificationWarning: Trying to modify attribute `.obsm` of view, initializing view as actual.\n",
      "  sub.obsm[\"spatial\"][:,0] = sub.obsm[\"spatial\"][:,0]*scale_factor-int(cur_coords[0])\n"
     ]
    }
   ],
   "source": [
    "for sample in tqdm(sample_set):\n",
    "    \n",
    "    sub = adata[adata.obs[\"sample\"]==sample]\n",
    "    ID = sub.obs.Slide_ID.unique()[0]\n",
    "    scale_factor = sub.uns[\"spatial\"][ID][\"scalefactors\"][f\"tissue_dapi_LEVEL{LEVEL}_scalef\"]\n",
    "    #ax=sc.pl.embedding(sub, basis=\"spatial\", s=20, show=False)\n",
    "    ylim=(sub.obsm[\"spatial\"][:,1].min()-350, sub.obsm[\"spatial\"][:,1].max()+350)\n",
    "    xlim=(sub.obsm[\"spatial\"][:,0].min()-350, sub.obsm[\"spatial\"][:,0].max()+350)\n",
    "    ylim = tuple(np.array(ylim)*scale_factor)\n",
    "    xlim = tuple(np.array(xlim)*scale_factor)\n",
    "    ylim = tuple([cap(val, 1) for val in ylim])\n",
    "    xlim = tuple([cap(val, 0) for val in xlim])\n",
    "\n",
    "    #plt.show()\n",
    "    #plt.clf()\n",
    "\n",
    "    img = sub.uns[\"spatial\"][ID][\"images\"][f\"dapi_LEVEL{LEVEL}\"]\n",
    "    cur_coords = np.concatenate([xlim, ylim])\n",
    "    img_cropped = img[int(cur_coords[2]): int(np.ceil(cur_coords[3])),\\\n",
    "                     int(cur_coords[0]): int(np.ceil(cur_coords[1]))]\n",
    "\n",
    "    sub.uns[\"spatial\"][ID][\"images\"][f\"dapi_LEVEL{LEVEL}\"+\"_cropped\"] = img_cropped\n",
    "    sub.uns[\"spatial\"][ID][\"scalefactors\"][\"tissue_dapi_LEVEL{LEVEL}_cropped_scalef\"] = 1\n",
    "\n",
    "    sub.obsm[\"spatial\"][:,0] = sub.obsm[\"spatial\"][:,0]*scale_factor-int(cur_coords[0])\n",
    "    sub.obsm[\"spatial\"][:,1] = sub.obsm[\"spatial\"][:,1]*scale_factor-int(cur_coords[2])\n",
    "\n",
    "    keys = list(sub.uns[\"spatial\"].keys())\n",
    "    newdict = deepcopy(sub.uns[\"spatial\"])\n",
    "    for key in keys:\n",
    "        if key!=ID:\n",
    "            del newdict[key]\n",
    "    sub.uns[\"spatial\"] = newdict\n",
    "    \n",
    "    img_to_save = Image.fromarray((sub.uns[\"spatial\"][ID][\"images\"][f\"dapi_LEVEL{LEVEL}\"+\"_cropped\"]*255).astype(np.uint8))\n",
    "    im_arr = (sub.uns[\"spatial\"][ID][\"images\"][f\"dapi_LEVEL{LEVEL}\"+\"_cropped\"]*255).astype(np.uint8)\n",
    "    folder = sub.obs.Slide_ID.unique()[0]\n",
    "    if not os.path.exists(os.path.join(savedir_imgs, folder)):\n",
    "        os.mkdir(os.path.join(savedir_imgs, folder))\n",
    "    if not os.path.exists(os.path.join(savedir_adata, folder)):\n",
    "        os.mkdir(os.path.join(savedir_adata, folder))\n",
    "    img_to_save.save(os.path.join(savedir_imgs, f\"{sample.split('_')[1]}.png\"),\"PNG\")\n",
    "    imwrite(os.path.join(savedir_imgs, f\"{sample.split('_')[1]}.tiff\"), im_arr)\n",
    "    sub.write(os.path.join(savedir_adata, f\"{sample.split('_')[1]}.h5ad\"))"
   ]
  },
  {
   "cell_type": "code",
   "execution_count": null,
   "id": "d9855857-a9c3-48b5-bde0-c07233d57eba",
   "metadata": {},
   "outputs": [],
   "source": []
  }
 ],
 "metadata": {
  "kernelspec": {
   "display_name": "xenium_cgn",
   "language": "python",
   "name": "xenium_cgn"
  },
  "language_info": {
   "codemirror_mode": {
    "name": "ipython",
    "version": 3
   },
   "file_extension": ".py",
   "mimetype": "text/x-python",
   "name": "python",
   "nbconvert_exporter": "python",
   "pygments_lexer": "ipython3",
   "version": "3.11.6"
  }
 },
 "nbformat": 4,
 "nbformat_minor": 5
}
