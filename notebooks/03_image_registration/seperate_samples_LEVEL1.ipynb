{
 "cells": [
  {
   "cell_type": "code",
   "execution_count": 1,
   "id": "b483af81-60da-4d89-a22c-ff1e2fe1f866",
   "metadata": {},
   "outputs": [],
   "source": [
    "import os\n",
    "import numpy as np\n",
    "import scanpy as sc\n",
    "import matplotlib.pyplot as plt\n",
    "from tifffile import imwrite\n",
    "from PIL import Image\n",
    "from tqdm import tqdm\n",
    "from copy import deepcopy\n",
    "import json\n",
    "from skimage.color import gray2rgb\n"
   ]
  },
  {
   "cell_type": "code",
   "execution_count": 2,
   "id": "65aa9315-1d62-4c2d-b285-c725e987cc72",
   "metadata": {},
   "outputs": [],
   "source": [
    "p = \"../paths.json\"\n",
    "with open(p, \"r\") as f:\n",
    "    d = json.load(f)"
   ]
  },
  {
   "cell_type": "code",
   "execution_count": 3,
   "id": "96977236-4796-401e-8b24-7e9195b20d51",
   "metadata": {},
   "outputs": [
    {
     "data": {
      "text/plain": [
       "{'0011284': {'img': '/projectbig/jupyternotebook/xenium_cgn/robin_xenium_cgn_from_epyc/original_TIF/converted_OME/0011284.ome.tif',\n",
       "  'adata': '/projectbig/jupyternotebook/xenium_cgn/robin_xenium_cgn_from_epyc/h5ad_aligned/0011284.h5ad'},\n",
       " '0011546': {'img': '/projectbig/jupyternotebook/xenium_cgn/robin_xenium_cgn_from_epyc/original_TIF/converted_OME/0011546.ome.tif',\n",
       "  'adata': '/projectbig/jupyternotebook/xenium_cgn/robin_xenium_cgn_from_epyc/h5ad_aligned/0011546.h5ad'},\n",
       " '0011216': {'img': '/projectbig/jupyternotebook/xenium_cgn/robin_xenium_cgn_from_epyc/original_TIF/converted_OME/0011216.ome.tif',\n",
       "  'adata': '/projectbig/jupyternotebook/xenium_cgn/robin_xenium_cgn_from_epyc/h5ad_aligned/0011216.h5ad'},\n",
       " '0011707': {'img': '/projectbig/jupyternotebook/xenium_cgn/robin_xenium_cgn_from_epyc/original_TIF/converted_OME/0011707.ome.tif',\n",
       "  'adata': '/projectbig/jupyternotebook/xenium_cgn/robin_xenium_cgn_from_epyc/h5ad_aligned/0011707.h5ad'},\n",
       " '0011287': {'img': '/projectbig/jupyternotebook/xenium_cgn/robin_xenium_cgn_from_epyc/original_TIF/converted_OME/0011287.ome.tif',\n",
       "  'adata': '/projectbig/jupyternotebook/xenium_cgn/robin_xenium_cgn_from_epyc/h5ad_aligned/0011287.h5ad'},\n",
       " '0011762': {'img': '/projectbig/jupyternotebook/xenium_cgn/robin_xenium_cgn_from_epyc/original_TIF/converted_OME/0011762.ome.tif',\n",
       "  'adata': '/projectbig/jupyternotebook/xenium_cgn/robin_xenium_cgn_from_epyc/h5ad_aligned/0011762.h5ad'},\n",
       " '0011695': {'img': '/projectbig/jupyternotebook/xenium_cgn/robin_xenium_cgn_from_epyc/original_TIF/converted_OME/0011695.ome.tif',\n",
       "  'adata': '/projectbig/jupyternotebook/xenium_cgn/robin_xenium_cgn_from_epyc/h5ad_aligned/0011695.h5ad'},\n",
       " '0018775': {'adata': '/projectbig/jupyternotebook/xenium_cgn/robin_xenium_cgn_from_epyc/h5ad_aligned/0018775.h5ad'},\n",
       " 'combined': {'adata': '/projectbig/jupyternotebook/xenium_cgn/robin_xenium_cgn_from_epyc/h5ad_aligned/merged_with_Disease.h5ad',\n",
       "  'adata_celltype_l2': '/projectbig/jupyternotebook/xenium_cgn/robin_xenium_cgn_from_epyc/h5ad_aligned/merged_with_Disease_celltype_l2.h5ad'},\n",
       " 'combined_LEVEL1': {'adata': '/projectbig/jupyternotebook/xenium_cgn/robin_xenium_cgn_from_epyc/h5ad_aligned/merged_with_Disease_LEVEL1.h5ad'},\n",
       " 'combined_LEVEL0': {'adata': '/projectbig/jupyternotebook/xenium_cgn/robin_xenium_cgn_from_epyc/h5ad_aligned/merged_with_Disease_LEVEL0.h5ad'}}"
      ]
     },
     "execution_count": 3,
     "metadata": {},
     "output_type": "execute_result"
    }
   ],
   "source": [
    "d"
   ]
  },
  {
   "cell_type": "code",
   "execution_count": 4,
   "id": "c3f4ca6d-1dec-4632-b861-121483013e8d",
   "metadata": {},
   "outputs": [],
   "source": [
    "LEVEL = 1"
   ]
  },
  {
   "cell_type": "code",
   "execution_count": 5,
   "id": "47781487-714a-4b3b-8bed-286b98bedecc",
   "metadata": {},
   "outputs": [],
   "source": [
    "adata = sc.read(d[f\"combined_LEVEL{LEVEL}\"][\"adata\"])\n",
    "# adata = sc.read('/projectbig/jupyternotebook/xenium_cgn/robin_xenium_cgn_from_epyc/h5ad_aligned/merged_with_Disease_LEVEL0.h5ad')"
   ]
  },
  {
   "cell_type": "code",
   "execution_count": 6,
   "id": "f9433cc1-7b00-4d98-a5f4-2ae2e8b9e487",
   "metadata": {},
   "outputs": [
    {
     "data": {
      "text/plain": [
       "Slide_ID\n",
       "0011216    445832\n",
       "0011287    407779\n",
       "0011695    392638\n",
       "0011546    370042\n",
       "0011707    356653\n",
       "0018775    325998\n",
       "0011284    321855\n",
       "0011762    278382\n",
       "Name: count, dtype: int64"
      ]
     },
     "execution_count": 6,
     "metadata": {},
     "output_type": "execute_result"
    }
   ],
   "source": [
    "adata.obs[\"Slide_ID\"].value_counts()"
   ]
  },
  {
   "cell_type": "code",
   "execution_count": 7,
   "id": "d16eb9c9-3fbd-4c41-8e8f-ee612ef7de98",
   "metadata": {},
   "outputs": [],
   "source": [
    "savedir = \"./\"\n",
    "savedir = \"/projectbig/jupyternotebook/xenium_cgn/robin_xenium_cgn_from_epyc/seperate_samples/\""
   ]
  },
  {
   "cell_type": "code",
   "execution_count": 8,
   "id": "142473ef-0b00-40fd-b55d-0c85c54b6b9a",
   "metadata": {},
   "outputs": [
    {
     "data": {
      "text/plain": [
       "('/projectbig/jupyternotebook/xenium_cgn/robin_xenium_cgn_from_epyc/seperate_samples/adata_LEVEL1_new',\n",
       " '/projectbig/jupyternotebook/xenium_cgn/robin_xenium_cgn_from_epyc/seperate_samples/imgs_LEVEL1_new')"
      ]
     },
     "execution_count": 8,
     "metadata": {},
     "output_type": "execute_result"
    }
   ],
   "source": [
    "savedir_adata = os.path.join(savedir, f\"adata_LEVEL{LEVEL}_new\")\n",
    "if not os.path.exists(savedir_adata):\n",
    "    os.mkdir(savedir_adata)\n",
    "\n",
    "savedir_imgs = os.path.join(savedir, f\"imgs_LEVEL{LEVEL}_new\")\n",
    "if not os.path.exists(savedir_imgs):\n",
    "    os.mkdir(savedir_imgs)\n",
    "\n",
    "savedir_adata, savedir_imgs"
   ]
  },
  {
   "cell_type": "code",
   "execution_count": 9,
   "id": "dc645951-6ce7-46ec-a2ed-0575764e1a04",
   "metadata": {},
   "outputs": [],
   "source": [
    "samples = adata.obs.Sample_num.unique()"
   ]
  },
  {
   "cell_type": "code",
   "execution_count": 10,
   "id": "5f7967c8-2ee1-4b73-99cc-693dd8d2e2bf",
   "metadata": {},
   "outputs": [],
   "source": [
    "IDs = adata.obs.Slide_ID.unique()"
   ]
  },
  {
   "cell_type": "code",
   "execution_count": 11,
   "id": "ff923a23-d329-4d26-9586-88319daf8fb6",
   "metadata": {},
   "outputs": [],
   "source": [
    "def cap(val, index = 0):\n",
    "    if val < 0:\n",
    "        val = 0\n",
    "    # elif val > img.shape[index]:\n",
    "    #     val = img.shape[index]\n",
    "    return val"
   ]
  },
  {
   "cell_type": "code",
   "execution_count": null,
   "id": "d27338d7-dc85-4f3f-8937-d4bd3408143a",
   "metadata": {
    "scrolled": true
   },
   "outputs": [
    {
     "name": "stderr",
     "output_type": "stream",
     "text": [
      "  0%|          | 0/63 [00:00<?, ?it/s]/tmp/ipykernel_2037/3389823328.py:25: ImplicitModificationWarning: Trying to modify attribute `.obsm` of view, initializing view as actual.\n",
      "  sub.obsm[\"spatial\"][:,0] = sub.obsm[\"spatial\"][:,0]*scale_factor-int(cur_coords[0])\n",
      "  2%|▏         | 1/63 [03:36<3:43:34, 216.36s/it]/tmp/ipykernel_2037/3389823328.py:25: ImplicitModificationWarning: Trying to modify attribute `.obsm` of view, initializing view as actual.\n",
      "  sub.obsm[\"spatial\"][:,0] = sub.obsm[\"spatial\"][:,0]*scale_factor-int(cur_coords[0])\n",
      "  3%|▎         | 2/63 [07:36<3:54:07, 230.28s/it]/tmp/ipykernel_2037/3389823328.py:25: ImplicitModificationWarning: Trying to modify attribute `.obsm` of view, initializing view as actual.\n",
      "  sub.obsm[\"spatial\"][:,0] = sub.obsm[\"spatial\"][:,0]*scale_factor-int(cur_coords[0])\n",
      "  5%|▍         | 3/63 [12:03<4:07:15, 247.25s/it]/tmp/ipykernel_2037/3389823328.py:25: ImplicitModificationWarning: Trying to modify attribute `.obsm` of view, initializing view as actual.\n",
      "  sub.obsm[\"spatial\"][:,0] = sub.obsm[\"spatial\"][:,0]*scale_factor-int(cur_coords[0])\n",
      "  6%|▋         | 4/63 [15:45<3:53:14, 237.19s/it]/tmp/ipykernel_2037/3389823328.py:25: ImplicitModificationWarning: Trying to modify attribute `.obsm` of view, initializing view as actual.\n",
      "  sub.obsm[\"spatial\"][:,0] = sub.obsm[\"spatial\"][:,0]*scale_factor-int(cur_coords[0])\n",
      "  8%|▊         | 5/63 [20:16<4:01:08, 249.46s/it]/tmp/ipykernel_2037/3389823328.py:25: ImplicitModificationWarning: Trying to modify attribute `.obsm` of view, initializing view as actual.\n",
      "  sub.obsm[\"spatial\"][:,0] = sub.obsm[\"spatial\"][:,0]*scale_factor-int(cur_coords[0])\n",
      " 10%|▉         | 6/63 [23:53<3:46:32, 238.46s/it]/tmp/ipykernel_2037/3389823328.py:25: ImplicitModificationWarning: Trying to modify attribute `.obsm` of view, initializing view as actual.\n",
      "  sub.obsm[\"spatial\"][:,0] = sub.obsm[\"spatial\"][:,0]*scale_factor-int(cur_coords[0])\n",
      " 11%|█         | 7/63 [27:16<3:31:45, 226.88s/it]/tmp/ipykernel_2037/3389823328.py:25: ImplicitModificationWarning: Trying to modify attribute `.obsm` of view, initializing view as actual.\n",
      "  sub.obsm[\"spatial\"][:,0] = sub.obsm[\"spatial\"][:,0]*scale_factor-int(cur_coords[0])\n",
      " 13%|█▎        | 8/63 [31:15<3:31:20, 230.55s/it]/tmp/ipykernel_2037/3389823328.py:25: ImplicitModificationWarning: Trying to modify attribute `.obsm` of view, initializing view as actual.\n",
      "  sub.obsm[\"spatial\"][:,0] = sub.obsm[\"spatial\"][:,0]*scale_factor-int(cur_coords[0])\n",
      " 14%|█▍        | 9/63 [33:54<3:07:25, 208.24s/it]/tmp/ipykernel_2037/3389823328.py:25: ImplicitModificationWarning: Trying to modify attribute `.obsm` of view, initializing view as actual.\n",
      "  sub.obsm[\"spatial\"][:,0] = sub.obsm[\"spatial\"][:,0]*scale_factor-int(cur_coords[0])\n",
      " 16%|█▌        | 10/63 [37:14<3:01:33, 205.54s/it]/tmp/ipykernel_2037/3389823328.py:25: ImplicitModificationWarning: Trying to modify attribute `.obsm` of view, initializing view as actual.\n",
      "  sub.obsm[\"spatial\"][:,0] = sub.obsm[\"spatial\"][:,0]*scale_factor-int(cur_coords[0])\n",
      " 17%|█▋        | 11/63 [41:09<3:06:07, 214.76s/it]/tmp/ipykernel_2037/3389823328.py:25: ImplicitModificationWarning: Trying to modify attribute `.obsm` of view, initializing view as actual.\n",
      "  sub.obsm[\"spatial\"][:,0] = sub.obsm[\"spatial\"][:,0]*scale_factor-int(cur_coords[0])\n",
      " 19%|█▉        | 12/63 [44:14<2:54:48, 205.65s/it]/tmp/ipykernel_2037/3389823328.py:25: ImplicitModificationWarning: Trying to modify attribute `.obsm` of view, initializing view as actual.\n",
      "  sub.obsm[\"spatial\"][:,0] = sub.obsm[\"spatial\"][:,0]*scale_factor-int(cur_coords[0])\n",
      " 21%|██        | 13/63 [48:52<3:09:39, 227.59s/it]/tmp/ipykernel_2037/3389823328.py:25: ImplicitModificationWarning: Trying to modify attribute `.obsm` of view, initializing view as actual.\n",
      "  sub.obsm[\"spatial\"][:,0] = sub.obsm[\"spatial\"][:,0]*scale_factor-int(cur_coords[0])\n",
      " 22%|██▏       | 14/63 [51:49<2:53:25, 212.37s/it]/tmp/ipykernel_2037/3389823328.py:25: ImplicitModificationWarning: Trying to modify attribute `.obsm` of view, initializing view as actual.\n",
      "  sub.obsm[\"spatial\"][:,0] = sub.obsm[\"spatial\"][:,0]*scale_factor-int(cur_coords[0])\n",
      " 24%|██▍       | 15/63 [56:32<3:06:47, 233.48s/it]/tmp/ipykernel_2037/3389823328.py:25: ImplicitModificationWarning: Trying to modify attribute `.obsm` of view, initializing view as actual.\n",
      "  sub.obsm[\"spatial\"][:,0] = sub.obsm[\"spatial\"][:,0]*scale_factor-int(cur_coords[0])\n",
      " 25%|██▌       | 16/63 [59:28<2:49:30, 216.39s/it]/tmp/ipykernel_2037/3389823328.py:25: ImplicitModificationWarning: Trying to modify attribute `.obsm` of view, initializing view as actual.\n",
      "  sub.obsm[\"spatial\"][:,0] = sub.obsm[\"spatial\"][:,0]*scale_factor-int(cur_coords[0])\n",
      " 27%|██▋       | 17/63 [1:03:38<2:53:28, 226.28s/it]/tmp/ipykernel_2037/3389823328.py:25: ImplicitModificationWarning: Trying to modify attribute `.obsm` of view, initializing view as actual.\n",
      "  sub.obsm[\"spatial\"][:,0] = sub.obsm[\"spatial\"][:,0]*scale_factor-int(cur_coords[0])\n",
      " 29%|██▊       | 18/63 [1:07:40<2:53:21, 231.14s/it]/tmp/ipykernel_2037/3389823328.py:25: ImplicitModificationWarning: Trying to modify attribute `.obsm` of view, initializing view as actual.\n",
      "  sub.obsm[\"spatial\"][:,0] = sub.obsm[\"spatial\"][:,0]*scale_factor-int(cur_coords[0])\n",
      " 30%|███       | 19/63 [1:11:45<2:52:26, 235.15s/it]/tmp/ipykernel_2037/3389823328.py:25: ImplicitModificationWarning: Trying to modify attribute `.obsm` of view, initializing view as actual.\n",
      "  sub.obsm[\"spatial\"][:,0] = sub.obsm[\"spatial\"][:,0]*scale_factor-int(cur_coords[0])\n",
      " 32%|███▏      | 20/63 [1:14:45<2:36:48, 218.80s/it]/tmp/ipykernel_2037/3389823328.py:25: ImplicitModificationWarning: Trying to modify attribute `.obsm` of view, initializing view as actual.\n",
      "  sub.obsm[\"spatial\"][:,0] = sub.obsm[\"spatial\"][:,0]*scale_factor-int(cur_coords[0])\n",
      " 33%|███▎      | 21/63 [1:17:49<2:25:41, 208.12s/it]/tmp/ipykernel_2037/3389823328.py:25: ImplicitModificationWarning: Trying to modify attribute `.obsm` of view, initializing view as actual.\n",
      "  sub.obsm[\"spatial\"][:,0] = sub.obsm[\"spatial\"][:,0]*scale_factor-int(cur_coords[0])\n",
      " 35%|███▍      | 22/63 [1:21:54<2:29:56, 219.42s/it]/tmp/ipykernel_2037/3389823328.py:25: ImplicitModificationWarning: Trying to modify attribute `.obsm` of view, initializing view as actual.\n",
      "  sub.obsm[\"spatial\"][:,0] = sub.obsm[\"spatial\"][:,0]*scale_factor-int(cur_coords[0])\n",
      " 37%|███▋      | 23/63 [1:26:35<2:38:33, 237.85s/it]/tmp/ipykernel_2037/3389823328.py:25: ImplicitModificationWarning: Trying to modify attribute `.obsm` of view, initializing view as actual.\n",
      "  sub.obsm[\"spatial\"][:,0] = sub.obsm[\"spatial\"][:,0]*scale_factor-int(cur_coords[0])\n",
      " 38%|███▊      | 24/63 [1:29:19<2:20:14, 215.76s/it]/tmp/ipykernel_2037/3389823328.py:25: ImplicitModificationWarning: Trying to modify attribute `.obsm` of view, initializing view as actual.\n",
      "  sub.obsm[\"spatial\"][:,0] = sub.obsm[\"spatial\"][:,0]*scale_factor-int(cur_coords[0])\n",
      " 40%|███▉      | 25/63 [1:33:08<2:19:04, 219.59s/it]/tmp/ipykernel_2037/3389823328.py:25: ImplicitModificationWarning: Trying to modify attribute `.obsm` of view, initializing view as actual.\n",
      "  sub.obsm[\"spatial\"][:,0] = sub.obsm[\"spatial\"][:,0]*scale_factor-int(cur_coords[0])\n",
      " 41%|████▏     | 26/63 [1:37:28<2:22:53, 231.73s/it]/tmp/ipykernel_2037/3389823328.py:25: ImplicitModificationWarning: Trying to modify attribute `.obsm` of view, initializing view as actual.\n",
      "  sub.obsm[\"spatial\"][:,0] = sub.obsm[\"spatial\"][:,0]*scale_factor-int(cur_coords[0])\n",
      " 43%|████▎     | 27/63 [1:41:41<2:22:57, 238.25s/it]/tmp/ipykernel_2037/3389823328.py:25: ImplicitModificationWarning: Trying to modify attribute `.obsm` of view, initializing view as actual.\n",
      "  sub.obsm[\"spatial\"][:,0] = sub.obsm[\"spatial\"][:,0]*scale_factor-int(cur_coords[0])\n",
      " 44%|████▍     | 28/63 [1:44:13<2:03:48, 212.25s/it]/tmp/ipykernel_2037/3389823328.py:25: ImplicitModificationWarning: Trying to modify attribute `.obsm` of view, initializing view as actual.\n",
      "  sub.obsm[\"spatial\"][:,0] = sub.obsm[\"spatial\"][:,0]*scale_factor-int(cur_coords[0])\n",
      " 46%|████▌     | 29/63 [1:48:44<2:10:14, 229.84s/it]/tmp/ipykernel_2037/3389823328.py:25: ImplicitModificationWarning: Trying to modify attribute `.obsm` of view, initializing view as actual.\n",
      "  sub.obsm[\"spatial\"][:,0] = sub.obsm[\"spatial\"][:,0]*scale_factor-int(cur_coords[0])\n",
      " 48%|████▊     | 30/63 [1:51:40<1:57:29, 213.61s/it]/tmp/ipykernel_2037/3389823328.py:25: ImplicitModificationWarning: Trying to modify attribute `.obsm` of view, initializing view as actual.\n",
      "  sub.obsm[\"spatial\"][:,0] = sub.obsm[\"spatial\"][:,0]*scale_factor-int(cur_coords[0])\n",
      " 49%|████▉     | 31/63 [1:55:15<1:54:12, 214.13s/it]/tmp/ipykernel_2037/3389823328.py:25: ImplicitModificationWarning: Trying to modify attribute `.obsm` of view, initializing view as actual.\n",
      "  sub.obsm[\"spatial\"][:,0] = sub.obsm[\"spatial\"][:,0]*scale_factor-int(cur_coords[0])\n",
      " 51%|█████     | 32/63 [1:58:43<1:49:42, 212.34s/it]/tmp/ipykernel_2037/3389823328.py:25: ImplicitModificationWarning: Trying to modify attribute `.obsm` of view, initializing view as actual.\n",
      "  sub.obsm[\"spatial\"][:,0] = sub.obsm[\"spatial\"][:,0]*scale_factor-int(cur_coords[0])\n",
      " 52%|█████▏    | 33/63 [2:01:16<1:37:12, 194.41s/it]/tmp/ipykernel_2037/3389823328.py:25: ImplicitModificationWarning: Trying to modify attribute `.obsm` of view, initializing view as actual.\n",
      "  sub.obsm[\"spatial\"][:,0] = sub.obsm[\"spatial\"][:,0]*scale_factor-int(cur_coords[0])\n",
      " 54%|█████▍    | 34/63 [2:05:10<1:39:41, 206.25s/it]/tmp/ipykernel_2037/3389823328.py:25: ImplicitModificationWarning: Trying to modify attribute `.obsm` of view, initializing view as actual.\n",
      "  sub.obsm[\"spatial\"][:,0] = sub.obsm[\"spatial\"][:,0]*scale_factor-int(cur_coords[0])\n",
      " 56%|█████▌    | 35/63 [2:08:40<1:36:53, 207.64s/it]/tmp/ipykernel_2037/3389823328.py:25: ImplicitModificationWarning: Trying to modify attribute `.obsm` of view, initializing view as actual.\n",
      "  sub.obsm[\"spatial\"][:,0] = sub.obsm[\"spatial\"][:,0]*scale_factor-int(cur_coords[0])\n",
      " 57%|█████▋    | 36/63 [2:13:02<1:40:42, 223.79s/it]/tmp/ipykernel_2037/3389823328.py:25: ImplicitModificationWarning: Trying to modify attribute `.obsm` of view, initializing view as actual.\n",
      "  sub.obsm[\"spatial\"][:,0] = sub.obsm[\"spatial\"][:,0]*scale_factor-int(cur_coords[0])\n",
      " 59%|█████▊    | 37/63 [2:15:33<1:27:29, 201.92s/it]/tmp/ipykernel_2037/3389823328.py:25: ImplicitModificationWarning: Trying to modify attribute `.obsm` of view, initializing view as actual.\n",
      "  sub.obsm[\"spatial\"][:,0] = sub.obsm[\"spatial\"][:,0]*scale_factor-int(cur_coords[0])\n",
      " 60%|██████    | 38/63 [2:20:03<1:32:41, 222.48s/it]/tmp/ipykernel_2037/3389823328.py:25: ImplicitModificationWarning: Trying to modify attribute `.obsm` of view, initializing view as actual.\n",
      "  sub.obsm[\"spatial\"][:,0] = sub.obsm[\"spatial\"][:,0]*scale_factor-int(cur_coords[0])\n",
      " 62%|██████▏   | 39/63 [2:21:44<1:14:20, 185.87s/it]/tmp/ipykernel_2037/3389823328.py:25: ImplicitModificationWarning: Trying to modify attribute `.obsm` of view, initializing view as actual.\n",
      "  sub.obsm[\"spatial\"][:,0] = sub.obsm[\"spatial\"][:,0]*scale_factor-int(cur_coords[0])\n",
      " 63%|██████▎   | 40/63 [2:25:35<1:16:31, 199.63s/it]/tmp/ipykernel_2037/3389823328.py:25: ImplicitModificationWarning: Trying to modify attribute `.obsm` of view, initializing view as actual.\n",
      "  sub.obsm[\"spatial\"][:,0] = sub.obsm[\"spatial\"][:,0]*scale_factor-int(cur_coords[0])\n",
      " 65%|██████▌   | 41/63 [2:29:50<1:19:10, 215.94s/it]/tmp/ipykernel_2037/3389823328.py:25: ImplicitModificationWarning: Trying to modify attribute `.obsm` of view, initializing view as actual.\n",
      "  sub.obsm[\"spatial\"][:,0] = sub.obsm[\"spatial\"][:,0]*scale_factor-int(cur_coords[0])\n",
      " 67%|██████▋   | 42/63 [2:32:30<1:09:46, 199.37s/it]/tmp/ipykernel_2037/3389823328.py:25: ImplicitModificationWarning: Trying to modify attribute `.obsm` of view, initializing view as actual.\n",
      "  sub.obsm[\"spatial\"][:,0] = sub.obsm[\"spatial\"][:,0]*scale_factor-int(cur_coords[0])\n",
      " 68%|██████▊   | 43/63 [2:36:35<1:10:57, 212.88s/it]/tmp/ipykernel_2037/3389823328.py:25: ImplicitModificationWarning: Trying to modify attribute `.obsm` of view, initializing view as actual.\n",
      "  sub.obsm[\"spatial\"][:,0] = sub.obsm[\"spatial\"][:,0]*scale_factor-int(cur_coords[0])\n",
      " 70%|██████▉   | 44/63 [2:40:29<1:09:28, 219.41s/it]/tmp/ipykernel_2037/3389823328.py:25: ImplicitModificationWarning: Trying to modify attribute `.obsm` of view, initializing view as actual.\n",
      "  sub.obsm[\"spatial\"][:,0] = sub.obsm[\"spatial\"][:,0]*scale_factor-int(cur_coords[0])\n",
      " 71%|███████▏  | 45/63 [2:44:31<1:07:49, 226.08s/it]/tmp/ipykernel_2037/3389823328.py:25: ImplicitModificationWarning: Trying to modify attribute `.obsm` of view, initializing view as actual.\n",
      "  sub.obsm[\"spatial\"][:,0] = sub.obsm[\"spatial\"][:,0]*scale_factor-int(cur_coords[0])\n",
      " 73%|███████▎  | 46/63 [2:48:55<1:07:17, 237.51s/it]/tmp/ipykernel_2037/3389823328.py:25: ImplicitModificationWarning: Trying to modify attribute `.obsm` of view, initializing view as actual.\n",
      "  sub.obsm[\"spatial\"][:,0] = sub.obsm[\"spatial\"][:,0]*scale_factor-int(cur_coords[0])\n",
      " 75%|███████▍  | 47/63 [2:50:34<52:17, 196.07s/it]  /tmp/ipykernel_2037/3389823328.py:25: ImplicitModificationWarning: Trying to modify attribute `.obsm` of view, initializing view as actual.\n",
      "  sub.obsm[\"spatial\"][:,0] = sub.obsm[\"spatial\"][:,0]*scale_factor-int(cur_coords[0])\n",
      " 76%|███████▌  | 48/63 [2:54:02<49:54, 199.65s/it]/tmp/ipykernel_2037/3389823328.py:25: ImplicitModificationWarning: Trying to modify attribute `.obsm` of view, initializing view as actual.\n",
      "  sub.obsm[\"spatial\"][:,0] = sub.obsm[\"spatial\"][:,0]*scale_factor-int(cur_coords[0])\n",
      " 78%|███████▊  | 49/63 [2:57:51<48:36, 208.35s/it]/tmp/ipykernel_2037/3389823328.py:25: ImplicitModificationWarning: Trying to modify attribute `.obsm` of view, initializing view as actual.\n",
      "  sub.obsm[\"spatial\"][:,0] = sub.obsm[\"spatial\"][:,0]*scale_factor-int(cur_coords[0])\n",
      " 79%|███████▉  | 50/63 [2:59:33<38:14, 176.51s/it]/tmp/ipykernel_2037/3389823328.py:25: ImplicitModificationWarning: Trying to modify attribute `.obsm` of view, initializing view as actual.\n",
      "  sub.obsm[\"spatial\"][:,0] = sub.obsm[\"spatial\"][:,0]*scale_factor-int(cur_coords[0])\n",
      " 81%|████████  | 51/63 [3:02:27<35:08, 175.72s/it]/tmp/ipykernel_2037/3389823328.py:25: ImplicitModificationWarning: Trying to modify attribute `.obsm` of view, initializing view as actual.\n",
      "  sub.obsm[\"spatial\"][:,0] = sub.obsm[\"spatial\"][:,0]*scale_factor-int(cur_coords[0])\n",
      " 83%|████████▎ | 52/63 [3:05:19<31:58, 174.41s/it]/tmp/ipykernel_2037/3389823328.py:25: ImplicitModificationWarning: Trying to modify attribute `.obsm` of view, initializing view as actual.\n",
      "  sub.obsm[\"spatial\"][:,0] = sub.obsm[\"spatial\"][:,0]*scale_factor-int(cur_coords[0])\n",
      " 84%|████████▍ | 53/63 [3:09:20<32:24, 194.48s/it]/tmp/ipykernel_2037/3389823328.py:25: ImplicitModificationWarning: Trying to modify attribute `.obsm` of view, initializing view as actual.\n",
      "  sub.obsm[\"spatial\"][:,0] = sub.obsm[\"spatial\"][:,0]*scale_factor-int(cur_coords[0])\n",
      " 86%|████████▌ | 54/63 [3:11:50<27:09, 181.05s/it]/tmp/ipykernel_2037/3389823328.py:25: ImplicitModificationWarning: Trying to modify attribute `.obsm` of view, initializing view as actual.\n",
      "  sub.obsm[\"spatial\"][:,0] = sub.obsm[\"spatial\"][:,0]*scale_factor-int(cur_coords[0])\n",
      " 87%|████████▋ | 55/63 [3:15:18<25:14, 189.34s/it]/tmp/ipykernel_2037/3389823328.py:25: ImplicitModificationWarning: Trying to modify attribute `.obsm` of view, initializing view as actual.\n",
      "  sub.obsm[\"spatial\"][:,0] = sub.obsm[\"spatial\"][:,0]*scale_factor-int(cur_coords[0])\n",
      " 89%|████████▉ | 56/63 [3:19:03<23:20, 200.11s/it]/tmp/ipykernel_2037/3389823328.py:25: ImplicitModificationWarning: Trying to modify attribute `.obsm` of view, initializing view as actual.\n",
      "  sub.obsm[\"spatial\"][:,0] = sub.obsm[\"spatial\"][:,0]*scale_factor-int(cur_coords[0])\n",
      " 90%|█████████ | 57/63 [3:22:37<20:24, 204.08s/it]/tmp/ipykernel_2037/3389823328.py:25: ImplicitModificationWarning: Trying to modify attribute `.obsm` of view, initializing view as actual.\n",
      "  sub.obsm[\"spatial\"][:,0] = sub.obsm[\"spatial\"][:,0]*scale_factor-int(cur_coords[0])\n",
      " 92%|█████████▏| 58/63 [3:27:05<18:36, 223.26s/it]/tmp/ipykernel_2037/3389823328.py:25: ImplicitModificationWarning: Trying to modify attribute `.obsm` of view, initializing view as actual.\n",
      "  sub.obsm[\"spatial\"][:,0] = sub.obsm[\"spatial\"][:,0]*scale_factor-int(cur_coords[0])\n",
      " 94%|█████████▎| 59/63 [3:30:10<14:07, 211.77s/it]/tmp/ipykernel_2037/3389823328.py:25: ImplicitModificationWarning: Trying to modify attribute `.obsm` of view, initializing view as actual.\n",
      "  sub.obsm[\"spatial\"][:,0] = sub.obsm[\"spatial\"][:,0]*scale_factor-int(cur_coords[0])\n",
      " 95%|█████████▌| 60/63 [3:34:31<11:19, 226.66s/it]/tmp/ipykernel_2037/3389823328.py:25: ImplicitModificationWarning: Trying to modify attribute `.obsm` of view, initializing view as actual.\n",
      "  sub.obsm[\"spatial\"][:,0] = sub.obsm[\"spatial\"][:,0]*scale_factor-int(cur_coords[0])\n",
      " 97%|█████████▋| 61/63 [3:38:53<07:54, 237.30s/it]/tmp/ipykernel_2037/3389823328.py:25: ImplicitModificationWarning: Trying to modify attribute `.obsm` of view, initializing view as actual.\n",
      "  sub.obsm[\"spatial\"][:,0] = sub.obsm[\"spatial\"][:,0]*scale_factor-int(cur_coords[0])\n"
     ]
    }
   ],
   "source": [
    "for sample in tqdm(adata.obs.ID.unique()):\n",
    "    \n",
    "    sub = adata[adata.obs.ID==sample]\n",
    "    ID = sub.obs.Slide_ID.unique()[0]\n",
    "    scale_factor = sub.uns[\"spatial\"][ID][\"scalefactors\"][f\"tissue_dapi_LEVEL{LEVEL}_scalef\"]\n",
    "    #ax=sc.pl.embedding(sub, basis=\"spatial\", s=20, show=False)\n",
    "    ylim=(sub.obsm[\"spatial\"][:,1].min()-350, sub.obsm[\"spatial\"][:,1].max()+350)\n",
    "    xlim=(sub.obsm[\"spatial\"][:,0].min()-350, sub.obsm[\"spatial\"][:,0].max()+350)\n",
    "    ylim = tuple(np.array(ylim)*scale_factor)\n",
    "    xlim = tuple(np.array(xlim)*scale_factor)\n",
    "    ylim = tuple([cap(val, 1) for val in ylim])\n",
    "    xlim = tuple([cap(val, 0) for val in xlim])\n",
    "\n",
    "    #plt.show()\n",
    "    #plt.clf()\n",
    "\n",
    "    img = sub.uns[\"spatial\"][ID][\"images\"][f\"dapi_LEVEL{LEVEL}\"]\n",
    "    cur_coords = np.concatenate([xlim, ylim])\n",
    "    img_cropped = img[int(cur_coords[2]): int(np.ceil(cur_coords[3])),\\\n",
    "                     int(cur_coords[0]): int(np.ceil(cur_coords[1]))]\n",
    "\n",
    "    sub.uns[\"spatial\"][ID][\"images\"][f\"dapi_LEVEL{LEVEL}\"+\"_cropped\"] = img_cropped\n",
    "    sub.uns[\"spatial\"][ID][\"scalefactors\"][\"tissue_dapi_LEVEL{LEVEL}_cropped_scalef\"] = 1\n",
    "\n",
    "    sub.obsm[\"spatial\"][:,0] = sub.obsm[\"spatial\"][:,0]*scale_factor-int(cur_coords[0])\n",
    "    sub.obsm[\"spatial\"][:,1] = sub.obsm[\"spatial\"][:,1]*scale_factor-int(cur_coords[2])\n",
    "\n",
    "    keys = list(sub.uns[\"spatial\"].keys())\n",
    "    newdict = deepcopy(sub.uns[\"spatial\"])\n",
    "    for key in keys:\n",
    "        if key!=ID:\n",
    "            del newdict[key]\n",
    "    sub.uns[\"spatial\"] = newdict\n",
    "    \n",
    "    img_to_save = Image.fromarray((sub.uns[\"spatial\"][ID][\"images\"][f\"dapi_LEVEL{LEVEL}\"+\"_cropped\"]*255).astype(np.uint8))\n",
    "    im_arr = (sub.uns[\"spatial\"][ID][\"images\"][f\"dapi_LEVEL{LEVEL}\"+\"_cropped\"]*255).astype(np.uint8)\n",
    "    folder = sub.obs.Slide_ID.unique()[0]\n",
    "    if not os.path.exists(os.path.join(savedir_imgs, folder)):\n",
    "        os.mkdir(os.path.join(savedir_imgs, folder))\n",
    "    if not os.path.exists(os.path.join(savedir_adata, folder)):\n",
    "        os.mkdir(os.path.join(savedir_adata, folder))\n",
    "    img_to_save.save(os.path.join(savedir_imgs, f\"{sample.split('_')[1]}.png\"),\"PNG\")\n",
    "    imwrite(os.path.join(savedir_imgs, f\"{sample.split('_')[1]}.tiff\"), im_arr)\n",
    "    sub.write(os.path.join(savedir_adata, f\"{sample.split('_')[1]}.h5ad\"))"
   ]
  },
  {
   "cell_type": "code",
   "execution_count": null,
   "id": "d9855857-a9c3-48b5-bde0-c07233d57eba",
   "metadata": {},
   "outputs": [],
   "source": []
  }
 ],
 "metadata": {
  "kernelspec": {
   "display_name": "chem",
   "language": "python",
   "name": "chem"
  },
  "language_info": {
   "codemirror_mode": {
    "name": "ipython",
    "version": 3
   },
   "file_extension": ".py",
   "mimetype": "text/x-python",
   "name": "python",
   "nbconvert_exporter": "python",
   "pygments_lexer": "ipython3",
   "version": "3.11.9"
  }
 },
 "nbformat": 4,
 "nbformat_minor": 5
}
