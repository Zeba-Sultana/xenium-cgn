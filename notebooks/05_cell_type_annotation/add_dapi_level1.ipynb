{
 "cells": [
  {
   "cell_type": "code",
   "execution_count": null,
   "id": "931a8510-4002-45b2-9e77-58ae94409a4e",
   "metadata": {},
   "outputs": [],
   "source": [
    "import os\n",
    "import numpy as np\n",
    "import pandas as pd\n",
    "import scanpy as sc\n",
    "import scipy\n",
    "from skimage.color import gray2rgb\n",
    "from tqdm import tqdm\n",
    "import tifffile\n",
    "from PIL import Image\n",
    "import json"
   ]
  },
  {
   "cell_type": "code",
   "execution_count": null,
   "id": "e87686c2-71e6-48e2-99d7-02c0e3793f4a",
   "metadata": {},
   "outputs": [],
   "source": [
    "adata = sc.read(\"xenium_outs/merged_processed.h5ad\")"
   ]
  },
  {
   "cell_type": "code",
   "execution_count": null,
   "id": "bfce4d26-7179-434b-b9fe-75d956662815",
   "metadata": {},
   "outputs": [],
   "source": [
    "del adata.uns[\"spatial\"]"
   ]
  },
  {
   "cell_type": "code",
   "execution_count": null,
   "id": "0629a3be-d771-4ea9-b922-3685048fb7fa",
   "metadata": {},
   "outputs": [],
   "source": [
    "raw_dir = \"/data/projects/zeba/MY_PROJECTS/240130_Xenium_ANCA_SLE_GBM/raw_data\"\n",
    "sample_folders = [os.path.join(raw_dir, folder) for folder in os.listdir(raw_dir) if \"human_ANCA\" in folder]"
   ]
  },
  {
   "cell_type": "code",
   "execution_count": null,
   "id": "34cecd9e-1b69-4036-b907-6e6427457257",
   "metadata": {},
   "outputs": [],
   "source": [
    "xenium_folders_0 = []\n",
    "ids_folders = []\n",
    "for folder in tqdm(sample_folders):\n",
    "    tmp = os.listdir(folder)\n",
    "    for folder_tmp in tmp:\n",
    "        if \"output-XET\" in folder_tmp:\n",
    "            xenium_folders_0.append(os.path.join(folder, folder_tmp))\n",
    "            ids_folders.append(folder_tmp.split(\"_\")[2])"
   ]
  },
  {
   "cell_type": "code",
   "execution_count": null,
   "id": "2900c336-30ba-4151-a940-e5770d4adde6",
   "metadata": {},
   "outputs": [],
   "source": [
    "ids_folders = [e for e in ids_folders if e in adata.obs.Slide_ID.unique()]"
   ]
  },
  {
   "cell_type": "code",
   "execution_count": null,
   "id": "823f3174-139c-4def-a919-b2c2d9cf83a1",
   "metadata": {},
   "outputs": [],
   "source": [
    "ids_folders"
   ]
  },
  {
   "cell_type": "code",
   "execution_count": null,
   "id": "c936b5ef-078c-4326-b52f-bdad719ebb1c",
   "metadata": {},
   "outputs": [],
   "source": [
    "xenium_folders = []\n",
    "for i in ids_folders:\n",
    "    for f in xenium_folders_0:\n",
    "        if i in f:\n",
    "            xenium_folders.append(f)"
   ]
  },
  {
   "cell_type": "code",
   "execution_count": null,
   "id": "7d5c4632-45b1-4cf6-b35c-1733becf6017",
   "metadata": {},
   "outputs": [],
   "source": [
    "for i in range(len(ids_folders)):\n",
    "    print(ids_folders[i], xenium_folders[i])"
   ]
  },
  {
   "cell_type": "code",
   "execution_count": null,
   "id": "f7661604-cdfd-4c1b-9c96-57ec4c135c60",
   "metadata": {},
   "outputs": [],
   "source": [
    "print(len(ids_folders))"
   ]
  },
  {
   "cell_type": "code",
   "execution_count": null,
   "id": "aba56ee3-2923-4c7c-943a-f335d4a6a7f6",
   "metadata": {},
   "outputs": [],
   "source": [
    "LEVEL = 1\n",
    "px_size = 0.425"
   ]
  },
  {
   "cell_type": "code",
   "execution_count": null,
   "id": "c62dacc7-4c63-4662-8f0f-cfa0cec88689",
   "metadata": {},
   "outputs": [],
   "source": [
    "\"spatial\" in adata.uns.keys()"
   ]
  },
  {
   "cell_type": "code",
   "execution_count": null,
   "id": "110587b3-6209-455a-99ac-6ce4003b1fe2",
   "metadata": {},
   "outputs": [],
   "source": [
    "adata.uns[\"spatial\"] = {}"
   ]
  },
  {
   "cell_type": "code",
   "execution_count": null,
   "id": "fad77f17-eb73-479d-bb47-7a64305ab1c1",
   "metadata": {},
   "outputs": [],
   "source": [
    "for i, ID in tqdm(enumerate(ids_folders)):\n",
    "    print(ID)\n",
    "    mipurl = os.path.join(xenium_folders[i], \"morphology_mip.ome.tif\")\n",
    "    print(\"Processing DAPI\")\n",
    "    with tifffile.TiffFile(mipurl) as tif:\n",
    "        image = tif.series[0].levels[LEVEL].asarray()\n",
    "\n",
    "    resample = scipy.ndimage.zoom(image, px_size)\n",
    "    resample_invert = np.invert(resample)\n",
    "    resample_invert = (resample_invert-resample_invert.min())/(resample_invert.max()-resample_invert.min())\n",
    "    rgb = gray2rgb(resample_invert)\n",
    "        \n",
    "    print(\"Adding DAPI to anndata\")\n",
    "\n",
    "    adata.uns[\"spatial\"][f'{ID}'] = {}\n",
    "    adata.uns[\"spatial\"][f'{ID}'][\"images\"] = {}\n",
    "    adata.uns[\"spatial\"][f'{ID}'][\"scalefactors\"] = {}\n",
    "        \n",
    "    adata.uns[\"spatial\"][f'{ID}'][\"images\"][f\"dapi_LEVEL{LEVEL}\"] = rgb\n",
    "    adata.uns[\"spatial\"][f'{ID}'][\"scalefactors\"][f\"tissue_dapi_LEVEL{LEVEL}_scalef\"] = 1\n",
    "    adata.uns[\"spatial\"][f'{ID}'][\"scalefactors\"][\"fiducial_diameter_fullres\"] = 40\n",
    "    adata.uns[\"spatial\"][f'{ID}'][\"scalefactors\"][\"spot_diameter_fullres\"] = 40"
   ]
  },
  {
   "cell_type": "code",
   "execution_count": null,
   "id": "9cf5bb9e-64d6-4589-a195-406b60013d0a",
   "metadata": {},
   "outputs": [],
   "source": [
    "sc.pl.spatial(adata[adata.obs.Slide_ID==ids_folders[0]], library_id=ids_folders[0], color=\"CD3D\", img_key=f\"dapi_LEVEL{LEVEL}\")"
   ]
  },
  {
   "cell_type": "code",
   "execution_count": null,
   "id": "e352d20d-d742-48fc-892c-5b9c3f224a0c",
   "metadata": {},
   "outputs": [],
   "source": [
    "sc.pl.spatial(adata[adata.obs.Slide_ID==ids_folders[0]], library_id=ids_folders[0], img_key=f\"dapi_LEVEL{LEVEL}\")\n"
   ]
  },
  {
   "cell_type": "code",
   "execution_count": null,
   "id": "248121fe-5cc5-4af8-a926-ba53be7a7154",
   "metadata": {},
   "outputs": [],
   "source": [
    "adata"
   ]
  },
  {
   "cell_type": "code",
   "execution_count": null,
   "id": "5d9a4a5b-624e-4b1b-a6c4-7e7a4937399d",
   "metadata": {},
   "outputs": [],
   "source": [
    "custom_cmap = {\n",
    "    'podocyte': '#950404FF',\n",
    "    'mesangial cell': '#C38961FF',\n",
    "    'PEC': '#9F5630FF',\n",
    "    'PapE': '#FFB274FF',\n",
    "    'VSM/P': '#FF7200FF',\n",
    "    'EC': '#8C37E5FF',\n",
    "    'PT': '#53505AFF',\n",
    "    'ATL': '#495564FF',\n",
    "    'CNT': '#5C616FFF',\n",
    "    'DCT': '#B5BCCBFF',\n",
    "    'DTL': '#DCDCE3FF',\n",
    "    'TAL': '#B8B69EFF',\n",
    "    'FIB': '#007A99FF',\n",
    "    'IC': '#00A9CCFF',\n",
    "    'NEU': '#32E3FFFF',\n",
    "    'PC': '#99F8FFFF',\n",
    "    'T': '#648C16FF',\n",
    "    'NKC/T': '#7EA13EFF',\n",
    "    'B': '#8BAC54FF',\n",
    "    'PL': '#A1BA77FF',\n",
    "    'N': '#FF0000FF',\n",
    "    'MAC': '#FF0000FF',\n",
    "    'MDC': '#FF0000FF',\n",
    "    'ncMON': '#FF0000FF',\n",
    "    'MAST': '#FF6600FF',\n",
    "    'cDC': '#FF9900FF',\n",
    "    'pDC': '#FFCC00FF',\n",
    "    'cycMNP': '#FFCC00FF',\n",
    "    'cycNKC/T': '#FFFF00FF'\n",
    "}\n",
    "\n",
    "cell_types_order = ['podocyte', 'PEC', 'mesangial cell', 'PapE', 'VSM/P','EC' ,\n",
    "                        'PT', 'ATL', 'CNT', 'DCT', 'DTL', 'TAL',\n",
    "                       'FIB', 'IC', 'NEU', 'PC',\n",
    "                        'T', 'NKC/T','B', 'PL',\n",
    "                       'N', 'MAC', 'MDC', 'ncMON', 'MAST',\n",
    "                       'cDC', 'pDC', 'cycMNP', 'cycNKC/T']"
   ]
  },
  {
   "cell_type": "code",
   "execution_count": null,
   "id": "d655a1dc-9bcd-4ed7-a03c-8f5f90cf4bc3",
   "metadata": {},
   "outputs": [],
   "source": []
  },
  {
   "cell_type": "code",
   "execution_count": null,
   "id": "29fbc04b-7d28-41cf-8503-525d9c554898",
   "metadata": {},
   "outputs": [],
   "source": [
    "adata.obs[\"celltype_l1\"] = adata.obs[\"celltype_l1\"].cat.reorder_categories(cell_types_order)"
   ]
  },
  {
   "cell_type": "code",
   "execution_count": null,
   "id": "24a39eea-64e1-4f55-a301-5bfd15ab5585",
   "metadata": {},
   "outputs": [],
   "source": [
    "colors = []\n",
    "for cat in adata.obs[\"celltype_l1\"].cat.categories:\n",
    "    colors.append(custom_cmap[cat])\n",
    "adata.uns[\"celltype_l1_colors\"] = colors"
   ]
  },
  {
   "cell_type": "code",
   "execution_count": null,
   "id": "c7b1b5de-1ccc-404d-a1d7-6e5357da3acd",
   "metadata": {},
   "outputs": [],
   "source": [
    "sc.pl.umap(adata, color=\"celltype_l1\")"
   ]
  },
  {
   "cell_type": "code",
   "execution_count": null,
   "id": "82d6888e-311a-480e-ada3-da6e994befeb",
   "metadata": {},
   "outputs": [],
   "source": [
    "adata.write(\"xenium_outs/merged_processed.h5ad\")"
   ]
  },
  {
   "cell_type": "code",
   "execution_count": null,
   "id": "32111734-fd1e-4b39-abc1-2e0962db9ab5",
   "metadata": {},
   "outputs": [],
   "source": [
    "with open(\"colormap_celltypes.json\", \"w\") as f:\n",
    "    json.dump(custom_cmap, f)"
   ]
  },
  {
   "cell_type": "code",
   "execution_count": null,
   "id": "180fea52-c3df-4618-a574-d48e247894c7",
   "metadata": {},
   "outputs": [],
   "source": [
    "cell_types_order = ['podocyte', 'PEC', 'mesangial cell', 'PapE', 'VSM/P','EC' ,\n",
    "                        'PT', 'ATL', 'CNT', 'DCT', 'DTL', 'TAL',\n",
    "                       'FIB', 'IC', 'NEU', 'PC',\n",
    "                        'T', 'NKC/T','B', 'PL',\n",
    "                       'N', 'MAC', 'MDC', 'ncMON', 'MAST',\n",
    "                       'cDC', 'pDC', 'cycMNP', 'cycNKC/T']\n",
    "import pickle\n",
    "with open(\"order_celltypes.json\", \"w\") as f:\n",
    "    json.dump(cell_types_order, f)"
   ]
  },
  {
   "cell_type": "code",
   "execution_count": null,
   "id": "5b6a872a-a686-4c3b-84d5-1b8399df46f1",
   "metadata": {},
   "outputs": [],
   "source": []
  }
 ],
 "metadata": {
  "kernelspec": {
   "display_name": "Python 3 (ipykernel)",
   "language": "python",
   "name": "python3"
  },
  "language_info": {
   "codemirror_mode": {
    "name": "ipython",
    "version": 3
   },
   "file_extension": ".py",
   "mimetype": "text/x-python",
   "name": "python",
   "nbconvert_exporter": "python",
   "pygments_lexer": "ipython3",
   "version": "3.11.6"
  }
 },
 "nbformat": 4,
 "nbformat_minor": 5
}
